{
 "cells": [
  {
   "cell_type": "code",
   "execution_count": 2,
   "metadata": {
    "scrolled": true
   },
   "outputs": [],
   "source": [
    "!pip install jupyterthemes\n",
    "!jt -t chesterish"
   ]
  },
  {
   "cell_type": "code",
   "execution_count": 1,
   "metadata": {},
   "outputs": [],
   "source": [
    "from requests import get\n",
    "from json import loads\n",
    "from urllib.parse import unquote\n",
    "import pandas as pd"
   ]
  },
  {
   "cell_type": "markdown",
   "metadata": {},
   "source": [
    "## Topic Crawler"
   ]
  },
  {
   "cell_type": "markdown",
   "metadata": {},
   "source": [
    "### Query DuckDuckGo REST API for topics\n",
    "### Follow related topics\n",
    "### Filter and normalize topics"
   ]
  },
  {
   "cell_type": "code",
   "execution_count": 2,
   "metadata": {},
   "outputs": [],
   "source": [
    "topic_url_format = 'https://api.duckduckgo.com/?q={search_term}&format=json&pretty=1'"
   ]
  },
  {
   "cell_type": "code",
   "execution_count": 3,
   "metadata": {},
   "outputs": [],
   "source": [
    "topic_seed = ['user experience design']"
   ]
  },
  {
   "cell_type": "code",
   "execution_count": 4,
   "metadata": {},
   "outputs": [
    {
     "name": "stdout",
     "output_type": "stream",
     "text": [
      "user experience design\n",
      "action research\n",
      "activity-centered design\n",
      "customer experience\n",
      "design thinking\n",
      "paper prototyping\n",
      "participatory design\n",
      "web design\n",
      "software development process\n",
      "user interfaces\n",
      "human–computer interaction\n",
      "design\n",
      "Error on topic: design : 'FirstURL'\n"
     ]
    }
   ],
   "source": [
    "from time import sleep\n",
    "topic_df = pd.DataFrame()\n",
    "related_topic_df = pd.DataFrame()\n",
    "for depth in range(2):\n",
    "    if not depth:\n",
    "        topics = topic_seed\n",
    "    related_topics = []\n",
    "    topic_rows = []\n",
    "    related_topic_rows = []\n",
    "    for topic in topics:\n",
    "        try:\n",
    "            print(topic)\n",
    "            sleep(0.1)\n",
    "            response = get(topic_url_format.format(search_term=topic))\n",
    "            content = loads(response.content)\n",
    "            data = {}\n",
    "            data['topic'] = content['Heading'].lower()\n",
    "            data['abstract'] = content['Abstract']\n",
    "            data['document_type'] = content['Type']\n",
    "            data['topic_wiki_url'] = content['AbstractURL']\n",
    "            topic_rows.append(data)   \n",
    "\n",
    "            for result in content['RelatedTopics']:\n",
    "                row = {}\n",
    "                row['depth'] = depth\n",
    "                row['related_topic'] = unquote(result['FirstURL'].replace(\n",
    "                    'https://duckduckgo.com/', '').replace('c/', '').replace('_', ' ')).lower()\n",
    "                row['related_topic_text'] = result['Text']\n",
    "                row.update(data)\n",
    "                related_topic_rows.append(row)\n",
    "                related_topics.append(row['related_topic'])\n",
    "        except KeyError as e:\n",
    "            print('Error on topic: ' + topic + ' : ' + str(e))\n",
    "    topics = related_topics\n",
    "    topic_df = topic_df.append(pd.DataFrame(topic_rows))\n",
    "    related_topic_df = related_topic_df.append(pd.DataFrame(related_topic_rows))"
   ]
  },
  {
   "cell_type": "code",
   "execution_count": 33,
   "metadata": {},
   "outputs": [
    {
     "data": {
      "text/html": [
       "<div>\n",
       "<style scoped>\n",
       "    .dataframe tbody tr th:only-of-type {\n",
       "        vertical-align: middle;\n",
       "    }\n",
       "\n",
       "    .dataframe tbody tr th {\n",
       "        vertical-align: top;\n",
       "    }\n",
       "\n",
       "    .dataframe thead th {\n",
       "        text-align: right;\n",
       "    }\n",
       "</style>\n",
       "<table border=\"1\" class=\"dataframe\">\n",
       "  <thead>\n",
       "    <tr style=\"text-align: right;\">\n",
       "      <th></th>\n",
       "      <th>abstract</th>\n",
       "      <th>depth</th>\n",
       "      <th>document_type</th>\n",
       "      <th>related_topic</th>\n",
       "      <th>related_topic_text</th>\n",
       "      <th>topic</th>\n",
       "      <th>topic_wiki_url</th>\n",
       "    </tr>\n",
       "  </thead>\n",
       "  <tbody>\n",
       "    <tr>\n",
       "      <th>0</th>\n",
       "      <td>User experience design is the process of manip...</td>\n",
       "      <td>0</td>\n",
       "      <td>A</td>\n",
       "      <td>action research</td>\n",
       "      <td>Action research - Action research is a philoso...</td>\n",
       "      <td>user experience design</td>\n",
       "      <td>https://en.wikipedia.org/wiki/User_experience_...</td>\n",
       "    </tr>\n",
       "    <tr>\n",
       "      <th>1</th>\n",
       "      <td>User experience design is the process of manip...</td>\n",
       "      <td>0</td>\n",
       "      <td>A</td>\n",
       "      <td>activity-centered design</td>\n",
       "      <td>Activity-centered design - Activity-centered d...</td>\n",
       "      <td>user experience design</td>\n",
       "      <td>https://en.wikipedia.org/wiki/User_experience_...</td>\n",
       "    </tr>\n",
       "    <tr>\n",
       "      <th>2</th>\n",
       "      <td>User experience design is the process of manip...</td>\n",
       "      <td>0</td>\n",
       "      <td>A</td>\n",
       "      <td>customer experience</td>\n",
       "      <td>Customer experience - In commerce, customer ex...</td>\n",
       "      <td>user experience design</td>\n",
       "      <td>https://en.wikipedia.org/wiki/User_experience_...</td>\n",
       "    </tr>\n",
       "    <tr>\n",
       "      <th>3</th>\n",
       "      <td>User experience design is the process of manip...</td>\n",
       "      <td>0</td>\n",
       "      <td>A</td>\n",
       "      <td>design thinking</td>\n",
       "      <td>Design thinking - Design thinking refers to th...</td>\n",
       "      <td>user experience design</td>\n",
       "      <td>https://en.wikipedia.org/wiki/User_experience_...</td>\n",
       "    </tr>\n",
       "    <tr>\n",
       "      <th>4</th>\n",
       "      <td>User experience design is the process of manip...</td>\n",
       "      <td>0</td>\n",
       "      <td>A</td>\n",
       "      <td>paper prototyping</td>\n",
       "      <td>Paper prototyping - In human–computer interact...</td>\n",
       "      <td>user experience design</td>\n",
       "      <td>https://en.wikipedia.org/wiki/User_experience_...</td>\n",
       "    </tr>\n",
       "  </tbody>\n",
       "</table>\n",
       "</div>"
      ],
      "text/plain": [
       "                                            abstract  depth document_type  \\\n",
       "0  User experience design is the process of manip...      0             A   \n",
       "1  User experience design is the process of manip...      0             A   \n",
       "2  User experience design is the process of manip...      0             A   \n",
       "3  User experience design is the process of manip...      0             A   \n",
       "4  User experience design is the process of manip...      0             A   \n",
       "\n",
       "              related_topic  \\\n",
       "0           action research   \n",
       "1  activity-centered design   \n",
       "2       customer experience   \n",
       "3           design thinking   \n",
       "4         paper prototyping   \n",
       "\n",
       "                                  related_topic_text                   topic  \\\n",
       "0  Action research - Action research is a philoso...  user experience design   \n",
       "1  Activity-centered design - Activity-centered d...  user experience design   \n",
       "2  Customer experience - In commerce, customer ex...  user experience design   \n",
       "3  Design thinking - Design thinking refers to th...  user experience design   \n",
       "4  Paper prototyping - In human–computer interact...  user experience design   \n",
       "\n",
       "                                      topic_wiki_url  \n",
       "0  https://en.wikipedia.org/wiki/User_experience_...  \n",
       "1  https://en.wikipedia.org/wiki/User_experience_...  \n",
       "2  https://en.wikipedia.org/wiki/User_experience_...  \n",
       "3  https://en.wikipedia.org/wiki/User_experience_...  \n",
       "4  https://en.wikipedia.org/wiki/User_experience_...  "
      ]
     },
     "execution_count": 33,
     "metadata": {},
     "output_type": "execute_result"
    }
   ],
   "source": [
    "related_topic_df.head()"
   ]
  },
  {
   "cell_type": "code",
   "execution_count": 6,
   "metadata": {},
   "outputs": [],
   "source": [
    "related_topic_df.to_csv('topic_database.csv')"
   ]
  },
  {
   "cell_type": "code",
   "execution_count": 7,
   "metadata": {},
   "outputs": [],
   "source": [
    "### Write topics to graph JSON for d3"
   ]
  },
  {
   "cell_type": "markdown",
   "metadata": {},
   "source": [
    "## Search Engine Crawler"
   ]
  },
  {
   "cell_type": "code",
   "execution_count": 9,
   "metadata": {},
   "outputs": [],
   "source": [
    "from os import environ\n",
    "# environ['BING_API_KEY'] = 'remove comment, replace with your API key, run the cell, remove key, add comment'\n",
    "bing_api_key = environ['BING_API_KEY']"
   ]
  },
  {
   "cell_type": "code",
   "execution_count": 172,
   "metadata": {},
   "outputs": [
    {
     "data": {
      "text/plain": [
       "71"
      ]
     },
     "execution_count": 172,
     "metadata": {},
     "output_type": "execute_result"
    }
   ],
   "source": [
    "search_seed = set(related_topic_df['related_topic'].unique())\n",
    "search_seed.update(set(related_topic_df['topic'].unique()))\n",
    "len(search_seed)"
   ]
  },
  {
   "cell_type": "code",
   "execution_count": 173,
   "metadata": {},
   "outputs": [],
   "source": [
    "def search(search_term):\n",
    "    search_url = \"https://api.cognitive.microsoft.com/bing/v7.0/search\"\n",
    "    headers = {\"Ocp-Apim-Subscription-Key\": bing_api_key}\n",
    "    params = {\n",
    "        \"q\": search_term, \n",
    "        \"textDecorations\": True, \n",
    "        \"textFormat\": \"Raw\", \n",
    "        \"responseFilter\": \"webpages\", \n",
    "        \"count\": 50}\n",
    "    sleep(0.4)\n",
    "    response = get(search_url, headers=headers, params=params)\n",
    "    response.raise_for_status()\n",
    "    search_results = response.json()\n",
    "    return search_results"
   ]
  },
  {
   "cell_type": "code",
   "execution_count": 174,
   "metadata": {
    "scrolled": true
   },
   "outputs": [],
   "source": [
    "def filter_search_results(raw_search_results):\n",
    "    keys = ['name', 'url', 'snippet', 'dateLastCrawled']\n",
    "    for result in raw_search_results:\n",
    "        topic = result['queryContext']['originalQuery']\n",
    "        for page in result['webPages']['value']:\n",
    "            row = {key: page[key] for key in keys}\n",
    "            row['topic'] = topic\n",
    "            yield row"
   ]
  },
  {
   "cell_type": "code",
   "execution_count": 175,
   "metadata": {
    "scrolled": true
   },
   "outputs": [],
   "source": [
    "#raw_search_results = [search(search_term=search_term) for search_term in list(search_seed)]"
   ]
  },
  {
   "cell_type": "code",
   "execution_count": 176,
   "metadata": {},
   "outputs": [],
   "source": [
    "#search_results = pd.DataFrame(filter_search_results(raw_search_results))\n",
    "#search_results = pd.DataFrame.from_csv('search_results_database.csv')"
   ]
  },
  {
   "cell_type": "code",
   "execution_count": 177,
   "metadata": {},
   "outputs": [
    {
     "data": {
      "text/html": [
       "<div>\n",
       "<style scoped>\n",
       "    .dataframe tbody tr th:only-of-type {\n",
       "        vertical-align: middle;\n",
       "    }\n",
       "\n",
       "    .dataframe tbody tr th {\n",
       "        vertical-align: top;\n",
       "    }\n",
       "\n",
       "    .dataframe thead th {\n",
       "        text-align: right;\n",
       "    }\n",
       "</style>\n",
       "<table border=\"1\" class=\"dataframe\">\n",
       "  <thead>\n",
       "    <tr style=\"text-align: right;\">\n",
       "      <th></th>\n",
       "      <th>dateLastCrawled</th>\n",
       "      <th>name</th>\n",
       "      <th>snippet</th>\n",
       "      <th>topic</th>\n",
       "      <th>url</th>\n",
       "    </tr>\n",
       "  </thead>\n",
       "  <tbody>\n",
       "    <tr>\n",
       "      <th>0</th>\n",
       "      <td>2020-04-13T13:29:00.0000000Z</td>\n",
       "      <td>Lateral thinking - Wikipedia</td>\n",
       "      <td>Lateral thinking is a manner of solving prob...</td>\n",
       "      <td>lateral thinking</td>\n",
       "      <td>https://en.wikipedia.org/wiki/Lateral_thinking</td>\n",
       "    </tr>\n",
       "    <tr>\n",
       "      <th>1</th>\n",
       "      <td>2020-04-08T15:21:00.0000000Z</td>\n",
       "      <td>Lateral Thinking - How can Lateral Thinking...</td>\n",
       "      <td>Lateral Thinking Lateral Thinking is the S...</td>\n",
       "      <td>lateral thinking</td>\n",
       "      <td>https://www.edwddebono.com/lateral-thinking</td>\n",
       "    </tr>\n",
       "    <tr>\n",
       "      <th>2</th>\n",
       "      <td>2020-04-13T23:46:00.0000000Z</td>\n",
       "      <td>Lateral Thinking Puzzles - Preconceptions</td>\n",
       "      <td>Lateral thinking puzzles that challenge your...</td>\n",
       "      <td>lateral thinking</td>\n",
       "      <td>http://www.folj.com/lateral/</td>\n",
       "    </tr>\n",
       "    <tr>\n",
       "      <th>3</th>\n",
       "      <td>2020-04-13T06:39:00.0000000Z</td>\n",
       "      <td>How to Practice Lateral Thinking - ThoughtCo</td>\n",
       "      <td>Lateral thinking involves looking at a situa...</td>\n",
       "      <td>lateral thinking</td>\n",
       "      <td>https://www.thoughtco.com/lateral-thinking-185...</td>\n",
       "    </tr>\n",
       "    <tr>\n",
       "      <th>4</th>\n",
       "      <td>2020-04-13T20:11:00.0000000Z</td>\n",
       "      <td>www.puzzles9.com</td>\n",
       "      <td>www.puzzles9.com</td>\n",
       "      <td>lateral thinking</td>\n",
       "      <td>http://www.puzzles9.com/18-challenging-lateral...</td>\n",
       "    </tr>\n",
       "  </tbody>\n",
       "</table>\n",
       "</div>"
      ],
      "text/plain": [
       "                dateLastCrawled  \\\n",
       "0  2020-04-13T13:29:00.0000000Z   \n",
       "1  2020-04-08T15:21:00.0000000Z   \n",
       "2  2020-04-13T23:46:00.0000000Z   \n",
       "3  2020-04-13T06:39:00.0000000Z   \n",
       "4  2020-04-13T20:11:00.0000000Z   \n",
       "\n",
       "                                                name  \\\n",
       "0                   Lateral thinking - Wikipedia   \n",
       "1  Lateral Thinking - How can Lateral Thinking...   \n",
       "2        Lateral Thinking Puzzles - Preconceptions   \n",
       "3     How to Practice Lateral Thinking - ThoughtCo   \n",
       "4                                   www.puzzles9.com   \n",
       "\n",
       "                                             snippet             topic  \\\n",
       "0  Lateral thinking is a manner of solving prob...  lateral thinking   \n",
       "1  Lateral Thinking Lateral Thinking is the S...  lateral thinking   \n",
       "2  Lateral thinking puzzles that challenge your...  lateral thinking   \n",
       "3  Lateral thinking involves looking at a situa...  lateral thinking   \n",
       "4                                   www.puzzles9.com  lateral thinking   \n",
       "\n",
       "                                                 url  \n",
       "0     https://en.wikipedia.org/wiki/Lateral_thinking  \n",
       "1        https://www.edwddebono.com/lateral-thinking  \n",
       "2                       http://www.folj.com/lateral/  \n",
       "3  https://www.thoughtco.com/lateral-thinking-185...  \n",
       "4  http://www.puzzles9.com/18-challenging-lateral...  "
      ]
     },
     "execution_count": 177,
     "metadata": {},
     "output_type": "execute_result"
    }
   ],
   "source": [
    "search_results.head()"
   ]
  },
  {
   "cell_type": "code",
   "execution_count": 184,
   "metadata": {},
   "outputs": [],
   "source": [
    "search_results.to_csv('search_results_database.csv')"
   ]
  },
  {
   "cell_type": "code",
   "execution_count": 182,
   "metadata": {},
   "outputs": [
    {
     "data": {
      "text/plain": [
       "array(['lateral thinking', 'services marketing',\n",
       "       'participatory action research', 'prototype', 'user interface',\n",
       "       'user experience design', 'cardboard modeling', 'software design',\n",
       "       'virtual reality', 'graphic design', 'participatory design',\n",
       "       'brain-computer interface', 'information design',\n",
       "       'human–computer interaction', 'communication design',\n",
       "       'human-computer interaction', 'user interfaces',\n",
       "       'computer-supported cooperative work', 'problem solving',\n",
       "       'social science methodology', 'mindfulness and technology',\n",
       "       'software engineering', 'user experience', 'methodology',\n",
       "       'telecommunications systems', 'human communication',\n",
       "       'user interface techniques', 'customer knowledge',\n",
       "       'customer data platform', 'paper prototyping',\n",
       "       'problem structuring methods', 'design', 'captcha', 'turing test',\n",
       "       'adaptive user interface', 'openup', 'computer user satisfaction',\n",
       "       'computer-aided software engineering', 'empathic design',\n",
       "       'information architecture', 'direct voice input',\n",
       "       'customer service', 'human factors and ergonomics',\n",
       "       'design thinking', 'outline of software engineering',\n",
       "       'activity-centered design', 'action research', 'web design',\n",
       "       'project management', 'brand management', 'public participation',\n",
       "       'product development', 'service design', 'permaculture',\n",
       "       'distinguishable interfaces', 'user-centered design',\n",
       "       'customer success', 'interior design', 'customer experience',\n",
       "       'human–machine interaction', 'software development',\n",
       "       'creativity techniques', 'software prototyping', 'design methods',\n",
       "       'branding terminology', 'design-based learning',\n",
       "       'software development process', 'systems development life cycle',\n",
       "       'innovation', 'the experience economy', 'product management'],\n",
       "      dtype=object)"
      ]
     },
     "execution_count": 182,
     "metadata": {},
     "output_type": "execute_result"
    }
   ],
   "source": [
    "search_results['topic'].unique()"
   ]
  },
  {
   "cell_type": "markdown",
   "metadata": {},
   "source": [
    "## Search Result Crawler"
   ]
  },
  {
   "cell_type": "code",
   "execution_count": 78,
   "metadata": {},
   "outputs": [
    {
     "name": "stdout",
     "output_type": "stream",
     "text": [
      "Requirement already satisfied: beautifulsoup4 in /opt/conda/lib/python3.7/site-packages (4.7.1)\r\n",
      "Requirement already satisfied: soupsieve>=1.2 in /opt/conda/lib/python3.7/site-packages (from beautifulsoup4) (1.9.2)\r\n"
     ]
    }
   ],
   "source": [
    "!pip install beautifulsoup4"
   ]
  },
  {
   "cell_type": "code",
   "execution_count": 79,
   "metadata": {},
   "outputs": [],
   "source": [
    "from bs4 import BeautifulSoup as b"
   ]
  },
  {
   "cell_type": "code",
   "execution_count": 194,
   "metadata": {},
   "outputs": [],
   "source": [
    "def depth_crawl(seed_urls, depth=1, max_pages=5, max_links=5):\n",
    "    visited = set()\n",
    "    pages = 0\n",
    "    for d in range(depth):\n",
    "        # print(seed_urls)\n",
    "        for url in seed_urls:\n",
    "            url.replace('http:', 'https:')\n",
    "            sleep(0.5)\n",
    "            try:\n",
    "                visited.add(url)\n",
    "                response = get(url)\n",
    "                response.raise_for_status()\n",
    "                content = response.content\n",
    "                yield {'url': url, 'content': content}\n",
    "                pages += 1\n",
    "                if pages > max_pages:\n",
    "                    return\n",
    "                soup = b(content)\n",
    "                links = [\n",
    "                    a['href'] for a in soup.find_all('a', href=True)\n",
    "                    if a['href'].startswith('https')][:max_links]\n",
    "                n_links = len(links)\n",
    "                print(f'{n_links} new links from URL {url}')\n",
    "                new_links = []\n",
    "                for link in links:\n",
    "                    if link not in visited:\n",
    "                        seed_urls.append(link)\n",
    "            except Exception as e:\n",
    "                print('Error: ' + str(e) + ' on URL: ' + str(url))"
   ]
  },
  {
   "cell_type": "code",
   "execution_count": 195,
   "metadata": {},
   "outputs": [
    {
     "data": {
      "text/plain": [
       "3478"
      ]
     },
     "execution_count": 195,
     "metadata": {},
     "output_type": "execute_result"
    }
   ],
   "source": [
    "len(search_results)"
   ]
  },
  {
   "cell_type": "code",
   "execution_count": 196,
   "metadata": {
    "scrolled": true
   },
   "outputs": [
    {
     "name": "stdout",
     "output_type": "stream",
     "text": [
      "3 new links from URL https://en.wikipedia.org/wiki/Lateral_thinking\n",
      "0 new links from URL https://www.edwddebono.com/lateral-thinking\n",
      "3 new links from URL http://www.folj.com/lateral/\n",
      "3 new links from URL https://www.thoughtco.com/lateral-thinking-1856882\n",
      "Error: 406 Client Error: Not Acceptable for url: http://puzzles9.com/18-challenging-lateral-thinking-questions-and-answers/ on URL: http://www.puzzles9.com/18-challenging-lateral-thinking-questions-and-answers/\n",
      "Error: 503 Server Error: Service Unavailable for url: https://www.amazon.com/Lateral-Thinking-Creativity-Step/dp/0060903252 on URL: https://www.amazon.com/Lateral-Thinking-Creativity-Step/dp/0060903252\n",
      "Error: 403 Client Error: Forbidden for url: https://www.udemy.com/blog/lateral-thinking-questions/ on URL: https://www.udemy.com/blog/lateral-thinking-questions/\n",
      "3 new links from URL https://www.lateralthinking.com/\n",
      "3 new links from URL https://www.goodreads.com/book/show/829616.Lateral_Thinking\n",
      "3 new links from URL https://hobbylark.com/puzzles/20-Realistic-Lateral-Thinking-Puzzles-and-Riddles-Brain-Stumper\n",
      "3 new links from URL https://thepeakperformancecenter.com/educational-learning/thinking/types-of-thinking-2/lateral-thinking/lateral-thinking-techniques/\n",
      "3 new links from URL https://successatschool.org/advicedetails/609/examples-of-lateral-thinking-skills\n",
      "Error: 503 Server Error: Service Unavailable for url: https://www.amazon.com/Lateral-Thinking-Creativity-Step-ebook/dp/B003V1WTLI on URL: https://www.amazon.com/Lateral-Thinking-Creativity-Step-ebook/dp/B003V1WTLI\n",
      "3 new links from URL https://riddles.guru/lateral-riddles/\n",
      "3 new links from URL https://www.destination-innovation.com/the-top-ten-lateral-thinking-puzzles/\n",
      "3 new links from URL https://www.merriam-webster.com/dictionary/lateral%20thinking\n",
      "3 new links from URL https://bigthink.com/mind-brain/lateral-thinking\n",
      "Error: 406 Client Error: Not Acceptable for url: http://www.theeducators.co/2013/10/20/lateral-thinking/ on URL: http://www.theeducators.co/2013/10/20/lateral-thinking/\n",
      "3 new links from URL https://dictionary.cambridge.org/dictionary/english/lateral-thinking\n",
      "3 new links from URL http://lateral-thinking.net/es/\n",
      "Error: 403 Client Error: Forbidden for url: https://www.collinsdictionary.com/dictionary/english/lateral-thinking on URL: https://www.collinsdictionary.com/dictionary/english/lateral-thinking\n",
      "3 new links from URL http://www.businessdictionary.com/definition/lateral-thinking.html\n",
      "Error: 403 Client Error: Forbidden for url: https://innovationmanagement.se/imtool-articles/what-is-lateral-thinking/ on URL: https://innovationmanagement.se/imtool-articles/what-is-lateral-thinking/\n",
      "3 new links from URL https://www.youtube.com/watch?v=Nb9Oe83ruUw\n",
      "3 new links from URL http://www.debonogroup.com/lateral_thinking.php\n",
      "3 new links from URL https://www.lexico.com/definition/lateral_thinking\n",
      "0 new links from URL https://www.edwddebono.com/\n",
      "3 new links from URL https://www.ebooks.com/en-us/book/1675278/lateral-thinking/edward-de-bono/\n",
      "3 new links from URL https://www.wikihow.com/Think-Laterally\n",
      "0 new links from URL http://www.debonothinkingsystems.com/tools/lateral.htm\n",
      "Error: 429 Client Error: Too Many Requests for url: https://www.researchgate.net/publication/304088397_Creative_and_Lateral_Thinking_Edward_de_Bono on URL: https://www.researchgate.net/publication/304088397_Creative_and_Lateral_Thinking_Edward_de_Bono\n",
      "0 new links from URL https://study.com/academy/lesson/what-is-lateral-thinking-definition-theory-examples.html\n",
      "3 new links from URL https://www.kidscodecs.com/lateral-thinking-puzzles/\n",
      "3 new links from URL https://www.audible.com/pd/Lateral-Thinking-Audiobook/B002V1CBYE\n",
      "3 new links from URL https://www.instructionaldesign.org/theories/lateral-thinking/\n",
      "Error: 406 Client Error: Not Acceptable for url: https://www.funny-jokes.com/humor/tests/test_lateral_thinking1.htm on URL: https://www.funny-jokes.com/humor/tests/test_lateral_thinking1.htm\n",
      "3 new links from URL https://www.riddlesandanswers.com/tag/lateral-thinking-riddles/\n",
      "3 new links from URL https://www.quora.com/What-are-analytical-critical-and-lateral-thinking-skills\n",
      "3 new links from URL https://www.thefreedictionary.com/lateral+thinking\n",
      "3 new links from URL https://psychology.wikia.org/wiki/Lateral_thinking\n",
      "3 new links from URL https://www.lexico.com/en/definition/lateral_thinking\n",
      "Error: 406 Client Error: Not Acceptable for url: https://gpuzzles.com/quiz/lateral-thinking-puzzles-with-answers/ on URL: https://gpuzzles.com/quiz/lateral-thinking-puzzles-with-answers/\n",
      "3 new links from URL https://www.lateralthinking.com/learn\n",
      "3 new links from URL https://www.forbes.com/sites/phillewis1/2020/03/20/the-most-valuable-skill-in-difficult-times-is-lateral-thinking-heres-how-to-do-it/\n",
      "Error: 403 Client Error: Forbidden for url: https://quizlet.com/12654691/mgt-chapter-5-flash-cards/ on URL: https://quizlet.com/12654691/mgt-chapter-5-flash-cards/\n",
      "3 new links from URL http://www.debonogroup.com/lateral_reading.php\n",
      "3 new links from URL https://www.plays-in-business.com/lateral-thinking-how-to-boost-your-creativity/\n",
      "3 new links from URL https://www.thesaurus.com/browse/lateral%20thinking\n",
      "3 new links from URL https://www.managementstudyguide.com/definition-and-characteristics-of-services.htm\n",
      "3 new links from URL http://www.businessdictionary.com/definition/service-marketing.html\n",
      "3 new links from URL https://www.britannica.com/topic/marketing/Services-marketing\n",
      "3 new links from URL https://en.wikipedia.org/wiki/Services_marketing\n",
      "Error: 403 Client Error: Forbidden for url: http://www.yourarticlelibrary.com/marketing/service-marketing-definition-features-and-problem-faced-in-marketing-services/32336 on URL: http://www.yourarticlelibrary.com/marketing/service-marketing-definition-features-and-problem-faced-in-marketing-services/32336\n",
      "3 new links from URL https://www.educba.com/service-marketing-strategies/\n",
      "3 new links from URL https://www.managementstudyguide.com/seven-p-of-services-marketing.htm\n",
      "2 new links from URL https://www.wisegeek.com/what-is-services-marketing.htm\n",
      "Error: 503 Server Error: Service Unavailable for url: https://www.amazon.com/Services-Marketing-People-Technology-Strategy/dp/0136107214 on URL: https://www.amazon.com/Services-Marketing-People-Technology-Strategy/dp/0136107214\n",
      "Error: 503 Server Error: Service Unavailable for url: https://www.amazon.com/Services-Marketing-Integrating-Customer-Across/dp/0078112109 on URL: https://www.amazon.com/Services-Marketing-Integrating-Customer-Across/dp/0078112109\n",
      "3 new links from URL https://www.marketing-schools.org/types-of-marketing/services-marketing.html\n",
      "3 new links from URL https://www.slideshare.net/ch_paki/services-marketing\n",
      "3 new links from URL https://work.chron.com/8-elements-service-marketing-20553.html\n",
      "3 new links from URL https://www.pearson.com/us/higher-education/program/Lovelock-Services-Marketing-People-Technology-Strategy-7th-Edition/PGM316509.html\n",
      "Error: 429 Client Error: Too Many Requests for url: https://www.researchgate.net/publication/314949424_Services_Marketing on URL: https://www.researchgate.net/publication/314949424_Services_Marketing\n",
      "Error: 403 Client Error: Forbidden for url: https://expertprogrammanagement.com/2018/03/services-marketing-mix-7-ps/ on URL: https://expertprogrammanagement.com/2018/03/services-marketing-mix-7-ps/\n",
      "Error: 403 Client Error: Forbidden for url: https://expertprogrammanagement.com/2018/03/services-marketing-triangle/ on URL: https://expertprogrammanagement.com/2018/03/services-marketing-triangle/\n",
      "3 new links from URL https://books.google.com/books/about/Services_Marketing.html?id=ZTWYbwAACAAJ\n",
      "3 new links from URL https://www.marketingprofs.com/topic/all/services-marketing/\n",
      "3 new links from URL https://bizfluent.com/facts-6805212-importance-service-marketing.html\n",
      "Error: 429 Client Error: Too Many Requests for url: https://www.researchgate.net/publication/227987510_Services_Marketing_Strategy on URL: https://www.researchgate.net/publication/227987510_Services_Marketing_Strategy\n",
      "Error: 403 Client Error: Forbidden for url: https://quizlet.com/13435622/services-marketing-flash-cards/ on URL: https://quizlet.com/13435622/services-marketing-flash-cards/\n",
      "3 new links from URL https://learnmarketing.net/servicemarketing.htm\n"
     ]
    },
    {
     "name": "stdout",
     "output_type": "stream",
     "text": [
      "3 new links from URL https://www.educba.com/service-marketing-vs-product-marketing/\n",
      "3 new links from URL https://www.slideshare.net/searchanandu/services-marketing-34795142\n",
      "3 new links from URL https://www.newbreedmarketing.com/blog/what-is-service-marketing\n",
      "3 new links from URL https://opentextbc.ca/introtourism/chapter/chapter-8-services-marketing/\n",
      "3 new links from URL https://yourbusiness.azcentral.com/service-marketing-triangle-14670.html\n",
      "2 new links from URL https://www.icmrindia.org/courseware/Services%20Marketing/Services%20Marketing.htm\n",
      "3 new links from URL https://examupdates.in/mba-service-marketing/\n",
      "3 new links from URL https://www.marketing91.com/service-marketing-mix/\n",
      "3 new links from URL https://www.feedough.com/service-marketing-mix-7-ps-marketing-mix/\n",
      "3 new links from URL https://www.britannica.com/topic/marketing\n",
      "3 new links from URL https://www.joshmeah.com/service-marketing-management-5-challenges-and-5-winning-strategies/\n",
      "3 new links from URL https://business.fau.edu/centers/center-for-services-marketing/\n",
      "3 new links from URL https://www.icmrindia.org/Short%20Case%20Studies/Short%20Case%20Studies.asp?cat=Services%20Marketing\n",
      "3 new links from URL https://keydifferences.com/difference-between-product-and-service-marketing.html\n",
      "3 new links from URL https://www.emerald.com/insight/publication/issn/0887-6045\n",
      "3 new links from URL https://books.google.com/books/about/Services_Marketing.html?id=ALysAAAACAAJ\n",
      "3 new links from URL https://www.goodreads.com/book/show/10092393-services-marketing\n",
      "3 new links from URL https://www.mheducation.com/highered/product/services-marketing-integrating-customer-focus-across-firm-zeithaml-bitner/M9780078112102.html\n",
      "Error: 403 Client Error: Forbidden for url: https://www.abebooks.com/9780136107217/Services-Marketing-People-Technology-Strategy-0136107214/plp on URL: https://www.abebooks.com/9780136107217/Services-Marketing-People-Technology-Strategy-0136107214/plp\n"
     ]
    },
    {
     "name": "stderr",
     "output_type": "stream",
     "text": [
      "Some characters could not be decoded, and were replaced with REPLACEMENT CHARACTER.\n"
     ]
    },
    {
     "name": "stdout",
     "output_type": "stream",
     "text": [
      "0 new links from URL http://www.pondiuni.edu.in/storage/dde/downloads/markiv_sm.pdf\n",
      "3 new links from URL https://www.scribd.com/document/309681461/SERVICES-MARKETING-NOTES-pdf\n",
      "3 new links from URL http://cascadebusnews.com/business-tips/marketing/176-services-marketing-focus-on-service-characteristics-to-create-competitive-advantage\n",
      "Error: 403 Client Error: Forbidden for url: https://altitudemarketing.com/services/ on URL: https://altitudemarketing.com/services/\n",
      "3 new links from URL https://courses.lumenlearning.com/boundless-marketing/chapter/services-versus-products/\n",
      "3 new links from URL https://www.entrepreneurshipsecret.com/5-major-characteristics-of-services/\n",
      "3 new links from URL https://www.marketingprofs.com/topic/articles/services-marketing\n"
     ]
    },
    {
     "name": "stderr",
     "output_type": "stream",
     "text": [
      "Some characters could not be decoded, and were replaced with REPLACEMENT CHARACTER.\n"
     ]
    },
    {
     "name": "stdout",
     "output_type": "stream",
     "text": [
      "0 new links from URL https://www.ebsglobal.net/documents/course-tasters/english/pdf/h17se-bk-taster.pdf\n",
      "Error: 403 Client Error: Forbidden for url: https://www.ncbi.nlm.nih.gov/pmc/articles/PMC2566051/ on URL: https://www.ncbi.nlm.nih.gov/pmc/articles/PMC2566051/\n",
      "3 new links from URL https://en.wikipedia.org/wiki/Participatory_action_research\n",
      "1 new links from URL http://www.qualitative-research.net/index.php/fqs/article/view/1801/3334\n"
     ]
    },
    {
     "name": "stderr",
     "output_type": "stream",
     "text": [
      "Some characters could not be decoded, and were replaced with REPLACEMENT CHARACTER.\n"
     ]
    },
    {
     "name": "stdout",
     "output_type": "stream",
     "text": [
      "0 new links from URL https://nature.berkeley.edu/community_forestry/Fellowships/parinfo/PAR%20Definitions.pdf\n",
      "3 new links from URL https://participaction.wordpress.com/whatpar/defining-par/\n",
      "2 new links from URL https://www.participatorymethods.org/glossary/participatory-action-research\n"
     ]
    },
    {
     "name": "stderr",
     "output_type": "stream",
     "text": [
      "Some characters could not be decoded, and were replaced with REPLACEMENT CHARACTER.\n"
     ]
    },
    {
     "name": "stdout",
     "output_type": "stream",
     "text": [
      "0 new links from URL https://pdfs.semanticscholar.org/3b78/ecfe0b4a0a7591d2ea068c71e8ea320ff451.pdf\n"
     ]
    },
    {
     "name": "stderr",
     "output_type": "stream",
     "text": [
      "Some characters could not be decoded, and were replaced with REPLACEMENT CHARACTER.\n"
     ]
    },
    {
     "name": "stdout",
     "output_type": "stream",
     "text": [
      "0 new links from URL http://communitylearningpartnership.org/wp-content/uploads/2017/01/PARtoolkit.pdf\n",
      "3 new links from URL https://us.sagepub.com/en-us/nam/participatory-action-research/book230910\n",
      "3 new links from URL https://www.participatoryactionresearch.net/\n",
      "3 new links from URL https://learningforsustainability.net/action-research/\n",
      "3 new links from URL https://www.participatoryactionresearch.net/tools\n",
      "Error: 429 Client Error: Too Many Requests for url: https://www.researchgate.net/publication/6816910_Participatory_action_research on URL: https://www.researchgate.net/publication/6816910_Participatory_action_research\n",
      "3 new links from URL https://ctb.ku.edu/en/table-of-contents/evaluate/evaluation/intervention-research/main\n",
      "Error: 403 Client Error: Forbidden for url: https://organizingengagement.org/models/participatory-action-research-and-evaluation/ on URL: https://organizingengagement.org/models/participatory-action-research-and-evaluation/\n",
      "3 new links from URL https://www.academia.edu/3991129/Participatory_Action_Research\n",
      "3 new links from URL https://aifs.gov.au/cfca/publications/participatory-action-research\n",
      "3 new links from URL https://journals.nipissingu.ca/index.php/cjar/article/view/37\n",
      "Error: 403 Client Error: Forbidden for url: https://quizlet.com/12153022/action-research-flash-cards/ on URL: https://quizlet.com/12153022/action-research-flash-cards/\n",
      "3 new links from URL https://methods.sagepub.com/reference/encyclopedia-of-action-research/n236.xml\n",
      "3 new links from URL http://participatesdgs.org/methods/participatory-action-research/\n",
      "Error: 403 Client Error: Forbidden for url: https://www.sciencedirect.com/topics/social-sciences/participatory-research on URL: https://www.sciencedirect.com/topics/social-sciences/participatory-research\n",
      "3 new links from URL https://www.routledge.com/Participatory-Action-Research-Theory-and-Methods-for-Engaged-Inquiry/Chevalier-Buckles/p/book/9781138491328\n",
      "3 new links from URL https://jech.bmj.com/content/60/10/854\n",
      "3 new links from URL http://participatesdgs.org/methods/\n",
      "3 new links from URL https://crow1234.wordpress.com/2010/10/29/pros-and-cons-of-action-research-and-participant-action-research-par/\n",
      "3 new links from URL https://www.igi-global.com/dictionary/through-the-eyes-of-students-and-faculty/36270\n",
      "3 new links from URL https://participaction.wordpress.com/2008/05/27/prdef2/\n",
      "Error: 403 Client Error: Forbidden for url: https://quizlet.com/204254435/sw-research-final-study-guide-4-flash-cards/ on URL: https://quizlet.com/204254435/sw-research-final-study-guide-4-flash-cards/\n",
      "Error: 503 Server Error: Service Unavailable for url: https://www.amazon.com/Participatory-Action-Research-Qualitative-Methods/dp/1412953669 on URL: https://www.amazon.com/Participatory-Action-Research-Qualitative-Methods/dp/1412953669\n",
      "3 new links from URL https://oxfordre.com/education/view/10.1093/acrefore/9780190264093.001.0001/acrefore-9780190264093-e-557\n",
      "Error: 406 Client Error: Not Acceptable for url: https://www.sfcg.org/wp-content/uploads/2016/02/SFCG-Youth-Led-Research_Report-UNICEF_Final.pdf on URL: https://www.sfcg.org/wp-content/uploads/2016/02/SFCG-Youth-Led-Research_Report-UNICEF_Final.pdf\n",
      "3 new links from URL https://learningforsustainability.net/post/par/\n",
      "2 new links from URL https://www.participatorymethods.org/task/research-and-analyse\n",
      "3 new links from URL https://www.methodspace.com/methods-action-participatory-action-research/\n",
      "0 new links from URL https://arlecchino.org/ildottore/mwsd/group2final-comparison.html\n",
      "3 new links from URL https://www.oxfordbibliographies.com/view/document/obo-9780199756797/obo-9780199756797-0156.xml\n",
      "1 new links from URL http://www.ajhpe.org.za/index.php/ajhpe/article/view/208/145\n",
      "Error: 403 Client Error: Forbidden for url: https://mswcareers.com/social-work-research/ on URL: https://mswcareers.com/social-work-research/\n",
      "Error: 429 Client Error: Too Many Requests for url: https://www.researchgate.net/publication/23547464_Participatory_Action_Research on URL: https://www.researchgate.net/publication/23547464_Participatory_Action_Research\n",
      "3 new links from URL https://psychology.wikia.org/wiki/Participatory_action_research\n",
      "3 new links from URL https://scienceimpact.mit.edu/participatory-action-research\n"
     ]
    },
    {
     "name": "stderr",
     "output_type": "stream",
     "text": [
      "Some characters could not be decoded, and were replaced with REPLACEMENT CHARACTER.\n"
     ]
    },
    {
     "name": "stdout",
     "output_type": "stream",
     "text": [
      "0 new links from URL http://www.umanitoba.ca/medrehab/media/par_manual.pdf\n",
      "3 new links from URL https://www.7sens.es/what-is-participatory-action-research/\n",
      "3 new links from URL https://expertresearchers.blogspot.com/2013/08/strengths-and-limitations-of.html\n",
      "Error: 503 Server Error: Service Unavailable for url: https://www.amazon.com/Community-Based-Participatory-Research-Karen-Hacker/dp/1452205817 on URL: https://www.amazon.com/Community-Based-Participatory-Research-Karen-Hacker/dp/1452205817\n",
      "0 new links from URL http://www.fao.org/3/x5307e/x5307e09.htm\n",
      "3 new links from URL https://cxarchive.gseis.ucla.edu/partnerships-grants/tiip/showcase/woodrow-wilson/participatory-action-research\n"
     ]
    },
    {
     "name": "stderr",
     "output_type": "stream",
     "text": [
      "Some characters could not be decoded, and were replaced with REPLACEMENT CHARACTER.\n"
     ]
    },
    {
     "name": "stdout",
     "output_type": "stream",
     "text": [
      "0 new links from URL https://files.eric.ed.gov/fulltext/EJ908179.pdf\n",
      "3 new links from URL https://us.sagepub.com/en-us/nam/participatory-action-research/book3029\n",
      "3 new links from URL https://www.merriam-webster.com/dictionary/prototype\n",
      "3 new links from URL https://en.wikipedia.org/wiki/Prototype\n",
      "3 new links from URL https://en.wikipedia.org/wiki/Prototype_(video_game)\n",
      "3 new links from URL https://www.thefreedictionary.com/prototype\n",
      "3 new links from URL https://developer.mozilla.org/en-US/docs/Learn/JavaScript/Objects/Object_prototypes\n",
      "3 new links from URL https://www.dictionary.com/browse/prototype\n",
      "3 new links from URL https://store.steampowered.com/app/10150/Prototype/\n",
      "3 new links from URL https://dictionary.cambridge.org/dictionary/english/prototype\n",
      "3 new links from URL https://www.gamespot.com/games/prototype/\n",
      "Error: 503 Server Error: Service Unavailable for url: https://www.amazon.com/Prototype-Biohazard-Bundle-Sony-PlayStation-4/dp/B01N2NJUVJ on URL: https://www.amazon.com/Prototype-Biohazard-Bundle-Sony-PlayStation-4/dp/B01N2NJUVJ\n",
      "0 new links from URL https://www.w3schools.com/js/js_object_prototypes.asp\n",
      "Error: 503 Server Error: Service Unavailable for url: https://www.amazon.com/PROTOTYPE-PC/dp/B0012LGHZI on URL: https://www.amazon.com/PROTOTYPE-PC/dp/B0012LGHZI\n",
      "3 new links from URL https://www.thesaurus.com/browse/prototype\n",
      "3 new links from URL https://www.microsoft.com/en-us/p/prototype/btb6374nzgv3\n",
      "3 new links from URL https://www.merriam-webster.com/thesaurus/prototype\n",
      "3 new links from URL https://prototype.fandom.com/wiki/Prototype\n",
      "0 new links from URL http://prototypejs.org/\n",
      "3 new links from URL https://www.entrepreneur.com/article/80678\n",
      "3 new links from URL https://www.usability.gov/how-to-and-tools/methods/prototyping.html\n",
      "3 new links from URL https://developer.mozilla.org/en-US/docs/Web/JavaScript/Reference/Global_Objects/Object\n",
      "3 new links from URL https://www.imdb.com/title/tt0084546/\n",
      "3 new links from URL https://ipcgames.com/prototype-1-free-download/\n",
      "Error: 403 Client Error: Forbidden for url: https://www.gamestop.com/video-games/xbox-360/games/products/prototype/10066445.html on URL: https://www.gamestop.com/video-games/xbox-360/games/products/prototype/10066445.html\n",
      "3 new links from URL https://www.invisionapp.com/tour/website-mobile-prototyping-tool\n",
      "Error: 429 Client Error: Too Many Requests for url: https://www.powerthesaurus.org/prototype/antonyms on URL: https://www.powerthesaurus.org/prototype/antonyms\n",
      "3 new links from URL https://www.systemrequirementslab.com/cyri/requirements/prototype/10876\n",
      "3 new links from URL https://en.wiktionary.org/wiki/prototype\n",
      "3 new links from URL https://www.youtube.com/user/prototype\n",
      "3 new links from URL https://prototype.net/en-us\n",
      "3 new links from URL https://www.imdb.com/title/tt1233574/\n",
      "3 new links from URL https://thepcgames.net/prototype-1-pc-game/\n",
      "Error: 406 Client Error: Not Acceptable for url: https://gameplaying.info/prototype-3-release-date-confirmation-news/ on URL: https://gameplaying.info/prototype-3-release-date-confirmation-news/\n",
      "3 new links from URL https://www.alleydog.com/glossary/definition.php?term=Prototype\n",
      "3 new links from URL https://www.microsoft.com/en-us/p/prototype-2/c3h56c11vwhm\n",
      "3 new links from URL https://steamcommunity.com/app/10150/discussions/0/846940248636746622/\n",
      "3 new links from URL https://oneshot.fandom.com/wiki/Prototype\n",
      "3 new links from URL https://prototype.fashion/\n",
      "3 new links from URL https://www.thoughtco.com/making-a-prototype-1992296\n",
      "3 new links from URL https://prototype.fandom.com/wiki/Prototypes\n",
      "Error: 403 Client Error: Forbidden for url: https://www.collinsdictionary.com/dictionary/english/prototype on URL: https://www.collinsdictionary.com/dictionary/english/prototype\n",
      "3 new links from URL https://marketplace.xbox.com/en-US/Product/PROTOTYPE/66acd000-77fe-1000-9115-d8024156084e\n",
      "3 new links from URL https://www.wowhead.com/npc=146001/prototype-annoy-o-tron\n",
      "3 new links from URL https://www.inventioncity.com/prototypes\n",
      "3 new links from URL https://genius.com/Andre-3000-prototype-lyrics\n",
      "3 new links from URL https://store.playstation.com/en-us/product/UP0002-CUSA01654_00-PROTOTYPEPS42014\n",
      "3 new links from URL https://www.prototypes.org/treatment-programs/programs/\n",
      "Error: 403 Client Error: Forbidden for url: https://www.gamestop.com/video-games/playstation-4/games/products/prototype-biohazard-bundle-only-at-gamestop/10134043.html on URL: https://www.gamestop.com/video-games/playstation-4/games/products/prototype-biohazard-bundle-only-at-gamestop/10134043.html\n",
      "3 new links from URL https://www.gamespot.com/prototype-2/\n",
      "3 new links from URL https://searchapparchitecture.techtarget.com/definition/user-interface-UI\n",
      "3 new links from URL https://en.wikipedia.org/wiki/User_interface\n",
      "3 new links from URL https://www.usability.gov/what-and-why/user-interface-design.html\n",
      "3 new links from URL https://www.webopedia.com/TERM/U/user_interface.html\n",
      "3 new links from URL https://en.wikipedia.org/wiki/Graphical_user_interface\n",
      "3 new links from URL http://www.businessdictionary.com/definition/user-interface.html\n",
      "3 new links from URL https://www.interaction-design.org/literature/topics/ui-design\n",
      "3 new links from URL https://www.tutorialspoint.com/software_engineering/software_user_interface_design.htm\n",
      "3 new links from URL https://www.dictionary.com/browse/user-interface\n",
      "3 new links from URL https://support.microsoft.com/en-us/office/choose-the-languages-for-a-sharepoint-site-user-interface-16d3a83c-05ab-4b50-8fbb-ff576a3351e8?ui=en-us&rs=en-us&ad=us\n",
      "3 new links from URL https://vivaldi.com/features/user-interface/\n",
      "3 new links from URL https://www.everyinteraction.com/definition/user-interface/\n",
      "1 new links from URL https://userinyerface.com/\n",
      "3 new links from URL https://www.w3computing.com/systemsanalysis/types-user-interface/\n",
      "1 new links from URL https://techterms.com/definition/user_interface\n",
      "3 new links from URL https://idseducation.com/articles/apa-itu-user-interface/\n",
      "Error: 403 Client Error: Forbidden for url: https://www.dewaweb.com/blog/user-interface/ on URL: https://www.dewaweb.com/blog/user-interface/\n",
      "3 new links from URL https://www.udacity.com/course/android-basics-user-interface--ud834\n",
      "3 new links from URL https://www.usertesting.com/blog/ui-vs-ux\n",
      "3 new links from URL https://docs.uipath.com/studio/docs/the-user-interface\n",
      "3 new links from URL https://psu.pb.unizin.org/ist110/chapter/7-1-user-interfaces/\n",
      "3 new links from URL https://www.thaiprogrammer.org/2018/12/ui-vs-ux-%E0%B8%AD%E0%B8%B0%E0%B9%84%E0%B8%A3%E0%B8%84%E0%B8%B7%E0%B8%AD%E0%B8%84%E0%B8%A7%E0%B8%B2%E0%B8%A1%E0%B9%81%E0%B8%95%E0%B8%81%E0%B8%95%E0%B9%88%E0%B8%B2%E0%B8%87%E0%B8%A3%E0%B8%B0%E0%B8%AB/\n",
      "3 new links from URL https://wiki.kidzsearch.com/wiki/User_interface\n",
      "3 new links from URL https://www.plego.com/blog/importance-user-interface-design/\n",
      "3 new links from URL https://docs.dask.org/en/latest/user-interfaces.html\n",
      "3 new links from URL https://boagworld.com/design/user-interface-design/\n",
      "3 new links from URL https://www.tutorialspoint.com/css/css3_userinterface.htm\n",
      "3 new links from URL https://revisionworld.com/gcse-revision/ict/software/user-interfaces\n",
      "3 new links from URL https://docs.microsoft.com/en-us/xamarin/android/user-interface/\n",
      "3 new links from URL https://www.bbc.co.uk/bitesize/guides/zwb4jxs/revision/1\n",
      "3 new links from URL https://careerfoundry.com/en/blog/ui-design/what-is-a-user-interface/\n",
      "3 new links from URL https://docs.unity3d.com/Manual/UIToolkits.html\n",
      "3 new links from URL https://docs.microsoft.com/en-us/cpp/parallel/multithreading-creating-user-interface-threads\n",
      "3 new links from URL https://www.thesaurus.com/browse/user%20interface\n",
      "3 new links from URL https://developer.mozilla.org/en-US/docs/Mozilla/Add-ons/WebExtensions/user_interface\n",
      "3 new links from URL https://www.coursera.org/specializations/user-interface-design\n",
      "3 new links from URL https://pythonspot.com/gui/\n",
      "3 new links from URL https://www.usertesting.com/\n",
      "3 new links from URL https://developer.blender.org/project/view/12/\n",
      "3 new links from URL https://webflow.com/blog/10-essential-ui-design-tips\n",
      "3 new links from URL https://www.techopedia.com/definition/4685/user-interface-ui\n",
      "3 new links from URL https://winscp.net/eng/docs/interfaces\n"
     ]
    },
    {
     "name": "stdout",
     "output_type": "stream",
     "text": [
      "3 new links from URL http://help.solidworks.com/2018/English/SolidWorks/sldworks/c_user_interface_overview.htm\n",
      "3 new links from URL https://www.geeksforgeeks.org/software-engineering-user-interface-design/\n",
      "3 new links from URL https://tutorials.visualstudio.com/vs-get-started/user-interface\n",
      "0 new links from URL https://www.pinterest.com/topics/user-interface/\n",
      "3 new links from URL https://www.thefreedictionary.com/Web+user+interface\n",
      "3 new links from URL https://eq2.fandom.com/wiki/User_Interface\n",
      "2 new links from URL http://docs.daz3d.com/doku.php/public/software/install_manager/referenceguide/interface/start\n",
      "3 new links from URL https://www.interaction-design.org/literature/topics/ux-design\n",
      "3 new links from URL https://en.wikipedia.org/wiki/User_experience_design\n",
      "3 new links from URL https://www.smashingmagazine.com/2010/10/what-is-user-experience-design-overview-tools-and-resources/\n",
      "3 new links from URL https://careerfoundry.com/en/blog/ux-design/what-is-user-experience-ux-design-everything-you-need-to-know-to-get-started/\n",
      "3 new links from URL https://www.payscale.com/research/US/Job=User_Experience_Designer/Salary\n",
      "3 new links from URL https://www.usability.gov/what-and-why/user-experience.html\n",
      "3 new links from URL https://www.linkedin.com/learning/paths/become-a-user-experience-designer\n",
      "3 new links from URL https://theblog.adobe.com/what-does-a-ux-designer-actually-do/\n",
      "3 new links from URL https://www.coursera.org/learn/user-experience-design\n",
      "3 new links from URL https://careerfoundry.com/en/blog/ux-design/the-difference-between-ux-and-ui-design-a-laymans-guide/\n",
      "3 new links from URL https://www.usertesting.com/blog/what-is-ux-design-15-user-experience-experts-weigh-in\n",
      "3 new links from URL https://www.adobe.com/products/xd.html\n",
      "3 new links from URL https://blog.nicolesaidy.com/7-steps-to-become-a-ui-ux-designer-8beed7639a95\n",
      "Error: 403 Client Error: Forbidden for url: https://www.glassdoor.com/Salaries/user-experience-designer-salary-SRCH_KO0,24.htm on URL: https://www.glassdoor.com/Salaries/user-experience-designer-salary-SRCH_KO0,24.htm\n",
      "3 new links from URL https://essentialdesign.com/expertise/digital-experience/\n",
      "3 new links from URL https://www.interaction-design.org/\n",
      "3 new links from URL https://uxdesign.cc/\n",
      "3 new links from URL https://pdc.wisc.edu/capstone-certificates/user-experience-design/\n",
      "3 new links from URL https://semanticstudios.com/user_experience_design/\n",
      "Error: 403 Client Error: Forbidden for url: https://www.glassdoor.com/Job/user-experience-designer-jobs-SRCH_KO0,24.htm on URL: https://www.glassdoor.com/Job/user-experience-designer-jobs-SRCH_KO0,24.htm\n",
      "3 new links from URL https://uxplanet.org/10-must-have-skills-for-ux-designers-8ce53c30d4ee\n",
      "3 new links from URL https://trends.uxdesign.cc/\n",
      "3 new links from URL https://www.indeed.com/q-User-Experience-Design-jobs.html\n",
      "3 new links from URL https://www.cmswire.com/customer-experience/what-is-user-experience-ux-design/\n",
      "3 new links from URL https://www.nngroup.com/articles/definition-user-experience/\n",
      "3 new links from URL https://uxplanet.org/the-importance-of-user-experience-design-988faf6ddca2\n",
      "3 new links from URL https://blog.hubspot.com/marketing/ux-user-experience\n",
      "3 new links from URL https://www.sitepoint.com/ux-designer-actually/\n",
      "Error: 403 Client Error: Forbidden for url: https://www.udemy.com/course/ui-ux-web-design-using-adobe-xd/ on URL: https://www.udemy.com/course/ui-ux-web-design-using-adobe-xd/\n",
      "3 new links from URL https://generalassemb.ly/education/user-experience-design-remote-online\n",
      "3 new links from URL https://uxdesign.cc/architecture-vs-ux-design-6d914091d036\n",
      "3 new links from URL https://www.roberthalf.com/blog/salaries-and-skills/hot-job-ux-designer\n",
      "3 new links from URL https://www.youtube.com/watch?v=Nj6x01wg2WA\n",
      "3 new links from URL https://www.geteducated.com/career-center/how-to-become-a-ux-designer/\n",
      "Error: 404 Client Error: Not Found for url: https://www.indeed.com/career/user-experience-designer/salaries on URL: https://www.indeed.com/career/user-experience-designer/salaries\n",
      "3 new links from URL https://trydesignlab.com/blog/service-design-ux-design-what-is-the-difference/\n",
      "3 new links from URL https://online.rmit.edu.au/course/sc-user-experience-design-dtr105\n",
      "3 new links from URL https://www.usertesting.com/blog/ui-vs-ux\n",
      "3 new links from URL https://extension.ucsd.edu/courses-and-programs/user-experience-ux-design\n",
      "0 new links from URL https://study.com/articles/User-Experience_Designer_Job_Description_and_Requirements.html\n",
      "3 new links from URL https://ie.indeed.com/User-Experience-Designer-jobs\n"
     ]
    },
    {
     "name": "stderr",
     "output_type": "stream",
     "text": [
      "Some characters could not be decoded, and were replaced with REPLACEMENT CHARACTER.\n"
     ]
    },
    {
     "name": "stdout",
     "output_type": "stream",
     "text": [
      "3 new links from URL https://www.crazyegg.com/blog/user-experience-design/\n",
      "3 new links from URL https://ca.indeed.com/User-Experience-Designer-jobs\n",
      "3 new links from URL https://onlinedegrees.kent.edu/ischool/user-experience-design/home\n",
      "3 new links from URL https://www.lynda.com/User-Experience-training-tutorials/97-0.html\n",
      "3 new links from URL https://www.uxmatters.com/mt/archives/2017/12/the-benefits-of-user-experience.php\n",
      "3 new links from URL https://www.techopedia.com/definition/30679/user-experience-design-uxd\n",
      "3 new links from URL https://en.wikipedia.org/wiki/Cardboard_modeling\n",
      "0 new links from URL http://www.fiddlersgreen.net/\n",
      "3 new links from URL https://www.solidsmack.com/design/the-art-of-making-and-why-cardboard-modeling-is-fantastic/\n",
      "3 new links from URL https://www.youtube.com/watch?v=1Mw8kfpj_LU\n",
      "2 new links from URL http://paper-replika.com/\n",
      "3 new links from URL https://www.ehow.com/how_5687720_build-model-house-out-cardboard.html\n",
      "0 new links from URL http://cardboardmodeling.com/\n",
      "0 new links from URL http://www.papermodelers.com/\n",
      "3 new links from URL https://www.youtube.com/watch?v=nNLY1yt9iCE\n",
      "0 new links from URL http://www.cardfaq.org/faq/freeb.html\n",
      "3 new links from URL https://legacy.cardboardmodels.com.au/\n",
      "3 new links from URL https://www.instructables.com/id/Easy-Cardboard-Model-Airplane/\n",
      "3 new links from URL https://www.instructables.com/id/How-to-Make-a-Cardboard-Model-Ship/\n",
      "Error: 406 Client Error: Not Acceptable for url: http://www.ss42.com/pt-buildings.html on URL: http://www.ss42.com/pt-buildings.html\n",
      "3 new links from URL https://www.turbosquid.com/3d-model/cardboard-box/\n",
      "0 new links from URL http://cardmodelsbytony.weebly.com/\n",
      "3 new links from URL https://science.nasa.gov/kids/the-universe/universe-spacecraft-paper-models\n",
      "0 new links from URL http://www.marcle.co.uk/\n",
      "3 new links from URL https://www.etsy.com/market/cardboard_models\n",
      "1 new links from URL http://www.schreiber-bogen.com/\n",
      "0 new links from URL https://www.pinterest.com/jenningspaul/cardboard-models/\n",
      "3 new links from URL https://www.1001modelkits.co.uk/21330-cardboard-model-kits\n",
      "1 new links from URL https://ourpastimes.com/how-to-build-a-cardboard-model-plane-12281681.html\n",
      "3 new links from URL https://www.solidsmack.com/skillcoach/cardboard-modeling-basics/\n",
      "3 new links from URL https://www.super-hobby.com/catalog/Cardboard-models.html\n",
      "0 new links from URL https://in.pinterest.com/wbruddock/cardboard-model/\n",
      "Error: 406 Client Error: Not Acceptable for url: https://www.papertoys.com/ on URL: https://www.papertoys.com/\n",
      "3 new links from URL https://teespring.com/shop/cardboard-modeling-tshirts\n",
      "Error: 403 Client Error: Forbidden for url: https://makezine.com/projects/use-cardboard-prototype-projects/ on URL: https://makezine.com/projects/use-cardboard-prototype-projects/\n",
      "0 new links from URL http://www.marcle.co.uk/cataloguehome.html\n",
      "3 new links from URL https://www.cgtrader.com/3d-models/cardboard\n",
      "3 new links from URL http://www.clevermodels.net/\n",
      "3 new links from URL http://clevermodels.squarespace.com/free-downloads-01/\n",
      "Error: 403 Client Error: Forbidden for url: https://cardboardit.com/ on URL: https://cardboardit.com/\n",
      "3 new links from URL https://www.wikihow.com/Make-a-Cardboard-Car\n",
      "Error: 503 Server Error: Service Unavailable for url: https://www.amazon.co.uk/cardboard-model-kits/s?k=cardboard+model+kits on URL: https://www.amazon.co.uk/cardboard-model-kits/s?k=cardboard+model+kits\n",
      "Error: 403 Client Error: Forbidden for url: https://www.chegg.com/homework-help/questions-and-answers/cardboard-model-analysis-interpretation-activity-105-name-course-section-date-tear-cardboa-q24631809 on URL: https://www.chegg.com/homework-help/questions-and-answers/cardboard-model-analysis-interpretation-activity-105-name-course-section-date-tear-cardboa-q24631809\n",
      "0 new links from URL http://feltondesignanddata.com/\n",
      "3 new links from URL https://www.aliexpress.com/popular/cardboard-model-buildings.html\n",
      "0 new links from URL https://www.pinterest.com/miesrohe/cardboard-model/\n",
      "3 new links from URL https://www.wikihow.com/Build-a-Castle-out-of-Cardboard-Boxes\n",
      "Error: 406 Client Error: Not Acceptable for url: http://makingsociety.com/2014/11/cardboard-prototype-technique/ on URL: http://makingsociety.com/2014/11/cardboard-prototype-technique/\n",
      "0 new links from URL http://www.glue-it.com/aircraft/general-information/glossary/p/paper-models.html\n",
      "0 new links from URL http://www.modelsnmoore.com/mymodels.php\n",
      "3 new links from URL https://www.turbosquid.com/3d-model/free/cardboard-box\n",
      "3 new links from URL https://aerofred.com/search.php?search_keywords=%22cardboard+models%22\n",
      "Error: 503 Server Error: Service Unavailable for url: https://www.amazon.com/Google-87002823-01-Official-Cardboard-Brown/dp/B01MQ5J5J4 on URL: https://www.amazon.com/Google-87002823-01-Official-Cardboard-Brown/dp/B01MQ5J5J4\n",
      "3 new links from URL https://vr.google.com/blocks/\n",
      "3 new links from URL https://en.wikipedia.org/wiki/Software_design\n",
      "3 new links from URL https://www.tutorialspoint.com/software_engineering/software_design_basics.htm\n",
      "3 new links from URL https://www.coursera.org/specializations/software-design-architecture\n",
      "3 new links from URL https://www.quora.com/What-is-software-design\n",
      "3 new links from URL https://www.tutorialspoint.com/software_engineering/software_analysis_design_tools.htm\n",
      "3 new links from URL https://www.martinfowler.com/architecture/\n",
      "3 new links from URL https://www.adobe.com/products/indesign.html\n",
      "3 new links from URL https://www.creativebloq.com/graphic-design/free-graphic-design-software-8134039\n",
      "3 new links from URL https://sea.ucar.edu/best-practices/design\n",
      "0 new links from URL https://www.avery.com/software/design-and-print/\n",
      "3 new links from URL https://www.amazon.com/Best-Sellers-Books-Software-Design-Testing-Engineering/zgbs/books/4011\n",
      "3 new links from URL https://www.synopsys.com/glossary/what-is-software-architecture.html\n",
      "3 new links from URL https://www.goodreads.com/shelf/show/software-design\n",
      "3 new links from URL https://www.nchsoftware.com/design/index.html\n",
      "Error: 503 Server Error: Service Unavailable for url: https://www.amazon.com/Software-Design-Programming-Books/b?node=4011 on URL: https://www.amazon.com/Software-Design-Programming-Books/b?node=4011\n",
      "3 new links from URL https://medium.com/educative/the-7-most-important-software-design-patterns-d60e546afb0e\n",
      "3 new links from URL https://www.coursera.org/courses?query=software%20design\n",
      "3 new links from URL https://codeburst.io/software-architecture-the-difference-between-architecture-and-design-7936abdd5830\n",
      "Error: 403 Client Error: Forbidden for url: https://www.sciencedirect.com/topics/computer-science/software-design on URL: https://www.sciencedirect.com/topics/computer-science/software-design\n",
      "3 new links from URL https://www.intertech.com/Blog/principles-of-good-software-design/\n",
      "3 new links from URL https://www.homestratosphere.com/design-software/\n",
      "3 new links from URL https://www.homestratosphere.com/landscape-design-software/\n",
      "3 new links from URL https://en.wikipedia.org/wiki/Software_design_pattern\n",
      "3 new links from URL https://www.geeksforgeeks.org/software-engineering-software-design-process/\n",
      "3 new links from URL https://www.slideshare.net/syedmuhammadhammad/software-design-13430869\n",
      "Error: 403 Client Error: Forbidden for url: https://www.sciencedirect.com/book/9780750660754/software-design-methodology on URL: https://www.sciencedirect.com/book/9780750660754/software-design-methodology\n",
      "0 new links from URL http://ecomputernotes.com/software-engineering/softwaredesignreviews\n",
      "3 new links from URL https://www.lifewire.com/best-home-design-software-programs-177584\n",
      "3 new links from URL https://download.cnet.com/s/design/windows/\n",
      "3 new links from URL https://simplicable.com/new/software-design-vs-software-architecture\n",
      "3 new links from URL https://www.udacity.com/course/software-architecture-design--ud821\n",
      "3 new links from URL https://www.sketchup.com/\n",
      "3 new links from URL https://www.definitions.net/definition/Software%20Design\n",
      "Error: 403 Client Error: Forbidden for url: https://softwaredesign.ie/ on URL: https://softwaredesign.ie/\n",
      "3 new links from URL https://www.pcmag.com/picks/the-best-graphic-design-software\n",
      "3 new links from URL https://www.javatpoint.com/software-engineering-software-design\n"
     ]
    },
    {
     "name": "stdout",
     "output_type": "stream",
     "text": [
      "3 new links from URL https://www.capterra.com/graphic-design-software/\n",
      "3 new links from URL https://en.itu.dk/programmes/msc-programmes/software-design\n",
      "3 new links from URL https://www.engineering.com/DesignSoftware/DesignSoftwareArticles.aspx\n"
     ]
    },
    {
     "name": "stderr",
     "output_type": "stream",
     "text": [
      "Some characters could not be decoded, and were replaced with REPLACEMENT CHARACTER.\n"
     ]
    },
    {
     "name": "stdout",
     "output_type": "stream",
     "text": [
      "0 new links from URL https://www.cl.cam.ac.uk/teaching/1112/SWDesign/softwaredesign01.pdf\n",
      "3 new links from URL https://download.cnet.com/T-shirt-Design-Software/3000-2649_4-75936989.html\n",
      "0 new links from URL http://gregorybraun.com/\n",
      "3 new links from URL https://www.cnet.com/topics/software/products/\n",
      "3 new links from URL https://www.autodesk.com/solutions/3d-design-software\n",
      "3 new links from URL https://www.toptenreviews.com/best-home-design-software\n",
      "3 new links from URL https://www.smartdraw.com/uml-diagram/software-design-diagram-templates.htm\n",
      "Error: 403 Client Error: Forbidden for url: https://financesonline.com/top-20-graphic-design-software-solutions/ on URL: https://financesonline.com/top-20-graphic-design-software-solutions/\n",
      "3 new links from URL https://www.youtube.com/watch?v=bmSAYlu0NcY\n",
      "3 new links from URL https://stackoverflow.com/jobs/developer-jobs-using-software-design\n",
      "3 new links from URL https://en.wikipedia.org/wiki/Virtual_reality\n",
      "Error: 403 Client Error: Forbidden for url: https://www.bestbuy.com/site/video-games/virtual-reality/pcmcat1476727552895.c?id=pcmcat1476727552895 on URL: https://www.bestbuy.com/site/video-games/virtual-reality/pcmcat1476727552895.c?id=pcmcat1476727552895\n",
      "1 new links from URL https://www.cnet.com/special-reports/vr101/\n",
      "Error: 503 Server Error: Service Unavailable for url: https://www.amazon.com/Wearable-Tech-Virtual-Reality-Gear/b?node=14775003011 on URL: https://www.amazon.com/Wearable-Tech-Virtual-Reality-Gear/b?node=14775003011\n",
      "3 new links from URL https://www.oculus.com/\n",
      "3 new links from URL https://www.walmart.com/cp/virtual-reality/5454301\n",
      "3 new links from URL https://www.pcmag.com/picks/the-best-vr-headsets\n",
      "3 new links from URL https://www.vrs.org.uk/virtual-reality/what-is-virtual-reality.html\n",
      "3 new links from URL https://www.merriam-webster.com/dictionary/virtual%20reality\n",
      "Error: 503 Server Error: Service Unavailable for url: https://www.amazon.com/Virtual-Reality-Video-Games/b?node=11347624011 on URL: https://www.amazon.com/Virtual-Reality-Video-Games/b?node=11347624011\n",
      "3 new links from URL https://www.youtube.com/watch?v=hNAbQYU0wpg\n",
      "3 new links from URL https://www.youtube.com/channel/UCzuqhhs6NWbgTzMuM09WKDQ\n",
      "3 new links from URL https://whatis.techtarget.com/definition/virtual-reality\n",
      "3 new links from URL https://electronics.howstuffworks.com/gadgets/other-gadgets/virtual-reality.htm\n",
      "3 new links from URL https://artsandculture.google.com/theme/mwJiZHf_Y7FfLg\n",
      "3 new links from URL https://www.explainthatstuff.com/virtualreality.html\n",
      "3 new links from URL https://www.microsoft.com/en-ca/store/b/virtualreality\n",
      "3 new links from URL https://filmora.wondershare.com/virtual-reality/pros-cons-virtual-virtual.html\n",
      "3 new links from URL https://www.lifewire.com/virtual-reality-tourism-4129394\n",
      "Error: 403 Client Error: Forbidden for url: https://www.bestbuy.com/site/pc-gaming/virtual-reality-devices-and-games/pcmcat748301723598.c?id=pcmcat748301723598 on URL: https://www.bestbuy.com/site/pc-gaming/virtual-reality-devices-and-games/pcmcat748301723598.c?id=pcmcat748301723598\n",
      "3 new links from URL https://www.livescience.com/54116-virtual-reality.html\n",
      "3 new links from URL https://www.cnet.com/tags/virtual-reality/\n",
      "3 new links from URL https://www.ebay.com/b/Virtual-Reality/bn_7000258596\n",
      "Error: 403 Client Error: Forbidden for url: https://www.marxentlabs.com/what-is-virtual-reality/ on URL: https://www.marxentlabs.com/what-is-virtual-reality/\n",
      "3 new links from URL https://www.fool.com/investing/2020/01/26/the-9-biggest-virtual-reality-stocks.aspx\n",
      "3 new links from URL https://www.tomsguide.com/us/best-vr-headsets,review-3550.html\n",
      "3 new links from URL https://www.pcworld.com/article/3513794/will-virtual-reality-finally-break-out-in-2020.html\n",
      "3 new links from URL https://www.microsoft.com/en-us/windows/windows-mixed-reality\n",
      "0 new links from URL http://www.virtualfreesites.com/museums.reality.html\n",
      "3 new links from URL https://filmora.wondershare.com/virtual-reality/how-does-vr-work.html\n",
      "3 new links from URL https://mashable.com/2016/01/08/naughty-america-vr-porn-experience/\n",
      "3 new links from URL https://www.alza.cz/gaming/virtualni-realita/18856436.htm\n",
      "3 new links from URL https://www.meetup.com/topics/virtual-reality/\n",
      "3 new links from URL https://www.samsung.com/us/mobile/virtual-reality/gear-vr/\n",
      "3 new links from URL https://www.wired.com/tag/virtual-reality/\n",
      "3 new links from URL https://www.youvisit.com/collegesearch\n",
      "2 new links from URL https://techcrunch.com/2020/04/16/facebooks-annual-virtual-reality-conference-goes-virtual-only/\n",
      "3 new links from URL https://www.digitaltrends.com/computing/what-is-vr-all-the-basics-of-virtual-reality/\n",
      "3 new links from URL https://www.youvisit.com/virtual-reality-360-experience\n",
      "3 new links from URL https://www.britannica.com/technology/virtual-reality/Entertainment\n",
      "Error: 502 Server Error: Bad Gateway for url: https://www.reddit.com/r/virtualreality/ on URL: https://www.reddit.com/r/virtualreality/\n",
      "3 new links from URL https://www.fortunebusinessinsights.com/industry-reports/virtual-reality-market-101378\n",
      "Error: 403 Client Error: Forbidden for url: https://www.canva.com/ on URL: https://www.canva.com/\n",
      "3 new links from URL https://www.creativebloq.com/graphic-design/free-graphic-design-software-8134039\n",
      "3 new links from URL https://en.wikipedia.org/wiki/Graphic_design\n",
      "3 new links from URL https://www.designhill.com/design-gallery\n",
      "3 new links from URL https://www.coursera.org/specializations/graphic-design\n",
      "3 new links from URL https://www.britannica.com/art/graphic-design\n",
      "3 new links from URL https://www.rasmussen.edu/degrees/design/blog/what-is-graphic-design/\n",
      "3 new links from URL https://www.bls.gov/ooh/Arts-and-Design/Graphic-designers.htm\n",
      "3 new links from URL https://99designs.com/blog/tips/types-of-graphic-design/\n",
      "0 new links from URL https://www.careerexplorer.com/careers/graphic-designer/\n",
      "3 new links from URL https://download.cnet.com/s/design/windows/\n",
      "Error: 403 Client Error: Forbidden for url: https://fremont.edu/top-8-graphic-design-jobs/ on URL: https://fremont.edu/top-8-graphic-design-jobs/\n",
      "Error: 403 Client Error: Forbidden for url: https://www.upwork.com/hire/graphic-designers/ on URL: https://www.upwork.com/hire/graphic-designers/\n",
      "3 new links from URL https://www.wikihow.com/Become-a-Graphic-Designer\n",
      "3 new links from URL https://www.format.com/magazine/resources/design/free-online-graphic-design-courses\n",
      "3 new links from URL https://www.indeed.com/q-Graphic-Design-jobs.html\n",
      "3 new links from URL https://www.creativebloq.com/features/best-laptops-for-graphic-design\n",
      "0 new links from URL https://www.fiverr.com/categories/graphics-design\n",
      "3 new links from URL https://download.cnet.com/design/\n",
      "3 new links from URL https://www.truity.com/career-profile/graphic-designer\n",
      "3 new links from URL https://www.youtube.com/watch?v=YqQx75OPRa0\n",
      "3 new links from URL https://en.wikipedia.org/wiki/Graphic_designer\n",
      "3 new links from URL https://www.befunky.com/features/graphic-designer/\n",
      "3 new links from URL https://learn.g2.com/what-is-graphic-design\n",
      "3 new links from URL https://www.pcmag.com/picks/the-best-graphic-design-software\n",
      "0 new links from URL https://study.com/articles/Graphic_Designer_Educational_Requirements_for_a_Career_in_Graphic_Design.html\n",
      "Error: 403 Client Error: Forbidden for url: https://www.glassdoor.com/Salaries/graphic-designer-salary-SRCH_KO0,16.htm on URL: https://www.glassdoor.com/Salaries/graphic-designer-salary-SRCH_KO0,16.htm\n",
      "3 new links from URL https://justcreative.com/2018/09/23/best-free-graphic-design-courses-online/\n",
      "3 new links from URL https://www.interaction-design.org/literature/topics/graphic-design\n",
      "Error: 403 Client Error: Forbidden for url: https://www.udemy.com/topic/graphic-design/ on URL: https://www.udemy.com/topic/graphic-design/\n",
      "3 new links from URL https://www.merriam-webster.com/dictionary/graphic%20design\n",
      "3 new links from URL https://ccm.net/download/graphics-9\n",
      "3 new links from URL https://www.designwizard.com/blog/famous-graphic-designers/\n",
      "3 new links from URL https://www.behance.net/galleries/Graphic-Design/Graphic-Design\n",
      "3 new links from URL https://www.theartcareerproject.com/careers/graphic-design/\n",
      "3 new links from URL https://www.payscale.com/research/US/Job=Graphic_Designer/Salary\n"
     ]
    },
    {
     "name": "stdout",
     "output_type": "stream",
     "text": [
      "3 new links from URL http://www.fatpaint.com/\n",
      "3 new links from URL https://www.thebalancecareers.com/graphic-design-skills-list-2062400\n",
      "3 new links from URL https://www.behance.net/galleries/Graphic-Design\n",
      "3 new links from URL https://www.youtube.com/watch?v=6H88nig65tE\n",
      "Error: 403 Client Error: Forbidden for url: https://www.glassdoor.com/Job/graphic-designer-jobs-SRCH_KO0,16.htm on URL: https://www.glassdoor.com/Job/graphic-designer-jobs-SRCH_KO0,16.htm\n",
      "0 new links from URL https://collegegrad.com/careers/graphic-designers\n",
      "3 new links from URL https://www.bls.gov/oes/current/oes271024.htm\n",
      "3 new links from URL https://www.goodreads.com/quotes/tag/graphic-design\n",
      "3 new links from URL https://blog.templatetoaster.com/graphic-design-software/\n",
      "Error: 403 Client Error: Forbidden for url: https://financesonline.com/top-20-graphic-design-software-solutions/ on URL: https://financesonline.com/top-20-graphic-design-software-solutions/\n",
      "3 new links from URL https://www.picmonkey.com/design\n",
      "3 new links from URL https://www.freelancer.com/jobs/Graphic-Design/\n",
      "3 new links from URL https://www.careerbuilder.com/jobs-graphic-designer\n",
      "3 new links from URL https://en.wikipedia.org/wiki/Participatory_design\n",
      "Error: 403 Client Error: Forbidden for url: https://uxmag.com/articles/participatory-design-in-practice on URL: https://uxmag.com/articles/participatory-design-in-practice\n",
      "2 new links from URL http://participateindesign.org/approach/what\n"
     ]
    },
    {
     "name": "stderr",
     "output_type": "stream",
     "text": [
      "Some characters could not be decoded, and were replaced with REPLACEMENT CHARACTER.\n"
     ]
    },
    {
     "name": "stdout",
     "output_type": "stream",
     "text": [
      "0 new links from URL https://repositories.lib.utexas.edu/bitstream/handle/2152/28277/SpinuzziTheMethodologyOfParticipatoryDesign.pdf\n",
      "3 new links from URL https://medium.theuxblog.com/participatory-design-tools-and-methods-741543b1ff5b\n",
      "3 new links from URL https://civic.mit.edu/2011/11/15/participatory-design/\n",
      "Error: HTTPSConnectionPool(host='www.wickedproblems.com', port=443): Max retries exceeded with url: /4_participatory_design.php (Caused by SSLError(SSLError(\"bad handshake: Error([('SSL routines', 'tls_process_server_certificate', 'certificate verify failed')])\"))) on URL: https://www.wickedproblems.com/4_participatory_design.php\n",
      "3 new links from URL https://readwrite.com/2018/05/22/participatory-design-what-it-is-and-why-you-should-be-using-it/\n",
      "Error: 403 Client Error: Forbidden for url: https://www.sciencedirect.com/topics/computer-science/participatory-design on URL: https://www.sciencedirect.com/topics/computer-science/participatory-design\n",
      "2 new links from URL http://participateindesign.org/approach/why\n",
      "3 new links from URL https://owl.purdue.edu/owl/subject_specific_writing/professional_technical_writing/effective_workplace_writing/participatory_design.html\n",
      "3 new links from URL https://pointjupiter.com/what-is-participatory-design-what-makes-it-great/\n",
      "Error: 406 Client Error: Not Acceptable for url: https://www.usabilitybok.org/participatory-design on URL: https://www.usabilitybok.org/participatory-design\n",
      "3 new links from URL https://medium.com/the-making-of-whereby/participatory-design-as-a-research-method-bc42c01943b1\n",
      "Error: HTTPSConnectionPool(host='pdc2018.org', port=443): Max retries exceeded with url: / (Caused by SSLError(SSLError(\"bad handshake: Error([('SSL routines', 'tls_process_server_certificate', 'certificate verify failed')])\"))) on URL: https://pdc2018.org/\n",
      "3 new links from URL https://think.design/user-design-research/participatory-design/\n",
      "0 new links from URL http://cpsr.org/issues/pd/\n",
      "Error: 503 Server Error: Service Unavailable for url: https://www.amazon.com/Participatory-Design-Principles-Douglas-Schuler/dp/0805809511 on URL: https://www.amazon.com/Participatory-Design-Principles-Douglas-Schuler/dp/0805809511\n",
      "3 new links from URL https://www.rdcarchitecture.com/participatory-design\n",
      "Error: 403 Client Error: Forbidden for url: https://www.sciencedirect.com/journal/design-studies/vol/59/suppl/C on URL: https://www.sciencedirect.com/journal/design-studies/vol/59/suppl/C\n",
      "3 new links from URL https://infodesign.com.au/usabilityresources/participatorydesign/\n",
      "Error: 429 Client Error: Too Many Requests for url: https://www.researchgate.net/publication/233564945_The_Methodology_of_Participatory_Design on URL: https://www.researchgate.net/publication/233564945_The_Methodology_of_Participatory_Design\n",
      "Error: 429 Client Error: Too Many Requests for url: https://www.researchgate.net/topic/Participatory-Design on URL: https://www.researchgate.net/topic/Participatory-Design\n",
      "0 new links from URL https://www.usabilityfirst.com/usability-methods/participatory-design/index.html\n",
      "3 new links from URL https://www.pdc2020.org/\n",
      "3 new links from URL https://www.goodreads.com/book/show/3042719-participatory-design\n",
      "3 new links from URL https://itk.mitre.org/participatory-design/\n",
      "Error: 406 Client Error: Not Acceptable for url: https://www.teced.com/services/user-interface-design/participatory-design/ on URL: https://www.teced.com/services/user-interface-design/participatory-design/\n",
      "0 new links from URL https://hci.stanford.edu/publications/bds/14-p-partic.html\n",
      "3 new links from URL https://dl.acm.org/citation.cfm?id=255960\n",
      "3 new links from URL https://www.thefreedictionary.com/participatory\n"
     ]
    },
    {
     "name": "stderr",
     "output_type": "stream",
     "text": [
      "Some characters could not be decoded, and were replaced with REPLACEMENT CHARACTER.\n"
     ]
    },
    {
     "name": "stdout",
     "output_type": "stream",
     "text": [
      "0 new links from URL http://maketools.com/articles-papers/FromUsercenteredtoParticipatory_Sanders_%2002.pdf\n",
      "3 new links from URL https://dirt.asla.org/2018/02/07/participatory-design-must-evolve/\n",
      "3 new links from URL https://books.google.com/books/about/Participatory_Design.html?id=pWOEk6Sk4YkC\n",
      "Error: 503 Server Error: Service Unavailable for url: https://www.amazon.com/Participatory-Design-Learning-Betsy-DiSalvo/dp/1138640980 on URL: https://www.amazon.com/Participatory-Design-Learning-Betsy-DiSalvo/dp/1138640980\n",
      "3 new links from URL https://www.nimhd.nih.gov/programs/extramural/community-based-participatory.html\n",
      "1 new links from URL http://genderedinnovations.stanford.edu/methods/participatory.html\n",
      "3 new links from URL https://www.enterprisecommunity.org/resources/participatory-design-toolkit-13221\n",
      "3 new links from URL https://www.merriam-webster.com/dictionary/participatory\n",
      "3 new links from URL https://www.quora.com/What-is-the-difference-between-co-design-and-participatory-design\n",
      "3 new links from URL https://www.encyclopedia.com/science/encyclopedias-almanacs-transcripts-and-maps/participatory-design\n",
      "3 new links from URL https://www.igi-global.com/dictionary/participatory-design-project-mobile-ict/21931\n"
     ]
    },
    {
     "name": "stderr",
     "output_type": "stream",
     "text": [
      "Some characters could not be decoded, and were replaced with REPLACEMENT CHARACTER.\n"
     ]
    },
    {
     "name": "stdout",
     "output_type": "stream",
     "text": [
      "0 new links from URL https://citiesprogramme.org/wp-content/uploads/2019/10/participatory_design-report_web.pdf\n",
      "3 new links from URL https://en.wikipedia.org/wiki/Participatory_Ergonomics\n",
      "3 new links from URL https://www.landmark.edu/research-training/newsletter/participatory-design\n",
      "0 new links from URL http://dictionary.sensagent.com/Participatory%20design/en-en/\n",
      "3 new links from URL https://www.igi-global.com/article/participatory-design/128325\n",
      "3 new links from URL https://medium.com/@thestratosgroup/co-design-a-powerful-force-for-creativity-and-collaboration-bed1e0f13d46\n",
      "Error: 504 Server Error: Gateway Time-out for url: https://www.routledge.com/Participatory-Design-Principles-and-Practices-1st-Edition/Schuler-Namioka/p/book/9780805809510 on URL: https://www.routledge.com/Participatory-Design-Principles-and-Practices-1st-Edition/Schuler-Namioka/p/book/9780805809510\n",
      "Error: 429 Client Error:  for url: http://www.academia.edu/Documents/in/Participatory_Design on URL: http://www.academia.edu/Documents/in/Participatory_Design\n",
      "3 new links from URL https://en.wikipedia.org/wiki/Brain%E2%80%93computer_interface\n",
      "3 new links from URL https://computer.howstuffworks.com/brain-computer-interface.htm\n",
      "Error: 403 Client Error: Forbidden for url: https://www.ncbi.nlm.nih.gov/pmc/articles/PMC3497935/ on URL: https://www.ncbi.nlm.nih.gov/pmc/articles/PMC3497935/\n",
      "Error: 403 Client Error: Forbidden for url: https://www.sciencedirect.com/topics/neuroscience/brain-computer-interface on URL: https://www.sciencedirect.com/topics/neuroscience/brain-computer-interface\n",
      "3 new links from URL https://www.scienceabc.com/innovation/what-is-a-brain-computer-interface.html\n",
      "3 new links from URL https://www.news-medical.net/news/20190911/Brain-computer-interface-huge-potential-benefits-and-formidable-challenges.aspx\n",
      "3 new links from URL https://www.technologyreview.com/2015/01/14/169635/a-brain-computer-interface-that-works-wirelessly/\n",
      "Error: 403 Client Error: Forbidden for url: https://www.sciencedaily.com/news/mind_brain/brain-computer_interfaces/ on URL: https://www.sciencedaily.com/news/mind_brain/brain-computer_interfaces/\n",
      "3 new links from URL https://whatis.techtarget.com/definition/brain-computer-interface-BCI\n",
      "Error: 403 Client Error: Forbidden for url: https://www.udemy.com/course/brain-computer-interface/ on URL: https://www.udemy.com/course/brain-computer-interface/\n",
      "Error: 503 Server Error: Service Unavailable for url: https://www.amazon.com/Brain-Computer-Interfacing-Introduction-Rajesh-Rao/dp/0521769418 on URL: https://www.amazon.com/Brain-Computer-Interfacing-Introduction-Rajesh-Rao/dp/0521769418\n",
      "3 new links from URL https://towardsdatascience.com/a-beginners-guide-to-brain-computer-interface-and-convolutional-neural-networks-9f35bd4af948\n",
      "3 new links from URL https://www.emotiv.com/bci-guide/\n",
      "0 new links from URL https://www.bloomberg.com/news/features/2017-09-07/brain-computer-interfaces-are-already-here\n",
      "3 new links from URL https://www.youtube.com/watch?v=7t84lGE5TXA\n",
      "3 new links from URL https://computer.howstuffworks.com/brain-computer-interface1.htm\n",
      "3 new links from URL http://amll.pratt.duke.edu/research/bci\n",
      "3 new links from URL https://www.wired.com/story/nextmind-noninvasive-brain-computer-interface/\n",
      "3 new links from URL https://www.forbes.com/sites/simonchandler/2019/09/24/brain-computer-interfaces-and-mind-control-move-one-step-closer-to-becoming-reality/\n",
      "Error: 403 Client Error: Forbidden for url: https://www.ncbi.nlm.nih.gov/pmc/articles/PMC4383183/ on URL: https://www.ncbi.nlm.nih.gov/pmc/articles/PMC4383183/\n",
      "3 new links from URL https://www.pcgamer.com/do-you-want-a-brain-computer-interface/\n",
      "3 new links from URL https://www.techopedia.com/definition/27696/brain-computer-interface-bci\n",
      "3 new links from URL https://www.cnn.com/2017/04/12/health/brain-computer-interface-partner/index.html\n",
      "3 new links from URL https://www.technologynetworks.com/informatics/news/first-ever-non-invasive-brain-computer-interface-developed-320941\n",
      "3 new links from URL https://www.gartner.com/en/information-technology/glossary/computer-brain-interface\n",
      "3 new links from URL https://www.amazon.com/slp/brain-computer-interface/3zbo3zn376sc7ut\n",
      "3 new links from URL https://www.facebook.com/BrainInterface/\n",
      "3 new links from URL http://www.alsa.org/als-care/resources/publications-videos/factsheets/brain-computer-interface.html\n",
      "3 new links from URL https://www.alliedmarketresearch.com/brain-computer-interfaces-market\n",
      "3 new links from URL https://www.theverge.com/interface/2019/7/31/20747916/facebook-brain-computer-interface-policy-neuralink\n",
      "3 new links from URL https://www.extremetech.com/tag/brain-computer-interface\n",
      "3 new links from URL https://admissiontable.com/brain-computer-interface-neuroscience-ms/\n",
      "2 new links from URL https://futurism.com/images/the-evolution-of-brain-computer-interfaces-infographic\n",
      "3 new links from URL https://singularityhub.com/tag/brain-computer-interface/\n",
      "Error: 429 Client Error: Too Many Requests for url: https://www.researchgate.net/publication/269898782_Brain_Computer_Interface_A_Review on URL: https://www.researchgate.net/publication/269898782_Brain_Computer_Interface_A_Review\n",
      "3 new links from URL https://www.zdnet.com/article/what-is-bci-everything-you-need-to-know-about-brain-computer-interfaces-and-the-future-of-mind-reading-computers/\n",
      "3 new links from URL http://learn.neurotechedu.com/introtobci/\n",
      "3 new links from URL https://osa.3fprojects.org/brain-computer-interface\n",
      "3 new links from URL https://www.ge.com/reports/helping-hacking-engineers-ethicists-must-work-together-brain-computer-interface-technology/\n",
      "3 new links from URL https://tvtropes.org/pmwiki/pmwiki.php/Main/BrainComputerInterface\n",
      "3 new links from URL https://github.com/topics/brain-computer-interface\n",
      "3 new links from URL https://www.youtube.com/watch?v=CgFzmE2fGXA\n",
      "Error: 403 Client Error: Forbidden for url: https://www.psychologytoday.com/us/blog/the-future-brain/201910/new-ai-brain-computer-interface-healthcare-launched on URL: https://www.psychologytoday.com/us/blog/the-future-brain/201910/new-ai-brain-computer-interface-healthcare-launched\n",
      "3 new links from URL https://www.dyns.ucsb.edu/research/brain-computer-interface\n",
      "3 new links from URL https://www.simplyhired.com/search?q=brain+computer+interface\n",
      "3 new links from URL https://www.healthresearch.org/brain-computer-interface/\n",
      "3 new links from URL https://www.extremetech.com/extreme/162678-harvard-creates-brain-to-brain-interface-allows-humans-to-control-other-animals-with-thoughts-alone\n",
      "3 new links from URL https://en.wikipedia.org/wiki/Information_design\n",
      "3 new links from URL http://www.informationdesign.org/\n",
      "3 new links from URL https://www.coursera.org/learn/infodesign\n",
      "3 new links from URL https://www.easel.ly/blog/what-is-information-design/\n",
      "3 new links from URL https://segd.org/what-information-design\n",
      "3 new links from URL https://sps.northwestern.edu/masters/information-design/\n",
      "Error: 503 Server Error: Service Unavailable for url: https://www.amazon.com/Information-Design-Press-Robert-Jacobson/dp/0262600358 on URL: https://www.amazon.com/Information-Design-Press-Robert-Jacobson/dp/0262600358\n",
      "3 new links from URL https://searchcustomerexperience.techtarget.com/definition/information-design\n",
      "Error: 406 Client Error: Not Acceptable for url: https://online-learning.com/information-design/ on URL: https://online-learning.com/information-design/\n",
      "0 new links from URL https://study.com/academy/lesson/what-is-information-design-definition-examples.html\n",
      "3 new links from URL http://www.hidesigns.com/\n",
      "3 new links from URL https://www.routledge.com/Information-Design-Research-and-Practice-1st-Edition/Black-Luna-Lund-Walker/p/book/9780415786324\n",
      "3 new links from URL https://www.informationdesign.org/\n",
      "3 new links from URL https://sunypoly.edu/academics/majors-and-programs/ms-information-design-technology/\n",
      "Error: HTTPSConnectionPool(host='hidmedicaid.hidinc.com', port=443): Max retries exceeded with url: / (Caused by SSLError(SSLError(\"bad handshake: Error([('SSL routines', 'tls_process_server_certificate', 'certificate verify failed')])\"))) on URL: https://hidmedicaid.hidinc.com/\n",
      "3 new links from URL https://www.mtroyal.ca/ProgramsCourses/FacultiesSchoolsCentres/Communications/Programs/BachelorofCommunication/index.htm\n"
     ]
    },
    {
     "name": "stdout",
     "output_type": "stream",
     "text": [
      "0 new links from URL https://www.pinterest.com/danielhunley/information-design/\n",
      "3 new links from URL https://www.techopedia.com/definition/13805/information-design\n",
      "3 new links from URL https://www.bachelorsportal.com/studies/93726/information-design.html\n",
      "3 new links from URL https://www.northeastern.edu/graduate/program/master-of-science-in-information-design-and-visualization-18243/\n",
      "3 new links from URL https://boxesandarrows.com/information-design-the-understanding-discipline/\n",
      "3 new links from URL https://mitpress.mit.edu/books/information-design\n",
      "3 new links from URL https://simplicable.com/new/information-design\n",
      "3 new links from URL https://www.informationdesigninc.com/\n",
      "Error: 406 Client Error: Not Acceptable for url: https://www.teced.com/services/content-development/information-design/ on URL: https://www.teced.com/services/content-development/information-design/\n",
      "3 new links from URL https://www.bentley.edu/academics/undergraduate-programs/information-design-corporate-communication\n",
      "Error: 503 Server Error: Service Unavailable for url: https://www.amazon.com/Practical-Guide-Information-Design/dp/047166295X on URL: https://www.amazon.com/Practical-Guide-Information-Design/dp/047166295X\n",
      "3 new links from URL https://www.youtube.com/watch?v=jAmjzTFS4DA\n",
      "3 new links from URL https://camd.northeastern.edu/program/graphic-and-information-design/\n",
      "3 new links from URL https://camd.northeastern.edu/program/information-design-and-visualization/\n",
      "3 new links from URL https://benjamins.com/catalog/idj\n",
      "3 new links from URL https://www.definitions.net/definition/INFORMATION%20DESIGN\n",
      "3 new links from URL https://sps.northwestern.edu/masters/information-design/career-options.php\n",
      "1 new links from URL https://www.nid.edu/education/master-design/information-design/p-overview.html\n",
      "Error: HTTPSConnectionPool(host='economics.mit.edu', port=443): Max retries exceeded with url: /files/17308 (Caused by SSLError(SSLError(\"bad handshake: Error([('SSL routines', 'tls_process_server_certificate', 'certificate verify failed')])\"))) on URL: https://economics.mit.edu/files/17308\n",
      "3 new links from URL https://www.independence.edu/blog/information-design\n",
      "3 new links from URL https://www.boostlabs.com/information-designer-data-visualization/\n",
      "3 new links from URL https://www.goodreads.com/book/show/336257.Information_Design\n",
      "Error: 429 Client Error: Too Many Requests for url: https://www.researchgate.net/publication/233710886_What_Is_Information_Design on URL: https://www.researchgate.net/publication/233710886_What_Is_Information_Design\n",
      "3 new links from URL https://www.outrecreative.com/services/information-design/\n",
      "3 new links from URL https://www.coursera.org/courses?query=information+design\n",
      "2 new links from URL https://www.informationdesigninc.com/portfolio.htm\n",
      "3 new links from URL https://www.northeastern.edu/graduate/program/graduate-certificate-in-information-design-and-visualization-15036/\n",
      "Error: 429 Client Error: Too Many Requests for url: https://www.researchgate.net/publication/281811102_Information_Design-Principles_and_Guidelines on URL: https://www.researchgate.net/publication/281811102_Information_Design-Principles_and_Guidelines\n",
      "0 new links from URL https://study.com/articles/information_design_masters_degree.html\n",
      "3 new links from URL https://www.pratt.edu/academics/information/degrees/information-experience-design-ms/\n",
      "0 new links from URL http://designishistory.com/design/infographics/\n",
      "3 new links from URL https://en.wikipedia.org/wiki/Human%E2%80%93computer_interaction\n",
      "3 new links from URL https://www.interaction-design.org/literature/topics/human-computer-interaction\n",
      "3 new links from URL https://www.techopedia.com/definition/3639/human-computer-interaction-hci\n",
      "3 new links from URL https://www.microsoft.com/en-us/research/research-area/human-computer-interaction/\n",
      "3 new links from URL https://searchsoftwarequality.techtarget.com/definition/HCI-human-computer-interaction\n",
      "3 new links from URL https://www.edx.org/course/human-computer-interaction-i-fundamentals-design-p\n",
      "3 new links from URL https://www.interaction-design.org/literature/book/the-encyclopedia-of-human-computer-interaction-2nd-ed/human-computer-interaction-brief-intro\n",
      "3 new links from URL https://hcii.cmu.edu/\n",
      "3 new links from URL https://www.mccormick.northwestern.edu/computer-science/research/areas/human-computer-interaction.html\n",
      "3 new links from URL https://encyclopedia2.thefreedictionary.com/Human-Computer+Interaction\n",
      "3 new links from URL https://www.iupui.edu/academics/degrees-majors/degree/human-computer-interaction-ms-iupui-inhcims\n",
      "3 new links from URL https://www.coursera.org/courses?query=human%20computer%20interaction\n",
      "Error: 403 Client Error: Forbidden for url: https://www.sciencedirect.com/topics/computer-science/human-computer-interaction on URL: https://www.sciencedirect.com/topics/computer-science/human-computer-interaction\n",
      "3 new links from URL https://www.amazon.com/Human-Computer-Interaction/b?node=132574011\n",
      "3 new links from URL https://www.microsoft.com/en-us/research/group/human-computer-interaction/\n",
      "3 new links from URL https://www.edx.org/professional-certificate/gtx-human-computer-interaction\n",
      "3 new links from URL https://www.rit.edu/study/human-computer-interaction-ms\n",
      "3 new links from URL https://link.springer.com/referenceworkentry/10.1007%2F978-0-387-39940-9_192\n",
      "3 new links from URL https://gradschool.umd.edu/information-studies/hcim\n",
      "3 new links from URL https://www.cs.utah.edu/research/areas/hci/\n",
      "3 new links from URL https://www.youtube.com/watch?v=WW1g3UT2zww\n",
      "3 new links from URL https://www.udacity.com/course/human-computer-interaction--ud400\n",
      "3 new links from URL https://psu.pb.unizin.org/ist110/chapter/5-2-human-computer-interaction/\n",
      "3 new links from URL https://www2.eecs.berkeley.edu/Research/Areas/HCI/\n",
      "0 new links from URL https://www.cs.bham.ac.uk/~rxb/Teaching/HCI%20II/intro.html\n",
      "3 new links from URL https://www.tandfonline.com/loi/hhci20\n",
      "3 new links from URL https://www.cc.gatech.edu/academics/degree-programs/masters/ms-hci\n",
      "3 new links from URL https://www.hcde.washington.edu/bs/hci\n",
      "3 new links from URL https://www.nngroup.com/courses/topic/human-computer-interaction/\n",
      "3 new links from URL https://www.youtube.com/watch?v=cGRWKeSJy5s\n",
      "3 new links from URL https://computersciencewiki.org/index.php/Human_Computer_Interaction\n",
      "3 new links from URL https://www.salary.com/research/salary/posting/human-computer-interaction-engineer-salary\n",
      "Error: HTTPSConnectionPool(host='technav.ieee.org', port=443): Max retries exceeded with url: /tag/6365/human-computer-interaction (Caused by SSLError(SSLError(\"bad handshake: Error([('SSL routines', 'tls_process_server_certificate', 'certificate verify failed')])\"))) on URL: https://technav.ieee.org/tag/6365/human-computer-interaction\n",
      "3 new links from URL https://www.getsmarter.com/blog/market-trends/14-human-computer-interaction-examples/\n",
      "3 new links from URL https://www.amazon.com/Best-Sellers-Books-Human-Computer-Interaction/zgbs/books/132574011\n",
      "3 new links from URL https://medium.com/@annkim_93227/what-is-human-computer-interaction-hci-3020e5c29e5b\n",
      "3 new links from URL https://soic.iupui.edu/undergraduate/degrees/hci-certificate/\n",
      "3 new links from URL https://www.springer.com/gp/computer-science/human-computer-interaction\n",
      "3 new links from URL https://academiccatalog.umd.edu/graduate/programs/human-computer-interaction-hcim/\n",
      "0 new links from URL https://www.cise.ufl.edu/research/lok/teaching/hci-s10/\n",
      "3 new links from URL https://www.grad-college.iastate.edu/academics/programs/apresults.php?id=60\n",
      "3 new links from URL https://www.webopedia.com/TERM/H/HCI.html\n",
      "3 new links from URL https://www.cs.umn.edu/research/research_areas/human-computer-interaction-hci\n",
      "3 new links from URL https://asegrad.tufts.edu/academics/explore-graduate-programs/human-computer-interaction\n",
      "3 new links from URL http://hci.mit.edu/\n",
      "3 new links from URL https://www.goodreads.com/book/show/457117.Human_Computer_Interaction\n",
      "3 new links from URL https://www.coursera.org/lecture/usable-security/what-is-human-computer-interaction-04Zix\n",
      "2 new links from URL https://scholar.google.com/citations?view_op=top_venues&hl=en&vq=eng_humancomputerinteraction\n",
      "3 new links from URL https://cs.unc.edu/research/areas/human-computer-interaction/\n"
     ]
    },
    {
     "name": "stdout",
     "output_type": "stream",
     "text": [
      "1 new links from URL http://hcibib.org/\n",
      "3 new links from URL https://en.wikipedia.org/wiki/Communication_design\n",
      "3 new links from URL https://www.communicationdesign.com/\n",
      "3 new links from URL https://simplicable.com/new/communication-design\n",
      "3 new links from URL https://art.unt.edu/design/communication-design\n",
      "3 new links from URL https://www.shillingtoneducation.com/blog/communication-design/\n",
      "3 new links from URL http://www.fitnyc.edu/communication-design/\n",
      "3 new links from URL https://www.newschool.edu/parsons/bfa-communication-design/\n",
      "3 new links from URL https://www.newschool.edu/parsons/mps-communication-design/\n",
      "3 new links from URL https://www.youtube.com/watch?v=kxtgSRUwbUM\n",
      "3 new links from URL https://daap.uc.edu/academics/sod/programs/bs-communication\n",
      "3 new links from URL http://www.citytech.cuny.edu/communication-design/\n",
      "3 new links from URL https://www.collegeforcreativestudies.edu/academics/undergraduate-programs/graphic-design\n",
      "3 new links from URL https://www.alamo.edu/sac/academics/program-index/communication-design-cis-music-business-and-rtb/communication-design/\n",
      "3 new links from URL https://www.sid.edu.in/academic/bdes/bachelor-of-design/communication-design.html\n",
      "3 new links from URL https://art.washington.edu/design/visual-communication-design-bdes\n",
      "3 new links from URL https://www.unt.edu/academics/undergrad/communication-design\n",
      "3 new links from URL https://csumb.edu/scd/communication-design-bs/\n",
      "3 new links from URL https://www.northampton.edu/communication-design.htm\n",
      "0 new links from URL https://study.com/articles/Bachelor_of_Fine_Arts_BFA_Communication_Design_Degree_Overview.html\n",
      "3 new links from URL https://artplusmarketing.com/what-is-visual-communication-design-fcfd7faaacbf\n",
      "3 new links from URL http://www.fitnyc.edu/admissions/apply/portfolio/communication-design-aas.php\n",
      "3 new links from URL https://www.academiccourses.com/Courses/Communication-Design/\n",
      "3 new links from URL https://www.kutztown.edu/academics/colleges-and-departments/visual-and-performing-arts/majors-minors-and-certificates/communication-design.html\n",
      "3 new links from URL https://design.osu.edu/undergrad/programs/vcd\n",
      "3 new links from URL https://csun.edu/mike-curb-arts-media-communication/art/communication-design-0\n",
      "0 new links from URL https://learn.org/articles/Communication_Design_Bachelors_Degree.html\n",
      "3 new links from URL https://vpa.syr.edu/academics/design/programs/communications-design-bfa/\n",
      "Error: 503 Server Error: Service Unavailable for url: https://www.amazon.com/Communication-Design-Principles-Methods-Practice/dp/1581153651 on URL: https://www.amazon.com/Communication-Design-Principles-Methods-Practice/dp/1581153651\n",
      "3 new links from URL https://www.finearts.txstate.edu/Art/academics/undergrad/ugrad-comdes.html\n",
      "3 new links from URL https://www.saic.edu/academics/departments/visual-communication-design\n",
      "3 new links from URL https://www.rit.edu/study/visual-communication-design-mfa\n",
      "3 new links from URL https://www.elon.edu/u/academics/communications/academics/communication-design-major/\n",
      "0 new links from URL http://depts.washington.edu/designuw/stats/vcd.html\n",
      "3 new links from URL https://www.hartford.edu/academics/schools-colleges/art/academics/undergraduate/visual-communication-design.aspx\n",
      "3 new links from URL https://catalog.fitnyc.edu/undergraduate/majors/twoyearassociatedegreeprograms/communicationdesignfoundationmajor/\n",
      "3 new links from URL https://www.pratt.edu/academics/school-of-design/undergraduate-school-of-design/ug-communications-design/\n",
      "0 new links from URL https://study.com/articles/How_to_Become_a_Communications_Designer_Career_Roadmap.html\n",
      "3 new links from URL https://work.chron.com/kind-jobs-can-visual-communication-design-22072.html\n",
      "Error: 403 Client Error: Forbidden for url: https://www.glassdoor.com/Salaries/communications-designer-salary-SRCH_KO0,23.htm on URL: https://www.glassdoor.com/Salaries/communications-designer-salary-SRCH_KO0,23.htm\n",
      "0 new links from URL https://learn.org/articles/Jobs_for_Communication_Design_Majors_Your_Questions_Answered.html\n",
      "3 new links from URL https://www.liberty.edu/online/communication-and-the-arts/masters/visual-communication-design/\n",
      "3 new links from URL https://design.sfsu.edu/bachelor-science-visual-communication-design\n",
      "Error: 403 Client Error: Forbidden for url: https://quizlet.com/207985479/art-appreciation-final-27-visual-communication-design-flash-cards/ on URL: https://quizlet.com/207985479/art-appreciation-final-27-visual-communication-design-flash-cards/\n",
      "3 new links from URL https://elgin.edu/academics/departments/communication-design/\n",
      "Error: 403 Client Error: Forbidden for url: https://www.miad.edu/academic-programs/degree-programs/communication-design on URL: https://www.miad.edu/academic-programs/degree-programs/communication-design\n",
      "3 new links from URL https://www.payscale.com/research/US/Job=Communication_Designer/Salary\n",
      "3 new links from URL http://www.citytech.cuny.edu/communication-design/degrees.aspx\n",
      "3 new links from URL https://www.red-dot.org/cd/about/\n",
      "3 new links from URL https://www.miamioh.edu/academics/majors-minors/majors/graphic-design.html\n",
      "3 new links from URL https://www.uhv.edu/arts-and-sciences/undergraduate-programs/communication-design/\n",
      "3 new links from URL https://en.wikipedia.org/wiki/Human%E2%80%93computer_interaction\n",
      "3 new links from URL https://www.interaction-design.org/literature/topics/human-computer-interaction\n",
      "3 new links from URL https://www.microsoft.com/en-us/research/research-area/human-computer-interaction/\n",
      "3 new links from URL https://www.techopedia.com/definition/3639/human-computer-interaction-hci\n",
      "3 new links from URL https://searchsoftwarequality.techtarget.com/definition/HCI-human-computer-interaction\n",
      "3 new links from URL https://www.mccormick.northwestern.edu/computer-science/research/areas/human-computer-interaction.html\n",
      "3 new links from URL https://www.edx.org/course/human-computer-interaction-i-fundamentals-design-p\n",
      "3 new links from URL https://www.interaction-design.org/literature/book/the-encyclopedia-of-human-computer-interaction-2nd-ed/human-computer-interaction-brief-intro\n",
      "3 new links from URL https://hcii.cmu.edu/\n",
      "3 new links from URL https://encyclopedia2.thefreedictionary.com/Human-Computer+Interaction\n",
      "3 new links from URL https://www.microsoft.com/en-us/research/group/human-computer-interaction/\n",
      "3 new links from URL https://www.iupui.edu/academics/degrees-majors/degree/human-computer-interaction-ms-iupui-inhcims\n",
      "3 new links from URL https://www.coursera.org/courses?query=human%20computer%20interaction\n",
      "3 new links from URL https://www.edx.org/professional-certificate/gtx-human-computer-interaction\n",
      "3 new links from URL https://www.rit.edu/study/human-computer-interaction-ms\n",
      "Error: 403 Client Error: Forbidden for url: https://www.sciencedirect.com/topics/computer-science/human-computer-interaction on URL: https://www.sciencedirect.com/topics/computer-science/human-computer-interaction\n",
      "3 new links from URL https://www2.eecs.berkeley.edu/Research/Areas/HCI/\n",
      "3 new links from URL https://www.cs.utah.edu/research/areas/hci/\n",
      "3 new links from URL https://gradschool.umd.edu/information-studies/hcim\n",
      "3 new links from URL https://www.tandfonline.com/loi/hhci20\n",
      "3 new links from URL https://link.springer.com/referenceworkentry/10.1007%2F978-0-387-39940-9_192\n",
      "Error: 503 Server Error: Service Unavailable for url: https://www.amazon.com/Human-Computer-Interaction/b?node=132574011 on URL: https://www.amazon.com/Human-Computer-Interaction/b?node=132574011\n",
      "3 new links from URL https://www.udacity.com/course/human-computer-interaction--ud400\n",
      "3 new links from URL https://www.hcde.washington.edu/bs/hci\n",
      "3 new links from URL https://psu.pb.unizin.org/ist110/chapter/5-2-human-computer-interaction/\n",
      "0 new links from URL https://www.cs.bham.ac.uk/~rxb/Teaching/HCI%20II/intro.html\n",
      "3 new links from URL https://www.nngroup.com/courses/topic/human-computer-interaction/\n",
      "3 new links from URL https://www.getsmarter.com/blog/market-trends/14-human-computer-interaction-examples/\n",
      "3 new links from URL https://asegrad.tufts.edu/academics/explore-graduate-programs/human-computer-interaction\n",
      "0 new links from URL https://www.cise.ufl.edu/research/lok/teaching/hci-s10/\n",
      "3 new links from URL https://www.salary.com/research/salary/posting/human-computer-interaction-engineer-salary\n"
     ]
    },
    {
     "name": "stdout",
     "output_type": "stream",
     "text": [
      "3 new links from URL https://www.amazon.com/Best-Sellers-Books-Human-Computer-Interaction/zgbs/books/132574011\n",
      "3 new links from URL https://www.youtube.com/watch?v=cGRWKeSJy5s\n",
      "Error: HTTPSConnectionPool(host='technav.ieee.org', port=443): Max retries exceeded with url: /tag/6365/human-computer-interaction (Caused by SSLError(SSLError(\"bad handshake: Error([('SSL routines', 'tls_process_server_certificate', 'certificate verify failed')])\"))) on URL: https://technav.ieee.org/tag/6365/human-computer-interaction\n",
      "3 new links from URL https://computersciencewiki.org/index.php/Human_Computer_Interaction\n",
      "3 new links from URL https://academiccatalog.umd.edu/graduate/programs/human-computer-interaction-hcim/\n",
      "3 new links from URL https://www.nngroup.com/topic/human-computer-interaction/\n",
      "3 new links from URL https://medium.com/@annkim_93227/what-is-human-computer-interaction-hci-3020e5c29e5b\n",
      "3 new links from URL https://www.cs.umn.edu/research/research_areas/human-computer-interaction-hci\n",
      "3 new links from URL https://www.goodreads.com/book/show/457117.Human_Computer_Interaction\n",
      "3 new links from URL https://www.grad-college.iastate.edu/academics/programs/apresults.php?id=60\n",
      "3 new links from URL https://www.cc.gatech.edu/academics/degree-programs/masters/ms-hci\n",
      "3 new links from URL https://www.springer.com/gp/computer-science/human-computer-interaction\n",
      "3 new links from URL https://soic.iupui.edu/undergraduate/degrees/hci-certificate/\n",
      "Error: HTTPSConnectionPool(host='www.omscs.gatech.edu', port=443): Max retries exceeded with url: /cs-6750-human-computer-interaction (Caused by SSLError(SSLError(\"bad handshake: Error([('SSL routines', 'tls_process_server_certificate', 'certificate verify failed')])\"))) on URL: https://www.omscs.gatech.edu/cs-6750-human-computer-interaction\n",
      "Error: 429 Client Error: Too Many Requests for url: https://www.researchgate.net/publication/224927543_Human-Computer_Interaction on URL: https://www.researchgate.net/publication/224927543_Human-Computer_Interaction\n",
      "3 new links from URL https://hcii.cmu.edu/academics/hci-undergraduate/major\n",
      "Error: 403 Client Error: Forbidden for url: https://www.niche.com/graduate-schools/search/best-human-computer-interaction-graduate-programs/ on URL: https://www.niche.com/graduate-schools/search/best-human-computer-interaction-graduate-programs/\n",
      "3 new links from URL https://www.coursera.org/lecture/human-computer-interaction/human-computer-interaction-pE6EB\n",
      "3 new links from URL http://hci.mit.edu/\n",
      "3 new links from URL https://searchapparchitecture.techtarget.com/definition/user-interface-UI\n",
      "3 new links from URL https://en.wikipedia.org/wiki/User_interface\n",
      "3 new links from URL https://www.usability.gov/what-and-why/user-interface-design.html\n",
      "3 new links from URL https://www.interaction-design.org/literature/topics/ui-design\n",
      "3 new links from URL https://www.bbc.co.uk/bitesize/guides/zwb4jxs/revision/1\n",
      "3 new links from URL https://www.webopedia.com/TERM/U/user_interface.html\n",
      "3 new links from URL http://www.businessdictionary.com/definition/user-interface.html\n",
      "3 new links from URL https://www.tutorialspoint.com/software_engineering/software_user_interface_design.htm\n",
      "3 new links from URL https://www.w3computing.com/systemsanalysis/types-user-interface/\n",
      "3 new links from URL https://www.everyinteraction.com/definition/user-interface/\n",
      "2 new links from URL http://edutechwiki.unige.ch/en/User_interaction_and_user_interface_design\n",
      "3 new links from URL https://www.usertesting.com/blog/ui-vs-ux\n",
      "3 new links from URL https://vivaldi.com/features/user-interface/\n",
      "1 new links from URL https://userinyerface.com/\n",
      "3 new links from URL https://docs.unity3d.com/Manual/UIToolkits.html\n",
      "3 new links from URL https://support.microsoft.com/en-us/office/choose-the-languages-for-a-sharepoint-site-user-interface-16d3a83c-05ab-4b50-8fbb-ff576a3351e8?ui=en-us&rs=en-us&ad=us\n",
      "3 new links from URL https://faculty.washington.edu/ajko/books/uist/theory.html\n",
      "3 new links from URL https://computer.howstuffworks.com/operating-system10.htm\n",
      "3 new links from URL https://www.dictionary.com/browse/user-interface\n",
      "3 new links from URL https://docs.dask.org/en/latest/user-interfaces.html\n",
      "3 new links from URL https://www.interaction-design.org/literature/topics/voice-user-interfaces\n",
      "0 new links from URL http://www.e-cartouche.ch/content_reg/cartouche/ui_access/en/html/UnitGUI_UI.html\n",
      "3 new links from URL https://www.includehelp.com/operating-systems/types-functions-of-user-interfaces-of-operating-systems.aspx\n",
      "3 new links from URL https://docs.microsoft.com/en-us/xamarin/android/user-interface/\n",
      "1 new links from URL https://techterms.com/definition/user_interface\n",
      "0 new links from URL http://wiki.gis.com/wiki/index.php/User_interface\n",
      "3 new links from URL https://revisionworld.com/gcse-revision/ict/software/user-interfaces\n",
      "3 new links from URL https://git-scm.com/downloads/guis\n",
      "3 new links from URL https://en.wikibooks.org/wiki/A-level_Computing/CIE/Computer_systems,_communications_and_software/System_software/User_interfaces\n",
      "3 new links from URL https://searchwindowsserver.techtarget.com/definition/command-line-interface-CLI\n",
      "3 new links from URL https://wiki.kidzsearch.com/wiki/User_interface\n",
      "3 new links from URL https://www.paessler.com/prtg/features/user-interfaces\n",
      "3 new links from URL https://docs.microsoft.com/en-us/cpp/parallel/multithreading-creating-user-interface-threads\n",
      "3 new links from URL https://www.plego.com/blog/importance-user-interface-design/\n",
      "0 new links from URL https://www.w3schools.com/csS/css3_user_interface.asp\n",
      "3 new links from URL https://winscp.net/eng/docs/interfaces\n",
      "3 new links from URL https://developer.android.com/guide/topics/ui/\n",
      "3 new links from URL https://simplicable.com/new/interfaces\n",
      "3 new links from URL https://www.xerox.com/en-us/insights/user-interface-examples\n",
      "3 new links from URL https://www.quora.com/What-is-hardware-user-interface\n",
      "3 new links from URL https://www.techopedia.com/definition/5435/graphical-user-interface-gui\n",
      "3 new links from URL https://xd.adobe.com/ideas/process/ui-design/4-golden-rules-ui-design/\n",
      "3 new links from URL https://uxplanet.org/golden-rules-of-user-interface-design-19282aeb06b\n",
      "Error: 503 Server Error: Service Unavailable for url: https://www.amazon.com/3D-User-Interfaces-Practice-Usability/dp/0134034325 on URL: https://www.amazon.com/3D-User-Interfaces-Practice-Usability/dp/0134034325\n",
      "3 new links from URL https://www.computerhope.com/jargon/g/gui.htm\n",
      "3 new links from URL https://www.answers.com/Q/Name_three_types_of_user_interfaces\n",
      "3 new links from URL https://www.quora.com/What-are-some-of-the-best-examples-of-user-interface\n",
      "3 new links from URL https://encyclopedia2.thefreedictionary.com/user+interface\n",
      "3 new links from URL https://en.wikipedia.org/wiki/Computer-supported_cooperative_work\n",
      "3 new links from URL https://www.springer.com/journal/10606\n",
      "3 new links from URL https://www.techopedia.com/definition/11264/computer-supported-cooperative-work-cscw\n",
      "3 new links from URL https://www.interaction-design.org/literature/book/the-encyclopedia-of-human-computer-interaction-2nd-ed/computer-supported-cooperative-work\n",
      "3 new links from URL http://cscw.acm.org/\n",
      "Error: 429 Client Error: Too Many Requests for url: https://www.researchgate.net/publication/2855982_Computer-supported_cooperative_work_CSCW on URL: https://www.researchgate.net/publication/2855982_Computer-supported_cooperative_work_CSCW\n"
     ]
    },
    {
     "name": "stderr",
     "output_type": "stream",
     "text": [
      "Some characters could not be decoded, and were replaced with REPLACEMENT CHARACTER.\n"
     ]
    },
    {
     "name": "stdout",
     "output_type": "stream",
     "text": [
      "0 new links from URL https://www.cc.gatech.edu/~stasko/6750/Talks/24-cscw.pdf\n",
      "0 new links from URL http://www.cscw2012.org/\n",
      "3 new links from URL https://www.igi-global.com/dictionary/collaborative-technologies-applications-uses/5083\n",
      "3 new links from URL http://cscw.acm.org/2019/\n",
      "Error: 403 Client Error: Forbidden for url: https://www.sciencedirect.com/topics/computer-science/computer-supported-cooperative-work on URL: https://www.sciencedirect.com/topics/computer-science/computer-supported-cooperative-work\n",
      "3 new links from URL https://link.springer.com/journal/10606/volumes-and-issues\n",
      "Error: 429 Client Error: Too Many Requests for url: https://www.researchgate.net/journal/0925-9724_Computer_Supported_Cooperative_Work on URL: https://www.researchgate.net/journal/0925-9724_Computer_Supported_Cooperative_Work\n",
      "3 new links from URL https://en.wikipedia.org/wiki/Computer-supported_collaboration\n"
     ]
    },
    {
     "name": "stderr",
     "output_type": "stream",
     "text": [
      "Some characters could not be decoded, and were replaced with REPLACEMENT CHARACTER.\n"
     ]
    },
    {
     "name": "stdout",
     "output_type": "stream",
     "text": [
      "0 new links from URL http://cscw.dk/schmidt/papers/cscw_intro.pdf\n",
      "0 new links from URL http://www.cscw2006.org/\n",
      "1 new links from URL http://cscw2010.org/\n",
      "3 new links from URL https://www.microsoft.com/en-us/research/publication/computer-supported-cooperative-work-history-focus/\n",
      "3 new links from URL https://encyclopedia2.thefreedictionary.com/Computer+Supported+Cooperative+Work\n",
      "2 new links from URL https://www.wisegeek.com/what-is-computer-supported-cooperative-work.htm\n"
     ]
    },
    {
     "name": "stderr",
     "output_type": "stream",
     "text": [
      "Some characters could not be decoded, and were replaced with REPLACEMENT CHARACTER.\n"
     ]
    },
    {
     "name": "stdout",
     "output_type": "stream",
     "text": [
      "0 new links from URL https://pdfs.semanticscholar.org/presentation/198e/62d52037c55887e9840d2132356f38d9b944.pdf\n",
      "3 new links from URL https://www.cc.gatech.edu/academics/degree-programs/phd/computer-science/currentstudents/human-computer-interaction/cscw\n",
      "3 new links from URL https://www.encyclopedia.com/computing/news-wires-white-papers-and-books/computer-supported-cooperative-work-cscw\n",
      "3 new links from URL https://psychology.wikia.org/wiki/Computer_supported_cooperative_work\n",
      "3 new links from URL https://www.ukdiss.com/examples/computer-supported-cooperative-work.php\n",
      "3 new links from URL https://dl.acm.org/conference/cscw\n",
      "Error: 503 Server Error: Service Unavailable for url: https://www.amazon.com/CSCW-Cooperation-Conflict-Supported-Cooperative/dp/3540197559 on URL: https://www.amazon.com/CSCW-Cooperation-Conflict-Supported-Cooperative/dp/3540197559\n",
      "3 new links from URL https://www.springer.com/journal/10606/editors\n",
      "3 new links from URL https://ecscw.eusset.eu/2020/\n",
      "0 new links from URL http://pespmc1.vub.ac.be/CSCW.html\n",
      "3 new links from URL https://www.amazon.com/Computer-Supported-Cooperative-Work-Book-Readings/dp/0934613575\n",
      "3 new links from URL https://dl.acm.org/doi/10.1109/2.291294\n",
      "3 new links from URL https://www.interaction-design.org/literature/journal/computer-supported-cooperative-work\n",
      "0 new links from URL http://www.cscw2011.org/\n",
      "3 new links from URL https://www.igi-global.com/dictionary/database-support-workflow-management-systems/5161\n",
      "3 new links from URL http://www.academia.edu/Documents/in/Computer_Supported_Cooperative_Work_CSCW_\n",
      "3 new links from URL https://cf-collaborator.github.io/cscw-aws2019/\n",
      "3 new links from URL https://www.academia.edu/12221659/Computer-Supported_Cooperative_Work_CSCW_\n",
      "3 new links from URL https://id.wikipedia.org/wiki/Computer_supported_cooperative_work\n",
      "0 new links from URL https://www.lri.fr/~mbl/Trends-CSCW/\n"
     ]
    },
    {
     "name": "stderr",
     "output_type": "stream",
     "text": [
      "Some characters could not be decoded, and were replaced with REPLACEMENT CHARACTER.\n"
     ]
    },
    {
     "name": "stdout",
     "output_type": "stream",
     "text": [
      "0 new links from URL http://www.dcs.fmph.uniba.sk/diplomovky/obhajene/getfile.php/thesis.pdf?id=123&fid=204&type=application%2Fpdf\n",
      "3 new links from URL http://citeseer.ist.psu.edu/viewdoc/summary?doi=10.1.1.78.9737\n",
      "3 new links from URL https://www.pcmag.com/encyclopedia/term/computer-supported-cooperative-work\n",
      "0 new links from URL https://link.springer.com/bookseries/2861\n"
     ]
    },
    {
     "name": "stderr",
     "output_type": "stream",
     "text": [
      "Some characters could not be decoded, and were replaced with REPLACEMENT CHARACTER.\n"
     ]
    },
    {
     "name": "stdout",
     "output_type": "stream",
     "text": [
      "0 new links from URL https://www.microsoft.com/en-us/research/wp-content/uploads/2017/01/CSCW.pdf\n",
      "3 new links from URL https://publons.com/journal/3874/computer-supported-cooperative-work\n",
      "3 new links from URL https://www.ukessays.com/dissertation/examples/information-technology/computer-supported-cooperative-work.php\n",
      "3 new links from URL https://us.sagepub.com/en-us/nam/computer-supported-cooperative-work/book6251\n",
      "0 new links from URL https://alandix.com/academic/papers/cscwframework94/\n",
      "3 new links from URL https://infosci.cornell.edu/research/social-computing-and-computer-supported-cooperative-work\n",
      "3 new links from URL https://www.thebalancecareers.com/problem-solving-skills-with-examples-2063764\n",
      "3 new links from URL https://asq.org/quality-resources/problem-solving\n",
      "3 new links from URL https://www.mindtools.com/pages/article/newTMC_00.htm\n",
      "3 new links from URL https://en.wikipedia.org/wiki/Problem_solving\n",
      "Error: 403 Client Error: Forbidden for url: https://www.skillsyouneed.com/ips/problem-solving.html on URL: https://www.skillsyouneed.com/ips/problem-solving.html\n",
      "3 new links from URL https://www.forbes.com/sites/glennllopis/2013/11/04/the-4-most-effective-ways-leaders-solve-problems/\n",
      "3 new links from URL https://www.verywellmind.com/what-is-problem-solving-2795485\n",
      "3 new links from URL https://www.mediate.com/articles/thicks.cfm\n",
      "3 new links from URL https://www.merriam-webster.com/dictionary/problem-solving\n",
      "3 new links from URL https://www.indeed.com/career-advice/resumes-cover-letters/problem-solving-skills\n",
      "1 new links from URL https://www.mathway.com/\n",
      "3 new links from URL https://managementhelp.org/personalproductivity/problem-solving.htm\n",
      "3 new links from URL http://www.businessdictionary.com/definition/problem-solving.html\n",
      "3 new links from URL https://artofproblemsolving.com/\n",
      "3 new links from URL https://www.teachervision.com/problem-solving/problem-solving\n",
      "3 new links from URL https://www.careerbuilder.com/advice/what-are-problemsolving-skills-and-why-are-they-important\n",
      "3 new links from URL https://www.mindtools.com/pages/main/newMN_TMC.htm\n",
      "Error: 403 Client Error: Forbidden for url: https://www.lifehack.org/articles/productivity/6-ways-to-enhance-your-problem-solving-skills.html on URL: https://www.lifehack.org/articles/productivity/6-ways-to-enhance-your-problem-solving-skills.html\n",
      "3 new links from URL https://zety.com/blog/problem-solving-skills\n",
      "3 new links from URL https://www.symbolab.com/\n",
      "3 new links from URL https://courses.lumenlearning.com/wsu-sandbox/chapter/problem-solving/\n",
      "3 new links from URL https://www.wikihow.com/Solve-a-Problem\n",
      "3 new links from URL https://www.quora.com/Is-problem-solving-hyphenated\n",
      "2 new links from URL https://www.inc.com/kevin-daum/8-things-really-great-problem-solvers-do.html\n"
     ]
    },
    {
     "name": "stderr",
     "output_type": "stream",
     "text": [
      "Some characters could not be decoded, and were replaced with REPLACEMENT CHARACTER.\n"
     ]
    },
    {
     "name": "stdout",
     "output_type": "stream",
     "text": [
      "0 new links from URL https://www.dol.gov/odep/topics/youth/softskills/Problem.pdf\n",
      "Error: 403 Client Error: Forbidden for url: https://www.collinsdictionary.com/dictionary/english/problem-solving on URL: https://www.collinsdictionary.com/dictionary/english/problem-solving\n",
      "3 new links from URL https://www.youtube.com/watch?v=vg936IW9i7Q\n",
      "3 new links from URL https://www.thoughtco.com/problem-solving-in-mathematics-2311775\n",
      "3 new links from URL https://www.humorthatworks.com/how-to/20-problem-solving-activities-to-improve-creativity/\n",
      "3 new links from URL https://biglifejournal.com/blogs/blog/how-teach-problem-solving-strategies-kids-guide\n",
      "3 new links from URL https://www.humorthatworks.com/learning/5-steps-of-problem-solving/\n",
      "3 new links from URL https://duniapendidikan.co.id/problem-solving/\n",
      "1 new links from URL http://www.free-management-ebooks.com/news/six-step-problem-solving-model/\n",
      "3 new links from URL https://icebreakerideas.com/problem-solving-activities/\n",
      "3 new links from URL https://content.wisestep.com/interview-questions-to-determine-problem-solving-skills/\n",
      "3 new links from URL https://eclkc.ohs.acf.hhs.gov/video/problem-solving-moment\n",
      "Error: 403 Client Error: Forbidden for url: https://www.planview.com/resources/articles/a3-process-problem-solving/ on URL: https://www.planview.com/resources/articles/a3-process-problem-solving/\n",
      "Error: 406 Client Error: Not Acceptable for url: https://ryanstutorials.net/problem-solving-skills/ on URL: https://ryanstutorials.net/problem-solving-skills/\n",
      "3 new links from URL https://www.briantracy.com/blog/personal-success/10-step-process-to-solve-any-problem-critical-thinking/\n",
      "2 new links from URL https://www.inc.com/james-paine/entrepreneurs-here-is-how-you-can-find-problems-to-solve.html\n"
     ]
    },
    {
     "name": "stderr",
     "output_type": "stream",
     "text": [
      "Some characters could not be decoded, and were replaced with REPLACEMENT CHARACTER.\n"
     ]
    },
    {
     "name": "stdout",
     "output_type": "stream",
     "text": [
      "0 new links from URL https://www.lean.org/FuseTalk/Forum/Attachments/PowerPoint%20-%20Problem%20Solving.pdf\n",
      "0 new links from URL http://cogbtherapy.com/problem-solving-therapy-los-angeles\n",
      "3 new links from URL https://au.reachout.com/articles/a-step-by-step-guide-to-problem-solving\n",
      "Error: 403 Client Error: Forbidden for url: https://www.lifehack.org/869077/problem-solving-steps on URL: https://www.lifehack.org/869077/problem-solving-steps\n",
      "3 new links from URL https://medium.com/the-mission/15-typical-life-problems-and-how-to-solve-them-c56838f49738\n",
      "3 new links from URL https://www.verywellmind.com/problem-solving-2795008\n",
      "3 new links from URL https://cops.usdoj.gov/problemsolving\n",
      "3 new links from URL https://medium.com/hygger-io/methods-and-exercises-for-effective-problem-solving-3503dfabbd02\n",
      "3 new links from URL https://en.wikipedia.org/wiki/Social_research\n"
     ]
    },
    {
     "name": "stderr",
     "output_type": "stream",
     "text": [
      "Some characters could not be decoded, and were replaced with REPLACEMENT CHARACTER.\n"
     ]
    },
    {
     "name": "stdout",
     "output_type": "stream",
     "text": [
      "0 new links from URL https://scholarcommons.usf.edu/cgi/viewcontent.cgi?article=1002&context=oa_textbooks\n",
      "0 new links from URL https://study.com/academy/lesson/what-is-social-science-research-definition-methods-topics.html\n",
      "3 new links from URL https://en.wikipedia.org/wiki/Social_science\n",
      "3 new links from URL https://libguides.usc.edu/writingguide/methodology\n",
      "Error: 503 Server Error: Service Unavailable for url: https://www.amazon.com/Social-Science-Methodology-Framework-Strategies/dp/0521132770 on URL: https://www.amazon.com/Social-Science-Methodology-Framework-Strategies/dp/0521132770\n",
      "2 new links from URL https://open.umn.edu/opentextbooks/textbooks/social-science-research-principles-methods-and-practices\n",
      "3 new links from URL https://pediaa.com/difference-between-natural-science-and-social-science/\n",
      "3 new links from URL https://www.referencepointsoftware.com/methods-of-social-science-research-explained/\n",
      "3 new links from URL https://uk.sagepub.com/en-gb/eur/the-sage-handbook-of-social-science-methodology/book226694\n",
      "3 new links from URL http://bactra.org/notebooks/social-science-methodology.html\n",
      "0 new links from URL http://www-personal.umd.umich.edu/~delittle/Marxism%20and%20Method%203.htm\n",
      "3 new links from URL https://www.tandfonline.com/loi/tsrm20\n",
      "Error: 503 Server Error: Service Unavailable for url: https://www.amazon.com/Studies-Development-Sciences-International-Security/dp/0262572222 on URL: https://www.amazon.com/Studies-Development-Sciences-International-Security/dp/0262572222\n"
     ]
    },
    {
     "name": "stderr",
     "output_type": "stream",
     "text": [
      "Some characters could not be decoded, and were replaced with REPLACEMENT CHARACTER.\n"
     ]
    },
    {
     "name": "stdout",
     "output_type": "stream",
     "text": [
      "0 new links from URL http://letrunghieutvu.yolasite.com/resources/w-lawrence-neuman-social-research-methods_-qualitative-and-quantitative-approaches-pearson-education-limited-2013.pdf\n",
      "3 new links from URL https://www.journals.elsevier.com/social-science-research/\n",
      "3 new links from URL https://methods.sagepub.com/book/social-research-methods\n",
      "3 new links from URL https://us.hogrefe.com/products/journals/methodology\n",
      "3 new links from URL https://gsas.columbia.edu/degree-programs/ma-programs/quantitative-methods-social-sciences\n",
      "Error: 429 Client Error: Too Many Requests for url: https://www.researchgate.net/publication/284180636_Scientific_Research_Methodology_Vs_Social_Science_Research_Methodology on URL: https://www.researchgate.net/publication/284180636_Scientific_Research_Methodology_Vs_Social_Science_Research_Methodology\n",
      "3 new links from URL https://hubpages.com/education/Social-Science-Research-Proposal\n",
      "3 new links from URL https://sciencing.com/research-methods-in-science-12748094.html\n"
     ]
    },
    {
     "name": "stderr",
     "output_type": "stream",
     "text": [
      "Some characters could not be decoded, and were replaced with REPLACEMENT CHARACTER.\n"
     ]
    },
    {
     "name": "stdout",
     "output_type": "stream",
     "text": [
      "0 new links from URL http://eprints.ncrm.ac.uk/115/1/NCRMResearchMethodsTypology.pdf\n",
      "3 new links from URL https://www.cambridge.org/core/books/social-science-methodology/D1214FCA9B6AEE4E5914E0169A426255\n",
      "3 new links from URL https://www.studymode.com/essays/Characteristics-Of-Social-Science-Research-1020113.html\n",
      "Error: 406 Client Error: Not Acceptable for url: https://www.mbaknol.com/research-methodology/significance-of-research-in-social-sciences/ on URL: https://www.mbaknol.com/research-methodology/significance-of-research-in-social-sciences/\n",
      "3 new links from URL https://www.thoughtco.com/qualitative-research-methods-3026555\n",
      "3 new links from URL https://www.cambridge.org/core/books/social-science-methodology/F3D62D649D4659A58D7E15334CEBC5A4\n",
      "Error: 403 Client Error: Forbidden for url: https://www.sciencedirect.com/topics/social-sciences/qualitative-method on URL: https://www.sciencedirect.com/topics/social-sciences/qualitative-method\n",
      "3 new links from URL https://www.decodedscience.org/what-is-science/\n"
     ]
    },
    {
     "name": "stderr",
     "output_type": "stream",
     "text": [
      "Some characters could not be decoded, and were replaced with REPLACEMENT CHARACTER.\n"
     ]
    },
    {
     "name": "stdout",
     "output_type": "stream",
     "text": [
      "0 new links from URL https://www.collier.sts.vt.edu/sciwrite/pdfs/boutellier_2011.pdf\n",
      "3 new links from URL https://www.slideshare.net/babcho/social-science-research-methodology-1\n",
      "3 new links from URL https://www.youtube.com/watch?v=QwhK-iEyXYA\n",
      "3 new links from URL https://writepass.com/journal/2017/08/write-methodology-dissertation-help/\n",
      "3 new links from URL https://books.google.com/books/about/Social_Research_Methods.html?id=vCq5m2hPkOMC\n",
      "3 new links from URL https://www.tandfonline.com/toc/tsrm20/current\n",
      "0 new links from URL http://socscidiss.bham.ac.uk/methodologies.html\n"
     ]
    },
    {
     "name": "stderr",
     "output_type": "stream",
     "text": [
      "Some characters could not be decoded, and were replaced with REPLACEMENT CHARACTER.\n"
     ]
    },
    {
     "name": "stdout",
     "output_type": "stream",
     "text": [
      "0 new links from URL https://www.apa.org/education/undergrad/empirical-social-science.pdf\n",
      "2 new links from URL http://teachersofindia.org/en/article/innovative-teaching-methods-social-science\n",
      "0 new links from URL https://www.theclassroom.com/common-methods-used-socialscience-research-3039.html\n",
      "3 new links from URL https://items.ssrc.org/from-our-archives/history-as-social-science/\n",
      "3 new links from URL https://books.google.com/books/about/Methodology_of_Social_Sciences.html?id=TYvRby1ic6AC\n",
      "3 new links from URL https://libguides.usc.edu/writingguide/quantitative\n",
      "1 new links from URL https://www.theclassroom.com/common-used-social-science-research-5664402.html\n",
      "3 new links from URL https://themonkeycage.org/2012/06/the-critics-of-social-science-are-sometimes-the-best-defenders-of-social-science/\n",
      "3 new links from URL https://stat.illinois.edu/research/quantitative-methods-social-sciences\n",
      "0 new links from URL https://study.com/academy/lesson/critical-vs-interpretive-research-methods.html\n",
      "3 new links from URL https://www.ebooks.com/en-us/book/823593/social-science-methodology/john-gerring/\n",
      "3 new links from URL https://www.rep.routledge.com/articles/thematic/social-science-methodology-of/v-1\n",
      "3 new links from URL https://en.wikipedia.org/wiki/Mindfulness_and_technology\n",
      "2 new links from URL https://www.inc.com/travis-wright/the-integration-of-technology-mindfulness-and-meditation-for-entrepreneurs.html\n",
      "3 new links from URL https://www.mindful.org/mindfulness-and-technology/\n",
      "Error: 429 Client Error: Too Many Requests for url: https://www.researchgate.net/publication/316847084_Mindfulness_and_Technology_Traces_of_A_Middle_Way on URL: https://www.researchgate.net/publication/316847084_Mindfulness_and_Technology_Traces_of_A_Middle_Way\n",
      "Error: 403 Client Error: Forbidden for url: https://www.huffpost.com/entry/technology-and-mindfulness_b_58fa5913e4b0f02c3870e9b2 on URL: https://www.huffpost.com/entry/technology-and-mindfulness_b_58fa5913e4b0f02c3870e9b2\n",
      "3 new links from URL https://www.diygenius.com/technology-and-mindfulness/\n",
      "3 new links from URL https://technologyformindfulness.com/\n",
      "3 new links from URL https://www.worldatwork.org/workspan/articles/mindfulness-and-technology-how-kga-merged-this-unlikely-couple\n",
      "3 new links from URL https://blogs.psychcentral.com/change-your-mind/2019/08/mindfuless-and-technology-why-you-need-to-disconnect-to-reconnect/\n",
      "3 new links from URL https://www.youtube.com/watch?v=9IztrJ1T1qg\n",
      "3 new links from URL https://psychcentral.com/blog/using-technology-to-help-us-practice-mindfulness/\n",
      "3 new links from URL https://www.happybuddharetreats.com.au/mindfulness-technology-can-co-exist/\n",
      "3 new links from URL https://scottjeffrey.com/best-meditation-tools/\n",
      "3 new links from URL https://www.parkview.com/community/dashboard/mindfulness-and-technology\n",
      "3 new links from URL https://www.drew.edu/calendar/event/spiritual-leadership-today-mindfulness-and-technology/\n",
      "3 new links from URL https://www.stressedteens.com/mindfulness-and-technology-course\n",
      "3 new links from URL https://bronnieware.com/blog/mindfulness-with-technology/\n",
      "3 new links from URL https://www.youtube.com/watch?v=Rrq_CIXja20\n",
      "3 new links from URL https://www.wired.com/story/tech-addiction-and-the-business-of-mindfulness/\n",
      "Error: 403 Client Error: Forbidden for url: https://1000-petals.com/mindfulness-and-technology/ on URL: https://1000-petals.com/mindfulness-and-technology/\n",
      "Error: 403 Client Error: Forbidden for url: https://www.ypo.org/2019/03/2019-ypo-edge-technology-and-mindfulness-lead-the-day/ on URL: https://www.ypo.org/2019/03/2019-ypo-edge-technology-and-mindfulness-lead-the-day/\n",
      "Error: 403 Client Error: Forbidden for url: https://mrsmindfulness.com/mindfulness-technology-you-7-strategies-to-maintain-mindfulness-in-the-modern-world/ on URL: https://mrsmindfulness.com/mindfulness-technology-you-7-strategies-to-maintain-mindfulness-in-the-modern-world/\n",
      "0 new links from URL https://leftbrainbuddha.com/mindfulness-for-teens/\n",
      "3 new links from URL https://medical.mit.edu/stay-healthy-mit-stress-reduction/mindfulness-apps\n",
      "3 new links from URL https://news.harvard.edu/gazette/story/2018/04/less-stress-clearer-thoughts-with-mindfulness-meditation/\n",
      "Error: 503 Server Error: Service Unavailable for url: https://www.cbsnews.com/news/mindfulness-anderson-cooper-60-minutes/ on URL: https://www.cbsnews.com/news/mindfulness-anderson-cooper-60-minutes/\n",
      "3 new links from URL https://www.ncbi.nlm.nih.gov/pmc/articles/PMC4705029/\n",
      "3 new links from URL https://hospitals.jefferson.edu/departments-and-services/mindfulness-institute.html\n",
      "3 new links from URL https://dl.acm.org/doi/abs/10.25300/MISQ/2018/11881\n",
      "3 new links from URL https://offgridmindfulness.com/mindfulness-and-technology/\n",
      "3 new links from URL https://technologyformindfulness.com/about/\n",
      "3 new links from URL https://www.stitcher.com/podcast/robert-plotkin/technology-for-mindfulness\n",
      "3 new links from URL https://www.inc.com/minda-zetlin/13-brilliant-gadgets-and-tools-to-help-stress-management.html\n",
      "Error: 403 Client Error: Forbidden for url: https://www.huffpost.com/entry/technology-meditation_b_2448157 on URL: https://www.huffpost.com/entry/technology-meditation_b_2448157\n",
      "3 new links from URL https://greenvilleyoga.com/mindfulness-and-technology/\n",
      "3 new links from URL https://dl.acm.org/citation.cfm?id=3064752\n",
      "3 new links from URL https://blog.feedspot.com/mindfulness_podcasts/\n",
      "3 new links from URL https://www.mindful.org/is-it-time-to-unplug/\n",
      "Error: 403 Client Error: Forbidden for url: https://www.psychologytoday.com/us/blog/creative-development/201802/5-mindfulness-apps-children on URL: https://www.psychologytoday.com/us/blog/creative-development/201802/5-mindfulness-apps-children\n",
      "3 new links from URL https://workrbeeing.com/2019/04/22/technology/\n",
      "3 new links from URL https://www.commonsense.org/education/articles/tech-tools-to-support-a-mindful-classroom\n",
      "3 new links from URL https://www.ncbi.nlm.nih.gov/pubmed/30396633\n",
      "Error: 502 Server Error: Bad Gateway for url: https://www.reddit.com/r/Buddhism/comments/79gs3s/mindfulness_and_technology/ on URL: https://www.reddit.com/r/Buddhism/comments/79gs3s/mindfulness_and_technology/\n",
      "3 new links from URL https://www.theatlantic.com/education/archive/2015/08/mindfulness-education-schools-meditation/402469/\n",
      "3 new links from URL https://amedleyofpotpourri.blogspot.com/2018/06/mindfulness-and-technology.html\n",
      "3 new links from URL http://blog.stcloudstate.edu/ims/tag/mindfulness-and-technology/\n",
      "3 new links from URL https://greatergood.berkeley.edu/article/item/can_mindfulness_stop_internet_addiction_in_teens\n",
      "3 new links from URL http://news.mit.edu/2019/mindfulness-mental-health-benefits-students-0826\n",
      "3 new links from URL https://mindworks.org/blog/the-meaning-of-mindfulness-and-awareness/\n",
      "Error: 403 Client Error: Forbidden for url: https://www.psychologytoday.com/us/blog/mindful-eating/200902/mindful-eating on URL: https://www.psychologytoday.com/us/blog/mindful-eating/200902/mindful-eating\n",
      "3 new links from URL https://en.wikipedia.org/wiki/Software_engineering\n",
      "3 new links from URL https://www.thoughtco.com/what-is-software-engineering-958652\n",
      "3 new links from URL https://www.wikihow.com/Become-a-Software-Engineer\n",
      "0 new links from URL https://www.careerexplorer.com/careers/software-engineer/\n",
      "3 new links from URL https://www.tutorialspoint.com/software_engineering/index.htm\n",
      "3 new links from URL https://economictimes.indiatimes.com/definition/Software-Engineering\n",
      "3 new links from URL https://www.computerscience.org/careers/software-engineer/\n",
      "3 new links from URL https://www.guru99.com/what-is-software-engineering.html\n",
      "3 new links from URL https://en.wikipedia.org/wiki/Software_engineer\n",
      "3 new links from URL https://www.payscale.com/research/US/Job=Software_Engineer/Salary\n",
      "Error: 403 Client Error: Forbidden for url: https://www.glassdoor.com/Job/software-engineer-jobs-SRCH_KO0,17.htm on URL: https://www.glassdoor.com/Job/software-engineer-jobs-SRCH_KO0,17.htm\n",
      "3 new links from URL https://www.learnhowtobecome.org/computer-careers/software-engineering/\n",
      "3 new links from URL https://whatis.techtarget.com/definition/software-engineering\n",
      "3 new links from URL https://www.salary.com/research/salary/general/software-engineer-salary\n"
     ]
    },
    {
     "name": "stdout",
     "output_type": "stream",
     "text": [
      "3 new links from URL https://www.techrepublic.com/article/how-to-become-a-software-engineer-a-cheat-sheet/\n",
      "3 new links from URL https://www.techopedia.com/definition/13296/software-engineering\n",
      "Error: 403 Client Error: Forbidden for url: https://www.glassdoor.com/Salaries/software-engineer-salary-SRCH_KO0,17.htm on URL: https://www.glassdoor.com/Salaries/software-engineer-salary-SRCH_KO0,17.htm\n",
      "3 new links from URL https://www.guidetoonlineschools.com/degrees/software-engineering\n",
      "3 new links from URL https://www.guru99.com/software-engineering-tutorial.html\n",
      "Error: 503 Server Error: Service Unavailable for url: https://www.amazon.com/Software-Engineering-9th-Ian-Sommerville/dp/0137035152 on URL: https://www.amazon.com/Software-Engineering-9th-Ian-Sommerville/dp/0137035152\n",
      "Error: 503 Server Error: Service Unavailable for url: https://www.amazon.com/Software-Engineering-10th-Ian-Sommerville/dp/0133943038 on URL: https://www.amazon.com/Software-Engineering-10th-Ian-Sommerville/dp/0133943038\n",
      "3 new links from URL https://www.fullstackacademy.com/blog/what-do-software-engineers-do\n",
      "3 new links from URL https://bsse.sjsu.edu/\n"
     ]
    },
    {
     "name": "stderr",
     "output_type": "stream",
     "text": [
      "Some characters could not be decoded, and were replaced with REPLACEMENT CHARACTER.\n"
     ]
    },
    {
     "name": "stdout",
     "output_type": "stream",
     "text": [
      "0 new links from URL https://www.tutorialspoint.com/software_engineering/software_engineering_tutorial.pdf\n",
      "3 new links from URL https://www.indeed.com/q-Software-Engineer-jobs.html\n",
      "3 new links from URL https://uwaterloo.ca/future-students/programs/software-engineering\n",
      "3 new links from URL https://www.javatpoint.com/software-engineering-tutorial\n",
      "3 new links from URL https://cse.ucsd.edu/faculty-research/research-areas/software-engineering\n",
      "3 new links from URL https://www.geeksforgeeks.org/software-engineering/\n",
      "3 new links from URL https://www.computerscienceonline.org/careers/software-engineering/\n",
      "3 new links from URL https://ca.indeed.com/Software-Engineer-jobs\n",
      "0 new links from URL https://study.com/software_engineer_schools.html\n",
      "0 new links from URL https://study.com/articles/Become_a_Computer_Software_Engineer_Education_and_Career_Roadmap.html\n",
      "3 new links from URL https://www.bls.gov/ooh/Computer-and-Information-Technology/Software-developers.htm\n",
      "Error: 403 Client Error: Forbidden for url: https://ncees.org/engineering/pe/software/ on URL: https://ncees.org/engineering/pe/software/\n",
      "3 new links from URL https://www.merriam-webster.com/dictionary/software%20engineering\n",
      "3 new links from URL https://www.worldwidelearn.com/online-education-guide/engineering/software-engineering-major.htm\n",
      "3 new links from URL https://www.youtube.com/watch?v=5kas2jBObUY\n",
      "3 new links from URL https://money.usnews.com/careers/best-jobs/software-developer\n",
      "3 new links from URL https://www.coursera.org/courses?query=software%20engineering\n",
      "3 new links from URL https://simple.wikipedia.org/wiki/Software_engineering\n",
      "0 new links from URL https://www.edx.org/learn/software-engineering\n",
      "3 new links from URL https://www.payscale.com/research/ZA/Job=Software_Engineer/Salary\n",
      "3 new links from URL https://www.capterra.com/engineering-cad-software/\n",
      "3 new links from URL https://www.ucalgary.ca/future-students/undergraduate/explore-programs/software-engineering\n",
      "3 new links from URL https://play.google.com/store/apps/details?id=in.softecks.softwareengineering&hl=en_US\n",
      "3 new links from URL https://www.geteducated.com/career-center/detail/computer-software-engineer/\n",
      "3 new links from URL https://www.youtube.com/watch?v=WWggmC8kYZc\n",
      "Error: 404 Client Error: Not Found for url: https://www.indeed.com/career/software-engineer/salaries on URL: https://www.indeed.com/career/software-engineer/salaries\n",
      "3 new links from URL https://www.freecodecamp.org/news/computer-science-vs-software-engineering-which-one-is-a-better-major-88482c38446b/\n",
      "3 new links from URL https://en.wikipedia.org/wiki/User_experience\n",
      "3 new links from URL https://www.usability.gov/what-and-why/user-experience.html\n",
      "3 new links from URL https://www.nngroup.com/articles/definition-user-experience/\n",
      "Error: 403 Client Error: Forbidden for url: https://usabilitygeek.com/user-experience/ on URL: https://usabilitygeek.com/user-experience/\n",
      "3 new links from URL https://www.usertesting.com/blog/what-is-user-experience\n",
      "3 new links from URL https://www.crazyegg.com/blog/what-is-user-experience/\n",
      "3 new links from URL https://careerfoundry.com/en/blog/ux-design/what-is-user-experience-ux-design-everything-you-need-to-know-to-get-started/\n",
      "3 new links from URL https://www.interaction-design.org/literature/topics/ux-design\n",
      "3 new links from URL https://en.wikipedia.org/wiki/User_experience_design\n",
      "3 new links from URL https://blog.prototypr.io/what-is-user-experience-what-makes-a-good-ux-design-b404bb933bd0\n",
      "3 new links from URL https://docs.microsoft.com/en-us/windows-hardware/design/device-experiences/user-experience\n",
      "3 new links from URL https://developers.google.com/web/fundamentals/design-and-ux/ux-basics/\n",
      "3 new links from URL https://www.smashingmagazine.com/2010/10/what-is-user-experience-design-overview-tools-and-resources/\n",
      "3 new links from URL https://www.crazyegg.com/blog/user-experience-testing/\n",
      "3 new links from URL https://www.lynda.com/User-Experience-training-tutorials/97-0.html\n",
      "3 new links from URL https://careerfoundry.com/en/blog/ux-design/the-difference-between-ux-and-ui-design-a-laymans-guide/\n",
      "3 new links from URL https://winaero.com/blog/windows-experience-index-wei-windows-10/\n",
      "3 new links from URL https://trymyui.com/user-experience\n",
      "0 new links from URL https://talentexchange.pwc.com/focus-areas/user-experience/6\n",
      "3 new links from URL https://uxplanet.org/the-importance-of-user-experience-design-988faf6ddca2\n",
      "3 new links from URL https://theblog.adobe.com/what-does-a-ux-designer-actually-do/\n",
      "Error: 403 Client Error: Forbidden for url: https://www.glassdoor.com/Job/user-experience-designer-jobs-SRCH_KO0,24.htm on URL: https://www.glassdoor.com/Job/user-experience-designer-jobs-SRCH_KO0,24.htm\n",
      "3 new links from URL https://www.nngroup.com/articles/ux-vs-cx/\n",
      "3 new links from URL https://www.goodreads.com/quotes/tag/user-experience\n",
      "Error: 403 Client Error: Forbidden for url: https://www.productplan.com/glossary/user-experience/ on URL: https://www.productplan.com/glossary/user-experience/\n",
      "0 new links from URL https://study.com/articles/User-Experience_Designer_Job_Description_and_Requirements.html\n",
      "3 new links from URL https://www.invisionapp.com/inside-design/a-brief-history-of-user-experience/\n",
      "3 new links from URL https://www.userreport.com/blog/user-experience/\n",
      "3 new links from URL https://www.cuny.edu/about/administration/offices/workforce/cuny-techworks/user-experience-ux/\n",
      "3 new links from URL https://developers.facebook.com/docs/facebook-login/userexperience\n",
      "3 new links from URL https://www.ebsco.com/technology/user-experience\n",
      "3 new links from URL https://www.qualtrics.com/market-research/user-experience-research/\n",
      "3 new links from URL https://uxplanet.org/brand-experience-and-user-experience-e0893a74a49\n",
      "1 new links from URL https://docs.citrix.com/en-us/receiver/html5/current-release/user-experience.html\n",
      "3 new links from URL https://www.linkedin.com/learning/paths/become-a-user-experience-designer\n",
      "3 new links from URL https://www.msoe.edu/academics/undergraduate-degrees/user-experience/\n",
      "3 new links from URL https://www.indeed.com/q-User-Experience-jobs.html\n",
      "3 new links from URL https://www.nickkolenda.com/user-experience/\n",
      "3 new links from URL https://www.usability.gov/\n",
      "Error: 503 Server Error: Service Unavailable for url: https://www.amazon.com/UX-Book-Design-Quality-Experience/dp/0128053429 on URL: https://www.amazon.com/UX-Book-Design-Quality-Experience/dp/0128053429\n",
      "3 new links from URL https://www.indeed.com/q-User-Experience-Design-jobs.html\n",
      "3 new links from URL https://docs.citrix.com/en-us/receiver/chrome/current-release/user-experience.html\n",
      "3 new links from URL http://uxpamagazine.org/corporate_ux_maturity/\n",
      "3 new links from URL https://www.entrepreneur.com/topic/user-experience\n",
      "3 new links from URL https://tagdiv.com/differences-between-user-experience-and-user-interface/\n",
      "Error: 502 Server Error: Bad Gateway for url: https://www.reddit.com/r/userexperience/ on URL: https://www.reddit.com/r/userexperience/\n",
      "3 new links from URL https://userresearch.google.com/\n",
      "3 new links from URL https://www.interaction-design.org/literature/article/the-7-factors-that-influence-user-experience?r=gemma-rubio-rodrigo\n",
      "3 new links from URL https://www.entrepreneur.com/article/309161\n",
      "3 new links from URL https://www.merriam-webster.com/dictionary/methodology\n",
      "3 new links from URL https://www.gomethodology.com/\n",
      "3 new links from URL https://en.wikipedia.org/wiki/Methodology\n",
      "3 new links from URL https://www.scribbr.com/dissertation/methodology/\n",
      "3 new links from URL https://libguides.usc.edu/writingguide/methodology\n",
      "3 new links from URL https://www.thefreedictionary.com/methodology\n",
      "3 new links from URL http://www.businessdictionary.com/definition/methodology.html\n",
      "3 new links from URL https://www.dictionary.com/browse/methodology\n",
      "3 new links from URL https://encyclopedia2.thefreedictionary.com/Research+methodology\n",
      "Error: 403 Client Error: Forbidden for url: https://www.skillsyouneed.com/learn/dissertation-methodology.html on URL: https://www.skillsyouneed.com/learn/dissertation-methodology.html\n",
      "3 new links from URL https://thedigitalprojectmanager.com/project-management-methodologies-made-simple/\n",
      "3 new links from URL http://www.businessdictionary.com/definition/research-methodology.html\n"
     ]
    },
    {
     "name": "stdout",
     "output_type": "stream",
     "text": [
      "3 new links from URL https://www.merriam-webster.com/thesaurus/methodology\n",
      "3 new links from URL https://explorable.com/writing-methodology\n",
      "Error: 403 Client Error: Forbidden for url: https://www.collinsdictionary.com/dictionary/english/methodology on URL: https://www.collinsdictionary.com/dictionary/english/methodology\n",
      "3 new links from URL https://dictionary.cambridge.org/dictionary/english/methodology\n"
     ]
    },
    {
     "name": "stderr",
     "output_type": "stream",
     "text": [
      "Some characters could not be decoded, and were replaced with REPLACEMENT CHARACTER.\n"
     ]
    },
    {
     "name": "stdout",
     "output_type": "stream",
     "text": [
      "0 new links from URL http://euacademic.org/BookUpload/9.pdf\n"
     ]
    },
    {
     "name": "stderr",
     "output_type": "stream",
     "text": [
      "Some characters could not be decoded, and were replaced with REPLACEMENT CHARACTER.\n"
     ]
    },
    {
     "name": "stdout",
     "output_type": "stream",
     "text": [
      "0 new links from URL http://uir.unisa.ac.za/bitstream/handle/10500/1962/04chapter3.pdf\n",
      "3 new links from URL https://research-methodology.net/research-methodology/\n",
      "3 new links from URL https://play.google.com/store/apps/details?id=uk.co.yorkshiresurprise.methodology&hl=en_GB\n",
      "3 new links from URL https://www.thefreedictionary.com/methodologies\n",
      "3 new links from URL http://expertjournals.com/how-to-write-a-research-methodology-for-your-academic-article/\n",
      "3 new links from URL https://www.corporatebenchmark.org/chrb-methodology\n",
      "3 new links from URL https://www.wikihow.com/Write-Research-Methodology\n",
      "Error: 403 Client Error: Forbidden for url: https://www.collinsdictionary.com/us/dictionary/english/methodology on URL: https://www.collinsdictionary.com/us/dictionary/english/methodology\n",
      "3 new links from URL https://www.cdc.gov/prams/methodology.htm\n"
     ]
    },
    {
     "name": "stderr",
     "output_type": "stream",
     "text": [
      "Some characters could not be decoded, and were replaced with REPLACEMENT CHARACTER.\n"
     ]
    },
    {
     "name": "stdout",
     "output_type": "stream",
     "text": [
      "0 new links from URL http://www.is.cityu.edu.hk/staff/isrobert/phd/ch3.pdf\n",
      "3 new links from URL https://en.wikipedia.org/wiki/Methodology_(software_engineering)\n",
      "3 new links from URL https://stackify.com/agile-methodology/\n",
      "3 new links from URL https://www.projectmanager.com/blog/project-management-methodology\n",
      "3 new links from URL https://uxdesign.cc/method-vs-methodology-whats-the-difference-9cc755c2e69d\n",
      "3 new links from URL https://medical-dictionary.thefreedictionary.com/methodology\n",
      "3 new links from URL https://www.goodreads.com/quotes/tag/methodology\n",
      "3 new links from URL https://www.britannica.com/topic/methodology-research\n",
      "0 new links from URL https://www.bloomberg.com/business-schools/methodology/\n",
      "1 new links from URL https://www.rasmussenreports.com/public_content/about_us/methodology\n",
      "3 new links from URL https://en.wiktionary.org/wiki/methodology\n",
      "3 new links from URL https://www.yourdictionary.com/methodology\n",
      "3 new links from URL https://www.workamajig.com/blog/project-management-methodologies\n",
      "3 new links from URL https://www.payscale.com/college-roi/methodology\n",
      "3 new links from URL https://www.freethesaurus.com/methodology\n",
      "3 new links from URL https://www.tutorialspoint.com/management_concepts/project_management_methodologies.htm\n",
      "3 new links from URL https://classroom.synonym.com/different-types-methodologies-7459438.html\n",
      "3 new links from URL https://www.census.gov/programs-surveys/ahs/about/methodology.html\n",
      "3 new links from URL https://www.gomethodology.com/sample-menu/\n",
      "3 new links from URL https://mathodology.com/\n",
      "3 new links from URL https://drsebiscellfood.com/methodology/\n",
      "0 new links from URL https://study.com/academy/lesson/research-methodology-approaches-techniques-quiz.html\n"
     ]
    },
    {
     "name": "stderr",
     "output_type": "stream",
     "text": [
      "Some characters could not be decoded, and were replaced with REPLACEMENT CHARACTER.\n"
     ]
    },
    {
     "name": "stdout",
     "output_type": "stream",
     "text": [
      "0 new links from URL http://uir.unisa.ac.za/bitstream/handle/10500/4245/05Chap%204_Research%20methodology%20and%20design.pdf\n",
      "2 new links from URL http://www.comtechtel.com/\n",
      "3 new links from URL https://en.wikipedia.org/wiki/Telecommunication\n",
      "0 new links from URL https://study.com/academy/lesson/the-components-of-a-telecommunications-system.html\n",
      "3 new links from URL https://www.techwalla.com/articles/types-of-telecommunication-systems\n",
      "3 new links from URL https://www.springer.com/journal/11235\n",
      "3 new links from URL https://searchnetworking.techtarget.com/definition/telecommunications-telecom\n",
      "0 new links from URL http://www.umsl.edu/~joshik/msis480/chapt07.htm\n",
      "0 new links from URL https://www.linkedin.com/company/telecommunication-systems\n",
      "3 new links from URL https://en.wikipedia.org/wiki/Communications_system\n",
      "3 new links from URL https://www.britannica.com/technology/telecommunication\n",
      "3 new links from URL https://www.commsystems.com/\n",
      "3 new links from URL https://www.thefreedictionary.com/telecommunication+system\n",
      "3 new links from URL https://www.techwalla.com/articles/components-of-telecommunication-systems\n",
      "3 new links from URL https://www.techopedia.com/definition/18430/communications-system\n",
      "3 new links from URL https://www.britannica.com/topic/telecommunications-media\n",
      "3 new links from URL https://www.cityandguilds.com/qualifications-and-apprenticeships/it/it-professional/2730-telecommunication-systems\n",
      "3 new links from URL https://www.nap.edu/read/11711/chapter/3\n",
      "2 new links from URL https://www.wisegeek.com/what-are-the-different-types-of-telecommunications-technology.htm\n",
      "0 new links from URL https://www.bloomberg.com/profile/company/TSYS:US\n",
      "3 new links from URL https://www.commscope.com/\n",
      "2 new links from URL https://www.wisegeek.com/what-are-the-different-types-of-telecommunications-equipment.htm\n",
      "3 new links from URL https://www.thefreedictionary.com/telecommunication\n",
      "3 new links from URL https://www.bls.gov/ooh/Installation-Maintenance-and-Repair/Telecommunications-equipment-installers-and-repairers-except-line-installers.htm\n",
      "Error: 403 Client Error: Forbidden for url: https://www.sciencedaily.com/news/matter_energy/telecommunications/ on URL: https://www.sciencedaily.com/news/matter_energy/telecommunications/\n",
      "3 new links from URL https://public.wmo.int/en/programmes/global-telecommunication-system\n",
      "3 new links from URL https://finance.yahoo.com/quote/JCS\n",
      "0 new links from URL http://www.excite.com/education/technology/telecommunications\n",
      "3 new links from URL https://www.pace.edu/seidenberg/telecom-systems-networks-adv-certificate\n",
      "3 new links from URL https://new.abb.com/oil-and-gas/systems-and-solutions/telecommunications\n",
      "Error: 403 Client Error: Forbidden for url: https://www.glassdoor.com/Salary/TeleCommunication-Systems-Salaries-E11927.htm on URL: https://www.glassdoor.com/Salary/TeleCommunication-Systems-Salaries-E11927.htm\n",
      "3 new links from URL https://www.fieldengineer.com/skills/telecom-systems-engineer\n",
      "0 new links from URL http://www.jcommops.org/dbcp/platforms/telecomms.html\n",
      "3 new links from URL https://www.journals.elsevier.com/telecommunications-policy\n",
      "3 new links from URL https://www.managementstudyguide.com/different-types-of-communication-system.htm\n",
      "3 new links from URL http://www.murraystate.edu/academics/CollegesDepartments/CollegeOfScienceEngineeringandTechnology/CollegeOfSciencePrograms/instituteOfEngineering/Programs/tsm/index.aspx\n",
      "3 new links from URL https://www.aerospace-technology.com/contractors/power/telecommunication-systems-tcs/\n",
      "3 new links from URL https://www.businesswire.com/news/home/20151123005605/en/Comtech-Telecommunications-Corp.-Acquire-TeleCommunication-Systems-430.8\n",
      "3 new links from URL https://www.tvps.com/\n",
      "Error: 503 Server Error: Service Unavailable for url: https://www.amazon.com/Telecommunication-System-Engineering-Roger-Freeman/dp/0471451339 on URL: https://www.amazon.com/Telecommunication-System-Engineering-Roger-Freeman/dp/0471451339\n",
      "0 new links from URL http://www.excite.com/education/technology/telecommunications/careers\n",
      "3 new links from URL http://www.clarusco.com/\n",
      "0 new links from URL https://www.bloomberg.com/quote/JCS:US\n",
      "0 new links from URL http://www.tssl.com/\n",
      "Error: 403 Client Error: Forbidden for url: https://www.glassdoor.com/Jobs/TeleCommunication-Systems-Jobs-E11927.htm on URL: https://www.glassdoor.com/Jobs/TeleCommunication-Systems-Jobs-E11927.htm\n",
      "3 new links from URL https://www.csiweb.com/industries-we-serve/financial-institutions/managed-services/it-systems/telecom\n",
      "3 new links from URL https://www.merriam-webster.com/dictionary/telecommunication\n",
      "3 new links from URL https://telex.com/\n",
      "0 new links from URL http://www.cs.columbia.edu/~hgs/acronyms/full.html\n",
      "3 new links from URL https://en.wikipedia.org/wiki/Human_communication\n",
      "3 new links from URL https://medical-dictionary.thefreedictionary.com/human+communication\n",
      "3 new links from URL https://mitpress.mit.edu/books/origins-human-communication\n",
      "Error: 403 Client Error: Forbidden for url: https://www.sciencedirect.com/topics/neuroscience/human-communication on URL: https://www.sciencedirect.com/topics/neuroscience/human-communication\n",
      "3 new links from URL https://learn.saylor.org/course/comm001\n",
      "Error: 403 Client Error: Forbidden for url: https://www.onlinelibrary.wiley.com/journal/14682958 on URL: https://www.onlinelibrary.wiley.com/journal/14682958\n",
      "0 new links from URL http://www.humancommunications.co.za/\n",
      "3 new links from URL https://www.ucf.edu/degree/human-communication-ba/\n",
      "Error: 503 Server Error: Service Unavailable for url: https://www.amazon.com/Human-Communication-Judy-Pearson/dp/0073406805 on URL: https://www.amazon.com/Human-Communication-Judy-Pearson/dp/0073406805\n",
      "3 new links from URL https://humancommunication.asu.edu/\n",
      "Error: 503 Server Error: Service Unavailable for url: https://www.amazon.com/Human-Communication-Judy-Pearson-ebook/dp/B01BXQZ5F4 on URL: https://www.amazon.com/Human-Communication-Judy-Pearson-ebook/dp/B01BXQZ5F4\n",
      "3 new links from URL https://www.britannica.com/topic/communication\n",
      "0 new links from URL http://www.humancommunications.co.za/contact-us/\n",
      "Error: 403 Client Error: Forbidden for url: https://quizlet.com/subject/human-communication-chapter-1/ on URL: https://quizlet.com/subject/human-communication-chapter-1/\n",
      "3 new links from URL https://www.mheducation.com/highered/product/human-communication-pearson-nelson/M9781260822878.html\n",
      "1 new links from URL https://careertrend.com/list-6377326-elements-human-communication.html\n",
      "3 new links from URL https://communication.ucf.edu/degree/human-communication/\n",
      "3 new links from URL http://www.ship.edu/hcs/\n",
      "3 new links from URL https://www.answers.com/Q/What_are_the_7_forms_of_human_communication\n",
      "Error: 403 Client Error: Forbidden for url: https://quizlet.com/281807427/human-communication-chapter-10-revel-flash-cards/ on URL: https://quizlet.com/281807427/human-communication-chapter-10-revel-flash-cards/\n",
      "3 new links from URL https://www.academia.edu/6104781/Introduction_to_Human_Communication\n",
      "3 new links from URL http://communications.fullerton.edu/hcom/\n",
      "Error: ('Connection aborted.', RemoteDisconnected('Remote end closed connection without response')) on URL: https://academic.oup.com/HCR\n"
     ]
    },
    {
     "name": "stderr",
     "output_type": "stream",
     "text": [
      "Some characters could not be decoded, and were replaced with REPLACEMENT CHARACTER.\n"
     ]
    },
    {
     "name": "stdout",
     "output_type": "stream",
     "text": [
      "0 new links from URL https://www.pearsonhighered.com/assets/samplechapter/0/2/0/5/0205940889.pdf\n",
      "3 new links from URL https://www.questia.com/library/communication/human-communication/\n",
      "3 new links from URL https://www.ship.edu/academics/programs/undergraduate/human_communication_studies/\n",
      "3 new links from URL https://www.caspercollege.edu/program/communication/\n",
      "3 new links from URL https://www.storybooksingers.com/a-5-paragraph-essay-example-on-human-communication/\n",
      "3 new links from URL https://www.goodreads.com/book/show/3045994-human-communication\n",
      "3 new links from URL https://www.ebookphp.com/human-communication-5th-edition-epub-pdf/\n",
      "Error: 403 Client Error: Forbidden for url: https://www.vitalsource.com/products/human-communication-joseph-a-devito-v9780134409436 on URL: https://www.vitalsource.com/products/human-communication-joseph-a-devito-v9780134409436\n",
      "3 new links from URL https://owlcation.com/stem/The-difference-between-animal-and-human-communication\n",
      "3 new links from URL https://www.youtube.com/watch?v=FDhlOovaGrI\n"
     ]
    },
    {
     "name": "stderr",
     "output_type": "stream",
     "text": [
      "Some characters could not be decoded, and were replaced with REPLACEMENT CHARACTER.\n"
     ]
    },
    {
     "name": "stdout",
     "output_type": "stream",
     "text": [
      "0 new links from URL http://dmcodyssey.org/wp-content/uploads/2013/09/INTRODUCTION-TO-HUMAN-COMMUNICATION.pdf\n",
      "3 new links from URL https://www.preceden.com/timelines/224069-the-history-of-human-communication-by-chris-bowman\n",
      "3 new links from URL https://www.youtube.com/watch?v=EefIyG6Q_NQ\n",
      "Error: 403 Client Error: Forbidden for url: http://www.yourarticlelibrary.com/management/communication/communication-meaning-purpose-importance-and-principles/60291 on URL: http://www.yourarticlelibrary.com/management/communication/communication-meaning-purpose-importance-and-principles/60291\n",
      "0 new links from URL http://hci-global.com/\n",
      "3 new links from URL https://www.pearson.com/us/higher-education/program/Alberts-Revel-for-Human-Communication-in-Society-Access-Card-5th-Edition/PGM2398923.html\n",
      "3 new links from URL https://archive.org/stream/HumanCommunicationJosephA.DeVito/Human%20Communication%20-%20Joseph%20A.%20DeVito_djvu.txt\n",
      "Error: 500 Server Error: Internal Server Error for url: https://www.barnesandnoble.com/w/human-communication-stewart-l-tubbs/1100263671 on URL: https://www.barnesandnoble.com/w/human-communication-stewart-l-tubbs/1100263671\n",
      "Error: HTTPSConnectionPool(host='catalog.ucf.edu', port=443): Max retries exceeded with url: /preview_program.php?catoid=3&poid=847 (Caused by SSLError(SSLError(\"bad handshake: Error([('SSL routines', 'tls_process_server_certificate', 'certificate verify failed')])\"))) on URL: https://catalog.ucf.edu/preview_program.php?catoid=3&poid=847\n",
      "3 new links from URL https://socialmettle.com/four-types-of-communication\n",
      "3 new links from URL https://www.managementstudyguide.com/components-of-communication-process.htm\n",
      "3 new links from URL https://www.edx.org/course/introduction-to-human-communication\n",
      "3 new links from URL https://sites.google.com/site/booksfreedownloadfull/download-pdf-introduction-to-human-communication-perception-meaning-and-identity-by-lecturer-susan-r-beauchamp-full-pages\n",
      "Error: 403 Client Error: Forbidden for url: https://www.onlinelibrary.wiley.com/page/journal/14682958/homepage/productinformation.html on URL: https://www.onlinelibrary.wiley.com/page/journal/14682958/homepage/productinformation.html\n",
      "3 new links from URL https://psychcentral.com/blog/digital-versus-human-communication/\n",
      "3 new links from URL https://en.wikipedia.org/wiki/User_interface_techniques\n",
      "3 new links from URL https://www.smashingmagazine.com/2009/01/12-useful-techniques-for-good-user-interface-design-in-web-applications/\n",
      "Error: 406 Client Error: Not Acceptable for url: http://www.ambysoft.com/essays/userInterfaceDesign.html on URL: http://www.ambysoft.com/essays/userInterfaceDesign.html\n",
      "3 new links from URL https://webflow.com/blog/10-essential-ui-design-tips\n",
      "3 new links from URL https://www.motocms.com/blog/en/user-interface-design-principles/\n",
      "3 new links from URL https://www.smashingmagazine.com/2008/12/10-useful-techniques-to-improve-your-user-interface-designs/\n",
      "3 new links from URL https://www.usability.gov/what-and-why/user-interface-design.html\n",
      "3 new links from URL https://www.webdesignerdepot.com/2009/02/7-interface-design-techniques-to-simplify-and-de-clutter-your-interfaces/\n",
      "3 new links from URL https://attack.mitre.org/techniques/T1061/\n",
      "3 new links from URL https://en.wikipedia.org/wiki/Category:User_interface_techniques\n",
      "3 new links from URL https://www.interaction-design.org/literature/article/7-great-tried-and-tested-ux-research-techniques\n"
     ]
    },
    {
     "name": "stderr",
     "output_type": "stream",
     "text": [
      "Some characters could not be decoded, and were replaced with REPLACEMENT CHARACTER.\n"
     ]
    },
    {
     "name": "stdout",
     "output_type": "stream",
     "text": [
      "0 new links from URL https://course.ccs.neu.edu/is4300sp13/ssl/articles/p119-jeffries.pdf\n",
      "Error: 503 Server Error: Service Unavailable for url: https://www.amazon.com/Design-Usability-Mentor-Book-Techniques/dp/6058603722 on URL: https://www.amazon.com/Design-Usability-Mentor-Book-Techniques/dp/6058603722\n",
      "3 new links from URL https://www.technotification.com/2018/10/improve-user-interface-design.html\n",
      "3 new links from URL https://www.ranorex.com/resources/testing-wiki/gui-testing/\n",
      "3 new links from URL https://www.youtube.com/watch?v=7OSkB4BCx00\n",
      "3 new links from URL https://www.usability.gov/how-to-and-tools/methods/user-interface-design/index.html\n",
      "3 new links from URL https://medium.com/swlh/5-design-tips-to-help-create-effective-user-interface-designs-5b049871f38f\n",
      "Error: 503 Server Error: Service Unavailable for url: https://www.amazon.com/Essential-Guide-User-Interface-Design/dp/0470053429 on URL: https://www.amazon.com/Essential-Guide-User-Interface-Design/dp/0470053429\n",
      "3 new links from URL https://stackoverflow.com/questions/42793/gui-design-techniques-to-enhance-user-experience\n",
      "3 new links from URL https://icons8.com/articles/user-interface-design-tips-easy-breezy-ui/\n",
      "3 new links from URL https://elearningindustry.com/tips-create-effective-user-interface-design\n",
      "Error: 406 Client Error: Not Acceptable for url: https://designrshub.com/2014/06/user-interface-techniques.html on URL: https://designrshub.com/2014/06/user-interface-techniques.html\n",
      "3 new links from URL http://cognitivegroup.com/10-things-to-pay-attention-in-user-interface/\n",
      "Error: 406 Client Error: Not Acceptable for url: http://www.ambysoft.com/essays/userInterfacePrototyping.html on URL: http://www.ambysoft.com/essays/userInterfacePrototyping.html\n",
      "3 new links from URL https://commons.wikimedia.org/wiki/Category:User_interface_techniques\n",
      "3 new links from URL https://www.coursera.org/learn/ui-testing/\n",
      "3 new links from URL https://line25.com/ui-ux-design/create-user-interface-users-will-understand\n",
      "3 new links from URL https://www.tutorialspoint.com/software_engineering/software_user_interface_design.htm\n",
      "3 new links from URL https://www.creativebloq.com/web-design-tips/tips-ui-design-123474\n",
      "3 new links from URL https://www.w3computing.com/systemsanalysis/types-user-interface/\n",
      "3 new links from URL https://www.w3.org/WAI/WCAG21/Techniques/\n",
      "3 new links from URL https://docs.appeon.com/appeon_online_help/pb2019/application_techniques/pt03.html\n",
      "3 new links from URL https://www.academia.edu/22047967/The_Essential_Guide_to_User_Interface_Design_Second_Edition_An_Introduction_to_GUI_Design_Principles_and_Techniques\n",
      "3 new links from URL https://www.uitechniques.com/\n"
     ]
    },
    {
     "name": "stderr",
     "output_type": "stream",
     "text": [
      "Some characters could not be decoded, and were replaced with REPLACEMENT CHARACTER.\n"
     ]
    },
    {
     "name": "stdout",
     "output_type": "stream",
     "text": [
      "0 new links from URL http://www.cse.scu.edu/~amoallem/archive/handouts/Session_7_MEUI.doc\n",
      "3 new links from URL https://www.guru99.com/gui-testing.html\n",
      "3 new links from URL https://uxdesign.cc/ux-design-methods-deliverables-657f54ce3c7d\n",
      "3 new links from URL https://www.infoq.com/articles/agile-useability-churchville/\n",
      "3 new links from URL https://www.wikihow.com/Design-a-Graphical-User-Interface\n",
      "3 new links from URL https://www.techopedia.com/definition/5435/graphical-user-interface-gui\n",
      "3 new links from URL https://timslade.com/blog/user-interface-design-for-elearning/\n",
      "Error: 429 Client Error: Too Many Requests for url: https://www.researchgate.net/publication/293756327_User_Interface_Prototyping_Techniques_Methods_and_Tools on URL: https://www.researchgate.net/publication/293756327_User_Interface_Prototyping_Techniques_Methods_and_Tools\n",
      "3 new links from URL https://revitpure.com/blog/11-tips-to-master-revit-basic-interface\n"
     ]
    },
    {
     "name": "stderr",
     "output_type": "stream",
     "text": [
      "Some characters could not be decoded, and were replaced with REPLACEMENT CHARACTER.\n"
     ]
    },
    {
     "name": "stdout",
     "output_type": "stream",
     "text": [
      "0 new links from URL https://www.isi.edu/~szekely/contents/papers/1994/ui-prototyping-ICSE-1994.pdf\n",
      "3 new links from URL https://www.interaction-design.org/literature/topics/ui-design\n",
      "3 new links from URL https://careerfoundry.com/en/blog/ux-design/how-to-conduct-user-experience-research-like-a-professional/\n",
      "3 new links from URL https://designshack.net/articles/trends/modern-ui-design/\n",
      "3 new links from URL https://www.nngroup.com/articles/recommended-user-interface-books/\n",
      "Error: 418 Client Error:  for url: https://duckduckgo.com/c/User_interface_techniques on URL: https://duckduckgo.com/c/User_interface_techniques\n",
      "3 new links from URL https://www.myfeelback.com/en/blog/customer-knowledge-get-it\n",
      "3 new links from URL https://en.wikipedia.org/wiki/Customer_knowledge\n",
      "0 new links from URL http://www.dobney.com/Knowledge/ck_definition.htm\n",
      "3 new links from URL https://www.astutesolutions.com/blog/articles/what-is-customer-knowledge-management\n",
      "0 new links from URL http://www.dobney.com/customer_knowledge.htm\n",
      "3 new links from URL https://corp.yonyx.com/customer-service/19086/\n",
      "3 new links from URL https://www.dunnhumby.com/solutions/customer-knowledge\n",
      "3 new links from URL http://www.businessdictionary.com/definition/customer-knowledge-management-CKM.html\n",
      "3 new links from URL https://www.superoffice.com/blog/customer-service-knowledge-base/\n",
      "3 new links from URL https://www.mycustomer.com/marketing/technology/the-source-of-customer-value-customer-knowledge\n",
      "3 new links from URL https://www.teamsupport.com/blog/knowledge-management-improves-customer-support\n",
      "Error: 403 Client Error: Forbidden for url: http://www.vkclv.com/customer-engagement-suite/customer-knowledge-value/ on URL: http://www.vkclv.com/customer-engagement-suite/customer-knowledge-value/\n",
      "3 new links from URL https://www.myfeelback.com/en/blog/4-key-benefits-customer-knowledge\n",
      "3 new links from URL https://support.jobnimbus.com/customer-knowledge-base\n",
      "3 new links from URL https://www.igi-global.com/dictionary/customer-knowledge-management-ckm/6496\n",
      "3 new links from URL https://www.helpscout.com/helpu/knowledge-base-examples/\n",
      "1 new links from URL https://customercenter.dh.com/\n",
      "3 new links from URL https://www.cio.com/article/2439055/managing-customer-knowledge.html\n",
      "3 new links from URL https://docs.microsoft.com/en-us/dynamics365/customer-service/customer-service-hub-user-guide-knowledge-article\n",
      "0 new links from URL https://customerportal.solidworks.com/\n",
      "3 new links from URL https://www.surveymonkey.com/mp/6-keys-improving-teams-customer-service-skills/\n",
      "3 new links from URL https://corp.yonyx.com/customer-service/importance-product-knowledge-customer-service/\n",
      "3 new links from URL https://www.dmnews.com/customer-experience/article/13036977/customer-knowledge-is-the-foundation-of-marketing-success\n",
      "3 new links from URL https://docs.microsoft.com/en-us/dynamics365/customer-service/search-knowledge-articles-csh\n",
      "3 new links from URL https://blog.remesh.ai/improve-customer-experience-customer-knowledge\n",
      "3 new links from URL https://www.proprofs.com/c/knowledge-management/build-powerful-customer-service-knowledge-base/\n",
      "3 new links from URL https://www.ukessays.com/essays/marketing/customer-knowledge-and-company-sale-marketing-essay.php\n",
      "Error: 403 Client Error: Forbidden for url: https://www.sciencedirect.com/science/article/pii/S0378720613000918 on URL: https://www.sciencedirect.com/science/article/pii/S0378720613000918\n",
      "0 new links from URL https://www.dbs.com.sg/ibanking/help/faq/a-guide-on-customer-knowledge-assessment-cka.html\n",
      "3 new links from URL https://www.emerald.com/insight/content/doi/10.1108/JEIM-02-2018-0031/full/html\n",
      "3 new links from URL https://simplicable.com/new/product-knowledge\n",
      "3 new links from URL https://www.jitbit.com/news/customer-centric-knowledge-base/\n",
      "3 new links from URL https://www.salesforce.com/uk/products/service-cloud/features/knowledge-base/\n",
      "Error: 403 Client Error: Forbidden for url: https://customersthatstick.com/blog/5-ways-to-improve-your-teams-product-knowledge/ on URL: https://customersthatstick.com/blog/5-ways-to-improve-your-teams-product-knowledge/\n",
      "3 new links from URL https://www.lynda.com/Business-Skills-tutorials/Lack-customer-knowledge/697710/752665-4.html\n",
      "Error: 403 Client Error: Forbidden for url: https://iwantitnow.walkme.com/using-product-knowledge-for-better-customer-service/ on URL: https://iwantitnow.walkme.com/using-product-knowledge-for-better-customer-service/\n",
      "3 new links from URL https://bloomfire.com/blog/3-ways-to-employ-knowledge-management-for-customer-service/\n",
      "3 new links from URL https://www.egain.com/knowledge-management-system/\n",
      "3 new links from URL https://www.hubspot.com/knowledge-base\n",
      "Error: 429 Client Error: Too Many Requests for url: https://www.researchgate.net/publication/335636355_Big_Data_for_Customer_Knowledge_Management on URL: https://www.researchgate.net/publication/335636355_Big_Data_for_Customer_Knowledge_Management\n",
      "1 new links from URL https://customerportal.elite.com/\n",
      "Error: 403 Client Error: Forbidden for url: https://kapost.com/b/product-marketing-and-customer-knowledge/ on URL: https://kapost.com/b/product-marketing-and-customer-knowledge/\n",
      "3 new links from URL https://www.helpscout.com/blog/customer-service-skills/\n",
      "Error: 403 Client Error: Forbidden for url: https://blog.capterra.com/have-a-customer-support-knowledge-base-and-how-to-build-one/ on URL: https://blog.capterra.com/have-a-customer-support-knowledge-base-and-how-to-build-one/\n",
      "0 new links from URL https://digitalsupport.ge.com/communities/CC_Home\n",
      "0 new links from URL https://traxsource.zendesk.com/hc/en-us/categories/115000518003-Customer-Knowledge-Base\n",
      "3 new links from URL https://link.springer.com/article/10.1007/s11747-019-00646-w\n",
      "Error: 429 Client Error: Too Many Requests for url: https://www.researchgate.net/topic/Customer-Knowledge-Management on URL: https://www.researchgate.net/topic/Customer-Knowledge-Management\n",
      "Error: 403 Client Error: Forbidden for url: https://martechtoday.com/martech-landscape-customer-data-platform-192126 on URL: https://martechtoday.com/martech-landscape-customer-data-platform-192126\n",
      "3 new links from URL https://www.trustradius.com/customer-data-platform-cdp\n",
      "3 new links from URL https://en.wikipedia.org/wiki/Customer_Data_Platform\n",
      "3 new links from URL https://www.gartner.com/smarterwithgartner/marketers-to-guide-customer-data-platforms/\n",
      "3 new links from URL https://www.cdpinstitute.org/\n",
      "3 new links from URL https://blog.hubspot.com/service/customer-data-platform-guide\n",
      "Error: 403 Client Error: Forbidden for url: https://quickpivot.com/ on URL: https://quickpivot.com/\n",
      "3 new links from URL https://econsultancy.com/what-is-a-customer-data-platform-how-is-it-different-from-a-dmp-or-crm/\n",
      "3 new links from URL https://segment.com/blog/customer-data-platform/\n",
      "Error: 403 Client Error: Forbidden for url: https://tealium.com/resource/fundamentals/what-is-a-cdp/ on URL: https://tealium.com/resource/fundamentals/what-is-a-cdp/\n",
      "3 new links from URL https://digiday.com/marketing/what-is-a-customer-data-platform/\n",
      "3 new links from URL https://www.capterra.com/customer-data-platform-software/\n",
      "3 new links from URL https://www.bluevenn.com/customer-data-platform\n",
      "3 new links from URL https://exponea.com/blog/customer-data-platform/\n",
      "Error: 403 Client Error: Forbidden for url: https://quickpivot.com/customer-data-platform/ on URL: https://quickpivot.com/customer-data-platform/\n",
      "3 new links from URL https://www.lytics.com/products/customer-data-platform\n",
      "3 new links from URL https://dynamics.microsoft.com/en-us/ai/customer-insights/what-is-a-customer-data-platform-cdp/\n",
      "3 new links from URL https://www.cmswire.com/digital-experience/whats-the-difference-between-customer-data-platforms-and-data-management-platforms/\n",
      "3 new links from URL https://www.salesforce.com/blog/2019/03/vision-for-customer-data-platform.html\n",
      "3 new links from URL https://dynamics.microsoft.com/en-au/ai/customer-insights/what-is-a-customer-data-platform-cdp/\n",
      "Error: 405 Client Error: Method Not Allowed for url: https://www.g2.com/categories/customer-data-platform-cdp on URL: https://www.g2.com/categories/customer-data-platform-cdp\n",
      "Error: 403 Client Error: Forbidden for url: https://www.i-scoop.eu/customer-data-platforms/ on URL: https://www.i-scoop.eu/customer-data-platforms/\n"
     ]
    },
    {
     "name": "stdout",
     "output_type": "stream",
     "text": [
      "3 new links from URL https://www.salesforce.com/products/marketing-cloud/customer-data-platform/\n",
      "3 new links from URL https://www.martechadvisor.com/articles/data-management/customer-data-platform-cdp/\n",
      "3 new links from URL https://www.manthan.com/customer-data-platforms/\n",
      "3 new links from URL https://www.zdnet.com/article/introduction-to-customer-data-platforms/\n",
      "3 new links from URL https://www.ensighten.com/products/\n",
      "3 new links from URL https://www.ngdata.com/what-is-a-customer-data-platform/\n",
      "3 new links from URL https://www.informatica.com/resources/articles/what-is-a-customer-data-platform.html\n",
      "3 new links from URL https://www.techopedia.com/definition/32369/customer-data-platform-cdp\n",
      "3 new links from URL https://www.marketwatch.com/press-release/customer-data-platform-market-key-insights-and-growth-scenario-coverage-of-top-key-players-2020-2026-2020-04-16\n",
      "3 new links from URL https://www.lytics.com/\n",
      "3 new links from URL https://www.hgsdigital.com/blogs/customer-data-platform/\n",
      "3 new links from URL https://www.forbes.com/sites/insights-treasuredata/2018/06/20/the-rise-of-the-customer-data-platform-and-what-it-means-to-businesses/\n",
      "Error: 403 Client Error: Forbidden for url: https://www.gainsight.com/customer-data-platform/ on URL: https://www.gainsight.com/customer-data-platform/\n",
      "3 new links from URL https://azuremarketplace.microsoft.com/en-us/marketplace/apps/redpoint-global.redpoint-rpdm\n",
      "3 new links from URL https://www.treasuredata.com/learn/customer-data-platform/\n",
      "3 new links from URL https://www.lemnisk.co/\n",
      "3 new links from URL https://www.acxiom.com/what-is-a-customer-data-platform/\n",
      "3 new links from URL https://www.leadboxer.com/blog/customer-data-platform-software/\n",
      "3 new links from URL https://www.cmswire.com/digital-marketing/what-is-a-customer-data-platform-cdp/\n",
      "0 new links from URL https://www.grandviewresearch.com/industry-analysis/customer-data-platform-market\n",
      "3 new links from URL https://www.emailvendorselection.com/customer-data-platform-cdp-evolution-marketing-automation/\n",
      "3 new links from URL https://segment.com/\n",
      "Error: 403 Client Error: Forbidden for url: https://martechtoday.com/ on URL: https://martechtoday.com/\n",
      "3 new links from URL https://v12data.com/customer-data-platform-cdp/\n",
      "3 new links from URL http://customerthink.com/top-10-customer-data-platforms/\n",
      "Error: 403 Client Error: Forbidden for url: https://www.redpointglobal.com/solutions/customer-data-platform-cdp-redpoint-global/ on URL: https://www.redpointglobal.com/solutions/customer-data-platform-cdp-redpoint-global/\n",
      "3 new links from URL https://www.prdct.nl/\n",
      "3 new links from URL https://www.uxpin.com/studio/blog/paper-prototyping-the-practical-beginners-guide/\n",
      "3 new links from URL https://en.wikipedia.org/wiki/Paper_prototyping\n",
      "Error: 403 Client Error: Forbidden for url: https://usabilitygeek.com/paper-prototyping-as-a-usability-testing-technique/ on URL: https://usabilitygeek.com/paper-prototyping-as-a-usability-testing-technique/\n",
      "3 new links from URL https://uxplanet.org/the-magic-of-paper-prototyping-51693eac6bc3\n",
      "3 new links from URL https://www.nngroup.com/articles/paper-prototyping/\n",
      "3 new links from URL https://alistapart.com/article/paperprototyping/\n",
      "Error: 503 Server Error: Service Unavailable for url: https://www.amazon.com/Paper-Prototyping-Interfaces-Interactive-Technologies/dp/1558608702 on URL: https://www.amazon.com/Paper-Prototyping-Interfaces-Interactive-Technologies/dp/1558608702\n",
      "3 new links from URL https://www.lynda.com/Interaction-Design-tutorials/Paper-prototyping/476938/551743-4.html\n",
      "3 new links from URL https://www.youtube.com/watch?v=y20E3qBmHpg\n",
      "3 new links from URL https://www.nngroup.com/reports/paper-prototyping-training-video/\n",
      "3 new links from URL https://medium.com/digital-experience-design/a-guide-to-paper-prototyping-testing-for-web-interfaces-49e542ba765f\n",
      "3 new links from URL https://pidoco.com/en/help/ux/paper-prototype\n",
      "3 new links from URL https://marvelapp.com/pop/\n",
      "3 new links from URL http://userfocus.co.uk/articles/paperprototyping.html\n",
      "3 new links from URL https://www.justinmind.com/blog/paper-prototyping-your-step-by-step-guide/\n",
      "3 new links from URL https://www.creativebloq.com/ux/how-prototype-websites-paper-31514246\n",
      "3 new links from URL https://prototypeinfo.com/sketching-paper-prototyping-technique/\n",
      "3 new links from URL https://www.youtube.com/watch?v=JMjozqJS44M\n",
      "Error: 403 Client Error: Forbidden for url: https://technovationchallenge.org/curriculum/ideation-8/ on URL: https://technovationchallenge.org/curriculum/ideation-8/\n",
      "Error: 503 Server Error: Service Unavailable for url: https://www.amazon.com/Paper-Prototyping-Interfaces-Interactive-Technologies-ebook/dp/B006M86382 on URL: https://www.amazon.com/Paper-Prototyping-Interfaces-Interactive-Technologies-ebook/dp/B006M86382\n",
      "3 new links from URL https://www.uxbooth.com/articles/paper-prototyping/\n",
      "3 new links from URL https://www.thisisservicedesigndoing.com/methods/paper-prototyping\n",
      "3 new links from URL https://www.lynda.com/User-Experience-tutorials/UX-Design-Techniques-Paper-Prototyping/534422-2.html\n",
      "Error: 403 Client Error: Forbidden for url: https://www.sciencedirect.com/book/9781558608702/paper-prototyping on URL: https://www.sciencedirect.com/book/9781558608702/paper-prototyping\n",
      "3 new links from URL https://www.sitepoint.com/how-to-make-paper-prototypes/\n",
      "3 new links from URL https://uxdesign.cc/how-to-do-paper-prototyping-719173215a7e\n",
      "3 new links from URL https://www.microsoft.com/en-us/p/pop-prototyping-on-paper/9wzdncrdjp7z\n",
      "3 new links from URL https://uxplanet.org/the-art-of-ux-sketching-and-paper-prototyping-5dae5a1efc7d\n",
      "3 new links from URL http://gamedevelopertips.com/paper-prototyping-game-development/\n",
      "3 new links from URL https://www.linkedin.com/learning/ux-design-6-paper-prototyping\n",
      "3 new links from URL https://blog.marvelapp.com/the-magic-of-paper-prototyping/\n",
      "3 new links from URL https://www.prototypr.io/blog/vr-paper-prototyping/\n",
      "3 new links from URL https://www.usability.gov/how-to-and-tools/methods/prototyping.html\n",
      "3 new links from URL https://www.interaction-design.org/literature/topics/paper-prototyping\n",
      "3 new links from URL https://blog.marvelapp.com/stop-talking-start-sketching-guide-paper-prototyping/\n",
      "3 new links from URL http://web.mit.edu/6.813/www/sp18/assignments/gr3-paper-prototyping/\n"
     ]
    },
    {
     "name": "stderr",
     "output_type": "stream",
     "text": [
      "Some characters could not be decoded, and were replaced with REPLACEMENT CHARACTER.\n"
     ]
    },
    {
     "name": "stdout",
     "output_type": "stream",
     "text": [
      "0 new links from URL http://www2.engr.arizona.edu/~ece596c/lysecky/uploads/Main/Lec6.pdf\n",
      "3 new links from URL https://xd.adobe.com/ideas/process/prototyping/rapid-prototyping-efficient-way-communicate-ideas/\n",
      "3 new links from URL https://www.gamasutra.com/blogs/MarcoMignano/20160725/277766/Use_Paper_Prototyping_to_design_your_games.php\n",
      "3 new links from URL https://books.google.com/books/about/Paper_Prototyping.html?id=5OhE7dyGtmgC\n",
      "Error: 406 Client Error: Not Acceptable for url: http://www.usabilitybok.org/paper-prototyping on URL: http://www.usabilitybok.org/paper-prototyping\n",
      "3 new links from URL https://www.linkedin.com/learning/design-thinking-understanding-the-process/paper-prototyping\n",
      "0 new links from URL http://dictionary.sensagent.com/Paper%20prototyping/en-en/\n",
      "3 new links from URL https://curriculum.code.org/csd-19/unit4/10/\n",
      "3 new links from URL https://www.elsevier.com/books/paper-prototyping/snyder/978-1-55860-870-2\n",
      "3 new links from URL https://www.uxpin.com/studio/blog/what-is-a-prototype-a-guide-to-functional-ux/\n",
      "3 new links from URL http://paperproto.com/\n",
      "3 new links from URL https://articles.uie.com/prototyping_tips/\n",
      "0 new links from URL https://www.pinterest.com/odaminowin/game-paper-prototyping-kit/\n",
      "3 new links from URL https://en.wikipedia.org/wiki/Problem_structuring_methods\n",
      "Error: 403 Client Error: Forbidden for url: https://www.sciencedirect.com/science/article/pii/S0377221718303783 on URL: https://www.sciencedirect.com/science/article/pii/S0377221718303783\n",
      "3 new links from URL https://www.skillsyouneed.com/ips/problem-solving2.html\n",
      "3 new links from URL https://link.springer.com/referenceworkentry/10.1007/978-1-4419-1153-7_806\n",
      "Error: 403 Client Error: Forbidden for url: https://www.sciencedirect.com/science/article/pii/S0377221703000560 on URL: https://www.sciencedirect.com/science/article/pii/S0377221703000560\n",
      "3 new links from URL https://ocw.tudelft.nl/courses/problem-structuring-methods/\n"
     ]
    },
    {
     "name": "stderr",
     "output_type": "stream",
     "text": [
      "Some characters could not be decoded, and were replaced with REPLACEMENT CHARACTER.\n"
     ]
    },
    {
     "name": "stdout",
     "output_type": "stream",
     "text": [
      "0 new links from URL http://www2.imm.dtu.dk/pubdb/views/edoc_download.php/4463/pdf/imm4463.pdf\n",
      "2 new links from URL http://www.coastalwiki.org/wiki/Problem_structuring_in_decision-making_processes\n",
      "Error: 406 Client Error: Not Acceptable for url: https://strategyu.co/mckinsey-structured-problem-solving-secrets/ on URL: https://strategyu.co/mckinsey-structured-problem-solving-secrets/\n",
      "3 new links from URL https://www.semanticscholar.org/paper/What's-the-Problem-An-Introduction-to-Problem-Rosenhead/0de5a4aaed0635aeed64ba83568ab8c3d6bfb403\n",
      "Error: 429 Client Error: Too Many Requests for url: https://www.researchgate.net/profile/Jonathan_Rosenhead/publication/247823670_What%27s_the_Problem_An_Introduction_to_Problem_Structuring_Methods/links/543f9c7b0cf23da6cb5b3f81/Whats-the-Problem-An-Introduction-to-Problem-Structuring-Methods.pdf on URL: https://www.researchgate.net/profile/Jonathan_Rosenhead/publication/247823670_What%27s_the_Problem_An_Introduction_to_Problem_Structuring_Methods/links/543f9c7b0cf23da6cb5b3f81/Whats-the-Problem-An-Introduction-to-Problem-Structuring-Methods.pdf\n",
      "Error: 429 Client Error: Too Many Requests for url: https://www.researchgate.net/publication/247823670_What's_the_Problem_An_Introduction_to_Problem_Structuring_Methods on URL: https://www.researchgate.net/publication/247823670_What's_the_Problem_An_Introduction_to_Problem_Structuring_Methods\n",
      "3 new links from URL https://www.southampton.ac.uk/courses/modules/mang2007.page\n",
      "3 new links from URL https://pubsonline.informs.org/doi/abs/10.1287/inte.26.6.117\n",
      "3 new links from URL https://en.wikipedia.org/wiki/Problem_solving\n",
      "3 new links from URL http://projectmanagementhacks.com/how-to-use-structured-problem-solving/\n"
     ]
    },
    {
     "name": "stderr",
     "output_type": "stream",
     "text": [
      "Some characters could not be decoded, and were replaced with REPLACEMENT CHARACTER.\n"
     ]
    },
    {
     "name": "stdout",
     "output_type": "stream",
     "text": [
      "0 new links from URL http://www.education.uct.ac.za/sites/default/files/image_tool/images/224/People/Academic_Staff/Theodor/PSMCDAchapter.pdf\n",
      "3 new links from URL https://www.academia.edu/14558111/Rational_analysis_for_a_problematic_world_revisited_problem_structuring_methods_for_complexity_uncertainty_and_conflict_2nd_edition._Edited_by_Jonathan_Rosenhead_and_John_Mingers._Published_by_Wiley_Chichester_2001_366_pp._ISBN_0_471_49523_9_22.5\n"
     ]
    },
    {
     "name": "stderr",
     "output_type": "stream",
     "text": [
      "Some characters could not be decoded, and were replaced with REPLACEMENT CHARACTER.\n"
     ]
    },
    {
     "name": "stdout",
     "output_type": "stream",
     "text": [
      "0 new links from URL http://www.jacobenfield.com/dossier/PolicyAnalysis_problemStructuring.pdf\n",
      "3 new links from URL https://www.theorsociety.com/what-we-do/publications/magazines/inside-or/2019-june/using-problem-structuring-methods-finding-solutions-and-framing-analysis/\n",
      "3 new links from URL https://link.springer.com/article/10.1007/s12351-017-0310-0\n",
      "Error: 403 Client Error: Forbidden for url: https://www.wiley.com/en-us/Rational+Analysis+for+a+Problematic+World+Revisited%3A+Problem+Structuring+Methods+for+Complexity%2C+Uncertainty+and+Conflict%2C+2nd+Edition-p-9780471495239 on URL: https://www.wiley.com/en-us/Rational+Analysis+for+a+Problematic+World+Revisited%3A+Problem+Structuring+Methods+for+Complexity%2C+Uncertainty+and+Conflict%2C+2nd+Edition-p-9780471495239\n",
      "1 new links from URL https://382087907240089574.weebly.com/\n",
      "3 new links from URL https://www.slideshare.net/nida19/public-policy-analysisdunn\n"
     ]
    },
    {
     "name": "stderr",
     "output_type": "stream",
     "text": [
      "Some characters could not be decoded, and were replaced with REPLACEMENT CHARACTER.\n"
     ]
    },
    {
     "name": "stdout",
     "output_type": "stream",
     "text": [
      "0 new links from URL http://www.sagepub.com/sites/default/files/upm-binaries/47370_Seale_Chapter_11.pdf\n"
     ]
    },
    {
     "name": "stderr",
     "output_type": "stream",
     "text": [
      "Some characters could not be decoded, and were replaced with REPLACEMENT CHARACTER.\n"
     ]
    },
    {
     "name": "stdout",
     "output_type": "stream",
     "text": [
      "0 new links from URL http://www.ijsrp.org/research-paper-1013/ijsrp-p2244.pdf\n",
      "3 new links from URL https://bmchealthservres.biomedcentral.com/articles/10.1186/1472-6963-11-108\n",
      "3 new links from URL https://www.academia.edu/2521659/Problem_structuring_methods_in_action\n",
      "3 new links from URL https://www.managers.org.uk/knowledge-bank/problem-solving\n",
      "3 new links from URL https://www.mindtools.com/pages/main/newMN_TMC.htm\n",
      "3 new links from URL https://www.semanticscholar.org/paper/Teaching-Problem-Structuring-Methods%3A-Improving-Carreras-Kaur/f2a4cb9e071decc9e1d27e040ab2bed04f142c46\n"
     ]
    },
    {
     "name": "stderr",
     "output_type": "stream",
     "text": [
      "Some characters could not be decoded, and were replaced with REPLACEMENT CHARACTER.\n"
     ]
    },
    {
     "name": "stdout",
     "output_type": "stream",
     "text": [
      "0 new links from URL https://www.miun.se/siteassets/fakulteter/nmt/summer-university/problemanalysispdf\n",
      "Error: 406 Client Error: Not Acceptable for url: http://www.sciencesphere.org/ijispm/archive/ijispm-050203.pdf on URL: http://www.sciencesphere.org/ijispm/archive/ijispm-050203.pdf\n",
      "3 new links from URL https://asq.org/quality-resources/problem-solving\n",
      "0 new links from URL https://study.com/academy/lesson/problem-solving-methods-definition-types.html\n",
      "3 new links from URL https://ianjseath.wordpress.com/2010/09/02/problem-structuring-methods/\n"
     ]
    },
    {
     "name": "stderr",
     "output_type": "stream",
     "text": [
      "Some characters could not be decoded, and were replaced with REPLACEMENT CHARACTER.\n"
     ]
    },
    {
     "name": "stdout",
     "output_type": "stream",
     "text": [
      "0 new links from URL http://www.ihmgwalior.net/pdf/research_methodology.pdf\n",
      "3 new links from URL https://explorable.com/defining-a-research-problem\n",
      "3 new links from URL https://en.wikipedia.org/wiki/Category:Problem_structuring_methods\n"
     ]
    },
    {
     "name": "stderr",
     "output_type": "stream",
     "text": [
      "Some characters could not be decoded, and were replaced with REPLACEMENT CHARACTER.\n"
     ]
    },
    {
     "name": "stdout",
     "output_type": "stream",
     "text": [
      "0 new links from URL https://www.dol.gov/odep/topics/youth/softskills/Problem.pdf\n",
      "3 new links from URL https://business.tutsplus.com/articles/top-brainstorming-techniques--cms-27181\n",
      "3 new links from URL https://www.smartsheet.com/problem-solving-techniques\n",
      "3 new links from URL https://www.simplypsychology.org/interviews.html\n"
     ]
    },
    {
     "name": "stderr",
     "output_type": "stream",
     "text": [
      "Some characters could not be decoded, and were replaced with REPLACEMENT CHARACTER.\n"
     ]
    },
    {
     "name": "stdout",
     "output_type": "stream",
     "text": [
      "0 new links from URL https://gysysem.files.wordpress.com/2015/06/problem-structuring-methods-pdf.pdf\n",
      "3 new links from URL https://www.mindtools.com/pages/article/newTMC_00.htm\n",
      "3 new links from URL http://blog.brewerscience.com/six-steps-to-structured-problem-solving\n"
     ]
    },
    {
     "name": "stderr",
     "output_type": "stream",
     "text": [
      "Some characters could not be decoded, and were replaced with REPLACEMENT CHARACTER.\n"
     ]
    },
    {
     "name": "stdout",
     "output_type": "stream",
     "text": [
      "0 new links from URL http://users.jyu.fi/~jhaka/ties598/Value-focused%20thinking%20as%20a%20problem%20structuring%20method.pdf\n",
      "3 new links from URL https://www.chanty.com/blog/problem-solving-techniques/\n",
      "3 new links from URL https://www.forbes.com/sites/nickmorgan/2011/02/02/243/\n",
      "3 new links from URL https://www.merriam-webster.com/dictionary/design\n",
      "Error: 403 Client Error: Forbidden for url: https://design.cricut.com/ on URL: https://design.cricut.com/\n",
      "3 new links from URL https://en.wikipedia.org/wiki/Design\n",
      "3 new links from URL https://design-milk.com/\n",
      "3 new links from URL https://www.dictionary.com/browse/design\n",
      "Error: 403 Client Error: Forbidden for url: https://www.canva.com/ on URL: https://www.canva.com/\n",
      "3 new links from URL https://www.thefreedictionary.com/design\n",
      "3 new links from URL https://designbundles.net/\n",
      "3 new links from URL https://en.wikipedia.org/wiki/Graphic_design\n",
      "3 new links from URL https://ant.design/index-cn\n",
      "3 new links from URL https://www.adobe.com/products/indesign.html\n",
      "3 new links from URL https://www.thesaurus.com/browse/design\n",
      "3 new links from URL https://design.google/\n",
      "3 new links from URL https://www.dezeen.com/design/\n",
      "3 new links from URL https://learn.cricut.com/design-space/overview\n",
      "3 new links from URL https://www.interiordesign.net/\n",
      "3 new links from URL https://design.uic.edu/what-is-design\n",
      "0 new links from URL http://material.io/design\n",
      "Error: 403 Client Error: Forbidden for url: https://www.pexels.com/search/design/ on URL: https://www.pexels.com/search/design/\n",
      "3 new links from URL http://www.businessdictionary.com/definition/design.html\n",
      "Error: 403 Client Error: Forbidden for url: https://www.freepik.com/free-photos-vectors/design on URL: https://www.freepik.com/free-photos-vectors/design\n",
      "3 new links from URL https://www.merriam-webster.com/thesaurus/design\n",
      "0 new links from URL http://designhomes.com/\n",
      "3 new links from URL https://www.wired.com/category/design/\n",
      "3 new links from URL https://www.designboom.com/\n",
      "3 new links from URL https://99designs.com/\n",
      "3 new links from URL https://designbundles.net/login\n",
      "3 new links from URL https://dictionary.cambridge.org/dictionary/english/design\n",
      "Error: 403 Client Error: Forbidden for url: https://www.canva.com/create/logos/ on URL: https://www.canva.com/create/logos/\n",
      "3 new links from URL https://www.wallpaper.com/design\n",
      "3 new links from URL https://www.ted.com/topics/design\n",
      "Error: 403 Client Error: Forbidden for url: https://www.designmom.com/ on URL: https://www.designmom.com/\n",
      "3 new links from URL https://www.cnn.com/style/design\n",
      "Error: 520 Server Error:  for url: https://www.webdesign.org/ on URL: https://www.webdesign.org/\n",
      "3 new links from URL https://dictionary.cambridge.org/us/dictionary/english/design\n",
      "3 new links from URL https://poets.org/poem/design\n",
      "3 new links from URL https://www.creativebloq.com/graphic-design/free-graphic-design-software-8134039\n",
      "3 new links from URL https://www.csulb.edu/design\n",
      "0 new links from URL http://hjedesign.com/eDesign.html\n",
      "3 new links from URL https://www.britannica.com/art/graphic-design\n",
      "3 new links from URL https://www.etymonline.com/word/design\n",
      "3 new links from URL https://pbskids.org/designsquad\n",
      "3 new links from URL https://arts.ucdavis.edu/design\n",
      "Error: 403 Client Error: Forbidden for url: https://design-hotels.marriott.com/ on URL: https://design-hotels.marriott.com/\n",
      "3 new links from URL https://www.designhill.com/logo-design/\n",
      "3 new links from URL https://www.hgtv.com/design/decorating\n",
      "3 new links from URL https://designindulgence.blogspot.com/\n",
      "Error: 503 Server Error: Service Unavailable for url: https://www.amazon.com/design/s?k=design on URL: https://www.amazon.com/design/s?k=design\n",
      "3 new links from URL https://www.autodesk.com/products/design-review/download\n",
      "0 new links from URL http://www.captcha.net/\n",
      "2 new links from URL https://www.google.com/recaptcha/intro/v3.html\n",
      "1 new links from URL https://captcha.org/\n",
      "3 new links from URL https://en.wikipedia.org/wiki/CAPTCHA\n",
      "3 new links from URL https://www.merriam-webster.com/dictionary/captcha\n",
      "0 new links from URL https://2captcha.com/\n",
      "3 new links from URL https://captcha.com/\n",
      "3 new links from URL https://www.hcaptcha.com/\n",
      "3 new links from URL https://support.google.com/recaptcha/?hl=en\n",
      "3 new links from URL http://www.captchaclub.com/\n",
      "Error: 403 Client Error: Forbidden for url: https://www.cloudflare.com/learning/bots/how-captchas-work/ on URL: https://www.cloudflare.com/learning/bots/how-captchas-work/\n",
      "3 new links from URL https://support.google.com/a/answer/1217728?hl=es\n",
      "1 new links from URL https://chrome.google.com/webstore/detail/rumola-bypass-captcha/bjjgbdlbgjeoankjijbmheneoekbghcg\n",
      "1 new links from URL https://captcha.com/captcha-accessibility.html\n",
      "3 new links from URL https://www.snaphost.com/captcha/\n",
      "3 new links from URL https://cs.wikipedia.org/wiki/CAPTCHA\n",
      "3 new links from URL https://www.gravityforms.com/rip-captcha/\n",
      "3 new links from URL https://docs.magento.com/m2/ce/user_guide/stores/security-captcha.html\n",
      "3 new links from URL https://www.mtcaptcha.com/\n",
      "3 new links from URL https://www.aboutespanol.com/que-es-captcha-157845\n",
      "3 new links from URL https://internet.com/website-building/how-to-add-a-captcha-to-your-website/\n",
      "3 new links from URL https://www.britannica.com/technology/CAPTCHA\n",
      "0 new links from URL https://2captcha.com/auth/login\n",
      "3 new links from URL https://www.drupal.org/project/captcha\n",
      "1 new links from URL https://developers.google.com/recaptcha/\n",
      "3 new links from URL https://www.thefreedictionary.com/captcha\n",
      "3 new links from URL https://www.dictionary.com/e/captcha/\n",
      "3 new links from URL https://pypi.org/project/captcha/\n",
      "3 new links from URL http://www.malwareremovalguides.info/google-captcha-removal-guide/\n",
      "3 new links from URL https://dictionary.cambridge.org/us/dictionary/english/captcha\n",
      "3 new links from URL https://www.dictionary.com/browse/captcha\n",
      "3 new links from URL https://developers.google.com/recaptcha/docs/v3\n",
      "3 new links from URL https://computer.howstuffworks.com/captcha.htm\n",
      "3 new links from URL https://www.thebalanceeveryday.com/what-to-do-when-captchas-dont-work-897057\n",
      "3 new links from URL https://moneyconnexion.com/captcha-work.htm\n",
      "3 new links from URL https://en.wikipedia.org/wiki/ReCAPTCHA\n",
      "3 new links from URL https://www.webopedia.com/TERM/C/CAPTCHA.html\n",
      "3 new links from URL https://captchas.io/\n",
      "3 new links from URL https://www.raymond.cc/blog/bypass-captcha-firefox-auto-solving-captcha-monster/\n",
      "3 new links from URL https://www.computerhope.com/jargon/c/captcha.htm\n",
      "3 new links from URL https://www.google.com/recaptcha/admin/\n",
      "3 new links from URL https://searchsecurity.techtarget.com/definition/CAPTCHA\n",
      "3 new links from URL https://www.definitions.net/definition/CAPTCHA\n",
      "3 new links from URL https://www.pandasecurity.com/mediacenter/panda-security/what-is-captcha/\n",
      "3 new links from URL https://www.solvemedia.com/security/captcha\n",
      "3 new links from URL https://acronyms.thefreedictionary.com/CAPTCHA\n",
      "Error: 502 Server Error: Bad Gateway for url: https://www.reddit.com/r/captcha/ on URL: https://www.reddit.com/r/captcha/\n",
      "3 new links from URL https://bestwebsoft.com/captcha-vs-recaptcha-what-to-choose/\n",
      "3 new links from URL https://bg.wikipedia.org/wiki/CAPTCHA\n",
      "3 new links from URL https://www.spanishdict.com/translate/captcha\n",
      "3 new links from URL https://en.wikipedia.org/wiki/Turing_test\n",
      "3 new links from URL https://plato.stanford.edu/entries/turing-test/\n",
      "3 new links from URL https://www.britannica.com/technology/Turing-test\n",
      "3 new links from URL https://store.steampowered.com/app/499520/The_Turing_Test/\n",
      "0 new links from URL http://www.psych.utoronto.ca/users/reingold/courses/ai/turing.html\n",
      "3 new links from URL https://www.youtube.com/watch?v=3wLqsRLvV-c\n",
      "3 new links from URL https://searchenterpriseai.techtarget.com/definition/Turing-test\n",
      "1 new links from URL https://www.turing.org.uk/scrapbook/test.html\n",
      "3 new links from URL https://tvtropes.org/pmwiki/pmwiki.php/Main/TuringTest\n",
      "3 new links from URL https://www.microsoft.com/en-us/p/the-turing-test/bs2mmfvlkxrk\n",
      "3 new links from URL https://www.investopedia.com/terms/t/turing-test.asp\n",
      "3 new links from URL https://www.youtube.com/watch?v=sXx-PpEBR7k\n",
      "3 new links from URL https://www.theguardian.com/technology/2014/jun/09/what-is-the-alan-turing-test\n"
     ]
    },
    {
     "name": "stdout",
     "output_type": "stream",
     "text": [
      "3 new links from URL https://www.techopedia.com/definition/200/turing-test\n",
      "3 new links from URL https://psychology.wikia.org/wiki/Turing_test\n",
      "3 new links from URL https://www.merriam-webster.com/dictionary/Turing%20test\n",
      "3 new links from URL https://www.javatpoint.com/turing-test-in-ai\n",
      "3 new links from URL https://en.wikipedia.org/wiki/Alan_Turing\n",
      "3 new links from URL https://www.zdnet.com/article/google-duplex-beat-the-turing-test-are-we-doomed/\n",
      "3 new links from URL https://www.trueachievements.com/game/The-Turing-Test/walkthrough\n",
      "3 new links from URL https://pandorabots.com/mitsuku/\n",
      "3 new links from URL https://www.xboxachievements.com/game/the-turing-test/achievements/\n",
      "3 new links from URL https://www.geeksforgeeks.org/turing-test-artificial-intelligence/\n",
      "3 new links from URL https://www.bbvaopenmind.com/en/articles/the-future-of-human-machine-communications-the-turing-test/\n",
      "Error: 403 Client Error: Unavailable (IFW-U01) for url: https://www.ign.com/articles/2016/08/31/the-turing-test-review on URL: https://www.ign.com/articles/2016/08/31/the-turing-test-review\n",
      "3 new links from URL https://guides.gamepressure.com/theturingtest/guide.asp?ID=37189\n",
      "Error: 403 Client Error: Unavailable (IFW-U01) for url: https://www.ign.com/games/the-turing-test/ on URL: https://www.ign.com/games/the-turing-test/\n",
      "3 new links from URL https://www.washingtonpost.com/news/morning-mix/wp/2014/06/09/a-computer-just-passed-the-turing-test-in-landmark-trial/\n",
      "3 new links from URL https://www.worldatlas.com/articles/what-is-the-turing-test.html\n",
      "Error: 403 Client Error: Forbidden for url: https://www.sciencedirect.com/topics/neuroscience/turing-test on URL: https://www.sciencedirect.com/topics/neuroscience/turing-test\n",
      "0 new links from URL http://www.mind.ilstu.edu/curriculum/turing_machines/turing_test_and_machine_intelligence.php?modGUI=240&compGUI=1145&itemGUI=1956\n",
      "3 new links from URL https://www.trueachievements.com/game/The-Turing-Test/achievements\n",
      "3 new links from URL https://dictionary.cambridge.org/dictionary/english/turing-test\n",
      "3 new links from URL https://steamcommunity.com/app/499520/\n",
      "3 new links from URL https://www.ncbi.nlm.nih.gov/pmc/articles/PMC4867147/\n",
      "3 new links from URL https://www.wired.com/2012/06/pass-turing-ai-test/\n",
      "0 new links from URL https://developers.turing.com/\n",
      "3 new links from URL https://mitpress.mit.edu/books/turing-test\n",
      "3 new links from URL https://www.imdb.com/title/tt6810084/\n",
      "3 new links from URL https://www.microsoft.com/en-us/p/the-turing-test/9nblggh4vvtl\n",
      "3 new links from URL http://isturingtestpassed.github.io/\n",
      "3 new links from URL https://dictionary.cambridge.org/us/dictionary/english/turing-test\n",
      "3 new links from URL https://www.nintendo.com/games/detail/the-turing-test-switch/\n",
      "3 new links from URL https://store.na.square-enix-games.com/en_US/product/603204/the-turing-test\n",
      "3 new links from URL https://www.trustedreviews.com/reviews/the-turing-test\n",
      "3 new links from URL https://www.knowmail.me/blog/whats-turing-test-ai-pass/\n",
      "3 new links from URL https://www.gamespot.com/the-turing-test/\n",
      "3 new links from URL https://ahistoryofai.com/turing-test/\n",
      "3 new links from URL https://www.newscientist.com/article/dn20905-take-the-visual-turing-test/\n",
      "3 new links from URL https://www.wordhippo.com/what-is/another-word-for/Turing_test.html\n",
      "3 new links from URL https://speckyboy.com/adaptive-user-interfaces/\n",
      "3 new links from URL https://en.wikipedia.org/wiki/Adaptive_user_interface\n",
      "3 new links from URL https://www.academia.edu/5195143/Contextual_adaptive_user_interface_for_Android_devices\n",
      "3 new links from URL https://developer.apple.com/design/human-interface-guidelines/ios/visual-design/adaptivity-and-layout/\n",
      "3 new links from URL http://www.nelson-miller.com/pros-and-cons-of-adaptive-user-interfaces/\n",
      "Error: 403 Client Error: Forbidden for url: https://www.sciencedirect.com/book/9780121377557/adaptive-user-interfaces on URL: https://www.sciencedirect.com/book/9780121377557/adaptive-user-interfaces\n",
      "3 new links from URL https://www.quora.com/What-are-good-examples-of-adaptive-user-interfaces-AUI\n",
      "3 new links from URL https://developer.apple.com/news/?id=01132020b\n",
      "Error: 403 Client Error: Forbidden for url: https://usabilitygeek.com/adaptive-vs-responsive-design/ on URL: https://usabilitygeek.com/adaptive-vs-responsive-design/\n",
      "3 new links from URL http://www.itrelease.com/2017/11/advantages-disadvantages-graphical-user-interface/\n",
      "3 new links from URL https://ds.gpii.net/content/what-are-adaptive-user-interfaces\n",
      "Error: 429 Client Error: Too Many Requests for url: https://www.researchgate.net/publication/276420710_Design_Adaptable_and_Adaptive_User_Interfaces_A_Method_to_Manage_the_Information on URL: https://www.researchgate.net/publication/276420710_Design_Adaptable_and_Adaptive_User_Interfaces_A_Method_to_Manage_the_Information\n",
      "3 new links from URL https://www.elsevier.com/books/adaptive-user-interfaces/browne/978-0-12-137755-7\n",
      "Error: 403 Client Error: Forbidden for url: https://www.sciencedirect.com/science/article/pii/S1877050915016634 on URL: https://www.sciencedirect.com/science/article/pii/S1877050915016634\n",
      "3 new links from URL https://www.igi-global.com/dictionary/evaluating-context-aware-mobile-interfaces/631\n",
      "3 new links from URL https://link.springer.com/chapter/10.1007/978-3-642-34228-8_6\n",
      "3 new links from URL https://www.academia.edu/Documents/in/Adaptive_User_Interface\n"
     ]
    },
    {
     "name": "stderr",
     "output_type": "stream",
     "text": [
      "Some characters could not be decoded, and were replaced with REPLACEMENT CHARACTER.\n"
     ]
    },
    {
     "name": "stdout",
     "output_type": "stream",
     "text": [
      "0 new links from URL http://www.cs.tufts.edu/~jacob/250aui/AdaptiveBenefits_Lavie_IJoHCI10.pdf\n",
      "3 new links from URL https://www.youtube.com/watch?v=sOJSoRr7UT4\n",
      "3 new links from URL https://vivaldi.com/features/user-interface/\n",
      "3 new links from URL https://www.interaction-design.org/literature/article/adaptive-vs-responsive-design\n",
      "Error: 503 Server Error: Service Unavailable for url: https://www.amazon.com/Adaptive-User-Interfaces-Principles-Information/dp/0444815457 on URL: https://www.amazon.com/Adaptive-User-Interfaces-Principles-Information/dp/0444815457\n",
      "3 new links from URL https://www.techrepublic.com/blog/web-designer/what-is-the-difference-between-responsive-vs-adaptive-web-design/\n",
      "3 new links from URL https://www.elsevier.com/books/adaptive-user-interfaces/schneider-hufschmidt/978-0-444-81545-3\n",
      "3 new links from URL https://www.worldcat.org/title/adaptive-user-interfaces/oclc/898326725\n",
      "3 new links from URL https://link.springer.com/chapter/10.1007%2F978-3-540-36562-4_10\n",
      "Error: 429 Client Error: Too Many Requests for url: https://www.researchgate.net/publication/221039493_Adaptable_and_Adaptive_User_Interfaces_for_Disabled_Users_in_the_AVANTI_Project on URL: https://www.researchgate.net/publication/221039493_Adaptable_and_Adaptive_User_Interfaces_for_Disabled_Users_in_the_AVANTI_Project\n",
      "3 new links from URL https://www.nelson-miller.com/what-is-an-adaptive-user-interface/\n",
      "3 new links from URL https://www.youtube.com/watch?v=ODrE7SodLPs\n",
      "3 new links from URL https://patents.google.com/patent/US20100097331A1/en\n",
      "3 new links from URL https://www.creativebloq.com/inspiration/the-future-of-adaptive-user-interfaces\n",
      "3 new links from URL https://dl.acm.org/doi/10.1145/1899503.1899518\n",
      "3 new links from URL https://docs.microsoft.com/en-us/windows/uwp/design/basics/\n",
      "0 new links from URL https://www.globalspec.com/industrial-directory/adaptive_user_interfaces\n",
      "3 new links from URL https://www.nngroup.com/articles/accessible-design-for-users-with-disabilities/\n",
      "3 new links from URL https://www.cram.com/essay/Adaptive-User-Interfaces-Based-On-The-Internet/F38BQUH9J5XW\n",
      "Error: 503 Server Error: Service Unavailable for url: https://www.amazon.com/Adaptive-User-Interfaces-Dermot-Browne/dp/1493305786 on URL: https://www.amazon.com/Adaptive-User-Interfaces-Dermot-Browne/dp/1493305786\n",
      "3 new links from URL https://en.wikipedia.org/wiki/User_interface\n",
      "0 new links from URL http://adaptive-ui.com/\n",
      "3 new links from URL https://www.ibm.com/developerworks/library/wa-uihealth/index.html\n",
      "3 new links from URL https://sites.google.com/site/johncgrundy/research/adaptive-user-interfaces\n",
      "3 new links from URL https://www.techotopia.com/index.php/Using_Trait_Variations_to_Design_Adaptive_iOS_User_Interfaces\n",
      "3 new links from URL https://flowpaper.com/html5_pdf_viewer/\n",
      "3 new links from URL https://technofaq.org/posts/2017/02/adaptive-user-interface-design-in-ios-app-development/\n",
      "0 new links from URL http://www.isle.org/~langley/adapt.html\n",
      "3 new links from URL https://www.interaction-design.org/literature/topics/adaptive-design\n",
      "3 new links from URL https://www.intechopen.com/books/human-computer-interaction/current-challenges-and-applications-for-adaptive-user-interfaces\n"
     ]
    },
    {
     "name": "stderr",
     "output_type": "stream",
     "text": [
      "Some characters could not be decoded, and were replaced with REPLACEMENT CHARACTER.\n"
     ]
    },
    {
     "name": "stdout",
     "output_type": "stream",
     "text": [
      "0 new links from URL https://www.omg.org/news/meetings/workshops/UML_2003_Manual/03-3_Armstrong\n",
      "3 new links from URL https://openupresources.org/\n",
      "3 new links from URL https://openupresources.org/math-curriculum/\n",
      "3 new links from URL https://en.wikipedia.org/wiki/OpenUP\n",
      "3 new links from URL https://access.openupresources.org/curricula/our6-8math/en/ccss/index.html\n",
      "3 new links from URL https://openup.org.za/\n",
      "3 new links from URL https://www.openup.hk/index.htm?lang=en\n",
      "3 new links from URL https://www.thefreedictionary.com/open+up\n",
      "3 new links from URL https://www.eclipse.org/epf/openup_component/openup_vision.php\n",
      "3 new links from URL https://www.facebook.com/hkopenup\n",
      "3 new links from URL https://www.openup.hk/about-us.htm?lang=en\n"
     ]
    },
    {
     "name": "stderr",
     "output_type": "stream",
     "text": [
      "Some characters could not be decoded, and were replaced with REPLACEMENT CHARACTER.\n"
     ]
    },
    {
     "name": "stdout",
     "output_type": "stream",
     "text": [
      "0 new links from URL https://www.eclipse.org/epf/general/OpenUP.pdf\n",
      "3 new links from URL http://open-up.eu/en\n",
      "3 new links from URL https://www.merriam-webster.com/dictionary/open%20up\n",
      "3 new links from URL https://openup.education/\n",
      "3 new links from URL https://www.thesaurus.com/browse/open%20up\n",
      "3 new links from URL https://www.youtube.com/channel/UC3pQh1Hr854ECjIRu8fGg1g\n",
      "3 new links from URL https://www.youtube.com/watch?v=wBqILCSE70c\n",
      "3 new links from URL https://www.openup.shop/\n",
      "3 new links from URL https://openup-pm.com/\n",
      "3 new links from URL https://www.blender.org/press/lockdown-openup-live-streams-tutorials-characters/\n",
      "0 new links from URL https://www.opencycle.com/up\n",
      "0 new links from URL http://www.utm.mx/~caff/doc/OpenUPWeb/index.htm\n",
      "0 new links from URL http://www.openup.pt/\n",
      "3 new links from URL https://access.openupresources.org/curricula/our6-8math/en/grade-6/index.html\n",
      "3 new links from URL https://sourceforge.net/projects/openup-br/\n",
      "3 new links from URL https://www.openup.global/agenda\n",
      "3 new links from URL http://www.openup-project.eu/\n",
      "3 new links from URL https://github.com/OpenUpSA\n",
      "1 new links from URL http://www.openup.us/\n",
      "0 new links from URL https://www.openup.media/\n",
      "3 new links from URL https://download.cnet.com/OpenUp/3000-2250_4-10057044.html\n",
      "3 new links from URL https://idioms.thefreedictionary.com/open+up\n",
      "3 new links from URL https://www.openup-visa.com/\n",
      "3 new links from URL https://www.openup.world/\n",
      "Error: 403 Client Error: Forbidden for url: https://www.openup.tech/ on URL: https://www.openup.tech/\n",
      "3 new links from URL https://sourceforge.net/projects/openup/\n",
      "Error: HTTPSConnectionPool(host='openup-usa.com', port=443): Max retries exceeded with url: / (Caused by SSLError(SSLError(\"bad handshake: SysCallError(-1, 'Unexpected EOF')\"))) on URL: https://openup-usa.com/\n",
      "3 new links from URL https://dictionary.cambridge.org/dictionary/english/open-up\n",
      "3 new links from URL https://www.facebook.com/OpenUpFest/\n",
      "3 new links from URL https://www.openuphub.eu/\n",
      "3 new links from URL https://www.mtier.org/solutions/apps/openup/\n",
      "3 new links from URL https://www.ibm.com/support/knowledgecenter/en/SSYMRC_5.0.0/com.ibm.jazz.platform.doc/topics/r_openup.html\n",
      "3 new links from URL https://letsopenup.org/\n",
      "0 new links from URL https://www.linkedin.com/company/openup\n",
      "1 new links from URL http://spss.allenandunwin.com.s3-website-ap-southeast-2.amazonaws.com/\n",
      "3 new links from URL https://apps.apple.com/us/app/openup-uea/id1389844247\n",
      "3 new links from URL https://www.seniorresource.com/shared-housing/Colorado/Denver/Openup~24/\n",
      "3 new links from URL https://en.wikipedia.org/wiki/Computer_user_satisfaction\n",
      "Error: HTTPSConnectionPool(host='www.theacsi.org', port=443): Max retries exceeded with url: /industries/manufacturing/personal-computer (Caused by SSLError(SSLError(\"bad handshake: Error([('SSL routines', 'tls_process_server_certificate', 'certificate verify failed')])\"))) on URL: https://www.theacsi.org/industries/manufacturing/personal-computer\n",
      "Error: 404 Client Error: Not Found for url: http://www.thefullwiki.org/Computer_user_satisfaction on URL: http://www.thefullwiki.org/Computer_user_satisfaction\n",
      "3 new links from URL https://dl.acm.org/doi/10.1145/1041872.1041881\n",
      "0 new links from URL http://www.quantisoft.com/Industries/IT.htm\n",
      "3 new links from URL https://www.ccna7.com/ite/ite-v6-0/ite-chapter-13-exam-answer-v6-0/\n"
     ]
    },
    {
     "name": "stderr",
     "output_type": "stream",
     "text": [
      "Some characters could not be decoded, and were replaced with REPLACEMENT CHARACTER.\n"
     ]
    },
    {
     "name": "stdout",
     "output_type": "stream",
     "text": [
      "0 new links from URL http://ijcim.th.org/past_editions/2018V26N2/26n2Page90.pdf\n",
      "3 new links from URL https://pubsonline.informs.org/doi/abs/10.1287/mnsc.29.5.530\n",
      "Error: HTTPSConnectionPool(host='www.theacsi.org', port=443): Max retries exceeded with url: /index.php?option=com_content&view=article&id=147&catid=&Itemid=212&i=Personal+Computers (Caused by SSLError(SSLError(\"bad handshake: Error([('SSL routines', 'tls_process_server_certificate', 'certificate verify failed')])\"))) on URL: https://www.theacsi.org/index.php?option=com_content&view=article&id=147&catid=&Itemid=212&i=Personal+Computers\n",
      "0 new links from URL https://regitsur.sitehost.iu.edu/2009/iuk/iuk_form09.html\n",
      "3 new links from URL https://www.nngroup.com/articles/satisfaction-vs-performance-metrics/\n",
      "3 new links from URL https://www.cs.hr/contact/customer-satisfaction-questionnaire\n",
      "3 new links from URL https://www.macrumors.com/2013/09/18/apple-tops-personal-computer-customer-satisfaction-for-tenth-straight-year/\n",
      "0 new links from URL https://www.questionpro.com/survey-templates/help-desk-service-support/\n",
      "Error: 429 Client Error: Too Many Requests for url: https://www.researchgate.net/publication/37357610_Validation_of_a_Computer_User_Satisfaction_Questionnaire_to_Measure_IS_Success_in_Small_Business on URL: https://www.researchgate.net/publication/37357610_Validation_of_a_Computer_User_Satisfaction_Questionnaire_to_Measure_IS_Success_in_Small_Business\n",
      "3 new links from URL https://www.semanticscholar.org/paper/Development-of-a-Tool-for-Measuring-and-Analyzing-Bailey-Pearson/b174befe30e4696699ca0abf07ff2d07ef8fa4f4\n",
      "Error: 403 Client Error: Forbidden for url: https://www.ncbi.nlm.nih.gov/pmc/articles/PMC2245307/ on URL: https://www.ncbi.nlm.nih.gov/pmc/articles/PMC2245307/\n",
      "3 new links from URL https://www.surveymonkey.com/mp/software-evaluation-survey-template/\n",
      "3 new links from URL https://www.academia.edu/38280148/The_impact_of_Marketing_Strategy_on_Customer_Satisfaction_for_E-learning_A_Marketing_strategies_Model_Approach\n",
      "3 new links from URL https://www.bluleadz.com/blog/20-of-the-best-customer-survey-questions-you-should-be-asking\n",
      "3 new links from URL https://www.wufoo.com/gallery/templates/surveys/tech-support-satisfaction-survey/\n"
     ]
    },
    {
     "name": "stderr",
     "output_type": "stream",
     "text": [
      "Some characters could not be decoded, and were replaced with REPLACEMENT CHARACTER.\n"
     ]
    },
    {
     "name": "stdout",
     "output_type": "stream",
     "text": [
      "0 new links from URL http://epubs.scu.edu.au/cgi/viewcontent.cgi?article=1034&context=comm_pubs\n",
      "Error: 420 Client Error: Enhance Your Calm for url: https://www.jstor.org/stable/2631354 on URL: https://www.jstor.org/stable/2631354\n"
     ]
    },
    {
     "name": "stderr",
     "output_type": "stream",
     "text": [
      "Some characters could not be decoded, and were replaced with REPLACEMENT CHARACTER.\n"
     ]
    },
    {
     "name": "stdout",
     "output_type": "stream",
     "text": [
      "0 new links from URL http://proceedings.informingscience.org/InSITE2012/InSITE12p603-611Batada0153.pdf\n",
      "3 new links from URL https://www.computeruser.com/upsidelms-completes-16-successful-years-with-a-legacy-of-world-class-learn-tech-solutioning/\n",
      "3 new links from URL https://cxl.com/blog/8-ways-to-measure-ux-satisfaction/\n",
      "Error: 403 Client Error: Forbidden for url: https://www.sciencedirect.com/topics/computer-science/user-satisfaction on URL: https://www.sciencedirect.com/topics/computer-science/user-satisfaction\n",
      "Error: 403 Client Error: Forbidden for url: https://www.coursehero.com/file/13401372/Chapter-1/ on URL: https://www.coursehero.com/file/13401372/Chapter-1/\n",
      "2 new links from URL https://apps.dtic.mil/docs/citations/ADA046549\n",
      "3 new links from URL https://www.surveygizmo.com/resources/blog/sample-qs-satisfaction/\n",
      "3 new links from URL https://www.forbes.com/sites/christopherelliott/2018/07/11/these-companies-have-the-best-customer-service-heres-why/\n",
      "Error: 403 Client Error: Forbidden for url: https://www.sciencedirect.com/topics/computer-science/usability-questionnaire on URL: https://www.sciencedirect.com/topics/computer-science/usability-questionnaire\n",
      "3 new links from URL https://www.questionpro.com/blog/computer-security-survey-questions/\n",
      "3 new links from URL https://en.wikipedia.org/wiki/Talk:Computer_user_satisfaction\n",
      "3 new links from URL https://www.igi-global.com/dictionary/plan-upgrading-investment-data-network/31229\n",
      "3 new links from URL http://edutechwiki.unige.ch/en/Usability_and_user_experience_surveys\n",
      "3 new links from URL https://www.semanticscholar.org/paper/Validation-of-a-Computer-User-Satisfaction-to-IS-in-Armstrong-Fogarty/c3ec2c6cce5624b3d11ab26859fc7406ca8c3ced\n",
      "Error: 403 Client Error: Forbidden for url: https://www.storytel.com/ae/ar/books/1270866-Computer-user-satisfaction-A-Clear-and-Concise-Reference on URL: https://www.storytel.com/ae/ar/books/1270866-Computer-user-satisfaction-A-Clear-and-Concise-Reference\n",
      "3 new links from URL http://www.academia.edu/Documents/in/End_User_Computing_Satisfaction\n",
      "Error: 420 Client Error: Enhance Your Calm for url: https://www.jstor.org/stable/2631904 on URL: https://www.jstor.org/stable/2631904\n"
     ]
    },
    {
     "name": "stderr",
     "output_type": "stream",
     "text": [
      "Some characters could not be decoded, and were replaced with REPLACEMENT CHARACTER.\n"
     ]
    },
    {
     "name": "stdout",
     "output_type": "stream",
     "text": [
      "0 new links from URL https://www.eui.eu/Documents/ServicesAdmin/ComputingService/ICTSurvey2014.pdf\n",
      "3 new links from URL https://pubsonline.informs.org/doi/10.1287/mnsc.29.5.530\n",
      "3 new links from URL https://www.onetonline.org/link/details/15-1151.00\n",
      "3 new links from URL https://work.chron.com/give-good-customer-service-computer-technician-30938.html\n",
      "Error: 403 Client Error: Forbidden for url: https://www.storytel.com/is/is/books/1270866-Computer-user-satisfaction-A-Clear-and-Concise-Reference on URL: https://www.storytel.com/is/is/books/1270866-Computer-user-satisfaction-A-Clear-and-Concise-Reference\n",
      "3 new links from URL https://www.computerworld.com/article/2475511/5-ways-it-can-improve-customer-satisfaction.html\n",
      "3 new links from URL https://www.managementstudyguide.com/customer-satisfaction.htm\n",
      "2 new links from URL http://www.cs.umd.edu/hcil/quis/\n",
      "3 new links from URL https://www.myfeelback.com/en/blog/how-customer-feedback-surveys-helps-apple-maintains-industry-leadership\n",
      "3 new links from URL https://www.techopedia.com/definition/3973/computer-aided-software-engineering-case\n",
      "3 new links from URL https://en.wikipedia.org/wiki/Computer-aided_software_engineering\n",
      "3 new links from URL https://searcherp.techtarget.com/definition/CASE-computer-aided-software-engineering\n",
      "3 new links from URL https://www.geeksforgeeks.org/computer-aided-software-engineering-case/\n",
      "Error: 403 Client Error: Forbidden for url: https://www.sciencedirect.com/topics/computer-science/computer-aided-software-engineering on URL: https://www.sciencedirect.com/topics/computer-science/computer-aided-software-engineering\n",
      "3 new links from URL https://www.c-sharpcorner.com/UploadFile/nipuntomar/computer-aided-software-engineering-tools-case/\n",
      "Error: 405 Client Error: Method Not Allowed for url: https://www.g2.com/categories/computer-aided-engineering-cae on URL: https://www.g2.com/categories/computer-aided-engineering-cae\n",
      "0 new links from URL http://www.umsl.edu/~sauterv/analysis/F08papers/View.html\n",
      "3 new links from URL https://www.youtube.com/watch?v=hHvypTnvF5E\n",
      "3 new links from URL https://en.wikipedia.org/wiki/Computer-aided_engineering\n",
      "3 new links from URL https://ithandbook.ffiec.gov/it-booklets/development-and-acquisition/development-procedures/software-development-techniques/computer-aided-software-engineering.aspx\n",
      "Error: 403 Client Error: Forbidden for url: https://quizlet.com/98511939/computer-aided-software-engineering-flash-cards/ on URL: https://quizlet.com/98511939/computer-aided-software-engineering-flash-cards/\n",
      "3 new links from URL https://www.top4download.com/free-computer-aided-software-engineering/\n",
      "3 new links from URL https://sourceforge.net/directory/?q=computer%20aided%20software%20engineering\n",
      "1 new links from URL http://www.selectbs.com/analysis-and-design/what-is-computer-aided-software-engineering\n",
      "3 new links from URL https://www.tutorialspoint.com/software_engineering/case_tools_overview.htm\n",
      "3 new links from URL https://www.softwareengineerinsider.com/articles/case-tools.html\n",
      "3 new links from URL https://medium.com/@stevejim56/what-are-computer-aided-software-engineering-tools-case-and-its-uses-for-software-development-6e8c7c5e9df2\n",
      "3 new links from URL https://www.slideshare.net/love64love/computer-aided-software-engineering\n",
      "Error: 403 Client Error: Forbidden for url: https://www.sciencedirect.com/topics/engineering/computer-aided-software-engineering on URL: https://www.sciencedirect.com/topics/engineering/computer-aided-software-engineering\n",
      "3 new links from URL http://www.rspa.com/spi/CASE.html\n",
      "3 new links from URL https://www.plm.automation.siemens.com/global/en/our-story/glossary/computer-aided-engineering-cae/13112\n",
      "3 new links from URL https://www.pearson.com/us/higher-education/professional---career/computer-science/computer-science/software-engineering/computer-aided-software-engineering.html\n",
      "Error: 500 Server Error: Internal Server Error for url: https://www.barnesandnoble.com/b/books/general-software-engineering/computer-aided-software-engineering-case/_/N-29Z8q8Zw3t on URL: https://www.barnesandnoble.com/b/books/general-software-engineering/computer-aided-software-engineering-case/_/N-29Z8q8Zw3t\n",
      "0 new links from URL https://docs.oracle.com/cd/E26228_01/doc.93/e21955/ch_overview_case.htm\n",
      "3 new links from URL https://encyclopedia2.thefreedictionary.com/Computer+Aided+Software+Engineering\n",
      "3 new links from URL https://www.youtube.com/watch?v=Lb5Y_0Cw_QM\n",
      "3 new links from URL https://sourceforge.net/software/computer-aided-engineering/\n",
      "3 new links from URL https://www.reference.com/world-view/examples-case-tools-5eff662166fe709e\n",
      "3 new links from URL https://www.gartner.com/en/information-technology/glossary/case-computer-aided-software-engineering\n",
      "3 new links from URL https://www.pannam.com/blog/top-design-engineering-software-tools/\n",
      "3 new links from URL https://ieeexplore.ieee.org/document/42901/\n",
      "3 new links from URL https://ieeexplore.ieee.org/xpl/RecentIssue.jsp?punumber=2217\n",
      "3 new links from URL https://www.capterra.com/engineering-cad-software/\n",
      "Error: 403 Client Error: Forbidden for url: https://quizlet.com/71745487/mis-160-ch1-flash-cards/ on URL: https://quizlet.com/71745487/mis-160-ch1-flash-cards/\n",
      "3 new links from URL https://www.britannica.com/technology/computer-aided-engineering\n",
      "3 new links from URL https://www.autodesk.com/solutions/cad-software\n",
      "3 new links from URL https://en.wikibooks.org/wiki/Introduction_to_Software_Engineering/Tools/Modelling_and_Case_Tools\n",
      "0 new links from URL https://learn.org/articles/What_Training_is_Necessary_for_a_Career_in_Computer_Aided_Design.html\n",
      "3 new links from URL https://www.bitpipe.com/rlist/term/type/it_download/Computer-Aided-Software-Engineering-Tools.html\n",
      "3 new links from URL https://www.thoughtco.com/what-is-software-engineering-958652\n",
      "3 new links from URL https://ja.wikipedia.org/wiki/Computer_Aided_Software_Engineering\n",
      "2 new links from URL https://pcwin.com/downloads/Computer-Aided-Software-Engineering.htm\n",
      "2 new links from URL https://www.bartleby.com/questions-and-answers/the-computeraided-software-engineering-case-approach-is-often-utilized-in-the-system-development-pro/9ad5f97e-82bf-47cd-ab0b-35e6a6647b66\n",
      "Error: 403 Client Error: Forbidden for url: https://www.glassdoor.com/Salaries/computer-aided-engineer-salary-SRCH_KO0,23.htm on URL: https://www.glassdoor.com/Salaries/computer-aided-engineer-salary-SRCH_KO0,23.htm\n",
      "3 new links from URL https://encyclopedia2.thefreedictionary.com/computer-aided+software+engineering\n",
      "3 new links from URL https://www.w3computing.com/systemsanalysis/using-case-tools/\n",
      "3 new links from URL https://databasemanagement.fandom.com/wiki/CASE_Tools\n",
      "3 new links from URL https://www.pcmag.com/encyclopedia/term/computer-aided-software-engineering\n",
      "3 new links from URL https://www.answers.com/Q/Advantages_of_Computer-aided_software_engineering\n",
      "3 new links from URL https://en.wikipedia.org/wiki/Empathic_design\n",
      "3 new links from URL https://www.designorate.com/empathic-design-approach-to-successful-design/\n",
      "Error: 403 Client Error: Forbidden for url: https://www.ncbi.nlm.nih.gov/pmc/articles/PMC3575059/ on URL: https://www.ncbi.nlm.nih.gov/pmc/articles/PMC3575059/\n",
      "3 new links from URL https://hbr.org/1997/11/spark-innovation-through-empathic-design\n",
      "3 new links from URL https://www.interaction-design.org/literature/article/design-thinking-getting-started-with-empathy\n",
      "3 new links from URL https://careerfoundry.com/en/blog/ux-design/what-is-empathy-in-design-thinking/\n",
      "3 new links from URL https://www.interaction-design.org/literature/article/empathic-design-is-empathy-the-ux-holy-grail\n",
      "3 new links from URL https://xd.adobe.com/ideas/perspectives/leadership-insights/why-i-dont-believe-in-empathic-design-don-norman/\n",
      "2 new links from URL http://www.empathydesign.com/\n",
      "3 new links from URL https://www.invisionapp.com/inside-design/essential-steps-designing-empathy/\n",
      "3 new links from URL https://medium.com/tradecraft-traction/empathic-design-what-is-it-good-for-f665563bcc92\n",
      "3 new links from URL https://www.bresslergroup.com/blog/empathic-design-in-practice/\n",
      "Error: 429 Client Error: Too Many Requests for url: https://www.researchgate.net/publication/264595571_What_Happened_to_Empathic_Design on URL: https://www.researchgate.net/publication/264595571_What_Happened_to_Empathic_Design\n"
     ]
    },
    {
     "name": "stdout",
     "output_type": "stream",
     "text": [
      "3 new links from URL https://sites.google.com/site/empathycodesign/home\n",
      "3 new links from URL https://www.igi-global.com/dictionary/empathic-design-research-strategies/9734\n",
      "3 new links from URL https://uiuxtraining.com/2019/08/27/empathic-design-a-beginners-guide/\n",
      "3 new links from URL https://cxl.com/blog/empathic-design/\n",
      "3 new links from URL https://www.appian.com/blog/empathic-design-engage-customers-get-innovation-mojo-back/\n",
      "2 new links from URL https://empathicdesigns.com/\n"
     ]
    },
    {
     "name": "stderr",
     "output_type": "stream",
     "text": [
      "Some characters could not be decoded, and were replaced with REPLACEMENT CHARACTER.\n"
     ]
    },
    {
     "name": "stdout",
     "output_type": "stream",
     "text": [
      "0 new links from URL https://new-ideo-com.s3.amazonaws.com/assets/files/pdfs/news/Empathy_on_the_Edge.pdf\n",
      "Error: 429 Client Error: Too Many Requests for url: https://www.researchgate.net/publication/301822240_Empathic_Design on URL: https://www.researchgate.net/publication/301822240_Empathic_Design\n",
      "3 new links from URL https://sites.google.com/site/empathycodesign/about-design\n",
      "Error: 403 Client Error: Forbidden for url: https://deviq.io/services/empathic-design/ on URL: https://deviq.io/services/empathic-design/\n",
      "0 new links from URL https://www.liquisearch.com/empathic_design\n",
      "3 new links from URL https://www.bresslergroup.com/blog/why-empathic-design/\n",
      "3 new links from URL https://encyclopedia2.thefreedictionary.com/empathic+design\n",
      "3 new links from URL https://www.youtube.com/watch?v=zs4u6A_e9R8\n",
      "3 new links from URL https://www.pcmag.com/encyclopedia/term/empathic-design\n",
      "3 new links from URL https://blog.hubspot.com/marketing/empathetic-content-marketing-examples\n",
      "3 new links from URL https://penji.co/empathic-design/\n",
      "3 new links from URL https://atrociousdeviants.miraheze.org/wiki/EmpathicDesign\n",
      "Error: 503 Server Error: Service Unavailable for url: https://www.amazon.com/Design-Empathic-World-Reconnecting-People/dp/1610914260 on URL: https://www.amazon.com/Design-Empathic-World-Reconnecting-People/dp/1610914260\n"
     ]
    },
    {
     "name": "stderr",
     "output_type": "stream",
     "text": [
      "Some characters could not be decoded, and were replaced with REPLACEMENT CHARACTER.\n"
     ]
    },
    {
     "name": "stdout",
     "output_type": "stream",
     "text": [
      "0 new links from URL https://dataprivacylab.org/dataprivacy/projects/dialectics/designmethods/plandweh.pdf\n",
      "3 new links from URL https://www.scoop.it/topic/empathic-design\n",
      "3 new links from URL https://dvmobile.squarespace.com/design-portal\n",
      "3 new links from URL https://wikimili.com/en/Empathic_design\n",
      "3 new links from URL http://axisarch.com/2017/12/empathetic-design-putting-people-first/\n",
      "3 new links from URL https://dzone.com/articles/empathic-design-5-ways-to-get-your-innovation-mojo\n",
      "3 new links from URL https://www.meetup.com/Empathic-Design-and-Innovation/\n",
      "3 new links from URL https://xd.adobe.com/ideas/principles/design-systems/creating-empathetic-design-systems/\n",
      "3 new links from URL https://www.experts-exchange.com/articles/18141/Empathic-Design-definition-and-framework.html\n",
      "3 new links from URL https://www.youtube.com/watch?v=i0w3ItNVl2E\n",
      "3 new links from URL https://medium.com/tag/empathic-design/latest\n",
      "Error: 403 Client Error: Forbidden for url: https://www.chegg.com/homework-help/could-apple-use-empathic-design-discover-customer-problems-n-chapter-4-problem-3mb-solution-9780133071627-exc on URL: https://www.chegg.com/homework-help/could-apple-use-empathic-design-discover-customer-problems-n-chapter-4-problem-3mb-solution-9780133071627-exc\n",
      "3 new links from URL https://experts.illinois.edu/en/publications/empathic-design-research-strategies\n",
      "3 new links from URL https://playbook.amanet.org/training-articles-design-thinking-not-just-empathic-design/\n",
      "0 new links from URL http://www.ijdesign.org/index.php/IJDesign/article/view/1008/403\n",
      "3 new links from URL https://hbr.org/2015/04/a-process-for-empathetic-product-design\n",
      "3 new links from URL https://en.wikipedia.org/wiki/Information_architecture\n",
      "3 new links from URL https://www.usability.gov/what-and-why/information-architecture.html\n",
      "3 new links from URL https://www.uxbooth.com/articles/complete-beginners-guide-to-information-architecture/\n",
      "3 new links from URL https://www.iainstitute.org/what-is-ia\n",
      "3 new links from URL https://careerfoundry.com/en/blog/ux-design/a-beginners-guide-to-information-architecture/\n",
      "3 new links from URL https://theblog.adobe.com/a-beginners-guide-to-information-architecture-for-ux-designers/\n",
      "Error: 503 Server Error: Service Unavailable for url: https://www.amazon.com/Information-Architecture-World-Wide-Web/dp/0596527349 on URL: https://www.amazon.com/Information-Architecture-World-Wide-Web/dp/0596527349\n",
      "3 new links from URL https://ils.indiana.edu/programs/specializations/information-architecture.html\n",
      "3 new links from URL https://www.toptal.com/designers/ia/guide-to-information-architecture\n",
      "Error: 503 Server Error: Service Unavailable for url: https://www.amazon.com/Information-Architecture-Beyond-Louis-Rosenfeld/dp/1491911689 on URL: https://www.amazon.com/Information-Architecture-Beyond-Louis-Rosenfeld/dp/1491911689\n",
      "3 new links from URL https://wpamelia.com/information-architecture/\n",
      "3 new links from URL https://www.theguardian.com/help/insideguardian/2010/feb/02/what-is-information-architecture\n",
      "3 new links from URL https://www.altexsoft.com/blog/uxdesign/how-to-create-information-architecture-for-web-design/\n",
      "3 new links from URL https://www.techrepublic.com/article/10-questions-about-information-architecture/\n",
      "3 new links from URL https://careerfoundry.com/en/blog/ux-design/what-is-information-architecture/\n",
      "3 new links from URL https://www.wired.com/2010/02/Information_Architecture_Tutorial/\n",
      "3 new links from URL https://www.nngroup.com/topic/information-architecture/\n",
      "3 new links from URL https://www.justinmind.com/blog/information-architecture-ux-guide/\n",
      "3 new links from URL https://simplicable.com/new/information-architecture\n",
      "3 new links from URL https://www.nngroup.com/courses/information-architecture/\n",
      "3 new links from URL https://www.atlassian.com/enterprise/data-center/confluence/organizing-confluence-information-architecture\n",
      "3 new links from URL https://www.oreilly.com/library/view/information-architecture-4th/9781491913529/\n",
      "3 new links from URL https://www.webfx.com/blog/web-design/information-architecture-101-techniques-and-best-practices/\n",
      "3 new links from URL https://uxplanet.org/information-architecture-basics-for-designers-b5d43df62e20\n",
      "3 new links from URL https://lis.catholic.edu/academics/courses-of-study/information-architecture/index.html\n",
      "0 new links from URL https://www.bmc.com/blogs/data-architecture-vs-information-architecture/\n",
      "2 new links from URL https://contentactive.com/blog/posts/2018/september/information-architecture-principles-best-practices-and-tools/\n",
      "3 new links from URL https://uxplanet.org/information-architecture-effective-techniques-for-designers-3c993956b1e1\n",
      "3 new links from URL https://xd.adobe.com/ideas/process/information-architecture/information-architecture-templates-for-web-design/\n",
      "Error: 403 Client Error: Forbidden for url: https://linchpinseo.com/information-architecture-basics/ on URL: https://linchpinseo.com/information-architecture-basics/\n",
      "3 new links from URL https://xd.adobe.com/ideas/process/information-architecture/introductory-guide-to-information-architecture/\n",
      "0 new links from URL https://study.com/academy/lesson/what-is-information-architecture-examples-definition.html\n",
      "3 new links from URL http://shop.oreilly.com/product/0636920034674.do\n",
      "3 new links from URL https://brainhub.eu/blog/information-architecture/\n",
      "3 new links from URL https://www.indeed.com/q-Information-Architect-jobs.html\n",
      "3 new links from URL https://blogs.oracle.com/enterprisearchitecture/information-architecture\n",
      "3 new links from URL https://www.oreilly.com/library/view/information-architecture-for/0596527349/ch01.html\n",
      "0 new links from URL https://study.com/articles/Information_Architecture_Training_and_Education_Program_Options.html\n",
      "3 new links from URL https://www.uxbooth.com/articles/the-difference-between-ia-and-ux-design/\n",
      "Error: 403 Client Error: Forbidden for url: https://sharepointmaven.com/introduction-to-sharepoint-information-architecture/ on URL: https://sharepointmaven.com/introduction-to-sharepoint-information-architecture/\n",
      "3 new links from URL https://blog.csgsolutions.com/information-architecture-vs-data-architecture\n",
      "3 new links from URL https://cxl.com/blog/website-information-architecture-optimal-user-experience/\n",
      "3 new links from URL https://www.gartner.com/en/information-technology/glossary/information-architecture\n",
      "3 new links from URL https://docs.microsoft.com/en-us/sharepoint/information-architecture-modern-experience\n",
      "3 new links from URL https://www.iainstitute.org/\n",
      "3 new links from URL https://blogs.adobe.com/creativecloud/information-architecture-the-scaffold-of-good-ux/\n",
      "3 new links from URL https://computer.howstuffworks.com/information-architecture4.htm\n",
      "3 new links from URL https://www.usability.gov/information-architecture\n",
      "3 new links from URL https://slickplan.com/blog/information-architecture-trends-2020\n",
      "3 new links from URL https://en.wikipedia.org/wiki/Direct_voice_input\n",
      "3 new links from URL https://theaviationist.com/tag/direct-voice-input/\n",
      "3 new links from URL https://fullforms.com/DVI/Direct-Voice-Input/1954\n",
      "3 new links from URL https://www.howtogeek.com/331072/how-to-use-voice-dictation-on-windows-10/\n",
      "3 new links from URL https://docs.microsoft.com/en-us/windows/mixed-reality/voice-input-in-directx\n",
      "3 new links from URL https://www.youtube.com/watch?v=IU_3HcMY4VM\n",
      "3 new links from URL https://economictimes.indiatimes.com/topic/Direct-voice-input/news/5/5\n",
      "3 new links from URL https://translation.babylon-software.com/english/to-english/direct%20voice%20input/\n",
      "3 new links from URL https://acronyms.thefreedictionary.com/Direct+Voice+Input\n",
      "3 new links from URL https://www.pcworld.com/article/2984791/how-to-enable-windows-10s-hey-cortana-voice-commands.html\n",
      "Error: 429 Client Error: Too Many Requests for url: https://www.allacronyms.com/DVI/Direct_Voice_Input on URL: https://www.allacronyms.com/DVI/Direct_Voice_Input\n",
      "3 new links from URL https://economictimes.indiatimes.com/topic/Direct-voice-input/news/3/3\n",
      "3 new links from URL https://voicenotebook.com/blog/linux-integration/\n",
      "3 new links from URL https://translation.babylon-software.com/english/direct%20voice%20input/\n",
      "3 new links from URL https://www.youtube.com/watch?v=tprrLRsadjg\n"
     ]
    },
    {
     "name": "stdout",
     "output_type": "stream",
     "text": [
      "3 new links from URL https://www.voicemod.net/\n",
      "3 new links from URL https://mqitcorporation.wordpress.com/tag/direct-voice-input/\n",
      "3 new links from URL https://bugzilla.mozilla.org/show_bug.cgi?id=778588\n",
      "3 new links from URL https://www.eurofighter.com/the-aircraft\n",
      "3 new links from URL https://vtol.org/store/product/direct-voice-input-for-control-of-an-avionics-management-system-7085.cfm\n",
      "3 new links from URL http://dict.youdao.com/search?q=direct%20voice%20input&le=eng&ori=1\n",
      "Error: 403 Client Error: Forbidden for url: https://www.sevenforums.com/sound-audio/162990-possible-direct-audio-output-input-mic.html on URL: https://www.sevenforums.com/sound-audio/162990-possible-direct-audio-output-input-mic.html\n",
      "3 new links from URL https://trace.tennessee.edu/utk_gradthes/5239/\n",
      "3 new links from URL https://patents.google.com/patent/US20140257788A1/en\n",
      "3 new links from URL https://www.acronymfinder.com/Direct-Voice-Input-(DVI).html\n",
      "3 new links from URL http://www.aftvnews.com/amazon-fire-tv-cube-can-now-change-inputs-on-more-television-models-with-newly-added-options/\n",
      "3 new links from URL https://support.swiftkey.com/hc/en-us/articles/201592041-How-do-I-use-Voice-to-Text-with-SwiftKey-on-Android-\n",
      "3 new links from URL https://www.lifewire.com/best-cd-recorders-cd-recording-systems-1846563\n",
      "3 new links from URL https://en.wikipedia.org/wiki/Talk:Direct_Voice_Input\n",
      "0 new links from URL https://www.ictlounge.com/html/direct_input_devices.htm\n",
      "3 new links from URL https://www.phonakpro.com/com/en/about-phonak/technologies/direct-connectivity.html\n",
      "3 new links from URL https://helpx.adobe.com/premiere-pro/using/recording-audio.html\n",
      "3 new links from URL https://play.google.com/store/apps/details?id=de.townkult.notizblock&hl=en_US\n",
      "3 new links from URL https://www.directsupply.com/\n",
      "Error: 403 Client Error: Forbidden for url: https://www.sciencedirect.com/science/article/abs/pii/S0892199712002044 on URL: https://www.sciencedirect.com/science/article/abs/pii/S0892199712002044\n",
      "3 new links from URL https://answers.sap.com/questions/3098266/what-is-the-difference-between---direct-input-meth.html\n",
      "3 new links from URL https://ieeexplore.ieee.org/document/942758/\n",
      "3 new links from URL https://docs.microsoft.com/en-us/windows/uwp/design/input/speech-interactions\n",
      "1 new links from URL https://www.ictlounge.com/html/direct_input_devices_new.htm\n",
      "Error: 403 Client Error: Forbidden for url: https://www.tenforums.com/tutorials/111310-change-default-sound-input-device-windows-10-a.html?s=9f97f8f29e3deb17222a2ae04a61a195 on URL: https://www.tenforums.com/tutorials/111310-change-default-sound-input-device-windows-10-a.html?s=9f97f8f29e3deb17222a2ae04a61a195\n",
      "3 new links from URL https://www.musicrepo.com/recording-a-keyboard-on-computer/\n",
      "3 new links from URL https://play.google.com/store/apps/details?id=com.axis.mobile.chapters.trans&hl=en\n",
      "3 new links from URL https://www.isunshare.com/windows-10/3-ways-to-switch-input-methods-on-windows-10.html\n",
      "3 new links from URL https://support.google.com/docs/answer/4492226?hl=en\n",
      "3 new links from URL https://developer.amazon.com/docs/fire-tv/remote-input.html\n",
      "3 new links from URL https://helpdeskgeek.com/how-to/record-sound-using-line-in-microphone-windows/\n",
      "3 new links from URL https://www.support.com/how-to/how-to-use-a-comcast-xfinity-x1-dvr-12353\n",
      "3 new links from URL https://networkingnerd.net/2010/10/25/sending-calls-directly-to-voice-mail/\n",
      "3 new links from URL https://developer.tizen.org/development/guides/.net-application/text-input-and-voice/input-method-manager\n",
      "3 new links from URL https://www.thebalancesmb.com/rules-for-good-customer-service-2948079\n",
      "3 new links from URL https://www.investopedia.com/terms/c/customer-service.asp\n",
      "3 new links from URL https://www.salesforce.com/products/service-cloud/what-is-customer-service/\n",
      "0 new links from URL https://study.com/academy/lesson/what-is-customer-service-definition-types-role-in-marketing.html\n",
      "3 new links from URL https://www.helpscout.com/blog/customer-service-skills/\n",
      "3 new links from URL https://www.surveymonkey.com/mp/6-keys-improving-teams-customer-service-skills/\n",
      "3 new links from URL https://en.wikipedia.org/wiki/Customer_service\n",
      "3 new links from URL https://www.indeed.com/career-advice/resumes-cover-letters/customer-service-skills\n",
      "Error: 503 Server Error: Service Unavailable for url: https://www.amazon.com/gp/help/customer/display.html?nodeId=508510 on URL: https://www.amazon.com/gp/help/customer/display.html?nodeId=508510\n",
      "3 new links from URL https://www.thebalancesmb.com/ten-commandments-of-great-customer-service-2295997\n",
      "3 new links from URL https://www.chase.com/digital/customer-service\n",
      "3 new links from URL https://www.fedex.com/en-us/customer-support.html\n",
      "Error: 503 Server Error: Service Unavailable for url: https://www.amazon.com/gp/help/customer/display.html?nodeId=GSD587LKW72HKU2V on URL: https://www.amazon.com/gp/help/customer/display.html?nodeId=GSD587LKW72HKU2V\n",
      "3 new links from URL https://www.bankofamerica.com/customer-service/contact-us/\n",
      "3 new links from URL https://help.walmart.com/\n",
      "3 new links from URL https://www.indeed.com/q-Customer-Service-jobs.html\n",
      "3 new links from URL https://www.1800flowers.com/customer-service\n",
      "3 new links from URL https://www.usbank.com/about-us-bank/customer-service.html\n",
      "3 new links from URL https://www.wellsfargo.com/help/\n",
      "3 new links from URL https://www.entrepreneur.com/article/284799\n",
      "3 new links from URL https://www.planetfitness.com/about-planet-fitness/customer-service\n",
      "Error: 429 Client Error: Too Many Requests for url: https://www.expedia.com/service/ on URL: https://www.expedia.com/service/\n",
      "Error: ('Connection aborted.', RemoteDisconnected('Remote end closed connection without response')) on URL: https://www.thestate.com/customer-service/\n",
      "3 new links from URL https://www.zendesk.com/resources/customer-service-skills/\n",
      "Error: ('Connection aborted.', RemoteDisconnected('Remote end closed connection without response')) on URL: https://store.hp.com/us/en/cv/customerservice\n",
      "3 new links from URL https://www.ikea.com/us/en/customer-service/\n",
      "3 new links from URL https://www.audible.com/contactus\n",
      "3 new links from URL https://fortune.com/customerservice/\n",
      "3 new links from URL https://www.superoffice.com/blog/five-ways-to-deliver-excellent-customer-service/\n",
      "3 new links from URL https://www.att.com/support/\n",
      "3 new links from URL http://www.google.com/contact/\n",
      "Error: 403 Client Error: Forbidden for url: https://www.bestbuy.com/site/electronics/customer-service/pcmcat87800050001.c?id=pcmcat87800050001 on URL: https://www.bestbuy.com/site/electronics/customer-service/pcmcat87800050001.c?id=pcmcat87800050001\n",
      "3 new links from URL https://www.ebay.com/help/home\n",
      "Error: 403 Client Error: Forbidden for url: https://www.pnc.com/en/customer-service.html on URL: https://www.pnc.com/en/customer-service.html\n",
      "Error: ('Connection aborted.', RemoteDisconnected('Remote end closed connection without response')) on URL: https://www.homedepot.com/c/customer_service\n",
      "3 new links from URL https://blog.hubspot.com/service/importance-customer-service\n",
      "3 new links from URL https://customerservice.costco.com/\n",
      "3 new links from URL https://www.southwest.com/html/customer-service/\n",
      "3 new links from URL https://www.53.com/content/fifth-third/en/customer-service.html\n",
      "Error: 429 Client Error: Too Many Requests for url: https://www.expedia.com/service/en-us/ on URL: https://www.expedia.com/service/en-us/\n",
      "3 new links from URL https://www.harborfreight.com/customer-service.html\n",
      "3 new links from URL https://www.fidelity.com/customer-service/overview\n",
      "1 new links from URL https://shop.nordstrom.com/c/customer-service\n",
      "3 new links from URL https://support.apple.com/contact\n",
      "Error: ('Connection aborted.', RemoteDisconnected('Remote end closed connection without response')) on URL: https://www.omahasteaks.com/info/Customer-Service\n",
      "Error: ('Connection aborted.', RemoteDisconnected('Remote end closed connection without response')) on URL: https://www.tri-cityherald.com/customer-service/\n",
      "3 new links from URL https://www.xfinity.com/support/\n",
      "2 new links from URL https://www.verizonwireless.com/support/contact-us/\n",
      "3 new links from URL https://customer-service.com/\n",
      "3 new links from URL https://www.business.qld.gov.au/running-business/consumer-laws/customer-service/improving/principles\n"
     ]
    },
    {
     "name": "stdout",
     "output_type": "stream",
     "text": [
      "3 new links from URL https://www.hfes.org/\n",
      "3 new links from URL https://en.wikipedia.org/wiki/Human_factors_and_ergonomics\n",
      "3 new links from URL https://www.hfes.org/about-hfes/what-is-human-factorsergonomics\n",
      "3 new links from URL https://humanfactors.design.umn.edu/\n",
      "Error: 403 Client Error: Forbidden for url: https://humanics-es.com/def-erg.htm on URL: https://humanics-es.com/def-erg.htm\n",
      "Error: 403 Client Error: Forbidden for url: https://onlinelibrary.wiley.com/journal/15206564 on URL: https://onlinelibrary.wiley.com/journal/15206564\n",
      "3 new links from URL https://www.hse.gov.uk/humanfactors/index.htm\n",
      "3 new links from URL https://www.ergonomics.org.uk/\n",
      "3 new links from URL https://journals.sagepub.com/home/hfs\n",
      "3 new links from URL https://sites.tufts.edu/kateclawsonenp61/2018/02/02/what-is-human-factors-and-ergonomics/\n",
      "0 new links from URL http://benchmarkrs.com/main/human-factors/what.aspx\n",
      "3 new links from URL https://whatis.techtarget.com/definition/human-factors-ergonomics\n",
      "3 new links from URL https://www.ise.vt.edu/academics/graduate/ms/hfee.html\n",
      "3 new links from URL https://psychology.wikia.org/wiki/Human_factors_and_ergonomics\n",
      "Error: 403 Client Error: Forbidden for url: https://www.mideng.com/services/human-factors-ergonomics/ on URL: https://www.mideng.com/services/human-factors-ergonomics/\n",
      "3 new links from URL https://www.britannica.com/topic/human-factors-engineering\n",
      "3 new links from URL https://www.ergonomics.org.au/\n",
      "Error: 403 Client Error: Forbidden for url: https://onlinelibrary.wiley.com/loi/15206564 on URL: https://onlinelibrary.wiley.com/loi/15206564\n",
      "3 new links from URL https://www.amazon.com/Guide-Human-Factors-Ergonomics/dp/0415282489\n",
      "3 new links from URL https://iea.cc/\n",
      "Error: 503 Server Error: Service Unavailable for url: https://www.amazon.com/Human-Factors-Ergonomics-Practice-Performance-ebook/dp/B01N6Y1GVH on URL: https://www.amazon.com/Human-Factors-Ergonomics-Practice-Performance-ebook/dp/B01N6Y1GVH\n",
      "3 new links from URL https://www.youtube.com/watch?v=8Jnf1kwaDoc\n",
      "3 new links from URL https://www.plm.automation.siemens.com/global/en/products/manufacturing-planning/human-factors-ergonomics.html\n",
      "3 new links from URL https://ahfe2020.org/\n",
      "Error: 403 Client Error: Forbidden for url: https://www.wiley.com/en-us/Handbook+of+Human+Factors+and+Ergonomics%2C+4th+Edition-p-9780470528389 on URL: https://www.wiley.com/en-us/Handbook+of+Human+Factors+and+Ergonomics%2C+4th+Edition-p-9780470528389\n",
      "3 new links from URL https://www.ncbi.nlm.nih.gov/pmc/articles/PMC3932984/\n",
      "3 new links from URL https://www.tandfonline.com/doi/abs/10.1080/00140139.2013.822932\n",
      "3 new links from URL https://www.merriam-webster.com/dictionary/ergonomics\n"
     ]
    },
    {
     "name": "stderr",
     "output_type": "stream",
     "text": [
      "Some characters could not be decoded, and were replaced with REPLACEMENT CHARACTER.\n"
     ]
    },
    {
     "name": "stdout",
     "output_type": "stream",
     "text": [
      "0 new links from URL https://www.faa.gov/about/initiatives/maintenance_hf/library/documents/media/human_factors_maintenance/human_factors_guide_for_aviation_maintenance_-_chapter_2.establishing_a_human_factors-ergonomics_program.pdf\n",
      "Error: 429 Client Error: Too Many Requests for url: https://www.researchgate.net/publication/334458657_HUMAN_FACTORS_AND_ERGONOMICS on URL: https://www.researchgate.net/publication/334458657_HUMAN_FACTORS_AND_ERGONOMICS\n",
      "3 new links from URL https://www.journals.elsevier.com/applied-ergonomics\n",
      "3 new links from URL https://www.crcpress.com/The-History-of-Human-Factors-and-Ergonomics/Meister/p/book/9780805827699\n",
      "3 new links from URL https://design.umn.edu/academics/humanfactors.html\n",
      "3 new links from URL https://iea.cc/what-is-ergonomics/\n",
      "3 new links from URL https://www.inderscience.com/jhome.php?jcode=ijhfe\n",
      "3 new links from URL https://humanfactors.design.umn.edu/about.html\n",
      "3 new links from URL https://careercenter.hfes.org/jobs\n",
      "3 new links from URL https://www.crcpress.com/Introduction-to-Human-Factors-and-Ergonomics/Bridger/p/book/9781498795944\n",
      "3 new links from URL https://sites.tufts.edu/ttolandhfengineering/2018/02/08/what-is-human-factors-engineering-and-ergonomics/\n",
      "3 new links from URL https://ergoweb.com/university-programs-ergonomics-human-factors/\n",
      "3 new links from URL https://us.sagepub.com/en-us/nam/journal/human-factors\n",
      "3 new links from URL http://engineering.buffalo.edu/industrial-systems/academics/graduate/programs/PhD-MS-HFE.html\n",
      "3 new links from URL https://www.ncbi.nlm.nih.gov/pubmed/28365143\n",
      "Error: 403 Client Error: Forbidden for url: https://www.sciencedirect.com/science/article/pii/S0360835219304620 on URL: https://www.sciencedirect.com/science/article/pii/S0360835219304620\n",
      "3 new links from URL https://hfes.smugmug.com/\n",
      "3 new links from URL https://en.wikipedia.org/wiki/Talk:Human_factors_and_ergonomics\n",
      "3 new links from URL https://www.hse.gov.uk/humanfactors/topics/design.htm\n",
      "3 new links from URL https://humanfactors101.com/\n",
      "3 new links from URL https://en.wikipedia.org/wiki/Design_thinking\n",
      "3 new links from URL https://www.ideou.com/pages/design-thinking\n",
      "3 new links from URL https://www.interaction-design.org/literature/article/5-stages-in-the-design-thinking-process\n",
      "3 new links from URL https://mitsloan.mit.edu/ideas-made-to-matter/design-thinking-explained\n",
      "3 new links from URL https://careerfoundry.com/en/blog/ux-design/what-is-design-thinking-everything-you-need-to-know-to-get-started/\n",
      "3 new links from URL https://www.fastcompany.com/919258/design-thinking-what\n",
      "3 new links from URL https://designthinking.ideo.com/\n",
      "3 new links from URL https://www.creativityatwork.com/design-thinking-strategy-for-innovation/\n",
      "3 new links from URL https://www.invisionapp.com/inside-design/what-is-design-thinking/\n",
      "3 new links from URL https://www.interaction-design.org/literature/article/what-is-design-thinking-and-why-is-it-so-popular\n",
      "Error: 403 Client Error: Forbidden for url: https://www.scaledagileframework.com/design-thinking/ on URL: https://www.scaledagileframework.com/design-thinking/\n",
      "3 new links from URL https://www.ideou.com/blogs/inspiration/what-is-design-thinking\n",
      "3 new links from URL https://www.nngroup.com/articles/design-thinking/\n",
      "3 new links from URL https://www.agencyq.com/design-thinking-ebook\n",
      "Error: 429 Client Error: Too Many Requests for url: https://www.researchgate.net/publication/329310644_Handbook_of_Design_Thinking on URL: https://www.researchgate.net/publication/329310644_Handbook_of_Design_Thinking\n",
      "3 new links from URL https://www.linkedin.com/pulse/5-benefits-design-thinking-patrick-leinen\n",
      "3 new links from URL https://hbr.org/2018/09/why-design-thinking-works\n",
      "Error: 400 Client Error: Bad Request for url: https://www.zhihu.com/topic/19874533/newest on URL: https://www.zhihu.com/topic/19874533/newest\n",
      "3 new links from URL https://enterprisersproject.com/article/2019/1/5-design-thinking-ted-talks\n",
      "3 new links from URL https://hbr.org/video/4443548301001/the-explainer-design-thinking\n",
      "3 new links from URL https://www.youtube.com/watch?v=a7sEoEvT8l8\n",
      "3 new links from URL https://www.youtube.com/watch?v=_r0VX-aU_T8\n",
      "3 new links from URL https://www.linkedin.com/learning/topics/design-thinking\n",
      "3 new links from URL https://executive.mit.edu/openenrollment/program/mastering-design-thinking-online/\n",
      "3 new links from URL https://medium.com/xplor8/design-thinking-lean-startup-and-agile-what-is-the-difference-1eed3594b121\n",
      "0 new links from URL https://www.ibm.com/design/thinking/\n",
      "Error: 429 Client Error: Too Many Requests for url: https://www.researchgate.net/publication/299456548_Design_Thinking_An_overview on URL: https://www.researchgate.net/publication/299456548_Design_Thinking_An_overview\n",
      "3 new links from URL https://www.quora.com/What-is-Design-Thinking\n",
      "0 new links from URL https://designthinkingsimplified.blogspot.com/#!\n",
      "3 new links from URL https://whatis.techtarget.com/definition/design-thinking\n",
      "3 new links from URL https://www.sessionlab.com/blog/design-thinking-online-tools/\n"
     ]
    },
    {
     "name": "stderr",
     "output_type": "stream",
     "text": [
      "Some characters could not be decoded, and were replaced with REPLACEMENT CHARACTER.\n"
     ]
    },
    {
     "name": "stdout",
     "output_type": "stream",
     "text": [
      "0 new links from URL https://web.mit.edu/jrankin/www/engin_as_lib_art/Design_thinking.pdf\n",
      "3 new links from URL https://blog.hypeinnovation.com/an-introduction-to-design-thinking-for-innovation-managers\n",
      "3 new links from URL https://thisisdesignthinking.net/\n",
      "3 new links from URL https://careerfoundry.com/en/blog/ux-design/design-thinking-workshop/\n",
      "3 new links from URL https://dschool.stanford.edu/resources\n",
      "3 new links from URL https://designthinkingforhealth.org/\n",
      "3 new links from URL https://www.forbes.com/sites/amberjohnson-jimludema/2019/11/21/design-thinking-basics/\n",
      "3 new links from URL https://www.designorate.com/measuring-the-impact-of-design-thinking/\n",
      "3 new links from URL https://ssir.org/webinars/entry/design_thinking_for_the_social_sector_ii\n",
      "3 new links from URL https://medium.com/@murnitelaumbanua98/5-tahap-design-thinking-menurut-stanford-d-school-e06f871c45c9\n",
      "3 new links from URL https://www.amazon.com/Design-Thinking-Playbook-Transformation-Businesses/dp/1119467470\n",
      "3 new links from URL https://www.dmi.org/page/WhatisDesignThink\n",
      "3 new links from URL https://theaccidentaldesignthinker.com/2017/09/16/40-design-thinking-success-stories/\n",
      "3 new links from URL https://www.edx.org/course/design-thinking-for-leading-and-learning\n",
      "Error: 406 Client Error: Not Acceptable for url: http://www.designthinkingmovie.com/ on URL: http://www.designthinkingmovie.com/\n",
      "3 new links from URL https://www.fastcompany.com/1139331/ideos-david-kelley-design-thinking\n",
      "Error: 503 Server Error: Service Unavailable for url: https://www.amazon.com/Design-Thinking-Understanding-Designers-Think/dp/1847886361 on URL: https://www.amazon.com/Design-Thinking-Understanding-Designers-Think/dp/1847886361\n",
      "3 new links from URL https://www.innovationtraining.org/design-thinking-books-to-read/\n",
      "3 new links from URL https://en.wikipedia.org/wiki/Outline_of_software_engineering\n",
      "3 new links from URL https://en.wikipedia.org/wiki/Outline_of_engineering\n",
      "3 new links from URL https://sites.google.com/site/ugcpen207/course-outline\n",
      "Error: 503 Server Error: Service Unavailable for url: https://www.amazon.com/Schaums-Outline-Software-Engineering-Gustafson/dp/0071377948 on URL: https://www.amazon.com/Schaums-Outline-Software-Engineering-Gustafson/dp/0071377948\n"
     ]
    },
    {
     "name": "stderr",
     "output_type": "stream",
     "text": [
      "Some characters could not be decoded, and were replaced with REPLACEMENT CHARACTER.\n"
     ]
    },
    {
     "name": "stdout",
     "output_type": "stream",
     "text": [
      "0 new links from URL https://www.cse.unr.edu/~dascalus/SE2013_syllabus.pdf\n",
      "0 new links from URL https://www.aiu.edu/Bachelor%20of%20Software%20Engineering.htm\n"
     ]
    },
    {
     "name": "stderr",
     "output_type": "stream",
     "text": [
      "Some characters could not be decoded, and were replaced with REPLACEMENT CHARACTER.\n"
     ]
    },
    {
     "name": "stdout",
     "output_type": "stream",
     "text": [
      "0 new links from URL https://personal.utdallas.edu/~gupta/IAB/BS-SE-Courses.pdf\n",
      "0 new links from URL https://www.cs.cmu.edu/~aldrich/courses/413/\n",
      "0 new links from URL http://ecomputernotes.com/software-engineering/principles-of-software-design-and-concepts\n",
      "Error: 503 Server Error: Service Unavailable for url: https://www.amazon.com/Schaums-Outline-Software-Engineering-Gustafson/product-reviews/0071377948 on URL: https://www.amazon.com/Schaums-Outline-Software-Engineering-Gustafson/product-reviews/0071377948\n",
      "Error: 403 Client Error: Forbidden for url: https://quizlet.com/216809503/software-engineering-final-flash-cards/ on URL: https://quizlet.com/216809503/software-engineering-final-flash-cards/\n"
     ]
    },
    {
     "name": "stderr",
     "output_type": "stream",
     "text": [
      "Some characters could not be decoded, and were replaced with REPLACEMENT CHARACTER.\n"
     ]
    },
    {
     "name": "stdout",
     "output_type": "stream",
     "text": [
      "0 new links from URL https://patilpankaj.files.wordpress.com/2016/06/unit-iii1.pdf\n",
      "3 new links from URL https://www.manchester.ac.uk/study/undergraduate/courses/2020/05125/bsc-software-engineering/course-details/\n",
      "1 new links from URL http://nust.edu.pk/INSTITUTIONS/Schools/SEECS/ap/ug/BSE/Pages/default.aspx\n",
      "3 new links from URL https://www.tutorialspoint.com/software_engineering/software_project_management.htm\n",
      "3 new links from URL https://www.bartleby.com/essay/software-engineering-P3ML2NYTC\n",
      "0 new links from URL https://study.com/articles/Become_a_Computer_Software_Engineer_Education_and_Career_Roadmap.html\n",
      "3 new links from URL https://www.bartleby.com/essay/Software-Engineering-Detailed-Documentation-Outline-F3DXQY8K8RTA\n",
      "3 new links from URL https://www.goodreads.com/book/show/142788.Schaum_s_Outline_of_Theory_and_Problems_of_Software_Engineering\n",
      "3 new links from URL https://www.template.net/business/proposal-templates/engineering-project-proposal-template/\n",
      "3 new links from URL https://www.mountaingoatsoftware.com/agile/scrum/resources/overview\n",
      "0 new links from URL http://www.cs.cornell.edu/courses/cs501/2005sp/syllabus.html\n",
      "3 new links from URL https://www.msse.umn.edu/Course-Descriptions\n",
      "3 new links from URL https://www.youtube.com/watch?v=H9w0Tacvljo\n",
      "3 new links from URL https://www.smartzworld.com/notes/software-engineering-pdf-notes-se-pdf-notes/\n",
      "3 new links from URL https://www.rit.edu/study/software-engineering-bs\n",
      "3 new links from URL https://www.eng.mcmaster.ca/sept/programs/degree-options/btech/software-engineering-technology\n",
      "3 new links from URL https://en.wikipedia.org/wiki/Outline_of_computer_science\n",
      "3 new links from URL https://www.tutorialspoint.com/software_engineering/software_requirements.htm\n"
     ]
    },
    {
     "name": "stderr",
     "output_type": "stream",
     "text": [
      "Some characters could not be decoded, and were replaced with REPLACEMENT CHARACTER.\n"
     ]
    },
    {
     "name": "stdout",
     "output_type": "stream",
     "text": [
      "0 new links from URL https://hec.gov.pk/english/services/universities/RevisedCurricula/Documents/2016-2017/COMPUTER-SCIENCE.pdf\n"
     ]
    },
    {
     "name": "stderr",
     "output_type": "stream",
     "text": [
      "Some characters could not be decoded, and were replaced with REPLACEMENT CHARACTER.\n"
     ]
    },
    {
     "name": "stdout",
     "output_type": "stream",
     "text": [
      "0 new links from URL https://www.cs.cmu.edu/~Compose/shaw-icse03.pdf\n",
      "3 new links from URL https://www.lisoblog.com/10-steps-your-software-implementation-should-have/\n",
      "3 new links from URL http://ww3.comsats.edu.pk/cs/BSSoftwareEngineering.aspx\n",
      "3 new links from URL https://www.mona.uwi.edu/compsci/software-engineering-major\n",
      "Error: 406 Client Error: Not Acceptable for url: https://www.apriorit.com/dev-blog/364-how-to-reverse-engineer-software-windows-in-a-right-way on URL: https://www.apriorit.com/dev-blog/364-how-to-reverse-engineer-software-windows-in-a-right-way\n",
      "3 new links from URL https://www.mheducation.co.in/schaum-s-outline-of-software-engineering-9789389538915-india\n",
      "3 new links from URL https://www.lakeheadu.ca/programs/departments/software-engineering/programs/ug/outline\n",
      "3 new links from URL https://economictimes.indiatimes.com/definition/Software-Engineering\n",
      "3 new links from URL https://learn.saylor.org/course/cs302\n",
      "3 new links from URL https://www.manchester.ac.uk/study/masters/courses/list/08354/msc-acs-software-engineering/course-details/\n",
      "3 new links from URL https://www.cse.uconn.edu/undergraduate-studies/major-programs/computer-science-and-engineering/\n",
      "3 new links from URL https://www.eng.mcmaster.ca/cas/programs/degree-options/beng/software-engineering\n",
      "3 new links from URL https://itu.edu.pk/academics/programs-course-outline/\n",
      "3 new links from URL https://www.ukessays.com/essays/it-research/software-engineering-principles.php\n",
      "3 new links from URL http://acqnotes.com/acqnote/careerfields/systems-engineering-management-plan-semp\n",
      "3 new links from URL https://ocw.mit.edu/courses/mit-curriculum-guide/\n",
      "3 new links from URL https://asuonline.asu.edu/online-degree-programs/undergraduate/bachelor-science-software-engineering/\n"
     ]
    },
    {
     "name": "stderr",
     "output_type": "stream",
     "text": [
      "Some characters could not be decoded, and were replaced with REPLACEMENT CHARACTER.\n"
     ]
    },
    {
     "name": "stdout",
     "output_type": "stream",
     "text": [
      "0 new links from URL http://hec.gov.pk/english/services/universities/RevisedCurricula/Documents/2012-2013/computer-science%202012-13.pdf\n"
     ]
    },
    {
     "name": "stderr",
     "output_type": "stream",
     "text": [
      "Some characters could not be decoded, and were replaced with REPLACEMENT CHARACTER.\n"
     ]
    },
    {
     "name": "stdout",
     "output_type": "stream",
     "text": [
      "0 new links from URL http://acqnotes.com/wp-content/uploads/2018/04/PPP-Outline-and-Guidance-v1-July2011.pdf\n",
      "3 new links from URL https://www.rmit.edu.au/study-with-us/levels-of-study/undergraduate-study/bachelor-degrees/bachelor-of-software-engineering-bp096\n",
      "3 new links from URL https://en.wikipedia.org/wiki/Activity-centered_design\n",
      "3 new links from URL https://mitpress.mit.edu/books/activity-centered-design\n",
      "3 new links from URL https://ebiinterfaces.wordpress.com/2013/03/13/activity-centered-design-some-thoughts/\n",
      "Error: 403 Client Error: Forbidden for url: http://bokardo.com/archives/activity-centered-design/ on URL: http://bokardo.com/archives/activity-centered-design/\n",
      "3 new links from URL https://jnd.org/activity-centered_design_why_i_like_my_harmony_remote_control/\n",
      "Error: 403 Client Error: Forbidden for url: http://www.preservearticles.com/education/activity-centred-curriculum-is-a-modern-approach-in-curriculum-development/18036 on URL: http://www.preservearticles.com/education/activity-centred-curriculum-is-a-modern-approach-in-curriculum-development/18036\n",
      "3 new links from URL https://jnd.org/logic_versus_usage_the_case_for_activity-centered_design/\n",
      "3 new links from URL https://medium.com/dermot-holmes/activity-centred-design-dd28ed1eec59\n",
      "Error: 503 Server Error: Service Unavailable for url: https://www.amazon.com/Activity-Centered-Design-Ecological-Designing-Technology/dp/0262072483 on URL: https://www.amazon.com/Activity-Centered-Design-Ecological-Designing-Technology/dp/0262072483\n",
      "Error: 429 Client Error: Too Many Requests for url: https://www.researchgate.net/publication/221097654_Activity-Centered_Design_An_Appropriation_Issue on URL: https://www.researchgate.net/publication/221097654_Activity-Centered_Design_An_Appropriation_Issue\n",
      "3 new links from URL https://www.scribd.com/document/25128335/Activity-Centered-Design\n",
      "Error: 403 Client Error: Forbidden for url: https://ubiquity.acm.org/article.cfm?id=1041063 on URL: https://ubiquity.acm.org/article.cfm?id=1041063\n",
      "3 new links from URL https://wikimili.com/en/Activity-centered_design\n",
      "3 new links from URL https://dl.acm.org/doi/10.1145/1621995.1621997\n",
      "0 new links from URL http://blog.designerfromidaho.com/using-activity-centred-design-for-innovation/\n",
      "3 new links from URL https://www.worldcat.org/title/activity-centered-design-an-ecological-approach-to-designing-smart-tools-and-usable-systems/oclc/54772579\n",
      "3 new links from URL https://ux.stackexchange.com/questions/81502/is-activity-centered-design-better-than-user-centered-design-in-practice\n",
      "3 new links from URL https://en.wikipedia.org/wiki/Usage-centered_design\n",
      "3 new links from URL https://www.slideshare.net/dansaffer/ucd-5325208/20-ActivitycenteredDesign_Good_for_intense_focused\n",
      "3 new links from URL https://blog.movingworlds.org/human-centered-design-vs-design-thinking-how-theyre-different-and-how-to-use-them-together-to-create-lasting-change/\n",
      "Error: 429 Client Error: Too Many Requests for url: https://www.allacronyms.com/ACD/Activity_Centered_Design on URL: https://www.allacronyms.com/ACD/Activity_Centered_Design\n",
      "3 new links from URL https://www.ncbi.nlm.nih.gov/pubmed/28866550\n",
      "Error: 429 Client Error: Too Many Requests for url: https://www.researchgate.net/publication/306117910_ACD_-a_new_framework_for_activity-centered_design on URL: https://www.researchgate.net/publication/306117910_ACD_-a_new_framework_for_activity-centered_design\n",
      "3 new links from URL https://dl.acm.org/citation.cfm?id=1150262\n",
      "3 new links from URL https://ux.stackexchange.com/questions/33455/what-other-ux-processes-exist-other-than-user-centered-design\n",
      "3 new links from URL https://www.igi-global.com/dictionary/navigational-aid-blind-pedestrians-designed/487\n",
      "3 new links from URL https://link.springer.com/chapter/10.1007/978-3-642-22098-2_4\n"
     ]
    },
    {
     "name": "stderr",
     "output_type": "stream",
     "text": [
      "Some characters could not be decoded, and were replaced with REPLACEMENT CHARACTER.\n"
     ]
    },
    {
     "name": "stdout",
     "output_type": "stream",
     "text": [
      "0 new links from URL https://www.evl.uic.edu/documents/marai_tvcg2017_activitycentered.pdf\n",
      "0 new links from URL http://dictionary.sensagent.com/Activity-centered%20design/en-en/\n"
     ]
    },
    {
     "name": "stderr",
     "output_type": "stream",
     "text": [
      "Some characters could not be decoded, and were replaced with REPLACEMENT CHARACTER.\n"
     ]
    },
    {
     "name": "stdout",
     "output_type": "stream",
     "text": [
      "0 new links from URL http://samples.leanpub.com/activitycentereddesign-sample.pdf\n",
      "Error: 403 Client Error: Forbidden for url: https://flylib.com/books/en/4.521.1.20/1/ on URL: https://flylib.com/books/en/4.521.1.20/1/\n",
      "3 new links from URL https://all-med.net/pdf/activity-centered-design/\n",
      "Error: 500 Server Error: Internal Server Error for url: https://www.barnesandnoble.com/w/activity-centered-design-geri-gay/1100657668 on URL: https://www.barnesandnoble.com/w/activity-centered-design-geri-gay/1100657668\n",
      "0 new links from URL http://www.sitemotif.com/2008/07/user-centered-design-ucd-and-activity-centered-design-acd/\n",
      "1 new links from URL https://research.chalmers.se/en/publication/240297\n",
      "3 new links from URL https://www.quora.com/Is-Activity-Centered-Design-better-than-Human-User-Centered-Design\n",
      "3 new links from URL https://www.interaction-design.org/literature/topics/user-centered-design\n",
      "1 new links from URL https://research.chalmers.se/en/publication/234992\n",
      "3 new links from URL https://www.answers.com/Q/What_is_activity_centered_curriculum\n",
      "3 new links from URL https://www.semanticscholar.org/paper/Activity-Centered-Interaction-Design%3A-A-Approach-Constantine/c8555997d8725b1f462e268d54635f4c777d6779\n",
      "3 new links from URL https://www.quora.com/Whats-the-difference-between-human-centered-design-and-user-centered-design\n",
      "3 new links from URL https://www.reference.com/world-view/definition-activity-based-curriculum-de7cb13c9c296747\n",
      "3 new links from URL https://www.worldcat.org/title/activity-centered-design-an-ecological-approach-to-designing-smart-tools-and-usable-systems/oclc/1127145066\n",
      "3 new links from URL https://designlab.ucsd.edu/research/activity-centered-visualization/\n",
      "3 new links from URL https://ieeexplore.ieee.org/book/6267268/\n",
      "3 new links from URL https://leanpub.com/activitycentereddesign\n",
      "3 new links from URL https://www.youtube.com/watch?v=rmM0kRf8Dbk\n"
     ]
    },
    {
     "name": "stderr",
     "output_type": "stream",
     "text": [
      "Some characters could not be decoded, and were replaced with REPLACEMENT CHARACTER.\n"
     ]
    },
    {
     "name": "stdout",
     "output_type": "stream",
     "text": [
      "0 new links from URL https://d5ln38p3754yc.cloudfront.net/content_object_shared_files/294b324ed17b4cba905c4c394fd7dd6206131e90/The-Design-of-Everyday-Things-Revised-and-Expanded-Edition.pdf?1495759279\n",
      "3 new links from URL http://www.ascd.org/publications/books/100047/chapters/What-Is-Action-Research%C2%A2.aspx\n",
      "3 new links from URL https://research-methodology.net/research-methods/action-research/\n"
     ]
    },
    {
     "name": "stderr",
     "output_type": "stream",
     "text": [
      "Some characters could not be decoded, and were replaced with REPLACEMENT CHARACTER.\n"
     ]
    },
    {
     "name": "stdout",
     "output_type": "stream",
     "text": [
      "0 new links from URL https://www.sagepub.com/sites/default/files/upm-binaries/36584_01_Koshy_et_al_Ch_01.pdf\n",
      "3 new links from URL https://en.wikipedia.org/wiki/Action_research\n",
      "Error: 403 Client Error: Forbidden for url: https://www.edglossary.org/action-research/ on URL: https://www.edglossary.org/action-research/\n",
      "3 new links from URL https://www.britannica.com/topic/action-research\n",
      "0 new links from URL http://www.aral.com.au/resources/guide.html\n",
      "0 new links from URL https://study.com/academy/lesson/action-research-in-education-examples-methods-quiz.html\n",
      "3 new links from URL https://bohatala.com/pros-and-cons-of-action-research/\n",
      "3 new links from URL https://www.merriam-webster.com/dictionary/action-research\n",
      "3 new links from URL https://www.toolshero.com/change-management/action-research-lewin/\n",
      "3 new links from URL https://www.actionresearchtutorials.org/\n",
      "3 new links from URL https://researchbasics.education.uconn.edu/action_research/\n",
      "3 new links from URL https://journals.sagepub.com/home/arj\n",
      "Error: 429 Client Error: Too Many Requests for url: https://www.researchgate.net/publication/282199978_Action_research on URL: https://www.researchgate.net/publication/282199978_Action_research\n",
      "0 new links from URL https://www.stem.org.uk/news-and-views/opinions/what-action-research-and-why-do-it\n",
      "Error: 429 Client Error: Too Many Requests for url: https://www.researchgate.net/publication/220422055_Action_Research on URL: https://www.researchgate.net/publication/220422055_Action_Research\n",
      "3 new links from URL https://sk.sagepub.com/video/action-research\n",
      "3 new links from URL https://www.quora.com/What-is-the-difference-between-action-research-and-traditional-research\n",
      "Error: 403 Client Error: Forbidden for url: https://infed.org/mobi/action-research/ on URL: https://infed.org/mobi/action-research/\n",
      "3 new links from URL https://bizfluent.com/list-7608678-types-action-research-design.html\n",
      "3 new links from URL https://en.wikiversity.org/wiki/Action_research\n",
      "3 new links from URL https://www.moroccoworldnews.com/2015/01/149231/the-impact-of-action-research-on-professional-development/\n",
      "Error: 403 Client Error: Forbidden for url: https://www.emeraldgrouppublishing.com/research/guides/methods/action_research.htm on URL: https://www.emeraldgrouppublishing.com/research/guides/methods/action_research.htm\n",
      "3 new links from URL https://www.definitions.net/definition/action%20research\n",
      "3 new links from URL http://www.bris.ac.uk/education/study/continuing-professional-development-cpd/actionresearch/\n",
      "0 new links from URL https://www.actionresearch.io/\n",
      "Error: 403 Client Error: Forbidden for url: https://quizlet.com/23941053/action-research-flash-cards/ on URL: https://quizlet.com/23941053/action-research-flash-cards/\n",
      "Error: 503 Server Error: Service Unavailable for url: https://www.amazon.com/Action-Research-Improving-Empowering-Educators/dp/1483389057 on URL: https://www.amazon.com/Action-Research-Improving-Empowering-Educators/dp/1483389057\n",
      "3 new links from URL https://www.examples.com/education/research/action-research.html\n",
      "Error: 503 Server Error: Service Unavailable for url: https://www.amazon.com/Action-Research-Business-Nonprofit-Administration/dp/1412991641 on URL: https://www.amazon.com/Action-Research-Business-Nonprofit-Administration/dp/1412991641\n",
      "3 new links from URL http://cadres.pepperdine.edu/ccar/define.html\n",
      "3 new links from URL http://www.ascd.org/publications/educational-leadership/oct93/vol51/num02/Action-Research@-Three-Approaches.aspx\n",
      "3 new links from URL https://sites.google.com/site/aeraarsig/Home/what-is-action-research\n",
      "3 new links from URL https://www.paperdue.com/topic/action-research-essays\n",
      "3 new links from URL http://asteaching.z1world.com/traditional-vs-action-research/\n",
      "Error: 406 Client Error: Not Acceptable for url: https://custompaperswritinghelp.com/action-research-paper-example/ on URL: https://custompaperswritinghelp.com/action-research-paper-example/\n",
      "3 new links from URL http://www.businessdictionary.com/definition/action-research.html\n",
      "3 new links from URL https://www.actionresearch.io/news\n",
      "3 new links from URL https://classroom.synonym.com/education-action-research-topics-8000007.html\n",
      "3 new links from URL https://www.examples.com/business/action-research-proposal.html\n",
      "3 new links from URL https://www.scribd.com/presentation/311811860/Action-Research-Book\n",
      "0 new links from URL http://www.drawntoscience.org/educators/action-research/what-is-action-research.html\n",
      "3 new links from URL https://us.sagepub.com/en-us/nam/action-research/book259930\n",
      "3 new links from URL https://paperity.org/p/59171555/action-research-in-education\n",
      "0 new links from URL https://go.valenciacollege.edu/faculty/development/teaching-learning-academy/action-research/arp_softchalk/\n",
      "3 new links from URL https://www.oxfordbibliographies.com/view/document/obo-9780199828340/obo-9780199828340-0149.xml\n",
      "0 new links from URL https://study.com/academy/lesson/what-is-action-research-executing-organizational-change.html\n",
      "3 new links from URL https://www.academia.edu/8652023/INTRODUCTION_TO_ACTION_RESEARCH\n",
      "0 new links from URL http://www.web.ca/~robrien/papers/arfinal.html\n",
      "Error: 520 Server Error:  for url: https://www.webdesign.org/ on URL: https://www.webdesign.org/\n",
      "3 new links from URL https://webdesigner.withgoogle.com/\n",
      "3 new links from URL https://en.wikipedia.org/wiki/Web_design\n",
      "3 new links from URL https://www.wix.com/\n",
      "3 new links from URL https://www.godaddy.com/websites/web-design\n",
      "3 new links from URL https://www.interaction-design.org/literature/topics/web-design\n",
      "3 new links from URL https://www.designhill.com/website-design\n",
      "3 new links from URL https://www.web.com/\n",
      "3 new links from URL https://www.techopedia.com/definition/10009/web-design\n",
      "3 new links from URL https://designshack.net/articles/business-articles/learn-web-design-in-30-days/\n",
      "3 new links from URL https://www.squarespace.com/website-design\n",
      "3 new links from URL https://teamtreehouse.com/tracks/web-design\n",
      "Error: 403 Client Error: Forbidden for url: https://www.upwork.com/hire/web-designers/ on URL: https://www.upwork.com/hire/web-designers/\n",
      "3 new links from URL https://www.youtube.com/watch?v=oYIGc5yA37I\n",
      "0 new links from URL https://www.fiverr.com/categories/graphics-design/web-plus-mobile-design\n",
      "3 new links from URL https://www.thebestdesigns.com/\n",
      "3 new links from URL https://www.youtube.com/watch?v=alswD2tCc_Q\n",
      "3 new links from URL http://www.networksolutions.com/education/what-is-a-web-site-design/\n",
      "0 new links from URL https://study.com/articles/Web_Designer_Job_Description_Duties_and_Requirements.html\n",
      "3 new links from URL https://www.wikihow.com/Learn-Web-Design\n",
      "Error: 403 Client Error: Forbidden for url: https://www.pexels.com/search/web%20design/ on URL: https://www.pexels.com/search/web%20design/\n",
      "Error: 520 Server Error:  for url: https://www.webdesign.org/building-fast-websites.22555.html on URL: https://www.webdesign.org/building-fast-websites.22555.html\n",
      "3 new links from URL https://www.websitebuilderexpert.com/designing-websites/\n",
      "3 new links from URL https://www.creativebloq.com/features/best-web-design-tools\n",
      "3 new links from URL https://www.godaddy.com/websites/website-builder\n",
      "3 new links from URL https://www.awwwards.com/websites/clean/\n",
      "3 new links from URL https://www.techradar.com/news/best-web-design-software\n",
      "3 new links from URL https://www.entrepreneur.com/topic/web-design\n",
      "3 new links from URL https://themanifest.com/web-design/agencies\n",
      "3 new links from URL https://blog.hubspot.com/marketing/best-website-designs-list\n"
     ]
    },
    {
     "ename": "KeyboardInterrupt",
     "evalue": "",
     "output_type": "error",
     "traceback": [
      "\u001b[0;31m---------------------------------------------------------------------------\u001b[0m",
      "\u001b[0;31mTypeError\u001b[0m                                 Traceback (most recent call last)",
      "\u001b[0;32m/opt/conda/lib/python3.7/site-packages/urllib3/connectionpool.py\u001b[0m in \u001b[0;36m_make_request\u001b[0;34m(self, conn, method, url, timeout, chunked, **httplib_request_kw)\u001b[0m\n\u001b[1;32m    378\u001b[0m                 \u001b[0;31m# Python 2.7, use buffering of HTTP responses\u001b[0m\u001b[0;34m\u001b[0m\u001b[0;34m\u001b[0m\u001b[0;34m\u001b[0m\u001b[0m\n\u001b[0;32m--> 379\u001b[0;31m                 \u001b[0mhttplib_response\u001b[0m \u001b[0;34m=\u001b[0m \u001b[0mconn\u001b[0m\u001b[0;34m.\u001b[0m\u001b[0mgetresponse\u001b[0m\u001b[0;34m(\u001b[0m\u001b[0mbuffering\u001b[0m\u001b[0;34m=\u001b[0m\u001b[0;32mTrue\u001b[0m\u001b[0;34m)\u001b[0m\u001b[0;34m\u001b[0m\u001b[0;34m\u001b[0m\u001b[0m\n\u001b[0m\u001b[1;32m    380\u001b[0m             \u001b[0;32mexcept\u001b[0m \u001b[0mTypeError\u001b[0m\u001b[0;34m:\u001b[0m\u001b[0;34m\u001b[0m\u001b[0;34m\u001b[0m\u001b[0m\n",
      "\u001b[0;31mTypeError\u001b[0m: getresponse() got an unexpected keyword argument 'buffering'",
      "\nDuring handling of the above exception, another exception occurred:\n",
      "\u001b[0;31mKeyboardInterrupt\u001b[0m                         Traceback (most recent call last)",
      "\u001b[0;32m<ipython-input-196-9b2cc9b963ac>\u001b[0m in \u001b[0;36m<module>\u001b[0;34m\u001b[0m\n\u001b[1;32m      1\u001b[0m \u001b[0mdocuments\u001b[0m \u001b[0;34m=\u001b[0m \u001b[0;34m[\u001b[0m\u001b[0;34m]\u001b[0m\u001b[0;34m\u001b[0m\u001b[0;34m\u001b[0m\u001b[0m\n\u001b[0;32m----> 2\u001b[0;31m \u001b[0;32mfor\u001b[0m \u001b[0mdocument\u001b[0m \u001b[0;32min\u001b[0m \u001b[0mdepth_crawl\u001b[0m\u001b[0;34m(\u001b[0m\u001b[0mlist\u001b[0m\u001b[0;34m(\u001b[0m\u001b[0msearch_results\u001b[0m\u001b[0;34m[\u001b[0m\u001b[0;34m'url'\u001b[0m\u001b[0;34m]\u001b[0m\u001b[0;34m.\u001b[0m\u001b[0mvalues\u001b[0m\u001b[0;34m)\u001b[0m\u001b[0;34m,\u001b[0m \u001b[0mmax_pages\u001b[0m\u001b[0;34m=\u001b[0m\u001b[0;36m10000\u001b[0m\u001b[0;34m,\u001b[0m \u001b[0mmax_links\u001b[0m\u001b[0;34m=\u001b[0m\u001b[0;36m3\u001b[0m\u001b[0;34m)\u001b[0m\u001b[0;34m:\u001b[0m\u001b[0;34m\u001b[0m\u001b[0;34m\u001b[0m\u001b[0m\n\u001b[0m\u001b[1;32m      3\u001b[0m     \u001b[0mdocuments\u001b[0m\u001b[0;34m.\u001b[0m\u001b[0mappend\u001b[0m\u001b[0;34m(\u001b[0m\u001b[0mdocument\u001b[0m\u001b[0;34m)\u001b[0m\u001b[0;34m\u001b[0m\u001b[0;34m\u001b[0m\u001b[0m\n",
      "\u001b[0;32m<ipython-input-194-1298692cec93>\u001b[0m in \u001b[0;36mdepth_crawl\u001b[0;34m(seed_urls, depth, max_pages, max_links)\u001b[0m\n\u001b[1;32m      9\u001b[0m             \u001b[0;32mtry\u001b[0m\u001b[0;34m:\u001b[0m\u001b[0;34m\u001b[0m\u001b[0;34m\u001b[0m\u001b[0m\n\u001b[1;32m     10\u001b[0m                 \u001b[0mvisited\u001b[0m\u001b[0;34m.\u001b[0m\u001b[0madd\u001b[0m\u001b[0;34m(\u001b[0m\u001b[0murl\u001b[0m\u001b[0;34m)\u001b[0m\u001b[0;34m\u001b[0m\u001b[0;34m\u001b[0m\u001b[0m\n\u001b[0;32m---> 11\u001b[0;31m                 \u001b[0mresponse\u001b[0m \u001b[0;34m=\u001b[0m \u001b[0mget\u001b[0m\u001b[0;34m(\u001b[0m\u001b[0murl\u001b[0m\u001b[0;34m)\u001b[0m\u001b[0;34m\u001b[0m\u001b[0;34m\u001b[0m\u001b[0m\n\u001b[0m\u001b[1;32m     12\u001b[0m                 \u001b[0mresponse\u001b[0m\u001b[0;34m.\u001b[0m\u001b[0mraise_for_status\u001b[0m\u001b[0;34m(\u001b[0m\u001b[0;34m)\u001b[0m\u001b[0;34m\u001b[0m\u001b[0;34m\u001b[0m\u001b[0m\n\u001b[1;32m     13\u001b[0m                 \u001b[0mcontent\u001b[0m \u001b[0;34m=\u001b[0m \u001b[0mresponse\u001b[0m\u001b[0;34m.\u001b[0m\u001b[0mcontent\u001b[0m\u001b[0;34m\u001b[0m\u001b[0;34m\u001b[0m\u001b[0m\n",
      "\u001b[0;32m/opt/conda/lib/python3.7/site-packages/requests/api.py\u001b[0m in \u001b[0;36mget\u001b[0;34m(url, params, **kwargs)\u001b[0m\n\u001b[1;32m     73\u001b[0m \u001b[0;34m\u001b[0m\u001b[0m\n\u001b[1;32m     74\u001b[0m     \u001b[0mkwargs\u001b[0m\u001b[0;34m.\u001b[0m\u001b[0msetdefault\u001b[0m\u001b[0;34m(\u001b[0m\u001b[0;34m'allow_redirects'\u001b[0m\u001b[0;34m,\u001b[0m \u001b[0;32mTrue\u001b[0m\u001b[0;34m)\u001b[0m\u001b[0;34m\u001b[0m\u001b[0;34m\u001b[0m\u001b[0m\n\u001b[0;32m---> 75\u001b[0;31m     \u001b[0;32mreturn\u001b[0m \u001b[0mrequest\u001b[0m\u001b[0;34m(\u001b[0m\u001b[0;34m'get'\u001b[0m\u001b[0;34m,\u001b[0m \u001b[0murl\u001b[0m\u001b[0;34m,\u001b[0m \u001b[0mparams\u001b[0m\u001b[0;34m=\u001b[0m\u001b[0mparams\u001b[0m\u001b[0;34m,\u001b[0m \u001b[0;34m**\u001b[0m\u001b[0mkwargs\u001b[0m\u001b[0;34m)\u001b[0m\u001b[0;34m\u001b[0m\u001b[0;34m\u001b[0m\u001b[0m\n\u001b[0m\u001b[1;32m     76\u001b[0m \u001b[0;34m\u001b[0m\u001b[0m\n\u001b[1;32m     77\u001b[0m \u001b[0;34m\u001b[0m\u001b[0m\n",
      "\u001b[0;32m/opt/conda/lib/python3.7/site-packages/requests/api.py\u001b[0m in \u001b[0;36mrequest\u001b[0;34m(method, url, **kwargs)\u001b[0m\n\u001b[1;32m     58\u001b[0m     \u001b[0;31m# cases, and look like a memory leak in others.\u001b[0m\u001b[0;34m\u001b[0m\u001b[0;34m\u001b[0m\u001b[0;34m\u001b[0m\u001b[0m\n\u001b[1;32m     59\u001b[0m     \u001b[0;32mwith\u001b[0m \u001b[0msessions\u001b[0m\u001b[0;34m.\u001b[0m\u001b[0mSession\u001b[0m\u001b[0;34m(\u001b[0m\u001b[0;34m)\u001b[0m \u001b[0;32mas\u001b[0m \u001b[0msession\u001b[0m\u001b[0;34m:\u001b[0m\u001b[0;34m\u001b[0m\u001b[0;34m\u001b[0m\u001b[0m\n\u001b[0;32m---> 60\u001b[0;31m         \u001b[0;32mreturn\u001b[0m \u001b[0msession\u001b[0m\u001b[0;34m.\u001b[0m\u001b[0mrequest\u001b[0m\u001b[0;34m(\u001b[0m\u001b[0mmethod\u001b[0m\u001b[0;34m=\u001b[0m\u001b[0mmethod\u001b[0m\u001b[0;34m,\u001b[0m \u001b[0murl\u001b[0m\u001b[0;34m=\u001b[0m\u001b[0murl\u001b[0m\u001b[0;34m,\u001b[0m \u001b[0;34m**\u001b[0m\u001b[0mkwargs\u001b[0m\u001b[0;34m)\u001b[0m\u001b[0;34m\u001b[0m\u001b[0;34m\u001b[0m\u001b[0m\n\u001b[0m\u001b[1;32m     61\u001b[0m \u001b[0;34m\u001b[0m\u001b[0m\n\u001b[1;32m     62\u001b[0m \u001b[0;34m\u001b[0m\u001b[0m\n",
      "\u001b[0;32m/opt/conda/lib/python3.7/site-packages/requests/sessions.py\u001b[0m in \u001b[0;36mrequest\u001b[0;34m(self, method, url, params, data, headers, cookies, files, auth, timeout, allow_redirects, proxies, hooks, stream, verify, cert, json)\u001b[0m\n\u001b[1;32m    531\u001b[0m         }\n\u001b[1;32m    532\u001b[0m         \u001b[0msend_kwargs\u001b[0m\u001b[0;34m.\u001b[0m\u001b[0mupdate\u001b[0m\u001b[0;34m(\u001b[0m\u001b[0msettings\u001b[0m\u001b[0;34m)\u001b[0m\u001b[0;34m\u001b[0m\u001b[0;34m\u001b[0m\u001b[0m\n\u001b[0;32m--> 533\u001b[0;31m         \u001b[0mresp\u001b[0m \u001b[0;34m=\u001b[0m \u001b[0mself\u001b[0m\u001b[0;34m.\u001b[0m\u001b[0msend\u001b[0m\u001b[0;34m(\u001b[0m\u001b[0mprep\u001b[0m\u001b[0;34m,\u001b[0m \u001b[0;34m**\u001b[0m\u001b[0msend_kwargs\u001b[0m\u001b[0;34m)\u001b[0m\u001b[0;34m\u001b[0m\u001b[0;34m\u001b[0m\u001b[0m\n\u001b[0m\u001b[1;32m    534\u001b[0m \u001b[0;34m\u001b[0m\u001b[0m\n\u001b[1;32m    535\u001b[0m         \u001b[0;32mreturn\u001b[0m \u001b[0mresp\u001b[0m\u001b[0;34m\u001b[0m\u001b[0;34m\u001b[0m\u001b[0m\n",
      "\u001b[0;32m/opt/conda/lib/python3.7/site-packages/requests/sessions.py\u001b[0m in \u001b[0;36msend\u001b[0;34m(self, request, **kwargs)\u001b[0m\n\u001b[1;32m    644\u001b[0m \u001b[0;34m\u001b[0m\u001b[0m\n\u001b[1;32m    645\u001b[0m         \u001b[0;31m# Send the request\u001b[0m\u001b[0;34m\u001b[0m\u001b[0;34m\u001b[0m\u001b[0;34m\u001b[0m\u001b[0m\n\u001b[0;32m--> 646\u001b[0;31m         \u001b[0mr\u001b[0m \u001b[0;34m=\u001b[0m \u001b[0madapter\u001b[0m\u001b[0;34m.\u001b[0m\u001b[0msend\u001b[0m\u001b[0;34m(\u001b[0m\u001b[0mrequest\u001b[0m\u001b[0;34m,\u001b[0m \u001b[0;34m**\u001b[0m\u001b[0mkwargs\u001b[0m\u001b[0;34m)\u001b[0m\u001b[0;34m\u001b[0m\u001b[0;34m\u001b[0m\u001b[0m\n\u001b[0m\u001b[1;32m    647\u001b[0m \u001b[0;34m\u001b[0m\u001b[0m\n\u001b[1;32m    648\u001b[0m         \u001b[0;31m# Total elapsed time of the request (approximately)\u001b[0m\u001b[0;34m\u001b[0m\u001b[0;34m\u001b[0m\u001b[0;34m\u001b[0m\u001b[0m\n",
      "\u001b[0;32m/opt/conda/lib/python3.7/site-packages/requests/adapters.py\u001b[0m in \u001b[0;36msend\u001b[0;34m(self, request, stream, timeout, verify, cert, proxies)\u001b[0m\n\u001b[1;32m    447\u001b[0m                     \u001b[0mdecode_content\u001b[0m\u001b[0;34m=\u001b[0m\u001b[0;32mFalse\u001b[0m\u001b[0;34m,\u001b[0m\u001b[0;34m\u001b[0m\u001b[0;34m\u001b[0m\u001b[0m\n\u001b[1;32m    448\u001b[0m                     \u001b[0mretries\u001b[0m\u001b[0;34m=\u001b[0m\u001b[0mself\u001b[0m\u001b[0;34m.\u001b[0m\u001b[0mmax_retries\u001b[0m\u001b[0;34m,\u001b[0m\u001b[0;34m\u001b[0m\u001b[0;34m\u001b[0m\u001b[0m\n\u001b[0;32m--> 449\u001b[0;31m                     \u001b[0mtimeout\u001b[0m\u001b[0;34m=\u001b[0m\u001b[0mtimeout\u001b[0m\u001b[0;34m\u001b[0m\u001b[0;34m\u001b[0m\u001b[0m\n\u001b[0m\u001b[1;32m    450\u001b[0m                 )\n\u001b[1;32m    451\u001b[0m \u001b[0;34m\u001b[0m\u001b[0m\n",
      "\u001b[0;32m/opt/conda/lib/python3.7/site-packages/urllib3/connectionpool.py\u001b[0m in \u001b[0;36murlopen\u001b[0;34m(self, method, url, body, headers, retries, redirect, assert_same_host, timeout, pool_timeout, release_conn, chunked, body_pos, **response_kw)\u001b[0m\n\u001b[1;32m    601\u001b[0m                                                   \u001b[0mtimeout\u001b[0m\u001b[0;34m=\u001b[0m\u001b[0mtimeout_obj\u001b[0m\u001b[0;34m,\u001b[0m\u001b[0;34m\u001b[0m\u001b[0;34m\u001b[0m\u001b[0m\n\u001b[1;32m    602\u001b[0m                                                   \u001b[0mbody\u001b[0m\u001b[0;34m=\u001b[0m\u001b[0mbody\u001b[0m\u001b[0;34m,\u001b[0m \u001b[0mheaders\u001b[0m\u001b[0;34m=\u001b[0m\u001b[0mheaders\u001b[0m\u001b[0;34m,\u001b[0m\u001b[0;34m\u001b[0m\u001b[0;34m\u001b[0m\u001b[0m\n\u001b[0;32m--> 603\u001b[0;31m                                                   chunked=chunked)\n\u001b[0m\u001b[1;32m    604\u001b[0m \u001b[0;34m\u001b[0m\u001b[0m\n\u001b[1;32m    605\u001b[0m             \u001b[0;31m# If we're going to release the connection in ``finally:``, then\u001b[0m\u001b[0;34m\u001b[0m\u001b[0;34m\u001b[0m\u001b[0;34m\u001b[0m\u001b[0m\n",
      "\u001b[0;32m/opt/conda/lib/python3.7/site-packages/urllib3/connectionpool.py\u001b[0m in \u001b[0;36m_make_request\u001b[0;34m(self, conn, method, url, timeout, chunked, **httplib_request_kw)\u001b[0m\n\u001b[1;32m    381\u001b[0m                 \u001b[0;31m# Python 3\u001b[0m\u001b[0;34m\u001b[0m\u001b[0;34m\u001b[0m\u001b[0;34m\u001b[0m\u001b[0m\n\u001b[1;32m    382\u001b[0m                 \u001b[0;32mtry\u001b[0m\u001b[0;34m:\u001b[0m\u001b[0;34m\u001b[0m\u001b[0;34m\u001b[0m\u001b[0m\n\u001b[0;32m--> 383\u001b[0;31m                     \u001b[0mhttplib_response\u001b[0m \u001b[0;34m=\u001b[0m \u001b[0mconn\u001b[0m\u001b[0;34m.\u001b[0m\u001b[0mgetresponse\u001b[0m\u001b[0;34m(\u001b[0m\u001b[0;34m)\u001b[0m\u001b[0;34m\u001b[0m\u001b[0;34m\u001b[0m\u001b[0m\n\u001b[0m\u001b[1;32m    384\u001b[0m                 \u001b[0;32mexcept\u001b[0m \u001b[0mException\u001b[0m \u001b[0;32mas\u001b[0m \u001b[0me\u001b[0m\u001b[0;34m:\u001b[0m\u001b[0;34m\u001b[0m\u001b[0;34m\u001b[0m\u001b[0m\n\u001b[1;32m    385\u001b[0m                     \u001b[0;31m# Remove the TypeError from the exception chain in Python 3;\u001b[0m\u001b[0;34m\u001b[0m\u001b[0;34m\u001b[0m\u001b[0;34m\u001b[0m\u001b[0m\n",
      "\u001b[0;32m/opt/conda/lib/python3.7/http/client.py\u001b[0m in \u001b[0;36mgetresponse\u001b[0;34m(self)\u001b[0m\n\u001b[1;32m   1319\u001b[0m         \u001b[0;32mtry\u001b[0m\u001b[0;34m:\u001b[0m\u001b[0;34m\u001b[0m\u001b[0;34m\u001b[0m\u001b[0m\n\u001b[1;32m   1320\u001b[0m             \u001b[0;32mtry\u001b[0m\u001b[0;34m:\u001b[0m\u001b[0;34m\u001b[0m\u001b[0;34m\u001b[0m\u001b[0m\n\u001b[0;32m-> 1321\u001b[0;31m                 \u001b[0mresponse\u001b[0m\u001b[0;34m.\u001b[0m\u001b[0mbegin\u001b[0m\u001b[0;34m(\u001b[0m\u001b[0;34m)\u001b[0m\u001b[0;34m\u001b[0m\u001b[0;34m\u001b[0m\u001b[0m\n\u001b[0m\u001b[1;32m   1322\u001b[0m             \u001b[0;32mexcept\u001b[0m \u001b[0mConnectionError\u001b[0m\u001b[0;34m:\u001b[0m\u001b[0;34m\u001b[0m\u001b[0;34m\u001b[0m\u001b[0m\n\u001b[1;32m   1323\u001b[0m                 \u001b[0mself\u001b[0m\u001b[0;34m.\u001b[0m\u001b[0mclose\u001b[0m\u001b[0;34m(\u001b[0m\u001b[0;34m)\u001b[0m\u001b[0;34m\u001b[0m\u001b[0;34m\u001b[0m\u001b[0m\n",
      "\u001b[0;32m/opt/conda/lib/python3.7/http/client.py\u001b[0m in \u001b[0;36mbegin\u001b[0;34m(self)\u001b[0m\n\u001b[1;32m    294\u001b[0m         \u001b[0;31m# read until we get a non-100 response\u001b[0m\u001b[0;34m\u001b[0m\u001b[0;34m\u001b[0m\u001b[0;34m\u001b[0m\u001b[0m\n\u001b[1;32m    295\u001b[0m         \u001b[0;32mwhile\u001b[0m \u001b[0;32mTrue\u001b[0m\u001b[0;34m:\u001b[0m\u001b[0;34m\u001b[0m\u001b[0;34m\u001b[0m\u001b[0m\n\u001b[0;32m--> 296\u001b[0;31m             \u001b[0mversion\u001b[0m\u001b[0;34m,\u001b[0m \u001b[0mstatus\u001b[0m\u001b[0;34m,\u001b[0m \u001b[0mreason\u001b[0m \u001b[0;34m=\u001b[0m \u001b[0mself\u001b[0m\u001b[0;34m.\u001b[0m\u001b[0m_read_status\u001b[0m\u001b[0;34m(\u001b[0m\u001b[0;34m)\u001b[0m\u001b[0;34m\u001b[0m\u001b[0;34m\u001b[0m\u001b[0m\n\u001b[0m\u001b[1;32m    297\u001b[0m             \u001b[0;32mif\u001b[0m \u001b[0mstatus\u001b[0m \u001b[0;34m!=\u001b[0m \u001b[0mCONTINUE\u001b[0m\u001b[0;34m:\u001b[0m\u001b[0;34m\u001b[0m\u001b[0;34m\u001b[0m\u001b[0m\n\u001b[1;32m    298\u001b[0m                 \u001b[0;32mbreak\u001b[0m\u001b[0;34m\u001b[0m\u001b[0;34m\u001b[0m\u001b[0m\n",
      "\u001b[0;32m/opt/conda/lib/python3.7/http/client.py\u001b[0m in \u001b[0;36m_read_status\u001b[0;34m(self)\u001b[0m\n\u001b[1;32m    255\u001b[0m \u001b[0;34m\u001b[0m\u001b[0m\n\u001b[1;32m    256\u001b[0m     \u001b[0;32mdef\u001b[0m \u001b[0m_read_status\u001b[0m\u001b[0;34m(\u001b[0m\u001b[0mself\u001b[0m\u001b[0;34m)\u001b[0m\u001b[0;34m:\u001b[0m\u001b[0;34m\u001b[0m\u001b[0;34m\u001b[0m\u001b[0m\n\u001b[0;32m--> 257\u001b[0;31m         \u001b[0mline\u001b[0m \u001b[0;34m=\u001b[0m \u001b[0mstr\u001b[0m\u001b[0;34m(\u001b[0m\u001b[0mself\u001b[0m\u001b[0;34m.\u001b[0m\u001b[0mfp\u001b[0m\u001b[0;34m.\u001b[0m\u001b[0mreadline\u001b[0m\u001b[0;34m(\u001b[0m\u001b[0m_MAXLINE\u001b[0m \u001b[0;34m+\u001b[0m \u001b[0;36m1\u001b[0m\u001b[0;34m)\u001b[0m\u001b[0;34m,\u001b[0m \u001b[0;34m\"iso-8859-1\"\u001b[0m\u001b[0;34m)\u001b[0m\u001b[0;34m\u001b[0m\u001b[0;34m\u001b[0m\u001b[0m\n\u001b[0m\u001b[1;32m    258\u001b[0m         \u001b[0;32mif\u001b[0m \u001b[0mlen\u001b[0m\u001b[0;34m(\u001b[0m\u001b[0mline\u001b[0m\u001b[0;34m)\u001b[0m \u001b[0;34m>\u001b[0m \u001b[0m_MAXLINE\u001b[0m\u001b[0;34m:\u001b[0m\u001b[0;34m\u001b[0m\u001b[0;34m\u001b[0m\u001b[0m\n\u001b[1;32m    259\u001b[0m             \u001b[0;32mraise\u001b[0m \u001b[0mLineTooLong\u001b[0m\u001b[0;34m(\u001b[0m\u001b[0;34m\"status line\"\u001b[0m\u001b[0;34m)\u001b[0m\u001b[0;34m\u001b[0m\u001b[0;34m\u001b[0m\u001b[0m\n",
      "\u001b[0;32m/opt/conda/lib/python3.7/socket.py\u001b[0m in \u001b[0;36mreadinto\u001b[0;34m(self, b)\u001b[0m\n\u001b[1;32m    587\u001b[0m         \u001b[0;32mwhile\u001b[0m \u001b[0;32mTrue\u001b[0m\u001b[0;34m:\u001b[0m\u001b[0;34m\u001b[0m\u001b[0;34m\u001b[0m\u001b[0m\n\u001b[1;32m    588\u001b[0m             \u001b[0;32mtry\u001b[0m\u001b[0;34m:\u001b[0m\u001b[0;34m\u001b[0m\u001b[0;34m\u001b[0m\u001b[0m\n\u001b[0;32m--> 589\u001b[0;31m                 \u001b[0;32mreturn\u001b[0m \u001b[0mself\u001b[0m\u001b[0;34m.\u001b[0m\u001b[0m_sock\u001b[0m\u001b[0;34m.\u001b[0m\u001b[0mrecv_into\u001b[0m\u001b[0;34m(\u001b[0m\u001b[0mb\u001b[0m\u001b[0;34m)\u001b[0m\u001b[0;34m\u001b[0m\u001b[0;34m\u001b[0m\u001b[0m\n\u001b[0m\u001b[1;32m    590\u001b[0m             \u001b[0;32mexcept\u001b[0m \u001b[0mtimeout\u001b[0m\u001b[0;34m:\u001b[0m\u001b[0;34m\u001b[0m\u001b[0;34m\u001b[0m\u001b[0m\n\u001b[1;32m    591\u001b[0m                 \u001b[0mself\u001b[0m\u001b[0;34m.\u001b[0m\u001b[0m_timeout_occurred\u001b[0m \u001b[0;34m=\u001b[0m \u001b[0;32mTrue\u001b[0m\u001b[0;34m\u001b[0m\u001b[0;34m\u001b[0m\u001b[0m\n",
      "\u001b[0;32m/opt/conda/lib/python3.7/site-packages/urllib3/contrib/pyopenssl.py\u001b[0m in \u001b[0;36mrecv_into\u001b[0;34m(self, *args, **kwargs)\u001b[0m\n\u001b[1;32m    302\u001b[0m     \u001b[0;32mdef\u001b[0m \u001b[0mrecv_into\u001b[0m\u001b[0;34m(\u001b[0m\u001b[0mself\u001b[0m\u001b[0;34m,\u001b[0m \u001b[0;34m*\u001b[0m\u001b[0margs\u001b[0m\u001b[0;34m,\u001b[0m \u001b[0;34m**\u001b[0m\u001b[0mkwargs\u001b[0m\u001b[0;34m)\u001b[0m\u001b[0;34m:\u001b[0m\u001b[0;34m\u001b[0m\u001b[0;34m\u001b[0m\u001b[0m\n\u001b[1;32m    303\u001b[0m         \u001b[0;32mtry\u001b[0m\u001b[0;34m:\u001b[0m\u001b[0;34m\u001b[0m\u001b[0;34m\u001b[0m\u001b[0m\n\u001b[0;32m--> 304\u001b[0;31m             \u001b[0;32mreturn\u001b[0m \u001b[0mself\u001b[0m\u001b[0;34m.\u001b[0m\u001b[0mconnection\u001b[0m\u001b[0;34m.\u001b[0m\u001b[0mrecv_into\u001b[0m\u001b[0;34m(\u001b[0m\u001b[0;34m*\u001b[0m\u001b[0margs\u001b[0m\u001b[0;34m,\u001b[0m \u001b[0;34m**\u001b[0m\u001b[0mkwargs\u001b[0m\u001b[0;34m)\u001b[0m\u001b[0;34m\u001b[0m\u001b[0;34m\u001b[0m\u001b[0m\n\u001b[0m\u001b[1;32m    305\u001b[0m         \u001b[0;32mexcept\u001b[0m \u001b[0mOpenSSL\u001b[0m\u001b[0;34m.\u001b[0m\u001b[0mSSL\u001b[0m\u001b[0;34m.\u001b[0m\u001b[0mSysCallError\u001b[0m \u001b[0;32mas\u001b[0m \u001b[0me\u001b[0m\u001b[0;34m:\u001b[0m\u001b[0;34m\u001b[0m\u001b[0;34m\u001b[0m\u001b[0m\n\u001b[1;32m    306\u001b[0m             \u001b[0;32mif\u001b[0m \u001b[0mself\u001b[0m\u001b[0;34m.\u001b[0m\u001b[0msuppress_ragged_eofs\u001b[0m \u001b[0;32mand\u001b[0m \u001b[0me\u001b[0m\u001b[0;34m.\u001b[0m\u001b[0margs\u001b[0m \u001b[0;34m==\u001b[0m \u001b[0;34m(\u001b[0m\u001b[0;34m-\u001b[0m\u001b[0;36m1\u001b[0m\u001b[0;34m,\u001b[0m \u001b[0;34m'Unexpected EOF'\u001b[0m\u001b[0;34m)\u001b[0m\u001b[0;34m:\u001b[0m\u001b[0;34m\u001b[0m\u001b[0;34m\u001b[0m\u001b[0m\n",
      "\u001b[0;32m/opt/conda/lib/python3.7/site-packages/OpenSSL/SSL.py\u001b[0m in \u001b[0;36mrecv_into\u001b[0;34m(self, buffer, nbytes, flags)\u001b[0m\n\u001b[1;32m   1819\u001b[0m             \u001b[0mresult\u001b[0m \u001b[0;34m=\u001b[0m \u001b[0m_lib\u001b[0m\u001b[0;34m.\u001b[0m\u001b[0mSSL_peek\u001b[0m\u001b[0;34m(\u001b[0m\u001b[0mself\u001b[0m\u001b[0;34m.\u001b[0m\u001b[0m_ssl\u001b[0m\u001b[0;34m,\u001b[0m \u001b[0mbuf\u001b[0m\u001b[0;34m,\u001b[0m \u001b[0mnbytes\u001b[0m\u001b[0;34m)\u001b[0m\u001b[0;34m\u001b[0m\u001b[0;34m\u001b[0m\u001b[0m\n\u001b[1;32m   1820\u001b[0m         \u001b[0;32melse\u001b[0m\u001b[0;34m:\u001b[0m\u001b[0;34m\u001b[0m\u001b[0;34m\u001b[0m\u001b[0m\n\u001b[0;32m-> 1821\u001b[0;31m             \u001b[0mresult\u001b[0m \u001b[0;34m=\u001b[0m \u001b[0m_lib\u001b[0m\u001b[0;34m.\u001b[0m\u001b[0mSSL_read\u001b[0m\u001b[0;34m(\u001b[0m\u001b[0mself\u001b[0m\u001b[0;34m.\u001b[0m\u001b[0m_ssl\u001b[0m\u001b[0;34m,\u001b[0m \u001b[0mbuf\u001b[0m\u001b[0;34m,\u001b[0m \u001b[0mnbytes\u001b[0m\u001b[0;34m)\u001b[0m\u001b[0;34m\u001b[0m\u001b[0;34m\u001b[0m\u001b[0m\n\u001b[0m\u001b[1;32m   1822\u001b[0m         \u001b[0mself\u001b[0m\u001b[0;34m.\u001b[0m\u001b[0m_raise_ssl_error\u001b[0m\u001b[0;34m(\u001b[0m\u001b[0mself\u001b[0m\u001b[0;34m.\u001b[0m\u001b[0m_ssl\u001b[0m\u001b[0;34m,\u001b[0m \u001b[0mresult\u001b[0m\u001b[0;34m)\u001b[0m\u001b[0;34m\u001b[0m\u001b[0;34m\u001b[0m\u001b[0m\n\u001b[1;32m   1823\u001b[0m \u001b[0;34m\u001b[0m\u001b[0m\n",
      "\u001b[0;31mKeyboardInterrupt\u001b[0m: "
     ]
    }
   ],
   "source": [
    "documents = []\n",
    "for document in depth_crawl(list(search_results['url'].values), max_pages=10000, max_links=3):\n",
    "    documents.append(document)"
   ]
  },
  {
   "cell_type": "code",
   "execution_count": 200,
   "metadata": {},
   "outputs": [
    {
     "data": {
      "text/plain": [
       "2011"
      ]
     },
     "execution_count": 200,
     "metadata": {},
     "output_type": "execute_result"
    }
   ],
   "source": [
    "document_df = pd.DataFrame(documents)\n",
    "#document_df.to_csv('document_database.csv')\n",
    "len(document_df)"
   ]
  },
  {
   "cell_type": "code",
   "execution_count": 273,
   "metadata": {},
   "outputs": [
    {
     "data": {
      "text/html": [
       "<div>\n",
       "<style scoped>\n",
       "    .dataframe tbody tr th:only-of-type {\n",
       "        vertical-align: middle;\n",
       "    }\n",
       "\n",
       "    .dataframe tbody tr th {\n",
       "        vertical-align: top;\n",
       "    }\n",
       "\n",
       "    .dataframe thead th {\n",
       "        text-align: right;\n",
       "    }\n",
       "</style>\n",
       "<table border=\"1\" class=\"dataframe\">\n",
       "  <thead>\n",
       "    <tr style=\"text-align: right;\">\n",
       "      <th></th>\n",
       "      <th>content</th>\n",
       "      <th>url</th>\n",
       "    </tr>\n",
       "  </thead>\n",
       "  <tbody>\n",
       "    <tr>\n",
       "      <th>0</th>\n",
       "      <td>b'\\n&lt;!DOCTYPE html&gt;\\n&lt;html class=\"client-nojs\"...</td>\n",
       "      <td>https://en.wikipedia.org/wiki/Lateral_thinking</td>\n",
       "    </tr>\n",
       "    <tr>\n",
       "      <th>1</th>\n",
       "      <td>b'&lt;!DOCTYPE HTML&gt;\\n&lt;html lang=\"\"&gt;\\n    &lt;head&gt;\\...</td>\n",
       "      <td>https://www.edwddebono.com/lateral-thinking</td>\n",
       "    </tr>\n",
       "    <tr>\n",
       "      <th>2</th>\n",
       "      <td>b'&lt;!DOCTYPE html&gt;\\n&lt;!--[if lt IE 7 ]&gt;&lt;html cla...</td>\n",
       "      <td>http://www.folj.com/lateral/</td>\n",
       "    </tr>\n",
       "    <tr>\n",
       "      <th>3</th>\n",
       "      <td>b'&lt;!DOCTYPE html&gt;\\n&lt;html id=\"structuredContent...</td>\n",
       "      <td>https://www.thoughtco.com/lateral-thinking-185...</td>\n",
       "    </tr>\n",
       "    <tr>\n",
       "      <th>4</th>\n",
       "      <td>b'&lt;!DOCTYPE html&gt;\\n&lt;html lang=\"en\"&gt;\\n&lt;head&gt;\\n ...</td>\n",
       "      <td>https://www.lateralthinking.com/</td>\n",
       "    </tr>\n",
       "  </tbody>\n",
       "</table>\n",
       "</div>"
      ],
      "text/plain": [
       "                                             content  \\\n",
       "0  b'\\n<!DOCTYPE html>\\n<html class=\"client-nojs\"...   \n",
       "1  b'<!DOCTYPE HTML>\\n<html lang=\"\">\\n    <head>\\...   \n",
       "2  b'<!DOCTYPE html>\\n<!--[if lt IE 7 ]><html cla...   \n",
       "3  b'<!DOCTYPE html>\\n<html id=\"structuredContent...   \n",
       "4  b'<!DOCTYPE html>\\n<html lang=\"en\">\\n<head>\\n ...   \n",
       "\n",
       "                                                 url  \n",
       "0     https://en.wikipedia.org/wiki/Lateral_thinking  \n",
       "1        https://www.edwddebono.com/lateral-thinking  \n",
       "2                       http://www.folj.com/lateral/  \n",
       "3  https://www.thoughtco.com/lateral-thinking-185...  \n",
       "4                   https://www.lateralthinking.com/  "
      ]
     },
     "execution_count": 273,
     "metadata": {},
     "output_type": "execute_result"
    }
   ],
   "source": [
    "document_df.head()"
   ]
  },
  {
   "cell_type": "code",
   "execution_count": 288,
   "metadata": {},
   "outputs": [
    {
     "data": {
      "text/html": [
       "<div>\n",
       "<style scoped>\n",
       "    .dataframe tbody tr th:only-of-type {\n",
       "        vertical-align: middle;\n",
       "    }\n",
       "\n",
       "    .dataframe tbody tr th {\n",
       "        vertical-align: top;\n",
       "    }\n",
       "\n",
       "    .dataframe thead th {\n",
       "        text-align: right;\n",
       "    }\n",
       "</style>\n",
       "<table border=\"1\" class=\"dataframe\">\n",
       "  <thead>\n",
       "    <tr style=\"text-align: right;\">\n",
       "      <th></th>\n",
       "      <th>dateLastCrawled</th>\n",
       "      <th>name</th>\n",
       "      <th>snippet</th>\n",
       "      <th>topic</th>\n",
       "      <th>url</th>\n",
       "    </tr>\n",
       "  </thead>\n",
       "  <tbody>\n",
       "    <tr>\n",
       "      <th>0</th>\n",
       "      <td>2020-04-13T13:29:00.0000000Z</td>\n",
       "      <td>Lateral thinking - Wikipedia</td>\n",
       "      <td>Lateral thinking is a manner of solving prob...</td>\n",
       "      <td>lateral thinking</td>\n",
       "      <td>https://en.wikipedia.org/wiki/Lateral_thinking</td>\n",
       "    </tr>\n",
       "    <tr>\n",
       "      <th>1</th>\n",
       "      <td>2020-04-08T15:21:00.0000000Z</td>\n",
       "      <td>Lateral Thinking - How can Lateral Thinking...</td>\n",
       "      <td>Lateral Thinking Lateral Thinking is the S...</td>\n",
       "      <td>lateral thinking</td>\n",
       "      <td>https://www.edwddebono.com/lateral-thinking</td>\n",
       "    </tr>\n",
       "    <tr>\n",
       "      <th>2</th>\n",
       "      <td>2020-04-13T23:46:00.0000000Z</td>\n",
       "      <td>Lateral Thinking Puzzles - Preconceptions</td>\n",
       "      <td>Lateral thinking puzzles that challenge your...</td>\n",
       "      <td>lateral thinking</td>\n",
       "      <td>http://www.folj.com/lateral/</td>\n",
       "    </tr>\n",
       "    <tr>\n",
       "      <th>3</th>\n",
       "      <td>2020-04-13T06:39:00.0000000Z</td>\n",
       "      <td>How to Practice Lateral Thinking - ThoughtCo</td>\n",
       "      <td>Lateral thinking involves looking at a situa...</td>\n",
       "      <td>lateral thinking</td>\n",
       "      <td>https://www.thoughtco.com/lateral-thinking-185...</td>\n",
       "    </tr>\n",
       "    <tr>\n",
       "      <th>4</th>\n",
       "      <td>2020-04-13T20:11:00.0000000Z</td>\n",
       "      <td>www.puzzles9.com</td>\n",
       "      <td>www.puzzles9.com</td>\n",
       "      <td>lateral thinking</td>\n",
       "      <td>http://www.puzzles9.com/18-challenging-lateral...</td>\n",
       "    </tr>\n",
       "  </tbody>\n",
       "</table>\n",
       "</div>"
      ],
      "text/plain": [
       "                dateLastCrawled  \\\n",
       "0  2020-04-13T13:29:00.0000000Z   \n",
       "1  2020-04-08T15:21:00.0000000Z   \n",
       "2  2020-04-13T23:46:00.0000000Z   \n",
       "3  2020-04-13T06:39:00.0000000Z   \n",
       "4  2020-04-13T20:11:00.0000000Z   \n",
       "\n",
       "                                                name  \\\n",
       "0                   Lateral thinking - Wikipedia   \n",
       "1  Lateral Thinking - How can Lateral Thinking...   \n",
       "2        Lateral Thinking Puzzles - Preconceptions   \n",
       "3     How to Practice Lateral Thinking - ThoughtCo   \n",
       "4                                   www.puzzles9.com   \n",
       "\n",
       "                                             snippet             topic  \\\n",
       "0  Lateral thinking is a manner of solving prob...  lateral thinking   \n",
       "1  Lateral Thinking Lateral Thinking is the S...  lateral thinking   \n",
       "2  Lateral thinking puzzles that challenge your...  lateral thinking   \n",
       "3  Lateral thinking involves looking at a situa...  lateral thinking   \n",
       "4                                   www.puzzles9.com  lateral thinking   \n",
       "\n",
       "                                                 url  \n",
       "0     https://en.wikipedia.org/wiki/Lateral_thinking  \n",
       "1        https://www.edwddebono.com/lateral-thinking  \n",
       "2                       http://www.folj.com/lateral/  \n",
       "3  https://www.thoughtco.com/lateral-thinking-185...  \n",
       "4  http://www.puzzles9.com/18-challenging-lateral...  "
      ]
     },
     "execution_count": 288,
     "metadata": {},
     "output_type": "execute_result"
    }
   ],
   "source": [
    "search_results.head()"
   ]
  },
  {
   "cell_type": "code",
   "execution_count": 286,
   "metadata": {},
   "outputs": [],
   "source": [
    "document_df['url'] = document_df['url'].astype(str)\n",
    "search_results['url'] = search_results['url'].astype(str)"
   ]
  },
  {
   "cell_type": "code",
   "execution_count": 290,
   "metadata": {},
   "outputs": [
    {
     "data": {
      "text/html": [
       "<div>\n",
       "<style scoped>\n",
       "    .dataframe tbody tr th:only-of-type {\n",
       "        vertical-align: middle;\n",
       "    }\n",
       "\n",
       "    .dataframe tbody tr th {\n",
       "        vertical-align: top;\n",
       "    }\n",
       "\n",
       "    .dataframe thead th {\n",
       "        text-align: right;\n",
       "    }\n",
       "</style>\n",
       "<table border=\"1\" class=\"dataframe\">\n",
       "  <thead>\n",
       "    <tr style=\"text-align: right;\">\n",
       "      <th></th>\n",
       "      <th>content</th>\n",
       "      <th>url</th>\n",
       "      <th>dateLastCrawled</th>\n",
       "      <th>name</th>\n",
       "      <th>snippet</th>\n",
       "      <th>topic</th>\n",
       "    </tr>\n",
       "  </thead>\n",
       "  <tbody>\n",
       "    <tr>\n",
       "      <th>0</th>\n",
       "      <td>b'\\n&lt;!DOCTYPE html&gt;\\n&lt;html class=\"client-nojs\"...</td>\n",
       "      <td>https://en.wikipedia.org/wiki/Lateral_thinking</td>\n",
       "      <td>2020-04-13T13:29:00.0000000Z</td>\n",
       "      <td>Lateral thinking - Wikipedia</td>\n",
       "      <td>Lateral thinking is a manner of solving prob...</td>\n",
       "      <td>lateral thinking</td>\n",
       "    </tr>\n",
       "    <tr>\n",
       "      <th>1</th>\n",
       "      <td>b'&lt;!DOCTYPE HTML&gt;\\n&lt;html lang=\"\"&gt;\\n    &lt;head&gt;\\...</td>\n",
       "      <td>https://www.edwddebono.com/lateral-thinking</td>\n",
       "      <td>2020-04-08T15:21:00.0000000Z</td>\n",
       "      <td>Lateral Thinking - How can Lateral Thinking...</td>\n",
       "      <td>Lateral Thinking Lateral Thinking is the S...</td>\n",
       "      <td>lateral thinking</td>\n",
       "    </tr>\n",
       "    <tr>\n",
       "      <th>2</th>\n",
       "      <td>b'&lt;!DOCTYPE html&gt;\\n&lt;!--[if lt IE 7 ]&gt;&lt;html cla...</td>\n",
       "      <td>http://www.folj.com/lateral/</td>\n",
       "      <td>2020-04-13T23:46:00.0000000Z</td>\n",
       "      <td>Lateral Thinking Puzzles - Preconceptions</td>\n",
       "      <td>Lateral thinking puzzles that challenge your...</td>\n",
       "      <td>lateral thinking</td>\n",
       "    </tr>\n",
       "    <tr>\n",
       "      <th>3</th>\n",
       "      <td>b'&lt;!DOCTYPE html&gt;\\n&lt;html id=\"structuredContent...</td>\n",
       "      <td>https://www.thoughtco.com/lateral-thinking-185...</td>\n",
       "      <td>2020-04-13T06:39:00.0000000Z</td>\n",
       "      <td>How to Practice Lateral Thinking - ThoughtCo</td>\n",
       "      <td>Lateral thinking involves looking at a situa...</td>\n",
       "      <td>lateral thinking</td>\n",
       "    </tr>\n",
       "    <tr>\n",
       "      <th>4</th>\n",
       "      <td>b'&lt;!DOCTYPE html&gt;\\n&lt;html lang=\"en\"&gt;\\n&lt;head&gt;\\n ...</td>\n",
       "      <td>https://www.lateralthinking.com/</td>\n",
       "      <td>2020-04-13T01:05:00.0000000Z</td>\n",
       "      <td>Lateral Thinking</td>\n",
       "      <td>Welcome to Computer Assisted Thinking or CAT...</td>\n",
       "      <td>lateral thinking</td>\n",
       "    </tr>\n",
       "  </tbody>\n",
       "</table>\n",
       "</div>"
      ],
      "text/plain": [
       "                                             content  \\\n",
       "0  b'\\n<!DOCTYPE html>\\n<html class=\"client-nojs\"...   \n",
       "1  b'<!DOCTYPE HTML>\\n<html lang=\"\">\\n    <head>\\...   \n",
       "2  b'<!DOCTYPE html>\\n<!--[if lt IE 7 ]><html cla...   \n",
       "3  b'<!DOCTYPE html>\\n<html id=\"structuredContent...   \n",
       "4  b'<!DOCTYPE html>\\n<html lang=\"en\">\\n<head>\\n ...   \n",
       "\n",
       "                                                 url  \\\n",
       "0     https://en.wikipedia.org/wiki/Lateral_thinking   \n",
       "1        https://www.edwddebono.com/lateral-thinking   \n",
       "2                       http://www.folj.com/lateral/   \n",
       "3  https://www.thoughtco.com/lateral-thinking-185...   \n",
       "4                   https://www.lateralthinking.com/   \n",
       "\n",
       "                dateLastCrawled  \\\n",
       "0  2020-04-13T13:29:00.0000000Z   \n",
       "1  2020-04-08T15:21:00.0000000Z   \n",
       "2  2020-04-13T23:46:00.0000000Z   \n",
       "3  2020-04-13T06:39:00.0000000Z   \n",
       "4  2020-04-13T01:05:00.0000000Z   \n",
       "\n",
       "                                                name  \\\n",
       "0                   Lateral thinking - Wikipedia   \n",
       "1  Lateral Thinking - How can Lateral Thinking...   \n",
       "2        Lateral Thinking Puzzles - Preconceptions   \n",
       "3     How to Practice Lateral Thinking - ThoughtCo   \n",
       "4                                 Lateral Thinking   \n",
       "\n",
       "                                             snippet             topic  \n",
       "0  Lateral thinking is a manner of solving prob...  lateral thinking  \n",
       "1  Lateral Thinking Lateral Thinking is the S...  lateral thinking  \n",
       "2  Lateral thinking puzzles that challenge your...  lateral thinking  \n",
       "3  Lateral thinking involves looking at a situa...  lateral thinking  \n",
       "4  Welcome to Computer Assisted Thinking or CAT...  lateral thinking  "
      ]
     },
     "execution_count": 290,
     "metadata": {},
     "output_type": "execute_result"
    }
   ],
   "source": [
    "full_results_df = document_df.merge(\n",
    "    search_results, on='url')\n",
    "full_results_df.head()"
   ]
  },
  {
   "cell_type": "markdown",
   "metadata": {},
   "source": [
    "Consider doing more feature engineering, such as Unix epoch time, domain and TLD, number of topic nearest neighbors"
   ]
  },
  {
   "cell_type": "markdown",
   "metadata": {},
   "source": [
    "## Document-Topic Model"
   ]
  },
  {
   "cell_type": "code",
   "execution_count": 260,
   "metadata": {
    "scrolled": true
   },
   "outputs": [
    {
     "name": "stdout",
     "output_type": "stream",
     "text": [
      "Requirement already satisfied: gensim in /opt/conda/lib/python3.7/site-packages (3.8.2)\n",
      "Requirement already satisfied: numpy>=1.11.3 in /opt/conda/lib/python3.7/site-packages (from gensim) (1.15.4)\n",
      "Requirement already satisfied: smart-open>=1.8.1 in /opt/conda/lib/python3.7/site-packages (from gensim) (1.11.1)\n",
      "Requirement already satisfied: scipy>=1.0.0 in /opt/conda/lib/python3.7/site-packages (from gensim) (1.2.1)\n",
      "Requirement already satisfied: six>=1.5.0 in /opt/conda/lib/python3.7/site-packages (from gensim) (1.12.0)\n",
      "Requirement already satisfied: boto in /opt/conda/lib/python3.7/site-packages (from smart-open>=1.8.1->gensim) (2.49.0)\n",
      "Requirement already satisfied: requests in /opt/conda/lib/python3.7/site-packages (from smart-open>=1.8.1->gensim) (2.22.0)\n",
      "Requirement already satisfied: boto3 in /opt/conda/lib/python3.7/site-packages (from smart-open>=1.8.1->gensim) (1.12.39)\n",
      "Requirement already satisfied: urllib3!=1.25.0,!=1.25.1,<1.26,>=1.21.1 in /opt/conda/lib/python3.7/site-packages (from requests->smart-open>=1.8.1->gensim) (1.25.3)\n",
      "Requirement already satisfied: chardet<3.1.0,>=3.0.2 in /opt/conda/lib/python3.7/site-packages (from requests->smart-open>=1.8.1->gensim) (3.0.4)\n",
      "Requirement already satisfied: certifi>=2017.4.17 in /opt/conda/lib/python3.7/site-packages (from requests->smart-open>=1.8.1->gensim) (2019.6.16)\n",
      "Requirement already satisfied: idna<2.9,>=2.5 in /opt/conda/lib/python3.7/site-packages (from requests->smart-open>=1.8.1->gensim) (2.8)\n",
      "Requirement already satisfied: s3transfer<0.4.0,>=0.3.0 in /opt/conda/lib/python3.7/site-packages (from boto3->smart-open>=1.8.1->gensim) (0.3.3)\n",
      "Requirement already satisfied: jmespath<1.0.0,>=0.7.1 in /opt/conda/lib/python3.7/site-packages (from boto3->smart-open>=1.8.1->gensim) (0.9.5)\n",
      "Requirement already satisfied: botocore<1.16.0,>=1.15.39 in /opt/conda/lib/python3.7/site-packages (from boto3->smart-open>=1.8.1->gensim) (1.15.39)\n",
      "Requirement already satisfied: python-dateutil<3.0.0,>=2.1 in /opt/conda/lib/python3.7/site-packages (from botocore<1.16.0,>=1.15.39->boto3->smart-open>=1.8.1->gensim) (2.8.0)\n",
      "Requirement already satisfied: docutils<0.16,>=0.10 in /opt/conda/lib/python3.7/site-packages (from botocore<1.16.0,>=1.15.39->boto3->smart-open>=1.8.1->gensim) (0.15.2)\n"
     ]
    }
   ],
   "source": [
    "!pip install gensim"
   ]
  },
  {
   "cell_type": "code",
   "execution_count": 261,
   "metadata": {},
   "outputs": [],
   "source": [
    "from gensim.utils import simple_preprocess\n",
    "from gensim.models import doc2vec"
   ]
  },
  {
   "cell_type": "code",
   "execution_count": 252,
   "metadata": {},
   "outputs": [],
   "source": [
    "def get_better_text(document):\n",
    "    soup = b(document)\n",
    "    for script in soup([\"script\", \"style\"]):\n",
    "        script.extract()    # rip it out\n",
    "    return soup.get_text().replace('\\r', '\\n')#.split('. ')"
   ]
  },
  {
   "cell_type": "code",
   "execution_count": 259,
   "metadata": {
    "scrolled": true
   },
   "outputs": [],
   "source": [
    "def count_tokens(document):\n",
    "    try:\n",
    "        document.decode()\n",
    "    except UnicodeDecodeError:\n",
    "        return 0\n",
    "    return len(simple_preprocess(get_better_text(document)))\n",
    "\n",
    "perform_count = 0\n",
    "if perform_count:\n",
    "    prev = 0\n",
    "    n_tokens = 0\n",
    "    for idx, document in enumerate(document_df['content']):\n",
    "        n_tokens += count_tokens(document)\n",
    "        if n_tokens - prev > 1000:\n",
    "            prev = n_tokens\n",
    "            print(n_tokens)"
   ]
  },
  {
   "cell_type": "code",
   "execution_count": 370,
   "metadata": {},
   "outputs": [],
   "source": [
    "def to_tokens(documents, index=None): \n",
    "    for idx, document in enumerate(documents):\n",
    "        try:\n",
    "            document.decode()\n",
    "        except (AttributeError, UnicodeDecodeError):\n",
    "            continue\n",
    "        tokens = simple_preprocess(get_better_text(document))\n",
    "        value = idx\n",
    "        if index is not None:\n",
    "            value = index[idx]\n",
    "        yield idx, doc2vec.TaggedDocument(tokens, [value]), tokens"
   ]
  },
  {
   "cell_type": "code",
   "execution_count": 375,
   "metadata": {},
   "outputs": [],
   "source": [
    "n_train = 100\n",
    "documents = full_results_df['content'][:n_train]\n",
    "index = full_results_df['topic'][:n_train]\n",
    "\n",
    "url_idx = []\n",
    "train = []\n",
    "test = []\n",
    "for url_idx_, train_, test_ in to_tokens(documents, index):\n",
    "    url_idx.append(url_idx_)\n",
    "    train.append(train_)\n",
    "    test.append(test_)\n",
    "# test = list(to_tokens(documents, train=False))"
   ]
  },
  {
   "cell_type": "code",
   "execution_count": 376,
   "metadata": {},
   "outputs": [
    {
     "data": {
      "text/plain": [
       "91"
      ]
     },
     "execution_count": 376,
     "metadata": {},
     "output_type": "execute_result"
    }
   ],
   "source": [
    "len(test)"
   ]
  },
  {
   "cell_type": "code",
   "execution_count": 377,
   "metadata": {},
   "outputs": [],
   "source": [
    "model = doc2vec.Doc2Vec(vector_size=50, min_count=2, epochs=40)\n",
    "model.build_vocab(train)"
   ]
  },
  {
   "cell_type": "code",
   "execution_count": 378,
   "metadata": {},
   "outputs": [],
   "source": [
    "model.train(train, total_examples=model.corpus_count, epochs=model.epochs)"
   ]
  },
  {
   "cell_type": "code",
   "execution_count": 379,
   "metadata": {},
   "outputs": [
    {
     "data": {
      "text/plain": [
       "['lateral thinking', 'services marketing', 'participatory action research']"
      ]
     },
     "execution_count": 379,
     "metadata": {},
     "output_type": "execute_result"
    }
   ],
   "source": [
    "model.docvecs.offset2doctag"
   ]
  },
  {
   "cell_type": "code",
   "execution_count": 380,
   "metadata": {},
   "outputs": [],
   "source": [
    "ranks = []\n",
    "second_ranks = []\n",
    "for document in train:\n",
    "    inferred_vector = model.infer_vector(document.words)\n",
    "    sims = model.docvecs.most_similar([inferred_vector], topn=len(model.docvecs))\n",
    "    rank = [docid for docid, sim in sims].index(document.tags[0])\n",
    "    #print(rank)\n",
    "    #print(model.docvecs.offset2doctag[doc_id])\n",
    "    #rank = rank.index(model.docvecs.offset2doctag[doc_id])\n",
    "    ranks.append(rank)\n",
    "\n",
    "    second_ranks.append(sims[1])"
   ]
  },
  {
   "cell_type": "code",
   "execution_count": 381,
   "metadata": {},
   "outputs": [
    {
     "data": {
      "text/plain": [
       "0"
      ]
     },
     "execution_count": 381,
     "metadata": {},
     "output_type": "execute_result"
    }
   ],
   "source": [
    "sum(ranks)"
   ]
  },
  {
   "cell_type": "code",
   "execution_count": 402,
   "metadata": {},
   "outputs": [],
   "source": [
    "inferred_vectors = {\n",
    "    topic: pd.DataFrame([\n",
    "        {\n",
    "            'url': full_results_df['url'][idx],\n",
    "            'vector': model.infer_vector(document.words)}\n",
    "        for idx, document in zip(url_idx, train)\n",
    "        if topic in document.tags])\n",
    "    for topic in model.docvecs.offset2doctag}"
   ]
  },
  {
   "cell_type": "code",
   "execution_count": 414,
   "metadata": {
    "scrolled": true
   },
   "outputs": [],
   "source": [
    "similarities = {}\n",
    "for topic in inferred_vectors:\n",
    "    similarities[topic] = []\n",
    "    for uidx, urow in inferred_vectors[topic].iterrows():\n",
    "        for lidx, lrow in inferred_vectors[topic][uidx:].iterrows():\n",
    "            similarities[topic].append(urow['vector'].dot(lrow['vector']))\n",
    "    similarities[topic] = pd.Series(similarities[topic])\n",
    "    similarities[topic] /= similarities[topic].max()"
   ]
  },
  {
   "cell_type": "code",
   "execution_count": 421,
   "metadata": {},
   "outputs": [],
   "source": [
    "topic_similarities = {}\n",
    "for topic in inferred_vectors:\n",
    "    topic_similarities[topic] = inferred_vectors[topic].apply(\n",
    "        lambda x: x['vector'].dot(model.docvecs[topic]), axis=1)\n",
    "    topic_similarities[topic] = pd.Series(topic_similarities[topic])\n",
    "    topic_similarities[topic] /= topic_similarities[topic].max()"
   ]
  },
  {
   "cell_type": "code",
   "execution_count": 449,
   "metadata": {},
   "outputs": [],
   "source": [
    "import matplotlib.pyplot as plt\n",
    "from jupyterthemes import jtplot\n",
    "jtplot.style(theme='monokai', context='notebook', ticks=True, grid=False)"
   ]
  },
  {
   "cell_type": "code",
   "execution_count": 427,
   "metadata": {},
   "outputs": [
    {
     "data": {
      "text/plain": [
       "'lateral thinking'"
      ]
     },
     "execution_count": 427,
     "metadata": {},
     "output_type": "execute_result"
    }
   ],
   "source": [
    "key_topic = list(similarities.keys())[0]\n",
    "key_topic"
   ]
  },
  {
   "cell_type": "code",
   "execution_count": 463,
   "metadata": {},
   "outputs": [],
   "source": [
    "import numpy as np\n",
    "def max_hist(df, ax):\n",
    "    df.hist(ax=ax, bins=20, weights=np.ones_like(df) * 100. / len(df))"
   ]
  },
  {
   "cell_type": "code",
   "execution_count": 465,
   "metadata": {},
   "outputs": [
    {
     "data": {
      "image/png": "[encoded data removed]",
      "text/plain": [
       "<Figure size 1152x1008 with 6 Axes>"
      ]
     },
     "metadata": {},
     "output_type": "display_data"
    }
   ],
   "source": [
    "fig, ax = plt.subplots(len(similarities), 2, figsize=(16, 14))\n",
    "max_ly = 1\n",
    "max_ry = 1\n",
    "for idx, topic in enumerate(similarities):\n",
    "    left = ax[idx, 0]\n",
    "    right = ax[idx, 1]\n",
    "    left.title.set_text(topic)\n",
    "    right.title.set_text(topic)\n",
    "    max_hist(similarities[topic], ax=left)\n",
    "    max_hist(topic_similarities[topic], ax=right)\n",
    "    max_ly = max(max_ly, left.get_ylim()[1])\n",
    "    max_ry = max(max_ry, right.get_ylim()[1])\n",
    "for idx, topic in enumerate(similarities):\n",
    "    left = ax[idx, 0]\n",
    "    right = ax[idx, 1]\n",
    "    left.set_ylim((0, max_ly))\n",
    "    right.set_ylim((0, max_ry))\n",
    "fig.suptitle('Document-Document Similarity <> Document-Topic Similarity');"
   ]
  },
  {
   "cell_type": "code",
   "execution_count": null,
   "metadata": {},
   "outputs": [],
   "source": []
  }
 ],
 "metadata": {
  "kernelspec": {
   "display_name": "Python 3",
   "language": "python",
   "name": "python3"
  },
  "language_info": {
   "codemirror_mode": {
    "name": "ipython",
    "version": 3
   },
   "file_extension": ".py",
   "mimetype": "text/x-python",
   "name": "python",
   "nbconvert_exporter": "python",
   "pygments_lexer": "ipython3",
   "version": "3.7.3"
  }
 },
 "nbformat": 4,
 "nbformat_minor": 2
}
