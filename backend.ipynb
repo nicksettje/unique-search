{
 "cells": [
  {
   "cell_type": "code",
   "execution_count": 1483,
   "metadata": {},
   "outputs": [],
   "source": [
    "!jt -t monokai -f fira -fs 13 -nf ptsans -nfs 11 -N -kl -cursw 5 -cursc r -cellw 95% -T\n",
    "from jupyterthemes import jtplot\n",
    "jtplot.style(theme='monokai', context='notebook', ticks=True, grid=False)"
   ]
  },
  {
   "cell_type": "markdown",
   "metadata": {},
   "source": [
    "# $$\\triangleleft \\triangleright$$\n",
    "# <center>Backend\n",
    "<center>The design mixes caching and Linux philosophy. Store the results of each step in a text file.\n",
    "\n",
    "<center>We will start with a single topic search and work up to a model of meaning for any new page."
   ]
  },
  {
   "cell_type": "code",
   "execution_count": 1032,
   "metadata": {},
   "outputs": [],
   "source": [
    "database = './database'\n",
    "def table(name, database=database):\n",
    "    return f'{database}/{name}'"
   ]
  },
  {
   "cell_type": "markdown",
   "metadata": {},
   "source": [
    "## $$\\bigtriangledown$$\n",
    "## <center>Topic Crawler \n",
    "## $$\\bigtriangleup$$"
   ]
  },
  {
   "cell_type": "code",
   "execution_count": null,
   "metadata": {},
   "outputs": [],
   "source": [
    "from requests import get\n",
    "from time import sleep\n",
    "from json import loads\n",
    "from urllib.parse import unquote"
   ]
  },
  {
   "cell_type": "code",
   "execution_count": 3,
   "metadata": {},
   "outputs": [],
   "source": [
    "topic_seed = ['user experience design']"
   ]
  },
  {
   "cell_type": "code",
   "execution_count": 1028,
   "metadata": {},
   "outputs": [],
   "source": [
    "def crawl_topics(topic_seed, depth=2):\n",
    "    topic_url_format = 'https://api.duckduckgo.com/?q={search_term}&format=json&pretty=1'\n",
    "    topic_df = pd.DataFrame()\n",
    "    related_topic_df = pd.DataFrame()\n",
    "    for d in range(depth):\n",
    "        if not d:\n",
    "            topics = topic_seed\n",
    "        related_topics = []\n",
    "        topic_rows = []\n",
    "        related_topic_rows = []\n",
    "        for topic in topics:\n",
    "            try:\n",
    "                print(topic)\n",
    "                # whoa there\n",
    "                sleep(1.0)\n",
    "                response = get(topic_url_format.format(search_term=topic))\n",
    "                content = loads(response.content)\n",
    "                data = {}\n",
    "                data['topic'] = content['Heading'].lower()\n",
    "                data['abstract'] = content['Abstract']\n",
    "                data['document_type'] = content['Type']\n",
    "                data['topic_wiki_url'] = content['AbstractURL']\n",
    "                topic_rows.append(data)   \n",
    "\n",
    "                for result in content['RelatedTopics']:\n",
    "                    row = {}\n",
    "                    row['depth'] = d\n",
    "                    row['related_topic'] = unquote(result['FirstURL'].replace(\n",
    "                        'https://duckduckgo.com/', '').replace('c/', '').replace('_', ' ')).lower()\n",
    "                    row['related_topic_text'] = result['Text']\n",
    "                    row.update(data)\n",
    "                    related_topic_rows.append(row)\n",
    "                    related_topics.append(row['related_topic'])\n",
    "            # some topics are so ambiguous they have no URL\n",
    "            except KeyError as e:\n",
    "                print('Error on topic: ' + topic + ' : ' + str(e))\n",
    "        topics = related_topics\n",
    "        topic_df = topic_df.append(pd.DataFrame(topic_rows))\n",
    "        related_topic_df = related_topic_df.append(pd.DataFrame(related_topic_rows))\n",
    "    return topic_df, related_topic_df"
   ]
  },
  {
   "cell_type": "code",
   "execution_count": 1037,
   "metadata": {},
   "outputs": [
    {
     "name": "stdout",
     "output_type": "stream",
     "text": [
      "user experience design\n",
      "action research\n",
      "activity-centered design\n",
      "customer experience\n",
      "design thinking\n",
      "paper prototyping\n",
      "participatory design\n",
      "web design\n",
      "software development process\n",
      "user interfaces\n",
      "human–computer interaction\n",
      "design\n",
      "Error on topic: design : 'FirstURL'\n"
     ]
    }
   ],
   "source": [
    "_, related_topic = crawl_topics(topic_seed)"
   ]
  },
  {
   "cell_type": "code",
   "execution_count": 1038,
   "metadata": {},
   "outputs": [
    {
     "data": {
      "text/html": [
       "<div>\n",
       "<style scoped>\n",
       "    .dataframe tbody tr th:only-of-type {\n",
       "        vertical-align: middle;\n",
       "    }\n",
       "\n",
       "    .dataframe tbody tr th {\n",
       "        vertical-align: top;\n",
       "    }\n",
       "\n",
       "    .dataframe thead th {\n",
       "        text-align: right;\n",
       "    }\n",
       "</style>\n",
       "<table border=\"1\" class=\"dataframe\">\n",
       "  <thead>\n",
       "    <tr style=\"text-align: right;\">\n",
       "      <th></th>\n",
       "      <th>abstract</th>\n",
       "      <th>depth</th>\n",
       "      <th>document_type</th>\n",
       "      <th>related_topic</th>\n",
       "      <th>related_topic_text</th>\n",
       "      <th>topic</th>\n",
       "      <th>topic_wiki_url</th>\n",
       "    </tr>\n",
       "  </thead>\n",
       "  <tbody>\n",
       "    <tr>\n",
       "      <th>0</th>\n",
       "      <td>User experience design is the process of manip...</td>\n",
       "      <td>0</td>\n",
       "      <td>A</td>\n",
       "      <td>action research</td>\n",
       "      <td>Action research - Action research is a philoso...</td>\n",
       "      <td>user experience design</td>\n",
       "      <td>https://en.wikipedia.org/wiki/User_experience_...</td>\n",
       "    </tr>\n",
       "    <tr>\n",
       "      <th>1</th>\n",
       "      <td>User experience design is the process of manip...</td>\n",
       "      <td>0</td>\n",
       "      <td>A</td>\n",
       "      <td>activity-centered design</td>\n",
       "      <td>Activity-centered design - Activity-centered d...</td>\n",
       "      <td>user experience design</td>\n",
       "      <td>https://en.wikipedia.org/wiki/User_experience_...</td>\n",
       "    </tr>\n",
       "    <tr>\n",
       "      <th>2</th>\n",
       "      <td>User experience design is the process of manip...</td>\n",
       "      <td>0</td>\n",
       "      <td>A</td>\n",
       "      <td>customer experience</td>\n",
       "      <td>Customer experience - In commerce, customer ex...</td>\n",
       "      <td>user experience design</td>\n",
       "      <td>https://en.wikipedia.org/wiki/User_experience_...</td>\n",
       "    </tr>\n",
       "    <tr>\n",
       "      <th>3</th>\n",
       "      <td>User experience design is the process of manip...</td>\n",
       "      <td>0</td>\n",
       "      <td>A</td>\n",
       "      <td>design thinking</td>\n",
       "      <td>Design thinking - Design thinking refers to th...</td>\n",
       "      <td>user experience design</td>\n",
       "      <td>https://en.wikipedia.org/wiki/User_experience_...</td>\n",
       "    </tr>\n",
       "    <tr>\n",
       "      <th>4</th>\n",
       "      <td>User experience design is the process of manip...</td>\n",
       "      <td>0</td>\n",
       "      <td>A</td>\n",
       "      <td>paper prototyping</td>\n",
       "      <td>Paper prototyping - In human–computer interact...</td>\n",
       "      <td>user experience design</td>\n",
       "      <td>https://en.wikipedia.org/wiki/User_experience_...</td>\n",
       "    </tr>\n",
       "  </tbody>\n",
       "</table>\n",
       "</div>"
      ],
      "text/plain": [
       "                                            abstract  depth document_type  \\\n",
       "0  User experience design is the process of manip...      0             A   \n",
       "1  User experience design is the process of manip...      0             A   \n",
       "2  User experience design is the process of manip...      0             A   \n",
       "3  User experience design is the process of manip...      0             A   \n",
       "4  User experience design is the process of manip...      0             A   \n",
       "\n",
       "              related_topic  \\\n",
       "0           action research   \n",
       "1  activity-centered design   \n",
       "2       customer experience   \n",
       "3           design thinking   \n",
       "4         paper prototyping   \n",
       "\n",
       "                                  related_topic_text                   topic  \\\n",
       "0  Action research - Action research is a philoso...  user experience design   \n",
       "1  Activity-centered design - Activity-centered d...  user experience design   \n",
       "2  Customer experience - In commerce, customer ex...  user experience design   \n",
       "3  Design thinking - Design thinking refers to th...  user experience design   \n",
       "4  Paper prototyping - In human–computer interact...  user experience design   \n",
       "\n",
       "                                      topic_wiki_url  \n",
       "0  https://en.wikipedia.org/wiki/User_experience_...  \n",
       "1  https://en.wikipedia.org/wiki/User_experience_...  \n",
       "2  https://en.wikipedia.org/wiki/User_experience_...  \n",
       "3  https://en.wikipedia.org/wiki/User_experience_...  \n",
       "4  https://en.wikipedia.org/wiki/User_experience_...  "
      ]
     },
     "execution_count": 1038,
     "metadata": {},
     "output_type": "execute_result"
    }
   ],
   "source": [
    "related_topic.head()"
   ]
  },
  {
   "cell_type": "code",
   "execution_count": 1039,
   "metadata": {},
   "outputs": [
    {
     "data": {
      "text/plain": [
       "81"
      ]
     },
     "execution_count": 1039,
     "metadata": {},
     "output_type": "execute_result"
    }
   ],
   "source": [
    "len(related_topic)"
   ]
  },
  {
   "cell_type": "code",
   "execution_count": 1040,
   "metadata": {},
   "outputs": [],
   "source": [
    "related_topic.to_csv(table('related_topic.csv'))"
   ]
  },
  {
   "cell_type": "markdown",
   "metadata": {},
   "source": [
    "## $$\\bigtriangledown$$\n",
    "## <center>Search Engine Crawler\n",
    "## $$\\bigtriangleup$$"
   ]
  },
  {
   "cell_type": "code",
   "execution_count": 1043,
   "metadata": {},
   "outputs": [
    {
     "name": "stdout",
     "output_type": "stream",
     "text": [
      "········\n"
     ]
    }
   ],
   "source": [
    "from getpass import getpass\n",
    "bing_api_key = getpass()\n",
    "# what is your azure cognitive services API key?"
   ]
  },
  {
   "cell_type": "code",
   "execution_count": 1047,
   "metadata": {},
   "outputs": [
    {
     "data": {
      "text/plain": [
       "10"
      ]
     },
     "execution_count": 1047,
     "metadata": {},
     "output_type": "execute_result"
    }
   ],
   "source": [
    "search_seed = set(related_topic_df['related_topic'].unique())\n",
    "search_seed.update(set(related_topic_df['topic'].unique()))\n",
    "search_seed = list(search_seed)[:10]\n",
    "len(search_seed)"
   ]
  },
  {
   "cell_type": "code",
   "execution_count": 1054,
   "metadata": {},
   "outputs": [],
   "source": [
    "# this also works with bing dorks like \"feed:\"\n",
    "def search(search_term):\n",
    "    search_url = \"https://api.cognitive.microsoft.com/bing/v7.0/search\"\n",
    "    headers = {\"Ocp-Apim-Subscription-Key\": bing_api_key}\n",
    "    params = {\n",
    "        \"q\": search_term, \n",
    "        \"textDecorations\": True, \n",
    "        \"textFormat\": \"Raw\", \n",
    "        \"responseFilter\": \"webpages\", # for some reason \"webpages,relatedsearches\" does not work\n",
    "        \"count\": 50}\n",
    "    sleep(1.0)\n",
    "    response = get(search_url, headers=headers, params=params)\n",
    "    response.raise_for_status()\n",
    "    search_result = response.json()\n",
    "    return search_result"
   ]
  },
  {
   "cell_type": "code",
   "execution_count": 1055,
   "metadata": {
    "scrolled": true
   },
   "outputs": [],
   "source": [
    "def filter_search_results(raw_search_results):\n",
    "    keys = ['name', 'url', 'snippet', 'dateLastCrawled']\n",
    "    for result in raw_search_results:\n",
    "        topic = result['queryContext']['originalQuery']\n",
    "        for page in result['webPages']['value']:\n",
    "            row = {key: page[key] for key in keys}\n",
    "            row['topic'] = topic\n",
    "            yield row"
   ]
  },
  {
   "cell_type": "code",
   "execution_count": 1056,
   "metadata": {
    "scrolled": true
   },
   "outputs": [],
   "source": [
    "raw_search_result = [search(search_term=search_term) for search_term in search_seed]"
   ]
  },
  {
   "cell_type": "code",
   "execution_count": 1057,
   "metadata": {},
   "outputs": [],
   "source": [
    "search_result = pd.DataFrame(filter_search_results(raw_search_results))"
   ]
  },
  {
   "cell_type": "code",
   "execution_count": 1058,
   "metadata": {},
   "outputs": [
    {
     "data": {
      "text/html": [
       "<div>\n",
       "<style scoped>\n",
       "    .dataframe tbody tr th:only-of-type {\n",
       "        vertical-align: middle;\n",
       "    }\n",
       "\n",
       "    .dataframe tbody tr th {\n",
       "        vertical-align: top;\n",
       "    }\n",
       "\n",
       "    .dataframe thead th {\n",
       "        text-align: right;\n",
       "    }\n",
       "</style>\n",
       "<table border=\"1\" class=\"dataframe\">\n",
       "  <thead>\n",
       "    <tr style=\"text-align: right;\">\n",
       "      <th></th>\n",
       "      <th>dateLastCrawled</th>\n",
       "      <th>name</th>\n",
       "      <th>snippet</th>\n",
       "      <th>topic</th>\n",
       "      <th>url</th>\n",
       "    </tr>\n",
       "  </thead>\n",
       "  <tbody>\n",
       "    <tr>\n",
       "      <th>0</th>\n",
       "      <td>2020-04-17T19:58:00.0000000Z</td>\n",
       "      <td>Lateral thinking - Wikipedia</td>\n",
       "      <td>Lateral thinking is a manner of solving prob...</td>\n",
       "      <td>lateral thinking</td>\n",
       "      <td>https://en.wikipedia.org/wiki/Lateral_thinking</td>\n",
       "    </tr>\n",
       "    <tr>\n",
       "      <th>1</th>\n",
       "      <td>2020-04-16T03:17:00.0000000Z</td>\n",
       "      <td>Lateral Thinking - How can Lateral Thinking...</td>\n",
       "      <td>Lateral Thinking Lateral Thinking is the S...</td>\n",
       "      <td>lateral thinking</td>\n",
       "      <td>https://www.edwddebono.com/lateral-thinking</td>\n",
       "    </tr>\n",
       "    <tr>\n",
       "      <th>2</th>\n",
       "      <td>2020-04-16T18:52:00.0000000Z</td>\n",
       "      <td>Lateral Thinking Puzzles - Preconceptions</td>\n",
       "      <td>Lateral thinking puzzles that challenge your...</td>\n",
       "      <td>lateral thinking</td>\n",
       "      <td>http://www.folj.com/lateral/</td>\n",
       "    </tr>\n",
       "    <tr>\n",
       "      <th>3</th>\n",
       "      <td>2020-04-17T00:42:00.0000000Z</td>\n",
       "      <td>How to Practice Lateral Thinking - ThoughtCo</td>\n",
       "      <td>Lateral thinking involves looking at a situa...</td>\n",
       "      <td>lateral thinking</td>\n",
       "      <td>https://www.thoughtco.com/lateral-thinking-185...</td>\n",
       "    </tr>\n",
       "    <tr>\n",
       "      <th>4</th>\n",
       "      <td>2020-04-17T20:46:00.0000000Z</td>\n",
       "      <td>What is Lateral Thinking? | Examples of Lat...</td>\n",
       "      <td>Lateral thinking means taking a creative app...</td>\n",
       "      <td>lateral thinking</td>\n",
       "      <td>https://successatschool.org/advicedetails/609/...</td>\n",
       "    </tr>\n",
       "  </tbody>\n",
       "</table>\n",
       "</div>"
      ],
      "text/plain": [
       "                dateLastCrawled  \\\n",
       "0  2020-04-17T19:58:00.0000000Z   \n",
       "1  2020-04-16T03:17:00.0000000Z   \n",
       "2  2020-04-16T18:52:00.0000000Z   \n",
       "3  2020-04-17T00:42:00.0000000Z   \n",
       "4  2020-04-17T20:46:00.0000000Z   \n",
       "\n",
       "                                                name  \\\n",
       "0                   Lateral thinking - Wikipedia   \n",
       "1  Lateral Thinking - How can Lateral Thinking...   \n",
       "2        Lateral Thinking Puzzles - Preconceptions   \n",
       "3     How to Practice Lateral Thinking - ThoughtCo   \n",
       "4  What is Lateral Thinking? | Examples of Lat...   \n",
       "\n",
       "                                             snippet             topic  \\\n",
       "0  Lateral thinking is a manner of solving prob...  lateral thinking   \n",
       "1  Lateral Thinking Lateral Thinking is the S...  lateral thinking   \n",
       "2  Lateral thinking puzzles that challenge your...  lateral thinking   \n",
       "3  Lateral thinking involves looking at a situa...  lateral thinking   \n",
       "4  Lateral thinking means taking a creative app...  lateral thinking   \n",
       "\n",
       "                                                 url  \n",
       "0     https://en.wikipedia.org/wiki/Lateral_thinking  \n",
       "1        https://www.edwddebono.com/lateral-thinking  \n",
       "2                       http://www.folj.com/lateral/  \n",
       "3  https://www.thoughtco.com/lateral-thinking-185...  \n",
       "4  https://successatschool.org/advicedetails/609/...  "
      ]
     },
     "execution_count": 1058,
     "metadata": {},
     "output_type": "execute_result"
    }
   ],
   "source": [
    "search_result.head()"
   ]
  },
  {
   "cell_type": "code",
   "execution_count": 1059,
   "metadata": {},
   "outputs": [
    {
     "data": {
      "text/plain": [
       "483"
      ]
     },
     "execution_count": 1059,
     "metadata": {},
     "output_type": "execute_result"
    }
   ],
   "source": [
    "len(search_result)"
   ]
  },
  {
   "cell_type": "code",
   "execution_count": 1060,
   "metadata": {},
   "outputs": [],
   "source": [
    "search_result.to_csv(table('search_result.csv'))"
   ]
  },
  {
   "cell_type": "markdown",
   "metadata": {},
   "source": [
    "## $$\\bigtriangledown$$\n",
    "## <center>Search Result Crawler\n",
    "## $$\\bigtriangleup$$"
   ]
  },
  {
   "cell_type": "code",
   "execution_count": 78,
   "metadata": {},
   "outputs": [
    {
     "name": "stdout",
     "output_type": "stream",
     "text": [
      "Requirement already satisfied: beautifulsoup4 in /opt/conda/lib/python3.7/site-packages (4.7.1)\r\n",
      "Requirement already satisfied: soupsieve>=1.2 in /opt/conda/lib/python3.7/site-packages (from beautifulsoup4) (1.9.2)\r\n"
     ]
    }
   ],
   "source": [
    "!pip install beautifulsoup4"
   ]
  },
  {
   "cell_type": "code",
   "execution_count": 1011,
   "metadata": {},
   "outputs": [],
   "source": [
    "from bs4 import BeautifulSoup as b\n",
    "from random import sample\n",
    "from json import dump, loads"
   ]
  },
  {
   "cell_type": "code",
   "execution_count": 1062,
   "metadata": {},
   "outputs": [],
   "source": [
    "def random_depth_crawl(seed_urls, depth=1, max_pages=10, max_links=5):\n",
    "    visited = set()\n",
    "    pages = 0\n",
    "    for d in range(depth):\n",
    "        next_seed_urls = set()\n",
    "        for url in set(seed_urls):\n",
    "            url.replace('http:', 'https:')\n",
    "            if url not in visited:\n",
    "                # only crawl each page one time\n",
    "                visited.add(url)\n",
    "                sleep(0.5)\n",
    "                try:\n",
    "                    response = get(url, timeout=5)\n",
    "                    if response.status_code == 200:\n",
    "                        content = response.content\n",
    "                        # decode to make sure we can make sense of the content\n",
    "                        yield {'url': url, 'content': content.decode()}\n",
    "                        pages += 1\n",
    "                        if pages > max_pages:\n",
    "                            return\n",
    "                        soup = b(content)\n",
    "                        # choose random links to follow\n",
    "                        links = [\n",
    "                            a['href'] for a in soup.find_all('a', href=True)\n",
    "                            if a['href'].startswith('https')]\n",
    "                        n_links = min(len(links), max_links)\n",
    "                        random_links = sample(links, n_links)\n",
    "                        for link in random_links:\n",
    "                            next_seed_urls.add(link)\n",
    "                except Exception as e:\n",
    "                    print('Error: ' + str(e) + ' on URL: ' + str(url))\n",
    "        seed_urls = next_seed_urls"
   ]
  },
  {
   "cell_type": "code",
   "execution_count": 1067,
   "metadata": {},
   "outputs": [],
   "source": [
    "seed_urls = search_result['url'].unique()"
   ]
  },
  {
   "cell_type": "code",
   "execution_count": 1068,
   "metadata": {
    "scrolled": true
   },
   "outputs": [],
   "source": [
    "max_pages = 10\n",
    "raw_document_file = table('raw_document.txt')\n",
    "for idx, document in enumerate(depth_crawl(seed_urls, max_pages=max_pages)):\n",
    "    with open(raw_document_file, 'a') as f:\n",
    "        dump(document, f)\n",
    "        f.write('\\n')"
   ]
  },
  {
   "cell_type": "code",
   "execution_count": 1075,
   "metadata": {},
   "outputs": [],
   "source": [
    "def read_raw_document_file(raw_document_file):\n",
    "    with open(raw_document_file, 'r') as f:\n",
    "        for line in f.readlines():\n",
    "            yield loads(line)"
   ]
  },
  {
   "cell_type": "code",
   "execution_count": 1076,
   "metadata": {},
   "outputs": [],
   "source": [
    "raw_document = pd.DataFrame(read_raw_document_file(raw_document_file))"
   ]
  },
  {
   "cell_type": "code",
   "execution_count": 1077,
   "metadata": {},
   "outputs": [
    {
     "data": {
      "text/html": [
       "<div>\n",
       "<style scoped>\n",
       "    .dataframe tbody tr th:only-of-type {\n",
       "        vertical-align: middle;\n",
       "    }\n",
       "\n",
       "    .dataframe tbody tr th {\n",
       "        vertical-align: top;\n",
       "    }\n",
       "\n",
       "    .dataframe thead th {\n",
       "        text-align: right;\n",
       "    }\n",
       "</style>\n",
       "<table border=\"1\" class=\"dataframe\">\n",
       "  <thead>\n",
       "    <tr style=\"text-align: right;\">\n",
       "      <th></th>\n",
       "      <th>content</th>\n",
       "      <th>url</th>\n",
       "    </tr>\n",
       "  </thead>\n",
       "  <tbody>\n",
       "    <tr>\n",
       "      <th>0</th>\n",
       "      <td>&lt;!DOCTYPE html&gt; &lt;html lang=\"en\"&gt; &lt;head&gt; &lt;meta ...</td>\n",
       "      <td>https://en.itu.dk/programmes/msc-programmes/so...</td>\n",
       "    </tr>\n",
       "    <tr>\n",
       "      <th>1</th>\n",
       "      <td>&lt;!DOCTYPE html&gt;&lt;html lang=\"en\"&gt;&lt;head&gt;&lt;title&gt;Th...</td>\n",
       "      <td>https://www.forbes.com/sites/phillewis1/2020/0...</td>\n",
       "    </tr>\n",
       "    <tr>\n",
       "      <th>2</th>\n",
       "      <td>&lt;!DOCTYPE html&gt;\\n&lt;html lang=\"en\" dir=\"ltr\"\\n  ...</td>\n",
       "      <td>https://www.truity.com/career-profile/graphic-...</td>\n",
       "    </tr>\n",
       "    <tr>\n",
       "      <th>3</th>\n",
       "      <td>&lt;!DOCTYPE html&gt;\\n&lt;html class=\"client-nojs\" lan...</td>\n",
       "      <td>https://www.wikihow.com/Think-Laterally</td>\n",
       "    </tr>\n",
       "    <tr>\n",
       "      <th>4</th>\n",
       "      <td>&lt;!DOCTYPE html PUBLIC \"-//W3C//DTD XHTML 1.0 T...</td>\n",
       "      <td>https://participaction.wordpress.com/2008/05/2...</td>\n",
       "    </tr>\n",
       "  </tbody>\n",
       "</table>\n",
       "</div>"
      ],
      "text/plain": [
       "                                             content  \\\n",
       "0  <!DOCTYPE html> <html lang=\"en\"> <head> <meta ...   \n",
       "1  <!DOCTYPE html><html lang=\"en\"><head><title>Th...   \n",
       "2  <!DOCTYPE html>\\n<html lang=\"en\" dir=\"ltr\"\\n  ...   \n",
       "3  <!DOCTYPE html>\\n<html class=\"client-nojs\" lan...   \n",
       "4  <!DOCTYPE html PUBLIC \"-//W3C//DTD XHTML 1.0 T...   \n",
       "\n",
       "                                                 url  \n",
       "0  https://en.itu.dk/programmes/msc-programmes/so...  \n",
       "1  https://www.forbes.com/sites/phillewis1/2020/0...  \n",
       "2  https://www.truity.com/career-profile/graphic-...  \n",
       "3            https://www.wikihow.com/Think-Laterally  \n",
       "4  https://participaction.wordpress.com/2008/05/2...  "
      ]
     },
     "execution_count": 1077,
     "metadata": {},
     "output_type": "execute_result"
    }
   ],
   "source": [
    "raw_document.head()"
   ]
  },
  {
   "cell_type": "code",
   "execution_count": 1093,
   "metadata": {},
   "outputs": [
    {
     "data": {
      "text/plain": [
       "6"
      ]
     },
     "execution_count": 1093,
     "metadata": {},
     "output_type": "execute_result"
    }
   ],
   "source": [
    "len(raw_document)"
   ]
  },
  {
   "cell_type": "code",
   "execution_count": 1161,
   "metadata": {},
   "outputs": [],
   "source": [
    "document_topic = raw_document.merge(\n",
    "    search_result,\n",
    "    on='url')\n",
    "td = document_topic # alias to make it concise below\n",
    "# a document can be associated with multiple topics\n",
    "td['topic_list'] = td.apply(lambda x: list(td[td['url'] == x['url']]['topic'].unique()), axis=1)"
   ]
  },
  {
   "cell_type": "code",
   "execution_count": 1162,
   "metadata": {
    "scrolled": false
   },
   "outputs": [
    {
     "data": {
      "text/html": [
       "<div>\n",
       "<style scoped>\n",
       "    .dataframe tbody tr th:only-of-type {\n",
       "        vertical-align: middle;\n",
       "    }\n",
       "\n",
       "    .dataframe tbody tr th {\n",
       "        vertical-align: top;\n",
       "    }\n",
       "\n",
       "    .dataframe thead th {\n",
       "        text-align: right;\n",
       "    }\n",
       "</style>\n",
       "<table border=\"1\" class=\"dataframe\">\n",
       "  <thead>\n",
       "    <tr style=\"text-align: right;\">\n",
       "      <th></th>\n",
       "      <th>content</th>\n",
       "      <th>url</th>\n",
       "      <th>dateLastCrawled</th>\n",
       "      <th>name</th>\n",
       "      <th>snippet</th>\n",
       "      <th>topic</th>\n",
       "      <th>topic_list</th>\n",
       "    </tr>\n",
       "  </thead>\n",
       "  <tbody>\n",
       "    <tr>\n",
       "      <th>0</th>\n",
       "      <td>&lt;!DOCTYPE html&gt; &lt;html lang=\"en\"&gt; &lt;head&gt; &lt;meta ...</td>\n",
       "      <td>https://en.itu.dk/programmes/msc-programmes/so...</td>\n",
       "      <td>2020-04-16T22:49:00.0000000Z</td>\n",
       "      <td>Software Design - ITU</td>\n",
       "      <td>Software Design is developed in close cooper...</td>\n",
       "      <td>software design</td>\n",
       "      <td>[software design]</td>\n",
       "    </tr>\n",
       "    <tr>\n",
       "      <th>1</th>\n",
       "      <td>&lt;!DOCTYPE html&gt;&lt;html lang=\"en\"&gt;&lt;head&gt;&lt;title&gt;Th...</td>\n",
       "      <td>https://www.forbes.com/sites/phillewis1/2020/0...</td>\n",
       "      <td>2020-04-17T22:10:00.0000000Z</td>\n",
       "      <td>The Most Valuable Skill In Difficult Times Is ...</td>\n",
       "      <td>Lateral thinking is the essence of creativit...</td>\n",
       "      <td>lateral thinking</td>\n",
       "      <td>[lateral thinking]</td>\n",
       "    </tr>\n",
       "    <tr>\n",
       "      <th>2</th>\n",
       "      <td>&lt;!DOCTYPE html&gt;\\n&lt;html lang=\"en\" dir=\"ltr\"\\n  ...</td>\n",
       "      <td>https://www.truity.com/career-profile/graphic-...</td>\n",
       "      <td>2020-04-16T01:53:00.0000000Z</td>\n",
       "      <td>Graphic Designer Career Profile | Job Descri...</td>\n",
       "      <td>Graphic design is important in the sales and...</td>\n",
       "      <td>graphic design</td>\n",
       "      <td>[graphic design]</td>\n",
       "    </tr>\n",
       "    <tr>\n",
       "      <th>3</th>\n",
       "      <td>&lt;!DOCTYPE html&gt;\\n&lt;html class=\"client-nojs\" lan...</td>\n",
       "      <td>https://www.wikihow.com/Think-Laterally</td>\n",
       "      <td>2020-04-16T16:06:00.0000000Z</td>\n",
       "      <td>How to Think Laterally: 13 Steps (with Pictu...</td>\n",
       "      <td>A key component in lateral thinking is curio...</td>\n",
       "      <td>lateral thinking</td>\n",
       "      <td>[lateral thinking]</td>\n",
       "    </tr>\n",
       "    <tr>\n",
       "      <th>4</th>\n",
       "      <td>&lt;!DOCTYPE html PUBLIC \"-//W3C//DTD XHTML 1.0 T...</td>\n",
       "      <td>https://participaction.wordpress.com/2008/05/2...</td>\n",
       "      <td>2020-04-17T08:13:00.0000000Z</td>\n",
       "      <td>Participatory research: Power and Proble...</td>\n",
       "      <td>Getting to grips with “what is participatory ...</td>\n",
       "      <td>participatory action research</td>\n",
       "      <td>[participatory action research]</td>\n",
       "    </tr>\n",
       "  </tbody>\n",
       "</table>\n",
       "</div>"
      ],
      "text/plain": [
       "                                             content  \\\n",
       "0  <!DOCTYPE html> <html lang=\"en\"> <head> <meta ...   \n",
       "1  <!DOCTYPE html><html lang=\"en\"><head><title>Th...   \n",
       "2  <!DOCTYPE html>\\n<html lang=\"en\" dir=\"ltr\"\\n  ...   \n",
       "3  <!DOCTYPE html>\\n<html class=\"client-nojs\" lan...   \n",
       "4  <!DOCTYPE html PUBLIC \"-//W3C//DTD XHTML 1.0 T...   \n",
       "\n",
       "                                                 url  \\\n",
       "0  https://en.itu.dk/programmes/msc-programmes/so...   \n",
       "1  https://www.forbes.com/sites/phillewis1/2020/0...   \n",
       "2  https://www.truity.com/career-profile/graphic-...   \n",
       "3            https://www.wikihow.com/Think-Laterally   \n",
       "4  https://participaction.wordpress.com/2008/05/2...   \n",
       "\n",
       "                dateLastCrawled  \\\n",
       "0  2020-04-16T22:49:00.0000000Z   \n",
       "1  2020-04-17T22:10:00.0000000Z   \n",
       "2  2020-04-16T01:53:00.0000000Z   \n",
       "3  2020-04-16T16:06:00.0000000Z   \n",
       "4  2020-04-17T08:13:00.0000000Z   \n",
       "\n",
       "                                                name  \\\n",
       "0                            Software Design - ITU   \n",
       "1  The Most Valuable Skill In Difficult Times Is ...   \n",
       "2  Graphic Designer Career Profile | Job Descri...   \n",
       "3  How to Think Laterally: 13 Steps (with Pictu...   \n",
       "4  Participatory research: Power and Proble...   \n",
       "\n",
       "                                             snippet  \\\n",
       "0  Software Design is developed in close cooper...   \n",
       "1  Lateral thinking is the essence of creativit...   \n",
       "2  Graphic design is important in the sales and...   \n",
       "3  A key component in lateral thinking is curio...   \n",
       "4  Getting to grips with “what is participatory ...   \n",
       "\n",
       "                           topic                       topic_list  \n",
       "0                software design                [software design]  \n",
       "1               lateral thinking               [lateral thinking]  \n",
       "2                 graphic design                 [graphic design]  \n",
       "3               lateral thinking               [lateral thinking]  \n",
       "4  participatory action research  [participatory action research]  "
      ]
     },
     "execution_count": 1162,
     "metadata": {},
     "output_type": "execute_result"
    }
   ],
   "source": [
    "document_topic.head()"
   ]
  },
  {
   "cell_type": "code",
   "execution_count": 1163,
   "metadata": {},
   "outputs": [
    {
     "data": {
      "text/plain": [
       "6"
      ]
     },
     "execution_count": 1163,
     "metadata": {},
     "output_type": "execute_result"
    }
   ],
   "source": [
    "len(document_topic)"
   ]
  },
  {
   "cell_type": "code",
   "execution_count": 1335,
   "metadata": {},
   "outputs": [],
   "source": [
    "document_topic.to_csv(table('document_topic.csv'))"
   ]
  },
  {
   "cell_type": "markdown",
   "metadata": {},
   "source": [
    "Consider doing more feature engineering, such as Unix epoch time, domain and TLD, number of topic nearest neighbors"
   ]
  },
  {
   "cell_type": "markdown",
   "metadata": {},
   "source": [
    "## $$\\bigtriangledown$$\n",
    "## <center>Document-Topic Model\n",
    "## $$\\bigtriangleup$$"
   ]
  },
  {
   "cell_type": "code",
   "execution_count": 260,
   "metadata": {
    "scrolled": true
   },
   "outputs": [
    {
     "name": "stdout",
     "output_type": "stream",
     "text": [
      "Requirement already satisfied: gensim in /opt/conda/lib/python3.7/site-packages (3.8.2)\n",
      "Requirement already satisfied: numpy>=1.11.3 in /opt/conda/lib/python3.7/site-packages (from gensim) (1.15.4)\n",
      "Requirement already satisfied: smart-open>=1.8.1 in /opt/conda/lib/python3.7/site-packages (from gensim) (1.11.1)\n",
      "Requirement already satisfied: scipy>=1.0.0 in /opt/conda/lib/python3.7/site-packages (from gensim) (1.2.1)\n",
      "Requirement already satisfied: six>=1.5.0 in /opt/conda/lib/python3.7/site-packages (from gensim) (1.12.0)\n",
      "Requirement already satisfied: boto in /opt/conda/lib/python3.7/site-packages (from smart-open>=1.8.1->gensim) (2.49.0)\n",
      "Requirement already satisfied: requests in /opt/conda/lib/python3.7/site-packages (from smart-open>=1.8.1->gensim) (2.22.0)\n",
      "Requirement already satisfied: boto3 in /opt/conda/lib/python3.7/site-packages (from smart-open>=1.8.1->gensim) (1.12.39)\n",
      "Requirement already satisfied: urllib3!=1.25.0,!=1.25.1,<1.26,>=1.21.1 in /opt/conda/lib/python3.7/site-packages (from requests->smart-open>=1.8.1->gensim) (1.25.3)\n",
      "Requirement already satisfied: chardet<3.1.0,>=3.0.2 in /opt/conda/lib/python3.7/site-packages (from requests->smart-open>=1.8.1->gensim) (3.0.4)\n",
      "Requirement already satisfied: certifi>=2017.4.17 in /opt/conda/lib/python3.7/site-packages (from requests->smart-open>=1.8.1->gensim) (2019.6.16)\n",
      "Requirement already satisfied: idna<2.9,>=2.5 in /opt/conda/lib/python3.7/site-packages (from requests->smart-open>=1.8.1->gensim) (2.8)\n",
      "Requirement already satisfied: s3transfer<0.4.0,>=0.3.0 in /opt/conda/lib/python3.7/site-packages (from boto3->smart-open>=1.8.1->gensim) (0.3.3)\n",
      "Requirement already satisfied: jmespath<1.0.0,>=0.7.1 in /opt/conda/lib/python3.7/site-packages (from boto3->smart-open>=1.8.1->gensim) (0.9.5)\n",
      "Requirement already satisfied: botocore<1.16.0,>=1.15.39 in /opt/conda/lib/python3.7/site-packages (from boto3->smart-open>=1.8.1->gensim) (1.15.39)\n",
      "Requirement already satisfied: python-dateutil<3.0.0,>=2.1 in /opt/conda/lib/python3.7/site-packages (from botocore<1.16.0,>=1.15.39->boto3->smart-open>=1.8.1->gensim) (2.8.0)\n",
      "Requirement already satisfied: docutils<0.16,>=0.10 in /opt/conda/lib/python3.7/site-packages (from botocore<1.16.0,>=1.15.39->boto3->smart-open>=1.8.1->gensim) (0.15.2)\n"
     ]
    }
   ],
   "source": [
    "!pip install gensim"
   ]
  },
  {
   "cell_type": "code",
   "execution_count": 1097,
   "metadata": {},
   "outputs": [],
   "source": [
    "from gensim.utils import simple_preprocess\n",
    "from gensim.models import doc2vec"
   ]
  },
  {
   "cell_type": "code",
   "execution_count": 1098,
   "metadata": {},
   "outputs": [],
   "source": [
    "def get_better_text(document):\n",
    "    soup = b(document)\n",
    "    for tag in soup([\"script\", \"style\"]):\n",
    "        tag.extract()\n",
    "    return soup.get_text() #.replace('\\r', '\\n')"
   ]
  },
  {
   "cell_type": "code",
   "execution_count": 1164,
   "metadata": {},
   "outputs": [],
   "source": [
    "def to_tokens(documents, index=None): \n",
    "    for idx, document in enumerate(documents):\n",
    "        try:\n",
    "            chars = str(get_better_text(document).encode())\n",
    "            nchars = len(chars)\n",
    "            frac_foreign_chars = chars.count('\\\\x')/nchars\n",
    "            if frac_foreign_chars > 0.05:\n",
    "                continue\n",
    "        except (AttributeError, UnicodeDecodeError):\n",
    "            continue\n",
    "        tokens = simple_preprocess(get_better_text(document))\n",
    "        value = idx\n",
    "        if index is not None:\n",
    "            value = index[idx]\n",
    "        yield idx, doc2vec.TaggedDocument(tokens, value)"
   ]
  },
  {
   "cell_type": "code",
   "execution_count": 1165,
   "metadata": {
    "scrolled": true
   },
   "outputs": [],
   "source": [
    "# build training examples one by one, discarding malformed and non-English\n",
    "n_train = 100 # maximum number of training examples\n",
    "documents = document_topic['content'][:n_train]\n",
    "index = document_topic['topic_list'][:n_train]\n",
    "\n",
    "url_idx = []\n",
    "train = []\n",
    "for idx, val in enumerate(to_tokens(documents, index)):\n",
    "    url_idx_, train_ = val\n",
    "    url_idx.append(url_idx_)\n",
    "    train.append(train_)"
   ]
  },
  {
   "cell_type": "code",
   "execution_count": 1166,
   "metadata": {},
   "outputs": [],
   "source": [
    "# proceed only with the subset of documents that could be parsed\n",
    "document_topic = document_topic.iloc[:, url_idx]\n",
    "document_topic['train'] = train"
   ]
  },
  {
   "cell_type": "code",
   "execution_count": 1167,
   "metadata": {},
   "outputs": [],
   "source": [
    "document_topic['n_tokens'] = document_topic['train'].apply(lambda training_example: len(training_example[0]))"
   ]
  },
  {
   "cell_type": "code",
   "execution_count": 1170,
   "metadata": {},
   "outputs": [
    {
     "name": "stdout",
     "output_type": "stream",
     "text": [
      "5 topics in corpus\n",
      "6 documents in corpus\n",
      "12419 tokens in corpus\n"
     ]
    }
   ],
   "source": [
    "n_topics = len(set(document_topic['topic']))\n",
    "n_tokens = document_topic['n_tokens'].sum()\n",
    "n_documents = len(document_topic)\n",
    "print(f'{n_topics} topics in corpus')\n",
    "print(f'{n_documents} documents in corpus')\n",
    "print(f'{n_tokens} tokens in corpus')"
   ]
  },
  {
   "cell_type": "code",
   "execution_count": 1171,
   "metadata": {},
   "outputs": [],
   "source": [
    "model = doc2vec.Doc2Vec(vector_size=50, min_count=2, epochs=40)\n",
    "model.build_vocab(train)"
   ]
  },
  {
   "cell_type": "code",
   "execution_count": 1172,
   "metadata": {},
   "outputs": [],
   "source": [
    "model.train(train, total_examples=model.corpus_count, epochs=model.epochs)"
   ]
  },
  {
   "cell_type": "code",
   "execution_count": 1173,
   "metadata": {},
   "outputs": [],
   "source": [
    "model.save(table('doc2vec.pkl'))"
   ]
  },
  {
   "cell_type": "markdown",
   "metadata": {},
   "source": [
    "$$\\bigtriangledown$$\n",
    "## <center> Model Inference\n",
    "$$\\bigtriangleup$$"
   ]
  },
  {
   "cell_type": "code",
   "execution_count": 1477,
   "metadata": {},
   "outputs": [],
   "source": [
    "from ipywidgets import Button, HBox, interact\n",
    "from IPython.display import display"
   ]
  },
  {
   "cell_type": "code",
   "execution_count": 1177,
   "metadata": {
    "scrolled": true
   },
   "outputs": [
    {
     "name": "stdout",
     "output_type": "stream",
     "text": [
      "5 topics in model\n"
     ]
    }
   ],
   "source": [
    "n_model_topics = len(model.docvecs.offset2doctag)\n",
    "print(f'{n_model_topics} topics in model')"
   ]
  },
  {
   "cell_type": "code",
   "execution_count": 1178,
   "metadata": {},
   "outputs": [],
   "source": [
    "ranks = []\n",
    "second_ranks = []\n",
    "for document in train:\n",
    "    inferred_vector = model.infer_vector(document.words)\n",
    "    sims = model.docvecs.most_similar([inferred_vector], topn=len(model.docvecs))\n",
    "    top, _ = sims[0]\n",
    "    rank = top in document.tags\n",
    "    ranks.append(rank)\n",
    "    second_ranks.append(sims[1])"
   ]
  },
  {
   "cell_type": "code",
   "execution_count": 1179,
   "metadata": {},
   "outputs": [
    {
     "name": "stdout",
     "output_type": "stream",
     "text": [
      "100.0% of documents indexed with at least one correct topic\n"
     ]
    }
   ],
   "source": [
    "correct_topic  = 100*sum(ranks)/len(test)\n",
    "print(f'{correct_topic}% of documents indexed with at least one correct topic')"
   ]
  },
  {
   "cell_type": "code",
   "execution_count": 1180,
   "metadata": {},
   "outputs": [],
   "source": [
    "# associate doc2vec document vector with each parseable document\n",
    "document_topic['inferred_vector'] = document_topic['train'].apply(lambda x: model.infer_vector(x.words))"
   ]
  },
  {
   "cell_type": "code",
   "execution_count": 1246,
   "metadata": {},
   "outputs": [],
   "source": [
    "document_topic = document_topic.reset_index(drop=True)"
   ]
  },
  {
   "cell_type": "markdown",
   "metadata": {},
   "source": [
    "### <center> Similarity Metrics\n",
    "$d_i$ is the ith document vector\n",
    "\n",
    "$t_i$ is the learned topic of the ith document and it doubles as for the vector of that topic\n",
    "\n",
    "$d_j(t_j=t_i) = d_j$ if the topic of the jth document is the same as the topic of the ith document, otherwise it is the zero vector"
   ]
  },
  {
   "cell_type": "markdown",
   "metadata": {},
   "source": [
    "Define possible sorting metrics:\n",
    "- cross similarity: $C_{i,t_i} = \\sum_{i\\neq j}d_i\\cdot d_j(t_j=t_i)$\n",
    "\n",
    "- topic similarity: $T_{i, t_{i}}=d_i\\cdot t_i$\n",
    "\n",
    "- product similarity: $P_{i,t_i}=C_{i,t_i}T_{i,t_i}$"
   ]
  },
  {
   "cell_type": "code",
   "execution_count": 1289,
   "metadata": {},
   "outputs": [],
   "source": [
    "def cross_similarities(vector, norm=True):\n",
    "    n = len(vector)\n",
    "    sums = [0.0 for _ in range(n)] # pd.Series(n) doesn't work??\n",
    "    size = n*n - n\n",
    "    sims = pd.Series(size+1)\n",
    "    for row, rv in enumerate(vector):\n",
    "        for col, cv in enumerate(vector[row:]):\n",
    "            col += row\n",
    "            sim = rv.dot(cv)\n",
    "            sims[row*col+row] = sim\n",
    "            sums[row] += sim\n",
    "            sums[col] += sim\n",
    "    sums = pd.Series(sums)\n",
    "    if norm:\n",
    "        sims /= sims.max()\n",
    "        sums /= sums.max()\n",
    "    return sims, sums.copy() "
   ]
  },
  {
   "cell_type": "code",
   "execution_count": 1427,
   "metadata": {},
   "outputs": [],
   "source": [
    "cross_similarity = pd.DataFrame()\n",
    "# computing norms over each topic so makes sense to loop over topics\n",
    "for topic, df in document_topic.groupby('topic'):\n",
    "    # find topic vector\n",
    "    topic_idx = model.docvecs.offset2doctag.index(topic)\n",
    "    # dot topic vector with each document vector\n",
    "    document_topic.loc[df.index, 'topic_similarity'] = document_topic.loc[\n",
    "        df.index, 'inferred_vector'].apply(lambda x: x.dot(model.docvecs[topic_idx]))\n",
    "    document_topic.loc[df.index, 'topic_similarity'] /= document_topic.loc[df.index, 'topic_similarity'].max()\n",
    "    # get lower triangle of similarities and write cross similarity sum to database table\n",
    "    topic_cross_similarity, document_topic.loc[df.index, 'cross_similarity'] = cross_similarities(\n",
    "        df['inferred_vector'])\n",
    "    # might as well get a dataframe of lower triangles\n",
    "    cross_similarity = cross_similarity.append(\n",
    "        pd.DataFrame({'topic': topic, 'cross_similarity': topic_cross_similarity}))\n",
    "# a metric that balances similarity to topic and to all other documents\n",
    "document_topic['product_similarity'] = document_topic['cross_similarity']*document_topic['topic_similarity']"
   ]
  },
  {
   "cell_type": "code",
   "execution_count": 1473,
   "metadata": {},
   "outputs": [],
   "source": [
    "def plot_similarities(df):\n",
    "    _, ax = plt.subplots()\n",
    "    keys = ['topic_similarity', 'cross_similarity', 'product_similarity']\n",
    "    for key in keys:\n",
    "        df[key].hist(ax=ax)\n",
    "    ax.set_xlim(0, 1)\n",
    "    ax.legend(keys)"
   ]
  },
  {
   "cell_type": "code",
   "execution_count": 1474,
   "metadata": {},
   "outputs": [],
   "source": [
    "def interactive_similarities(topic):\n",
    "    plot_similarities(document_topic.groupby('topic').get_group(topic))"
   ]
  },
  {
   "cell_type": "code",
   "execution_count": 1476,
   "metadata": {},
   "outputs": [
    {
     "data": {
      "application/vnd.jupyter.widget-view+json": {
       "model_id": "22da46fdf2c7432cbca59e7f75864780",
       "version_major": 2,
       "version_minor": 0
      },
      "text/plain": [
       "interactive(children=(Dropdown(description='topic', options=('software design', 'lateral thinking', 'graphic d…"
      ]
     },
     "metadata": {},
     "output_type": "display_data"
    }
   ],
   "source": [
    "topics = document_topic['topic'].unique()\n",
    "interact(interactive_similarities, topic=topics);"
   ]
  }
 ],
 "metadata": {
  "kernelspec": {
   "display_name": "Python 3",
   "language": "python",
   "name": "python3"
  },
  "language_info": {
   "codemirror_mode": {
    "name": "ipython",
    "version": 3
   },
   "file_extension": ".py",
   "mimetype": "text/x-python",
   "name": "python",
   "nbconvert_exporter": "python",
   "pygments_lexer": "ipython3",
   "version": "3.7.3"
  }
 },
 "nbformat": 4,
 "nbformat_minor": 2
}
