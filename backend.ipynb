{
 "cells": [
  {
   "cell_type": "code",
   "execution_count": 2,
   "metadata": {
    "scrolled": true
   },
   "outputs": [],
   "source": [
    "!pip install jupyterthemes\n",
    "!jt -t chesterish"
   ]
  },
  {
   "cell_type": "code",
   "execution_count": 1,
   "metadata": {},
   "outputs": [],
   "source": [
    "from requests import get\n",
    "from json import loads\n",
    "from urllib.parse import unquote\n",
    "import pandas as pd"
   ]
  },
  {
   "cell_type": "markdown",
   "metadata": {},
   "source": [
    "## Topic Crawler"
   ]
  },
  {
   "cell_type": "markdown",
   "metadata": {},
   "source": [
    "### Query DuckDuckGo REST API for topics\n",
    "### Follow related topics\n",
    "### Filter and normalize topics"
   ]
  },
  {
   "cell_type": "code",
   "execution_count": 2,
   "metadata": {},
   "outputs": [],
   "source": [
    "topic_url_format = 'https://api.duckduckgo.com/?q={search_term}&format=json&pretty=1'"
   ]
  },
  {
   "cell_type": "code",
   "execution_count": 3,
   "metadata": {},
   "outputs": [],
   "source": [
    "topic_seed = ['user experience design']"
   ]
  },
  {
   "cell_type": "code",
   "execution_count": 4,
   "metadata": {},
   "outputs": [
    {
     "name": "stdout",
     "output_type": "stream",
     "text": [
      "user experience design\n",
      "action research\n",
      "activity-centered design\n",
      "customer experience\n",
      "design thinking\n",
      "paper prototyping\n",
      "participatory design\n",
      "web design\n",
      "software development process\n",
      "user interfaces\n",
      "human–computer interaction\n",
      "design\n",
      "Error on topic: design : 'FirstURL'\n"
     ]
    }
   ],
   "source": [
    "from time import sleep\n",
    "topic_df = pd.DataFrame()\n",
    "related_topic_df = pd.DataFrame()\n",
    "for depth in range(2):\n",
    "    if not depth:\n",
    "        topics = topic_seed\n",
    "    related_topics = []\n",
    "    topic_rows = []\n",
    "    related_topic_rows = []\n",
    "    for topic in topics:\n",
    "        try:\n",
    "            print(topic)\n",
    "            sleep(0.1)\n",
    "            response = get(topic_url_format.format(search_term=topic))\n",
    "            content = loads(response.content)\n",
    "            data = {}\n",
    "            data['topic'] = content['Heading'].lower()\n",
    "            data['abstract'] = content['Abstract']\n",
    "            data['document_type'] = content['Type']\n",
    "            data['topic_wiki_url'] = content['AbstractURL']\n",
    "            topic_rows.append(data)   \n",
    "\n",
    "            for result in content['RelatedTopics']:\n",
    "                row = {}\n",
    "                row['depth'] = depth\n",
    "                row['related_topic'] = unquote(result['FirstURL'].replace(\n",
    "                    'https://duckduckgo.com/', '').replace('c/', '').replace('_', ' ')).lower()\n",
    "                row['related_topic_text'] = result['Text']\n",
    "                row.update(data)\n",
    "                related_topic_rows.append(row)\n",
    "                related_topics.append(row['related_topic'])\n",
    "        except KeyError as e:\n",
    "            print('Error on topic: ' + topic + ' : ' + str(e))\n",
    "    topics = related_topics\n",
    "    topic_df = topic_df.append(pd.DataFrame(topic_rows))\n",
    "    related_topic_df = related_topic_df.append(pd.DataFrame(related_topic_rows))"
   ]
  },
  {
   "cell_type": "code",
   "execution_count": 33,
   "metadata": {},
   "outputs": [
    {
     "data": {
      "text/html": [
       "<div>\n",
       "<style scoped>\n",
       "    .dataframe tbody tr th:only-of-type {\n",
       "        vertical-align: middle;\n",
       "    }\n",
       "\n",
       "    .dataframe tbody tr th {\n",
       "        vertical-align: top;\n",
       "    }\n",
       "\n",
       "    .dataframe thead th {\n",
       "        text-align: right;\n",
       "    }\n",
       "</style>\n",
       "<table border=\"1\" class=\"dataframe\">\n",
       "  <thead>\n",
       "    <tr style=\"text-align: right;\">\n",
       "      <th></th>\n",
       "      <th>abstract</th>\n",
       "      <th>depth</th>\n",
       "      <th>document_type</th>\n",
       "      <th>related_topic</th>\n",
       "      <th>related_topic_text</th>\n",
       "      <th>topic</th>\n",
       "      <th>topic_wiki_url</th>\n",
       "    </tr>\n",
       "  </thead>\n",
       "  <tbody>\n",
       "    <tr>\n",
       "      <th>0</th>\n",
       "      <td>User experience design is the process of manip...</td>\n",
       "      <td>0</td>\n",
       "      <td>A</td>\n",
       "      <td>action research</td>\n",
       "      <td>Action research - Action research is a philoso...</td>\n",
       "      <td>user experience design</td>\n",
       "      <td>https://en.wikipedia.org/wiki/User_experience_...</td>\n",
       "    </tr>\n",
       "    <tr>\n",
       "      <th>1</th>\n",
       "      <td>User experience design is the process of manip...</td>\n",
       "      <td>0</td>\n",
       "      <td>A</td>\n",
       "      <td>activity-centered design</td>\n",
       "      <td>Activity-centered design - Activity-centered d...</td>\n",
       "      <td>user experience design</td>\n",
       "      <td>https://en.wikipedia.org/wiki/User_experience_...</td>\n",
       "    </tr>\n",
       "    <tr>\n",
       "      <th>2</th>\n",
       "      <td>User experience design is the process of manip...</td>\n",
       "      <td>0</td>\n",
       "      <td>A</td>\n",
       "      <td>customer experience</td>\n",
       "      <td>Customer experience - In commerce, customer ex...</td>\n",
       "      <td>user experience design</td>\n",
       "      <td>https://en.wikipedia.org/wiki/User_experience_...</td>\n",
       "    </tr>\n",
       "    <tr>\n",
       "      <th>3</th>\n",
       "      <td>User experience design is the process of manip...</td>\n",
       "      <td>0</td>\n",
       "      <td>A</td>\n",
       "      <td>design thinking</td>\n",
       "      <td>Design thinking - Design thinking refers to th...</td>\n",
       "      <td>user experience design</td>\n",
       "      <td>https://en.wikipedia.org/wiki/User_experience_...</td>\n",
       "    </tr>\n",
       "    <tr>\n",
       "      <th>4</th>\n",
       "      <td>User experience design is the process of manip...</td>\n",
       "      <td>0</td>\n",
       "      <td>A</td>\n",
       "      <td>paper prototyping</td>\n",
       "      <td>Paper prototyping - In human–computer interact...</td>\n",
       "      <td>user experience design</td>\n",
       "      <td>https://en.wikipedia.org/wiki/User_experience_...</td>\n",
       "    </tr>\n",
       "  </tbody>\n",
       "</table>\n",
       "</div>"
      ],
      "text/plain": [
       "                                            abstract  depth document_type  \\\n",
       "0  User experience design is the process of manip...      0             A   \n",
       "1  User experience design is the process of manip...      0             A   \n",
       "2  User experience design is the process of manip...      0             A   \n",
       "3  User experience design is the process of manip...      0             A   \n",
       "4  User experience design is the process of manip...      0             A   \n",
       "\n",
       "              related_topic  \\\n",
       "0           action research   \n",
       "1  activity-centered design   \n",
       "2       customer experience   \n",
       "3           design thinking   \n",
       "4         paper prototyping   \n",
       "\n",
       "                                  related_topic_text                   topic  \\\n",
       "0  Action research - Action research is a philoso...  user experience design   \n",
       "1  Activity-centered design - Activity-centered d...  user experience design   \n",
       "2  Customer experience - In commerce, customer ex...  user experience design   \n",
       "3  Design thinking - Design thinking refers to th...  user experience design   \n",
       "4  Paper prototyping - In human–computer interact...  user experience design   \n",
       "\n",
       "                                      topic_wiki_url  \n",
       "0  https://en.wikipedia.org/wiki/User_experience_...  \n",
       "1  https://en.wikipedia.org/wiki/User_experience_...  \n",
       "2  https://en.wikipedia.org/wiki/User_experience_...  \n",
       "3  https://en.wikipedia.org/wiki/User_experience_...  \n",
       "4  https://en.wikipedia.org/wiki/User_experience_...  "
      ]
     },
     "execution_count": 33,
     "metadata": {},
     "output_type": "execute_result"
    }
   ],
   "source": [
    "related_topic_df.head()"
   ]
  },
  {
   "cell_type": "code",
   "execution_count": 6,
   "metadata": {},
   "outputs": [],
   "source": [
    "related_topic_df.to_csv('topic_database.csv')"
   ]
  },
  {
   "cell_type": "code",
   "execution_count": 7,
   "metadata": {},
   "outputs": [],
   "source": [
    "### Write topics to graph JSON for d3"
   ]
  },
  {
   "cell_type": "markdown",
   "metadata": {},
   "source": [
    "## Search Engine Crawler"
   ]
  },
  {
   "cell_type": "code",
   "execution_count": 9,
   "metadata": {},
   "outputs": [],
   "source": [
    "from os import environ\n",
    "# environ['BING_API_KEY'] = 'remove comment, replace with your API key, run the cell, remove key, add comment'\n",
    "bing_api_key = environ['BING_API_KEY']"
   ]
  },
  {
   "cell_type": "code",
   "execution_count": 10,
   "metadata": {},
   "outputs": [
    {
     "data": {
      "text/plain": [
       "71"
      ]
     },
     "execution_count": 10,
     "metadata": {},
     "output_type": "execute_result"
    }
   ],
   "source": [
    "search_seed = set(related_topic_df['related_topic'].unique())\n",
    "search_seed.update(set(related_topic_df['topic'].unique()))\n",
    "len(search_seed)"
   ]
  },
  {
   "cell_type": "code",
   "execution_count": 11,
   "metadata": {},
   "outputs": [],
   "source": [
    "def search(search_term):\n",
    "    search_url = \"https://api.cognitive.microsoft.com/bing/v7.0/search\"\n",
    "    headers = {\"Ocp-Apim-Subscription-Key\": bing_api_key}\n",
    "    params = {\n",
    "        \"q\": search_term, \n",
    "        \"textDecorations\": True, \n",
    "        \"textFormat\": \"Raw\", \n",
    "        \"responseFilter\": \"webpages\", \n",
    "        \"count\": 50}\n",
    "    sleep(0.4)\n",
    "    response = get(search_url, headers=headers, params=params)\n",
    "    response.raise_for_status()\n",
    "    search_results = response.json()\n",
    "    return search_results"
   ]
  },
  {
   "cell_type": "code",
   "execution_count": 28,
   "metadata": {
    "scrolled": true
   },
   "outputs": [],
   "source": [
    "def filter_search_results(raw_search_results):\n",
    "    keys = ['name', 'url', 'snippet', 'dateLastCrawled']\n",
    "    for result in raw_search_results:\n",
    "        topic = result['queryContext']['originalQuery']\n",
    "        for page in result['webPages']['value']:\n",
    "            row = {key: page[key] for key in keys}\n",
    "            row['topic'] = topic\n",
    "            yield row"
   ]
  },
  {
   "cell_type": "code",
   "execution_count": 141,
   "metadata": {
    "scrolled": true
   },
   "outputs": [],
   "source": [
    "raw_search_results = [search(search_term=search_term) for search_term in list(search_seed)[:2]]"
   ]
  },
  {
   "cell_type": "code",
   "execution_count": 142,
   "metadata": {},
   "outputs": [],
   "source": [
    "search_results = pd.DataFrame(filter_search_results(raw_search_results))"
   ]
  },
  {
   "cell_type": "code",
   "execution_count": 143,
   "metadata": {},
   "outputs": [
    {
     "data": {
      "text/html": [
       "<div>\n",
       "<style scoped>\n",
       "    .dataframe tbody tr th:only-of-type {\n",
       "        vertical-align: middle;\n",
       "    }\n",
       "\n",
       "    .dataframe tbody tr th {\n",
       "        vertical-align: top;\n",
       "    }\n",
       "\n",
       "    .dataframe thead th {\n",
       "        text-align: right;\n",
       "    }\n",
       "</style>\n",
       "<table border=\"1\" class=\"dataframe\">\n",
       "  <thead>\n",
       "    <tr style=\"text-align: right;\">\n",
       "      <th></th>\n",
       "      <th>dateLastCrawled</th>\n",
       "      <th>name</th>\n",
       "      <th>snippet</th>\n",
       "      <th>topic</th>\n",
       "      <th>url</th>\n",
       "    </tr>\n",
       "  </thead>\n",
       "  <tbody>\n",
       "    <tr>\n",
       "      <th>0</th>\n",
       "      <td>2020-04-12T18:06:00.0000000Z</td>\n",
       "      <td>Lateral thinking - Wikipedia</td>\n",
       "      <td>Lateral thinking is a manner of solving prob...</td>\n",
       "      <td>lateral thinking</td>\n",
       "      <td>https://en.wikipedia.org/wiki/Lateral_thinking</td>\n",
       "    </tr>\n",
       "    <tr>\n",
       "      <th>1</th>\n",
       "      <td>2020-04-08T15:21:00.0000000Z</td>\n",
       "      <td>Lateral Thinking - How can Lateral Thinking...</td>\n",
       "      <td>Lateral Thinking Lateral Thinking is the S...</td>\n",
       "      <td>lateral thinking</td>\n",
       "      <td>https://www.edwddebono.com/lateral-thinking</td>\n",
       "    </tr>\n",
       "    <tr>\n",
       "      <th>2</th>\n",
       "      <td>2020-04-13T03:14:00.0000000Z</td>\n",
       "      <td>Lateral Thinking Puzzles - Preconceptions</td>\n",
       "      <td>Lateral thinking puzzles that challenge your...</td>\n",
       "      <td>lateral thinking</td>\n",
       "      <td>http://www.folj.com/lateral/</td>\n",
       "    </tr>\n",
       "    <tr>\n",
       "      <th>3</th>\n",
       "      <td>2020-04-13T06:39:00.0000000Z</td>\n",
       "      <td>How to Practice Lateral Thinking - ThoughtCo</td>\n",
       "      <td>Lateral thinking involves looking at a situa...</td>\n",
       "      <td>lateral thinking</td>\n",
       "      <td>https://www.thoughtco.com/lateral-thinking-185...</td>\n",
       "    </tr>\n",
       "    <tr>\n",
       "      <th>4</th>\n",
       "      <td>2020-04-13T01:05:00.0000000Z</td>\n",
       "      <td>Lateral Thinking</td>\n",
       "      <td>Welcome to Computer Assisted Thinking or CAT...</td>\n",
       "      <td>lateral thinking</td>\n",
       "      <td>https://www.lateralthinking.com/</td>\n",
       "    </tr>\n",
       "  </tbody>\n",
       "</table>\n",
       "</div>"
      ],
      "text/plain": [
       "                dateLastCrawled  \\\n",
       "0  2020-04-12T18:06:00.0000000Z   \n",
       "1  2020-04-08T15:21:00.0000000Z   \n",
       "2  2020-04-13T03:14:00.0000000Z   \n",
       "3  2020-04-13T06:39:00.0000000Z   \n",
       "4  2020-04-13T01:05:00.0000000Z   \n",
       "\n",
       "                                                name  \\\n",
       "0                   Lateral thinking - Wikipedia   \n",
       "1  Lateral Thinking - How can Lateral Thinking...   \n",
       "2        Lateral Thinking Puzzles - Preconceptions   \n",
       "3     How to Practice Lateral Thinking - ThoughtCo   \n",
       "4                                 Lateral Thinking   \n",
       "\n",
       "                                             snippet             topic  \\\n",
       "0  Lateral thinking is a manner of solving prob...  lateral thinking   \n",
       "1  Lateral Thinking Lateral Thinking is the S...  lateral thinking   \n",
       "2  Lateral thinking puzzles that challenge your...  lateral thinking   \n",
       "3  Lateral thinking involves looking at a situa...  lateral thinking   \n",
       "4  Welcome to Computer Assisted Thinking or CAT...  lateral thinking   \n",
       "\n",
       "                                                 url  \n",
       "0     https://en.wikipedia.org/wiki/Lateral_thinking  \n",
       "1        https://www.edwddebono.com/lateral-thinking  \n",
       "2                       http://www.folj.com/lateral/  \n",
       "3  https://www.thoughtco.com/lateral-thinking-185...  \n",
       "4                   https://www.lateralthinking.com/  "
      ]
     },
     "execution_count": 143,
     "metadata": {},
     "output_type": "execute_result"
    }
   ],
   "source": [
    "search_results.head()"
   ]
  },
  {
   "cell_type": "markdown",
   "metadata": {},
   "source": [
    "## Search Result Crawler"
   ]
  },
  {
   "cell_type": "code",
   "execution_count": 78,
   "metadata": {},
   "outputs": [
    {
     "name": "stdout",
     "output_type": "stream",
     "text": [
      "Requirement already satisfied: beautifulsoup4 in /opt/conda/lib/python3.7/site-packages (4.7.1)\r\n",
      "Requirement already satisfied: soupsieve>=1.2 in /opt/conda/lib/python3.7/site-packages (from beautifulsoup4) (1.9.2)\r\n"
     ]
    }
   ],
   "source": [
    "!pip install beautifulsoup4"
   ]
  },
  {
   "cell_type": "code",
   "execution_count": 79,
   "metadata": {},
   "outputs": [],
   "source": [
    "from bs4 import BeautifulSoup as b"
   ]
  },
  {
   "cell_type": "code",
   "execution_count": 133,
   "metadata": {},
   "outputs": [],
   "source": [
    "def depth_crawl(seed_urls, depth=1, max_pages=5):\n",
    "    visited = set()\n",
    "    pages = 0\n",
    "    for d in range(depth):\n",
    "        print(seed_urls)\n",
    "        for url in seed_urls:\n",
    "            url.replace('http:', 'https:')\n",
    "            sleep(0.5)\n",
    "            print(url)\n",
    "            try:\n",
    "                print(visited)\n",
    "                visited.add(url)\n",
    "                response = get(url)\n",
    "                response.raise_for_status()\n",
    "                content = response.content\n",
    "                yield {'url': url, 'content': content}\n",
    "                pages += 1\n",
    "                print(pages)\n",
    "                if pages > max_pages:\n",
    "                    return\n",
    "                soup = b(content)\n",
    "                links = [a['href'] for a in soup.find_all('a', href=True) if a['href'].startswith('https')]\n",
    "                n_links = len(links)\n",
    "                print(f'{n_links} new links from URL {url}')\n",
    "                new_links = []\n",
    "                for link in links:\n",
    "                    if link not in visited:\n",
    "                        seed_urls.append(link)\n",
    "            except Exception as e:\n",
    "                print('Error: ' + str(e) + ' on URL: ' + str(url))"
   ]
  },
  {
   "cell_type": "code",
   "execution_count": 134,
   "metadata": {},
   "outputs": [
    {
     "data": {
      "text/plain": [
       "['https://www.bluecorona.com/internet-marketing-services/',\n",
       " 'http://www.chilli-marketing.com/']"
      ]
     },
     "execution_count": 134,
     "metadata": {},
     "output_type": "execute_result"
    }
   ],
   "source": [
    "list(search_results['url'][-2:].values)"
   ]
  },
  {
   "cell_type": "code",
   "execution_count": 144,
   "metadata": {
    "scrolled": false
   },
   "outputs": [
    {
     "name": "stdout",
     "output_type": "stream",
     "text": [
      "['https://www.marketingprofs.com/topic/articles/services-marketing', 'https://www.ebsglobal.net/documents/course-tasters/english/pdf/h17se-bk-taster.pdf']\n",
      "https://www.marketingprofs.com/topic/articles/services-marketing\n",
      "set()\n",
      "1\n",
      "18 new links from URL https://www.marketingprofs.com/topic/articles/services-marketing\n",
      "https://www.ebsglobal.net/documents/course-tasters/english/pdf/h17se-bk-taster.pdf\n",
      "{'https://www.marketingprofs.com/topic/articles/services-marketing'}\n",
      "2\n"
     ]
    },
    {
     "name": "stderr",
     "output_type": "stream",
     "text": [
      "Some characters could not be decoded, and were replaced with REPLACEMENT CHARACTER.\n"
     ]
    },
    {
     "name": "stdout",
     "output_type": "stream",
     "text": [
      "0 new links from URL https://www.ebsglobal.net/documents/course-tasters/english/pdf/h17se-bk-taster.pdf\n",
      "https://www.marketingprofs.com/articles/2017/32715/the-biggest-leakage-in-a-saas-marketing-funnel-and-how-to-fix-it\n",
      "{'https://www.marketingprofs.com/topic/articles/services-marketing', 'https://www.ebsglobal.net/documents/course-tasters/english/pdf/h17se-bk-taster.pdf'}\n",
      "3\n",
      "15 new links from URL https://www.marketingprofs.com/articles/2017/32715/the-biggest-leakage-in-a-saas-marketing-funnel-and-how-to-fix-it\n",
      "https://www.marketingprofs.com/short-articles/2288/five-ways-to-search-optimize-your-images\n",
      "{'https://www.marketingprofs.com/articles/2017/32715/the-biggest-leakage-in-a-saas-marketing-funnel-and-how-to-fix-it', 'https://www.marketingprofs.com/topic/articles/services-marketing', 'https://www.ebsglobal.net/documents/course-tasters/english/pdf/h17se-bk-taster.pdf'}\n",
      "4\n",
      "112 new links from URL https://www.marketingprofs.com/short-articles/2288/five-ways-to-search-optimize-your-images\n",
      "https://www.marketingprofs.com/articles/2020/42707/how-to-adapt-to-the-zero-click-phenomenon-and-dwindling-page-one-organic-search-results\n",
      "{'https://www.marketingprofs.com/short-articles/2288/five-ways-to-search-optimize-your-images', 'https://www.marketingprofs.com/articles/2017/32715/the-biggest-leakage-in-a-saas-marketing-funnel-and-how-to-fix-it', 'https://www.marketingprofs.com/topic/articles/services-marketing', 'https://www.ebsglobal.net/documents/course-tasters/english/pdf/h17se-bk-taster.pdf'}\n",
      "5\n",
      "17 new links from URL https://www.marketingprofs.com/articles/2020/42707/how-to-adapt-to-the-zero-click-phenomenon-and-dwindling-page-one-organic-search-results\n",
      "https://www.marketingprofs.com/articles/2020/42707/how-to-adapt-to-the-zero-click-phenomenon-and-dwindling-page-one-organic-search-results\n",
      "{'https://www.marketingprofs.com/articles/2020/42707/how-to-adapt-to-the-zero-click-phenomenon-and-dwindling-page-one-organic-search-results', 'https://www.ebsglobal.net/documents/course-tasters/english/pdf/h17se-bk-taster.pdf', 'https://www.marketingprofs.com/short-articles/2288/five-ways-to-search-optimize-your-images', 'https://www.marketingprofs.com/topic/articles/services-marketing', 'https://www.marketingprofs.com/articles/2017/32715/the-biggest-leakage-in-a-saas-marketing-funnel-and-how-to-fix-it'}\n",
      "6\n"
     ]
    }
   ],
   "source": [
    "documents = [document for document in depth_crawl(list(search_results['url'][-2:].values))]"
   ]
  },
  {
   "cell_type": "code",
   "execution_count": 137,
   "metadata": {},
   "outputs": [
    {
     "data": {
      "text/plain": [
       "6"
      ]
     },
     "execution_count": 137,
     "metadata": {},
     "output_type": "execute_result"
    }
   ],
   "source": [
    "len(documents)"
   ]
  },
  {
   "cell_type": "code",
   "execution_count": 157,
   "metadata": {},
   "outputs": [],
   "source": [
    "soup = b(documents[3]['content'])\n",
    "for script in soup([\"script\", \"style\"]):\n",
    "    script.extract()    # rip it out\n",
    "document_text = soup.get_text().replace('\\r', '\\n').split('. ')"
   ]
  },
  {
   "cell_type": "code",
   "execution_count": 158,
   "metadata": {},
   "outputs": [
    {
     "data": {
      "text/plain": [
       "[\"\\n\\n\\n\\nSearch Engine Marketing - Five Ways to Search-Optimize Your Images : MarketingProfs Article\\n\\n\\n\\n\\n\\n\\n\\n\\n\\n\\n\\n\\n\\n\\n\\n\\n\\n\\n\\n\\n\\n\\n\\n\\n\\n\\n\\n\\n\\n\\n\\n\\n\\n\\n\\n\\n\\n\\n\\n\\n\\n\\n\\n\\n\\n\\n\\n\\n\\n\\n\\n\\n\\n\\n\\n\\n\\n\\n\\n\\n\\n\\n\\n\\n\\n\\n\\n \\n\\n\\n\\n\\n\\n\\n\\n\\n\\n\\n\\n\\n\\n\\n\\n\\n\\n\\n\\n\\n\\n\\n\\n\\n\\n\\n\\n\\n\\n\\nMy Cart (0)\\n\\nMember Login | About Us | Become a Member | Contact Us\\n\\n\\n\\n\\n\\n\\nOur Approach\\nCourses\\nLearning Paths\\nEvents\\nResources\\nJoin Now\\nLogin\\n\\n\\n\\nTopicsArticlesPodcastsOnline SeminarsTutorialsGuides and ReportsTools\\n\\n\\nReal-World Education for Modern Marketers\\nJoin Over 600,000 Marketing Professionals\\n\\nStart here!\\n\\n\\n\\n\\n\\n\\n\\n\\n\\n\\n\\nEmail\\n\\n\\nPrint\\n\\n\\nSave\\n\\n\\n\\n\\n\\t\\t\\t\\t\\t\\t\\t\\t\\t\\t\\t\\t\\t\\tText:\\xa0\\xa0A\\xa0A\\n\\n\\n\\n\\n\\n\\nN\\n\\nE\\n\\nX\\n\\nT\\n\\n\\n\\nFive Ways to Search-Optimize Your Images\\n\\n\\n\\n                    May 9, 2011\\xa0\\xa0 \\n\\n\\t\\t\\t \\n\\n\\n\\n\\n\\n\\n\\nTweet\\n\\n\\n\\n\\n\\n\\n\\n\\n\\n\\n\\n\\n\\nEmail\\n\\n\\n\\n\\n\\n\\n\\nTop\\n\\n\\n\\n\\n\\nEver wonder how much meaningful traffic or links could come your way if you search-optimized your images? The answer might be, More than you'd expect.\\xa0So writes Michael Gray in a post at Graywolf's SEO Blog\",\n",
       " \"Thanks to Google's universal search results, images can help you show up on the first page—or, in some cases, even at the top—of results lists, Gray reports\",\n",
       " 'In the process, you can increase click-throughs, ad views, and AdSense impressions',\n",
       " 'Best of all, Gray predicts, optimizing images could help you complete more leads',\n",
       " '\\nHere are five ways to get your images to rank like a star:\\nFilenames',\n",
       " 'Use \"jpg\" or \"gif\" files, and include keywords in the image file names.\\n\\n\\n\\n\\n\\n\\n\\nALT Text',\n",
       " 'Use ALT Text for its intended purpose; but wherever appropriate, also incorporate keywords as signals for the search engines',\n",
       " \"(Don't overdo it, Gray warns, or you'll be penalized for keyword stuffing.)\\n\\n→ end article previewRead the Full Article\\nMembership is required to access this how-to marketing article ..\",\n",
       " \"don't worry though, it's FREE!\\n\\n\\n\\nTake the first step (it's free).\\n\\n\\n\\n\\nWork Email Address\\n\\n\\n\\n\\nCONTINUE\\n\\n Already a registered user? Sign in now\",\n",
       " \"\\n\\n\\n\\n\\n\\n\\n\\n\\n\\n\\nLoading...\\n\\n\\n\\n\\n\\n\\n\\n\\n\\nTweet\\n\\n\\n\\n\\n\\n\\n\\n Google,\\xa0Keywords,\\xa0SEO,\\xa0Services Marketing \\n\\n\\nYou may also like \\n\\n\\n\\nHow to Adapt to the Zero-Click Phenomenon and Dwindling Page One ...\\n\\n\\n\\n\\nFive Google Ads Tips to Help You Become a Better PPC Marketer\\n\\n\\n\\n\\nFour Steps for Conducting an Efficient Content Audit and ...\\n\\n\\n\\n\\nWhat Your Customers' Searches Can Tell You\",\n",
       " \"Are You Paying ...\\n\\n\\n\\n\\nTop 4 Impactful SEO Trends Today\\n\\n\\n\\n\\nWhy You Shouldn't Try to Control Anchor Text When Link-Building\\n\\n\\n\\n\\nDon't Let Your CMS Migration Go South: SEO and Related ...\\n\\n\\n\\n\\nYounger and Wordier: How Gen Z's Search Behavior Is Different\\n\\n\\n\\n\\nHow to Structure Your Content for Organic Google Rankings: A ...\\n\\n\\n\\n\\nThe Top Content Marketing-Related Search Queries and Hashtags\\n\\n\\n\\n\\nFour Human Writing Tips That Will Make Search Bots Smile\\n\\n\\n\\n\\nThe Most Effective Link-Building Strategies According to SEO ...\\n\\n\\n\\n\\nIntegrating Search and Social: Best-Practices for Cross-Channel ...\\n\\n\\n\\n\\nThree Off-Site Tactics That Seriously Boost SEO Traffic\\n\\n\\n\\n\\nSEO vs\",\n",
       " \"PPC: Which Search Marketing Strategy Should You Choose? ...\\n\\n\\n\\n\\n\\n\\n\\n\\nJavaScript required to submit ratings...\\n\\n\\nRate this\\xa0\\xa0\\n\\nLog in to add a rating\\n\\n\\n\\n\\nOverall rating\\n\\nNot rated yet.\\n\\n\\n\\n\\n\\n\\n\\n\\nSubscribe Today\\nIT'S FREE! Become a member to get the tools and knowledge you need to market smarter.\\n\\n\\n\\n\\n\\n\\n\\nwe respect your \\n\\n                                                            privacy.\\n\\n\\n\\n\\nStay connected!\\nDon't miss a bit of MarketingProfs ..\",\n",
       " \"join the 600,000 marketers following us.\\n\\n\\n\\n\\n\\n\\n\\n\\n\\n\\n\\n\\n\\n\\n\\n\\n \\nMost Popular\\n\\n\\n\\nHow-to Articles\\n\\n\\n\\n\\n\\n\\n\\n\\nMyers-Briggs Personality Types in Business: Traits and Ideal ...\\xa0by Vahe Habeshian\\n\\n\\n\\nYour Golden Ticket of Marketing (Hint: It's Not Your Website)\\xa0by Karen Hayward\\n\\n\\n\\nAdvertising During the COVID-19 Outbreak: What Audiences Want\\xa0by Ayaz Nanji\\n\\n\\n\\nReaching and Persuading Buyers at a Time of Crisis: What B2B ...\\xa0by Tom Cunniff, Mike Cucka\\n\\n\\n\\nHow COVID-19 Is Impacting Social Media Ad Rates and Engagement\\xa0by Ayaz Nanji\\n\\n\\n\\nSee \\n\\n\\t\\t\\t\\t\\t\\t\\t\\t                more marketing articles »\\n\\n\\n\\n\\n \\n\\n\\nEditors' PRO Picks\\n\\n\\n\\n\\nSeminar: Create Meaningful Experiences for Your Brand\\nBrian Solis shares why great products, creative marketing, and delightful customer service are no longer enough to win customers\",\n",
       " \"more\\n\\n\\n\\nTake 10: How to Leverage Your Online Community\\nPresented by: Paul ChaneyIn just 10 minutes, we'll share six practical tips that will help you tap into your online community to grow your business and benefit your customers\",\n",
       " \"more\\n\\n\\n\\nHow-To Guide: Build Your Content Marketing Dream Team\\nIn this 22-page guide, you'll learn how to identify the key hires to get your team started, what traits and skills to look for in your key hires, how to manage freelancers, and much more! more\\n\\n\\n\\nSmartTools: Email Campaign Planner\\nThrough eight simple to follow, well-defined steps, SmartTools: Email Campaign Planner will help you establish an effective email marketing program to gather and convert leads\",\n",
       " 'more\\n\\n\\n\\nHow-To-Guide: The Perfect Pitch: Hit a Home Run With Every Headline, Subject Line, and Call to Action\\nLearn how to write headlines that will inspire your audience to read and want more',\n",
       " 'more\\n\\n\\n\\nSeminar: SEO—How Customer Experience Impacts Search\\nLearn the most important elements of, and key changes in, customer search behavior',\n",
       " \"We'll also cover how to drive conversations through SEO, content, and social media\",\n",
       " \"more\\n\\n\\n\\nTake 10: Three Steps for Using Influencer Video to Increase Your Bottom Line\\nPresented by: Mark Lerner In just 10 minutes, you'll learn three simple steps to source quality influencer video and use it to impact your bottom line in a meaningful and measurable way\",\n",
       " 'more\\n\\n\\n\\n\\n\\n\\n\\n \\n\\n\\n\\n\\xa0\\n\\n\\n\\n\\n \\n \\n\\n\\n\\n                    MarketingProfs uses singlesign-on with Facebook, Twitter, Google and others to make subscribing and signing in easier for you',\n",
       " \" That's it, and nothing more!  Rest assured that MarketingProfs:\\n\\n                        \\n• will not provide your social data to 3rd parties\\n• will not contact friends on your network\\n• will not post messages on your behalf\\n• will not interact with your social accounts\\n\\n\\n                        Your data is secure with MarketingProfs SocialSafe!\\n\\n                    \\n\\n\\n\\n\\nWhat's new on MarketingProfs?\\n\\n\\n\\n\\n\\n10 B2B Tech Categories Gaining Interest Because of COVID-19\\n4/15/2020 at 10:00 AM General Management\\n\\n\\n\\n\\nWhat Makes a Best-in-Class Email Marketer? These Six Things.\\n4/15/2020 at 10:00 AM Email Marketing\\n\\n\\n\\n\\nFive Tactics to Set Lead Generation Expectations for Impatient ...\\n4/15/2020 at 10:00 AM General Management\\n\\n\\n\\n\\nAdvertising During the COVID-19 Outbreak: What Audiences Want\\n4/14/2020 at 10:00 AM Advertising\\n\\n\\n\\n\\nYour Golden Ticket of Marketing (Hint: It's Not Your Website)\\n4/14/2020 at 10:00 AM Marketing Strategy\\n\\n\\n\\n\\nNine Key Sales Pipeline Metrics for Healthy Sales [Infographic]\\n4/14/2020 at 10:00 AM Sales\\n\\n\\n\\n\\nThe Cybersecurity Risks of Going Remote (And How to Protect Your ...\\n4/9/2020 at 10:00 AM General Management\\n\\n\\n\\n\\nThe Benefits of GPS Tracking for Enterprises With Vehicle Fleets ...\\n4/9/2020 at 10:00 AM General Management\\n\\n\\n\\n\\nHow to Adapt to the Zero-Click Phenomenon and Dwindling Page One ...\\n4/9/2020 at 10:00 AM Search Engine Marketing\\n\\n\\n\\n\\nWhy It Takes So Long to Apply Data-Driven Insights to Campaigns\\n4/8/2020 at 10:00 AM Marketing Strategy\\n\\n\\n\\n\\nHow Can Marketing Creativity Be Reignited? Next-Gen Automation!\\n4/8/2020 at 10:00 AM Marketing Strategy\\n\\n\\n\\n\\nHow to Craft 'Compelling Reason to Buy' Messaging\\n4/8/2020 at 10:00 AM Content\\n\\n\\n\\n\\nHow COVID-19 Is Affecting Media Consumption and Online Behavior\\n4/7/2020 at 10:00 AM Customer Behavior\\n\\n\\n\\n\\nHow to Fill the Marketing Void Created by Coronavirus and Get the ...\\n4/7/2020 at 10:00 AM General Management\\n\\n\\n\\n\\nHow Bad Data Hurts B2B Companies [Infographic]\\n4/7/2020 at 4:00 AM Sales\\n\\n\\n\\n\\nYour Customer Offboarding Process Should Be Just as Good as Your ...\\n4/2/2020 at 10:00 AM Customer Relationships\\n\\n\\n\\n\\nMyers-Briggs Personality Types in Business: Traits and Ideal Team-ups ...\\n4/2/2020 at 10:00 AM General Management\\n\\n\\n\\n\\nHow Profit-Mapping Helps You Avoid Using the Ways of the Past to ...\\n4/2/2020 at 10:00 AM Marketing Strategy\\n\\n\\n\\n\\nLess Creativity, More Efficiency: How Operating Remotely Affects ...\\n4/1/2020 at 10:00 AM General Management\\n\\n\\n\\n\\nFive Google Ads Tips to Help You Become a Better PPC Marketer\\n4/1/2020 at 10:00 AM Search Engine Marketing\\n\\n\\n\\n\\n\\n\\n\\n\\n\\n\\nResources\\n\\nMarketingProfs University\\nWhat's New\\nHow-To Articles\\nCase Studies\\nOnline Marketing Seminars\\nGuides and Reports\\nStore\\nNewsletters\\nMarketingProfs Mobile Apps\\n\\n\\n\\nCommunity\\n\\nConferences and Events\\nDiscussion Forum\\nMember Benefits\\nTestimonials\\nJoin the Community\\nFollow Us on Twitter\\n\\n\\n\\nCompany\\n\\nAbout Us\\nExecutive Team\\nWrite For Us\\nSpeak For Us\\nAdvertise With Us\\nLead Delivery Solutions\\nOriginal Content Services\\nLicensing/Republishing\\nRSS/Syndication\\nPartners\\nPrivacy\\nRefund Policy\\nContact Us\\n\\n\\n\\nMarketing Topics\\n\\n\\nAdvertising\\nBrand Management\\nCareer Management\\nContent\\nCustomer Behavior\\nCustomer Relationships\\nEmail Marketing\\nGeneral Management\\nGraphic Design\\nMarket Research\\nMetrics & ROI\\nMobile\\n\\n\\n\\n\\nNon-Profit\\nPricing\\nPublic Relations\\nSales\\nSearch Engine Marketing\\nSegmentation\\nSocial Media\\nStrategy\\nWeb Sites\\nWord-of-Mouth\\nWriting\\nMore Topics »\\n\\n\\n\\n\\nCopyright © 2000-2020 MarketingProfs LLC\",\n",
       " ' All rights reserved',\n",
       " 'Terms of use.\\n\\n\\n\\n\\n\\n\\n\\n\\n\\n']"
      ]
     },
     "execution_count": 158,
     "metadata": {},
     "output_type": "execute_result"
    }
   ],
   "source": [
    "document_text"
   ]
  },
  {
   "cell_type": "code",
   "execution_count": 40,
   "metadata": {},
   "outputs": [
    {
     "data": {
      "text/plain": [
       "[1, 2]"
      ]
     },
     "execution_count": 40,
     "metadata": {},
     "output_type": "execute_result"
    }
   ],
   "source": [
    "aa = [1]\n",
    "aa.extend([2])\n",
    "aa"
   ]
  },
  {
   "cell_type": "code",
   "execution_count": null,
   "metadata": {
    "scrolled": true
   },
   "outputs": [],
   "source": [
    "pages = pages.reset_index(drop=True)\n",
    "pages"
   ]
  },
  {
   "cell_type": "code",
   "execution_count": null,
   "metadata": {},
   "outputs": [],
   "source": [
    "document = get(pages['url'][0])"
   ]
  },
  {
   "cell_type": "code",
   "execution_count": null,
   "metadata": {},
   "outputs": [],
   "source": [
    "document.content"
   ]
  },
  {
   "cell_type": "code",
   "execution_count": null,
   "metadata": {},
   "outputs": [],
   "source": [
    "soup = b(document.content)"
   ]
  },
  {
   "cell_type": "code",
   "execution_count": null,
   "metadata": {},
   "outputs": [],
   "source": [
    "for script in soup([\"script\", \"style\"]):\n",
    "    script.extract()    # rip it out\n",
    "document_text = soup.get_text().replace('\\r', '\\n').split('. ')"
   ]
  },
  {
   "cell_type": "code",
   "execution_count": null,
   "metadata": {
    "scrolled": true
   },
   "outputs": [],
   "source": [
    "document_text"
   ]
  },
  {
   "cell_type": "code",
   "execution_count": null,
   "metadata": {},
   "outputs": [],
   "source": [
    "len(document_text)"
   ]
  },
  {
   "cell_type": "code",
   "execution_count": null,
   "metadata": {
    "scrolled": true
   },
   "outputs": [],
   "source": [
    "!pip install gensim"
   ]
  },
  {
   "cell_type": "code",
   "execution_count": null,
   "metadata": {},
   "outputs": [],
   "source": [
    "from gensim.utils import simple_preprocess\n",
    "from gensim.models import doc2vec\n",
    "def to_tokens(document_text, train=True): \n",
    "    for idx, line in enumerate(document_text):\n",
    "        tokens = simple_preprocess(line)\n",
    "        if train:\n",
    "            yield doc2vec.TaggedDocument(tokens, [idx])\n",
    "        else:\n",
    "            yield tokens"
   ]
  },
  {
   "cell_type": "code",
   "execution_count": null,
   "metadata": {},
   "outputs": [],
   "source": [
    "train = list(to_tokens(document_text))\n",
    "test = list(to_tokens(document_text, train=False))"
   ]
  },
  {
   "cell_type": "code",
   "execution_count": null,
   "metadata": {},
   "outputs": [],
   "source": [
    "train[:4]"
   ]
  },
  {
   "cell_type": "code",
   "execution_count": null,
   "metadata": {},
   "outputs": [],
   "source": [
    "model = doc2vec.Doc2Vec(vector_size=100, min_count=2, epochs=40)\n",
    "model.build_vocab(train)"
   ]
  },
  {
   "cell_type": "code",
   "execution_count": null,
   "metadata": {},
   "outputs": [],
   "source": [
    "model.train(train, total_examples=model.corpus_count, epochs=model.epochs)"
   ]
  },
  {
   "cell_type": "code",
   "execution_count": null,
   "metadata": {},
   "outputs": [],
   "source": [
    "ranks = []\n",
    "second_ranks = []\n",
    "for doc_id in range(len(train)):\n",
    "    inferred_vector = model.infer_vector(train[doc_id].words)\n",
    "    sims = model.docvecs.most_similar([inferred_vector], topn=len(model.docvecs))\n",
    "    rank = [docid for docid, sim in sims].index(doc_id)\n",
    "    ranks.append(rank)\n",
    "\n",
    "    second_ranks.append(sims[1])"
   ]
  },
  {
   "cell_type": "code",
   "execution_count": null,
   "metadata": {},
   "outputs": [],
   "source": [
    "len(model.docvecs)"
   ]
  },
  {
   "cell_type": "code",
   "execution_count": null,
   "metadata": {},
   "outputs": [],
   "source": [
    "print('Document ({}): «{}»\\n'.format(doc_id, ' '.join(train[doc_id].words)))\n",
    "print(u'SIMILAR/DISSIMILAR DOCS PER MODEL %s:\\n' % model)\n",
    "for label, index in [('MOST', 0), ('SECOND-MOST', 1), ('MEDIAN', len(sims)//2), ('LEAST', len(sims) - 1)]:\n",
    "    print(u'%s %s: «%s»\\n' % (label, sims[index], ' '.join(train[sims[index][0]].words)))"
   ]
  },
  {
   "cell_type": "code",
   "execution_count": null,
   "metadata": {},
   "outputs": [],
   "source": [
    "import random\n",
    "# Pick a random document from the test corpus and infer a vector from the model\n",
    "doc_id = random.randint(0, len(test) - 1)\n",
    "inferred_vector = model.infer_vector(test[doc_id])\n",
    "sims = model.docvecs.most_similar([inferred_vector], topn=len(model.docvecs))\n",
    "\n",
    "# Compare and print the most/median/least similar documents from the train corpus\n",
    "print('Test Document ({}): «{}»\\n'.format(doc_id, ' '.join(test[doc_id])))\n",
    "print(u'SIMILAR/DISSIMILAR DOCS PER MODEL %s:\\n' % model)\n",
    "for label, index in [('MOST', 0), ('MEDIAN', len(sims)//2), ('LEAST', len(sims) - 1)]:\n",
    "    print(u'%s %s: «%s»\\n' % (label, sims[index], ' '.join(train[sims[index][0]].words)))"
   ]
  },
  {
   "cell_type": "code",
   "execution_count": null,
   "metadata": {},
   "outputs": [],
   "source": []
  }
 ],
 "metadata": {
  "kernelspec": {
   "display_name": "Python 3",
   "language": "python",
   "name": "python3"
  },
  "language_info": {
   "codemirror_mode": {
    "name": "ipython",
    "version": 3
   },
   "file_extension": ".py",
   "mimetype": "text/x-python",
   "name": "python",
   "nbconvert_exporter": "python",
   "pygments_lexer": "ipython3",
   "version": "3.7.3"
  }
 },
 "nbformat": 4,
 "nbformat_minor": 2
}
